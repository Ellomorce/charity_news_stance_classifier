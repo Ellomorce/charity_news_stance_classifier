{
  "cells": [
    {
      "cell_type": "code",
      "execution_count": 2,
      "metadata": {
        "id": "WUG_j7iyL4Wx"
      },
      "outputs": [],
      "source": [
        "import numpy as np\n",
        "import torch\n",
        "import torch.nn as nn\n",
        "import torch.optim as optim\n",
        "import torch.nn.functional as F\n",
        "from sklearn.model_selection import train_test_split\n",
        "from imblearn.over_sampling import RandomOverSampler\n",
        "from torch.utils.data import TensorDataset, DataLoader\n",
        "import matplotlib.pyplot as plt\n",
        "# import os\n",
        "# os.environ['CUDA_LAUNCH_BLOCKING'] = \"1\"\n",
        "from torchmetrics.classification import MulticlassF1Score, MulticlassAccuracy, MulticlassPrecision, MulticlassRecall"
      ]
    },
    {
      "cell_type": "code",
      "execution_count": 3,
      "metadata": {
        "colab": {
          "base_uri": "https://localhost:8080/"
        },
        "id": "BQvH4wL3MtUZ",
        "outputId": "333128eb-16c0-4fd1-8d67-a97dd02b6977"
      },
      "outputs": [
        {
          "name": "stdout",
          "output_type": "stream",
          "text": [
            "1.8.2\n"
          ]
        }
      ],
      "source": [
        "print(torch.__version__)"
      ]
    },
    {
      "cell_type": "code",
      "execution_count": 4,
      "metadata": {
        "id": "_HZ7omynFExU"
      },
      "outputs": [],
      "source": [
        "#Define File Path\n",
        "# vec20avg_path = \"./vec_data/vec20_avg.npz\"\n",
        "# vec25avg_path = \"./vec_data/vec25_avg.npz\"\n",
        "vec30avg_path = \"./vec_data/vec30_avg.npz\"\n",
        "# vec35avg_path = \"./vec_data/vec35_avg.npz\"\n",
        "# vec20sum_path = \"./vec_data/vec20_sum.npz\"\n",
        "# vec20sum_path = \"./vec_data/vec20_sum.npz\"\n",
        "# vec25sum_path = \"./vec_data/vec25_sum.npz\"\n",
        "vec30sum_path = \"./vec_data/vec30_sum.npz\"\n",
        "# vec35sum_path = \"./vec_data/vec35_sum.npz\"\n",
        "# freq_stance_labels = \"./vec_data/freq_stance_labels.npz\"\n",
        "# oh_stance_labels = \"./vec_data/oh_stance_labels.npz\"\n",
        "le_stance_labels = \"./vec_data/le_stance_labels.npz\""
      ]
    },
    {
      "cell_type": "code",
      "execution_count": 5,
      "metadata": {
        "id": "hpykdePCOjgW"
      },
      "outputs": [],
      "source": [
        "def load_npz_file(filepath):\n",
        "    # Load the numpy array from the .npz file\n",
        "    with np.load(filepath, allow_pickle=True) as data:\n",
        "        for key in data.keys():\n",
        "            arr = data[key]\n",
        "            break\n",
        "    return arr"
      ]
    },
    {
      "cell_type": "code",
      "execution_count": 6,
      "metadata": {
        "id": "pKRrteIyOp6O"
      },
      "outputs": [],
      "source": [
        "# vec20avg = load_npz_file(vec20avg_path)\n",
        "# vec25avg = load_npz_file(vec25avg_path)\n",
        "vec30avg = load_npz_file(vec30avg_path)\n",
        "# vec35avg = load_npz_file(vec35avg_path)\n",
        "# vec20sum = load_npz_file(vec20sum_path)\n",
        "# vec20sum = load_npz_file(vec20sum_path)\n",
        "# vec25sum = load_npz_file(vec25sum_path)\n",
        "vec30sum = load_npz_file(vec30sum_path)\n",
        "# vec35sum = load_npz_file(vec35sum_path)\n",
        "# freq_label = load_npz_file(freq_stance_labels)\n",
        "# oh_label = load_npz_file(oh_stance_labels)\n",
        "le_label = load_npz_file(le_stance_labels)"
      ]
    },
    {
      "cell_type": "code",
      "execution_count": 7,
      "metadata": {
        "id": "O9PUjT6176PE"
      },
      "outputs": [],
      "source": [
        "#指派實際要使用的Data與Label\n",
        "# data = vec30avg\n",
        "data = vec30sum\n",
        "# label = np.argmax(oh_label, axis=1)\n",
        "# label = oh_label\n",
        "# label = freq_label\n",
        "label = le_label"
      ]
    },
    {
      "cell_type": "code",
      "execution_count": 8,
      "metadata": {
        "colab": {
          "base_uri": "https://localhost:8080/"
        },
        "id": "ScK5QbOP-O0M",
        "outputId": "32b585b0-9737-49e7-e6cf-5c3328d9d8be"
      },
      "outputs": [
        {
          "name": "stdout",
          "output_type": "stream",
          "text": [
            "(445, 1, 300)\n",
            "(445,)\n",
            "[0 1 2 3]\n",
            "(array([0, 1, 2, 3]), array([ 11, 201,  74, 159], dtype=int64))\n"
          ]
        }
      ],
      "source": [
        "print(data.shape)\n",
        "print(label.shape)\n",
        "print(np.unique(label))\n",
        "print(np.unique(label, return_counts=True))"
      ]
    },
    {
      "cell_type": "code",
      "execution_count": 9,
      "metadata": {
        "id": "PPCtwpk9-Q7y"
      },
      "outputs": [],
      "source": [
        "# Data Augmentation using Oversampling\n",
        "# Define the oversampling ratio for each class\n",
        "# oversample_ratio = {0: 100, 1: 201, 2: 120, 3: 159}\n",
        "oversample_ratio = {0: 55, 1: 201, 2: 148, 3: 159}\n",
        "# Initialize the oversampler\n",
        "oversampler = RandomOverSampler(sampling_strategy=oversample_ratio)\n",
        "# Reshape your data to a 2D matrix of shape (n_samples, n_features)\n",
        "X = data.reshape(-1, 300)\n",
        "# Apply oversampling to X and y\n",
        "X_resampled, y_resampled = oversampler.fit_resample(X, label)\n",
        "# Reshape X back to its original shape\n",
        "X_resampled = X_resampled.reshape(-1, 1, 300)"
      ]
    },
    {
      "cell_type": "code",
      "execution_count": 10,
      "metadata": {
        "id": "gqZF9Law-Ukx"
      },
      "outputs": [
        {
          "name": "stdout",
          "output_type": "stream",
          "text": [
            "(563, 1, 300)\n",
            "[[[-1.05289996 -1.29180002 10.12859917 ... -0.30050007  1.0638001\n",
            "    0.92839986]]\n",
            "\n",
            " [[-0.92129999 -1.5751     10.76149985 ... -0.16209998  0.18860002\n",
            "    1.30480001]]\n",
            "\n",
            " [[-1.47109997 -0.9589     12.55939994 ...  0.43750004  1.26569999\n",
            "   -0.89280003]]\n",
            "\n",
            " ...\n",
            "\n",
            " [[-2.17210002 -1.2239     10.33119998 ... -0.18510005  0.13440002\n",
            "   -0.01459999]]\n",
            "\n",
            " [[-1.42170001 -1.42719997 11.72809998 ... -0.12030001 -0.25129999\n",
            "   -0.33050002]]\n",
            "\n",
            " [[-1.72440002  0.09580001 11.37470001 ... -1.60950002  1.78809998\n",
            "   -0.1829    ]]]\n"
          ]
        }
      ],
      "source": [
        "print(X_resampled.shape)\n",
        "print(X_resampled)"
      ]
    },
    {
      "cell_type": "code",
      "execution_count": 11,
      "metadata": {
        "id": "VJ_W9iAJ-XKM"
      },
      "outputs": [
        {
          "name": "stdout",
          "output_type": "stream",
          "text": [
            "(563,)\n",
            "[1 1 1 1 1 1 1 1 1 1 1 1 1 1 2 1 1 1 1 1 1 1 1 1 1 1 1 1 2 1 1 1 1 1 0 0 1\n",
            " 1 1 1 1 1 1 1 1 1 1 1 1 2 2 2 1 1 1 1 1 1 1 1 1 1 1 1 0 0 0 1 1 1 1 1 1 1\n",
            " 1 1 1 1 1 1 1 1 1 2 2 1 2 1 2 1 2 1 2 2 1 2 2 2 1 1 2 1 1 1 1 1 2 1 1 2 2\n",
            " 1 1 1 1 1 2 2 2 2 2 2 1 1 1 1 1 2 2 2 2 2 2 2 2 1 1 1 1 1 2 2 1 2 1 1 1 1\n",
            " 1 1 1 1 1 1 1 2 2 1 2 1 1 1 1 1 1 1 1 1 1 1 1 2 2 1 1 1 1 1 1 1 1 1 1 2 2\n",
            " 1 1 2 1 1 1 2 2 2 2 1 1 2 1 1 2 2 2 1 2 1 1 2 1 1 1 1 1 1 1 1 1 1 1 1 1 0\n",
            " 0 0 0 0 0 1 2 2 1 1 2 1 1 1 1 1 1 1 1 1 1 2 2 2 2 2 2 2 2 2 2 1 1 2 1 1 1\n",
            " 2 1 2 2 2 2 1 1 1 1 2 1 1 1 1 1 1 1 1 1 1 1 1 1 1 1 1 3 3 3 3 3 3 3 3 3 3\n",
            " 3 3 3 3 3 3 3 3 3 3 3 3 3 3 3 3 3 3 3 3 3 3 3 3 3 3 3 3 3 3 3 3 3 3 3 3 3\n",
            " 3 3 3 3 3 3 3 3 3 3 3 3 3 3 3 3 3 3 3 3 3 3 3 3 3 3 3 3 3 3 3 3 3 3 3 3 3\n",
            " 3 3 3 3 3 3 3 3 3 3 3 3 3 3 3 3 3 3 3 3 3 3 3 3 3 3 3 3 3 3 3 3 3 3 3 3 3\n",
            " 3 3 3 3 3 3 3 3 3 3 3 3 3 3 3 3 3 3 3 3 3 3 3 3 3 3 3 3 3 3 3 3 3 3 3 3 3\n",
            " 3 0 0 0 0 0 0 0 0 0 0 0 0 0 0 0 0 0 0 0 0 0 0 0 0 0 0 0 0 0 0 0 0 0 0 0 0\n",
            " 0 0 0 0 0 0 0 0 2 2 2 2 2 2 2 2 2 2 2 2 2 2 2 2 2 2 2 2 2 2 2 2 2 2 2 2 2\n",
            " 2 2 2 2 2 2 2 2 2 2 2 2 2 2 2 2 2 2 2 2 2 2 2 2 2 2 2 2 2 2 2 2 2 2 2 2 2\n",
            " 2 2 2 2 2 2 2 2]\n"
          ]
        }
      ],
      "source": [
        "print(y_resampled.shape)\n",
        "print(y_resampled)"
      ]
    },
    {
      "cell_type": "code",
      "execution_count": 12,
      "metadata": {
        "colab": {
          "base_uri": "https://localhost:8080/"
        },
        "id": "yoLr0tIn-crU",
        "outputId": "21ff3de7-64af-4cbb-d8d7-ca874f8cac7f"
      },
      "outputs": [
        {
          "name": "stdout",
          "output_type": "stream",
          "text": [
            "Train data shape: (394, 1, 300)\n",
            "Train labels shape: (394,)\n",
            "Test data shape: (169, 1, 300)\n",
            "Test labels shape: (169,)\n"
          ]
        }
      ],
      "source": [
        "# Using original data\n",
        "# train_data, test_data, train_labels, test_labels = train_test_split(data, label, test_size=0.2)\n",
        "# Using oversampling data\n",
        "train_data, test_data, train_labels, test_labels = train_test_split(X_resampled, y_resampled, test_size=0.3)\n",
        "print('Train data shape:', train_data.shape)\n",
        "print('Train labels shape:', train_labels.shape)\n",
        "print('Test data shape:', test_data.shape)\n",
        "print('Test labels shape:', test_labels.shape)"
      ]
    },
    {
      "cell_type": "code",
      "execution_count": 13,
      "metadata": {
        "id": "u9kNA2pM-eEn"
      },
      "outputs": [],
      "source": [
        "# Convert the data and labels to PyTorch tensors\n",
        "train_data_tensor = torch.from_numpy(train_data).float()\n",
        "train_labels_tensor = torch.from_numpy(train_labels).long()\n",
        "test_data_tensor = torch.from_numpy(test_data).float()\n",
        "test_labels_tensor = torch.from_numpy(test_labels).long()"
      ]
    },
    {
      "cell_type": "code",
      "execution_count": 14,
      "metadata": {
        "colab": {
          "base_uri": "https://localhost:8080/"
        },
        "id": "qmXkvTTK-hsh",
        "outputId": "c7574872-cebf-482a-9b02-5115d390269c"
      },
      "outputs": [
        {
          "name": "stdout",
          "output_type": "stream",
          "text": [
            "torch.Size([394, 1, 300])\n",
            "torch.Size([169, 1, 300])\n",
            "torch.Size([394])\n",
            "torch.Size([169])\n"
          ]
        }
      ],
      "source": [
        "print(train_data_tensor.shape)\n",
        "print(test_data_tensor.shape)\n",
        "print(train_labels_tensor.shape)\n",
        "print(test_labels_tensor.shape)"
      ]
    },
    {
      "cell_type": "code",
      "execution_count": 15,
      "metadata": {
        "id": "LCxuHmf4BL8i"
      },
      "outputs": [],
      "source": [
        "# Create a TensorDataset for each set of data and labels\n",
        "train_dataset = TensorDataset(train_data_tensor, train_labels_tensor)\n",
        "test_dataset = TensorDataset(test_data_tensor, test_labels_tensor)"
      ]
    },
    {
      "cell_type": "code",
      "execution_count": 16,
      "metadata": {
        "id": "7YkIqRtRBO1u"
      },
      "outputs": [],
      "source": [
        "# Create a DataLoader for each dataset to batch and shuffle the data\n",
        "batch_size = 32\n",
        "train_loader = DataLoader(train_dataset, batch_size=batch_size, shuffle=True)\n",
        "test_loader = DataLoader(test_dataset, batch_size=batch_size, shuffle=False)"
      ]
    },
    {
      "cell_type": "code",
      "execution_count": 17,
      "metadata": {
        "id": "WfbiZzL7BQyU"
      },
      "outputs": [],
      "source": [
        "# Define the LSTM model architecture\n",
        "class LSTM(nn.Module):\n",
        "    def __init__(self, input_size, hidden_size, num_layers, output_size):\n",
        "        super(LSTM, self).__init__()   \n",
        "        self.hidden_size = hidden_size\n",
        "        self.num_layers = num_layers\n",
        "        self.lstm = nn.LSTM(input_size, hidden_size, num_layers, batch_first=True, bidirectional=False)\n",
        "        self.fc = nn.Linear(hidden_size, output_size)\n",
        "        self.softmax = nn.LogSoftmax(dim=0)\n",
        "        \n",
        "    def forward(self, x):\n",
        "        # Initialize hidden state with zeros\n",
        "        h0 = torch.zeros(self.num_layers, x.size(0), self.hidden_size).to(x.device)\n",
        "        # Initialize cell state with zeros\n",
        "        c0 = torch.zeros(self.num_layers, x.size(0), self.hidden_size).to(x.device)\n",
        "        # Forward propagate LSTM\n",
        "        out, _ = self.lstm(x, (h0, c0))  # out: tensor of shape (batch_size, seq_length, hidden_size)\n",
        "        # Decode the hidden state of the last time step\n",
        "        out = self.fc(out[:, -1, :])\n",
        "        return out"
      ]
    },
    {
      "cell_type": "code",
      "execution_count": 18,
      "metadata": {
        "id": "3flSb-6hsvIQ"
      },
      "outputs": [],
      "source": [
        "# Trainging Settings\n",
        "input_size = 300  # Size of input vector\n",
        "hidden_size = 64  # Number of features in the hidden state\n",
        "num_layers = 2  # Number of LSTM layers\n",
        "output_size = 4  # Number of output classes\n",
        "learning_rate = 0.001\n",
        "\n",
        "# Instantiate the model\n",
        "model = LSTM(input_size, hidden_size, num_layers, output_size)\n",
        "\n",
        "# Move model to GPU if available\n",
        "device = torch.device('cuda' if torch.cuda.is_available() else 'cpu')\n",
        "model.to(device)\n",
        "\n",
        "# Define loss function and optimizer\n",
        "# Define Loss Function weights\n",
        "# class_weights = torch.FloatTensor(weights).to(device)\n",
        "# criterion = nn.CrossEntropyLoss(weight=class_weights) # Using weight\n",
        "criterion = nn.CrossEntropyLoss()\n",
        "optimizer = optim.Adam(model.parameters(), lr=learning_rate)\n",
        "\n",
        "# Epochs and records\n",
        "num_epochs = 10\n",
        "train_losses = []\n",
        "val_losses = []\n",
        "train_accuracies = []\n",
        "val_accuracies = []\n",
        "\n",
        "# Early Stopping Settings\n",
        "# Define the number of epochs to wait before stopping if the test accuracy does not improve\n",
        "patience = 3\n",
        "# Initialize the counter for the number of epochs without improvement\n",
        "counter = 0\n",
        "# Initialize the best test accuracy to zero\n",
        "best_val_accuracy = 0.0\n",
        "\n",
        "# torchmetrcis settings\n",
        "model_accuracy = MulticlassAccuracy(num_classes=4).to(device)\n",
        "model_precision = MulticlassPrecision(num_classes=4).to(device)\n",
        "model_recall = MulticlassRecall(num_classes=4).to(device)\n",
        "model_f1 = MulticlassF1Score(num_classes=4).to(device)"
      ]
    },
    {
      "cell_type": "code",
      "execution_count": 19,
      "metadata": {
        "colab": {
          "base_uri": "https://localhost:8080/"
        },
        "id": "Kv_DOhIDBmEl",
        "outputId": "b9cd1ab4-f1ae-491f-abbe-6a09ad31939b"
      },
      "outputs": [
        {
          "name": "stdout",
          "output_type": "stream",
          "text": [
            "Epoch [1/0], Train Loss: 41.5831, Train Acc: 33.2487, Val Loss: 13.0995, Val Acc: 40.2367\n",
            "Epoch [2/1], Train Loss: 38.7601, Train Acc: 34.7716, Val Loss: 11.8777, Val Acc: 56.2130\n",
            "Epoch [3/2], Train Loss: 33.8930, Train Acc: 64.2132, Val Loss: 10.2417, Val Acc: 73.3728\n",
            "Epoch [4/3], Train Loss: 27.6346, Train Acc: 79.9492, Val Loss: 8.2641, Val Acc: 81.0651\n",
            "Epoch [5/4], Train Loss: 20.7233, Train Acc: 84.5178, Val Loss: 6.5277, Val Acc: 81.0651\n",
            "Epoch [6/5], Train Loss: 14.1319, Train Acc: 89.0863, Val Loss: 5.9317, Val Acc: 81.0651\n",
            "Epoch [7/6], Train Loss: 10.0613, Train Acc: 91.8782, Val Loss: 4.5680, Val Acc: 83.4320\n",
            "Epoch [8/7], Train Loss: 6.8249, Train Acc: 95.1777, Val Loss: 4.7764, Val Acc: 82.8402\n",
            "Epoch [9/8], Train Loss: 5.1584, Train Acc: 96.1929, Val Loss: 4.1073, Val Acc: 84.0237\n",
            "Epoch [10/9], Train Loss: 3.5943, Train Acc: 97.9695, Val Loss: 4.2774, Val Acc: 82.8402\n"
          ]
        }
      ],
      "source": [
        "# Training loop\n",
        "for epoch in range(num_epochs):\n",
        "    # Set model to training mode\n",
        "    train_loss = 0.0\n",
        "    train_correct = 0\n",
        "    model.train()  \n",
        "    # Iterate over batches of train data\n",
        "    for batch_idx, (data, target) in enumerate(train_loader):\n",
        "        # Move inputs and labels to GPU if available\n",
        "        data = data.to(device)\n",
        "        target = target.squeeze().long().to(device)\n",
        "        # Zero the gradients\n",
        "        optimizer.zero_grad()\n",
        "        # Forward pass\n",
        "        output = model(data)\n",
        "        loss = criterion(output, target) # Check this line\n",
        "        # loss = criterion(output, target.squeeze().to(torch.long)) # Check this line\n",
        "        # Backward pass\n",
        "        loss.backward()\n",
        "        # Update weights\n",
        "        optimizer.step()\n",
        "        # Calculate metrics\n",
        "        train_loss += loss.item() * data.size(0)\n",
        "        # train_loss += loss.item() # Check this line\n",
        "        _, predicted = torch.max(output, 1)\n",
        "        # _, predicted = torch.max(output.data, 1) # Check this line\n",
        "        train_correct += torch.sum(predicted == target.data)\n",
        "        # train_correct += (predicted == target.squeeze().long()).sum().item() # Check this line\n",
        "\n",
        "    train_loss /= len(train_loader)\n",
        "    train_accuracy = 100.0 * train_correct / len(train_dataset)\n",
        "    train_losses.append(train_loss)\n",
        "    train_accuracies.append(train_accuracy)\n",
        "    \n",
        "    # Set model to evaluation mode\n",
        "    model.eval()\n",
        "    val_loss = 0.0\n",
        "    val_correct = 0\n",
        "    # Iterate over batches of validation data\n",
        "    with torch.no_grad():\n",
        "        for i, (inputs, labels) in enumerate(test_loader):\n",
        "            # Move inputs and labels to GPU if available\n",
        "            inputs = inputs.to(device)\n",
        "            labels = labels.squeeze().long().to(device) \n",
        "            # Forward pass\n",
        "            output = model(inputs)\n",
        "            # loss = criterion(outputs, labels)\n",
        "            loss = criterion(output, labels.squeeze().to(torch.long))\n",
        "            # Calculate metrics\n",
        "            val_loss += loss.item() * data.size(0)\n",
        "            # val_loss += loss.item() # Check this line\n",
        "            _, predicted = torch.max(output, 1)\n",
        "            # _, predicted = torch.max(output.data, 1) # Check this line\n",
        "            val_correct += torch.sum(predicted == labels.data)\n",
        "            # val_correct += (predicted == target.squeeze().long()).sum().item() # Check this line\n",
        "            model_accuracy.update(predicted, labels.squeeze().long())\n",
        "            model_precision.update(predicted, labels.squeeze().long())\n",
        "            model_recall.update(predicted, labels.squeeze().long())\n",
        "            model_f1.update(predicted, labels.squeeze().long())\n",
        "        val_loss /= len(test_loader)\n",
        "        val_accuracy = 100.0 * val_correct / len(test_dataset)\n",
        "        val_losses.append(val_loss)\n",
        "        val_accuracies.append(val_accuracy)\n",
        " \n",
        "    # Print metrics\n",
        "    print('Epoch [{}/{}], Train Loss: {:.4f}, Train Acc: {:.4f}, Val Loss: {:.4f}, Val Acc: {:.4f}'\n",
        "          .format(epoch+1, epoch, train_loss, train_accuracy, val_loss, val_accuracy))\n",
        "    \n",
        "    if val_accuracy > best_val_accuracy:\n",
        "        best_val_accuracy = val_accuracy\n",
        "        counter = 0\n",
        "    else:\n",
        "        counter += 1\n",
        "        if counter >= patience:\n",
        "            print(\"Early stopping at epoch\", epoch)\n",
        "            break"
      ]
    },
    {
      "cell_type": "code",
      "execution_count": 20,
      "metadata": {
        "colab": {
          "base_uri": "https://localhost:8080/",
          "height": 507
        },
        "id": "XhJwvB_xF3BN",
        "outputId": "6ba3d062-637d-4283-c04c-680995cd1efe"
      },
      "outputs": [
        {
          "data": {
            "image/png": "[encoded data removed]",
            "text/plain": [
              "<Figure size 1000x500 with 2 Axes>"
            ]
          },
          "metadata": {},
          "output_type": "display_data"
        }
      ],
      "source": [
        "# Plot the train and test accuracy and loss\n",
        "fig, (ax1, ax2) = plt.subplots(1, 2, figsize=(10, 5))\n",
        "\n",
        "ax1.plot(train_accuracies, label='Train')\n",
        "ax1.plot(val_accuracies, label='Test')\n",
        "ax1.set_title('Accuracy')\n",
        "ax1.set_xlabel('Epoch')\n",
        "ax1.set_ylabel('Accuracy')\n",
        "ax1.legend()\n",
        "\n",
        "ax2.plot(train_losses, label='Train')\n",
        "ax2.plot(val_losses, label='Test')\n",
        "ax2.set_title('Loss')\n",
        "ax2.set_xlabel('Epoch')\n",
        "ax2.set_ylabel('Loss')\n",
        "ax2.legend()\n",
        "\n",
        "plt.tight_layout()\n",
        "plt.savefig('vec30_sum_lstm_230418.PNG', dpi=300)\n",
        "plt.show()"
      ]
    },
    {
      "cell_type": "code",
      "execution_count": null,
      "metadata": {
        "id": "wzWTF958N6Yg"
      },
      "outputs": [],
      "source": [
        "#Save Model Parameter\n",
        "# torch.save(model, 'lstm_vec30sum.pt')"
      ]
    },
    {
      "cell_type": "code",
      "execution_count": 21,
      "metadata": {},
      "outputs": [
        {
          "name": "stdout",
          "output_type": "stream",
          "text": [
            "Accuracy: 75.80%\n",
            "Precision: 79.79%\n",
            "Recall: 75.80%\n",
            "F1-score: 76.76%\n"
          ]
        }
      ],
      "source": [
        "ac = model_accuracy.compute()\n",
        "pc = model_precision.compute()\n",
        "rc = model_recall.compute()\n",
        "f1 = model_f1.compute()\n",
        "print('Accuracy: {:.2%}'.format(ac.item()))\n",
        "print('Precision: {:.2%}'.format(pc.item()))\n",
        "print('Recall: {:.2%}'.format(rc.item()))\n",
        "print('F1-score: {:.2%}'.format(f1.item()))"
      ]
    },
    {
      "attachments": {},
      "cell_type": "markdown",
      "metadata": {},
      "source": [
        "# Calculate LSTM F1-Score\n",
        "https://torchmetrics.readthedocs.io/en/stable/classification/f1_score.html"
      ]
    }
  ],
  "metadata": {
    "colab": {
      "provenance": []
    },
    "kernelspec": {
      "display_name": "Python 3",
      "name": "python3"
    },
    "language_info": {
      "codemirror_mode": {
        "name": "ipython",
        "version": 3
      },
      "file_extension": ".py",
      "mimetype": "text/x-python",
      "name": "python",
      "nbconvert_exporter": "python",
      "pygments_lexer": "ipython3",
      "version": "3.8.15"
    }
  },
  "nbformat": 4,
  "nbformat_minor": 0
}
