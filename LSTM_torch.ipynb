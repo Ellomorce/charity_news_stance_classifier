{
  "nbformat": 4,
  "nbformat_minor": 0,
  "metadata": {
    "colab": {
      "provenance": []
    },
    "kernelspec": {
      "name": "python3",
      "display_name": "Python 3"
    },
    "language_info": {
      "name": "python"
    }
  },
  "cells": [
    {
      "cell_type": "code",
      "source": [
        "import numpy as np\n",
        "import pandas as pd\n",
        "import torch\n",
        "import torch.nn as nn\n",
        "import torch.optim as optim\n",
        "import torch.nn.functional as F\n",
        "from sklearn.model_selection import train_test_split\n",
        "from sklearn.metrics import accuracy_score\n",
        "from imblearn.over_sampling import RandomOverSampler\n",
        "from torch.utils.data import TensorDataset, DataLoader\n",
        "import matplotlib.pyplot as plt\n",
        "import os\n",
        "os.environ['CUDA_LAUNCH_BLOCKING'] = \"1\""
      ],
      "metadata": {
        "id": "WUG_j7iyL4Wx"
      },
      "execution_count": 1,
      "outputs": []
    },
    {
      "cell_type": "code",
      "source": [
        "print(torch.__version__)"
      ],
      "metadata": {
        "id": "BQvH4wL3MtUZ",
        "colab": {
          "base_uri": "https://localhost:8080/"
        },
        "outputId": "333128eb-16c0-4fd1-8d67-a97dd02b6977"
      },
      "execution_count": 2,
      "outputs": [
        {
          "output_type": "stream",
          "name": "stdout",
          "text": [
            "2.0.0+cu118\n"
          ]
        }
      ]
    },
    {
      "cell_type": "code",
      "execution_count": 3,
      "metadata": {
        "id": "JC4uo3-Z3ezL",
        "colab": {
          "base_uri": "https://localhost:8080/"
        },
        "outputId": "a9c9078a-163b-467f-e352-e83fcabf74a6"
      },
      "outputs": [
        {
          "output_type": "stream",
          "name": "stdout",
          "text": [
            "Mounted at /content/drive\n"
          ]
        }
      ],
      "source": [
        "from google.colab import drive\n",
        "drive.mount('/content/drive')"
      ]
    },
    {
      "cell_type": "code",
      "source": [
        "#Define File Path\n",
        "# vec20avg_path = \"/content/drive/MyDrive/Co-working /Thesis/vec_data/vec20_avg.npz\"\n",
        "# vec25avg_path = \"/content/drive/MyDrive/Co-working /Thesis/vec_data/vec25_avg.npz\"\n",
        "vec30avg_path = \"/content/drive/MyDrive/Co-working/Thesis/vec_data/vec30_avg.npz\"\n",
        "# vec35avg_path = \"/content/drive/MyDrive/Co-working /Thesis/vec_data/vec35_avg.npz\"\n",
        "# vec20sum_path = \"/content/drive/MyDrive/Co-working /Thesis/vec_data/vec20_sum.npz\"\n",
        "# vec20sum_path = \"/content/drive/MyDrive/Co-working /Thesis/vec_data/vec20_sum.npz\"\n",
        "# vec25sum_path = \"/content/drive/MyDrive/Co-working /Thesis/vec_data/vec25_sum.npz\"\n",
        "vec30sum_path = \"/content/drive/MyDrive/Co-working/Thesis/vec_data/vec30_sum.npz\"\n",
        "# vec35sum_path = \"/content/drive/MyDrive/Co-working /Thesis/vec_data/vec35_sum.npz\"\n",
        "freq_stance_labels = \"/content/drive/MyDrive/Co-working/Thesis/vec_data/freq_stance_labels.npz\"\n",
        "oh_stance_labels = \"/content/drive/MyDrive/Co-working/Thesis/vec_data/oh_stance_labels.npz\"\n",
        "le_stance_labels = \"/content/drive/MyDrive/Co-working/Thesis/vec_data/le_stance_labels.npz\""
      ],
      "metadata": {
        "id": "_HZ7omynFExU"
      },
      "execution_count": 4,
      "outputs": []
    },
    {
      "cell_type": "code",
      "source": [
        "def load_npz_file(filepath):\n",
        "    # Load the numpy array from the .npz file\n",
        "    with np.load(filepath, allow_pickle=True) as data:\n",
        "        for key in data.keys():\n",
        "            arr = data[key]\n",
        "            break\n",
        "    return arr"
      ],
      "metadata": {
        "id": "hpykdePCOjgW"
      },
      "execution_count": 5,
      "outputs": []
    },
    {
      "cell_type": "code",
      "source": [
        "# vec20avg = load_npz_file(vec20avg_path)\n",
        "# vec25avg = load_npz_file(vec25avg_path)\n",
        "vec30avg = load_npz_file(vec30avg_path)\n",
        "# vec35avg = load_npz_file(vec35avg_path)\n",
        "# vec20sum = load_npz_file(vec20sum_path)\n",
        "# vec20sum = load_npz_file(vec20sum_path)\n",
        "# vec25sum = load_npz_file(vec25sum_path)\n",
        "vec30sum = load_npz_file(vec30sum_path)\n",
        "# vec35sum = load_npz_file(vec35sum_path)\n",
        "freq_label = load_npz_file(freq_stance_labels)\n",
        "oh_label = load_npz_file(oh_stance_labels)\n",
        "le_label = load_npz_file(le_stance_labels)"
      ],
      "metadata": {
        "id": "pKRrteIyOp6O"
      },
      "execution_count": 6,
      "outputs": []
    },
    {
      "cell_type": "code",
      "source": [
        "#指派實際要使用的Data與Label\n",
        "# data = vec30avg\n",
        "data = vec30sum\n",
        "# label = np.argmax(oh_label, axis=1)\n",
        "# label = oh_label\n",
        "# label = freq_label\n",
        "label = le_label"
      ],
      "metadata": {
        "id": "O9PUjT6176PE"
      },
      "execution_count": 7,
      "outputs": []
    },
    {
      "cell_type": "code",
      "source": [
        "print(data.shape)\n",
        "print(label.shape)\n",
        "print(np.unique(label))\n",
        "print(np.unique(label, return_counts=True))"
      ],
      "metadata": {
        "colab": {
          "base_uri": "https://localhost:8080/"
        },
        "id": "ScK5QbOP-O0M",
        "outputId": "32b585b0-9737-49e7-e6cf-5c3328d9d8be"
      },
      "execution_count": 8,
      "outputs": [
        {
          "output_type": "stream",
          "name": "stdout",
          "text": [
            "(445, 1, 300)\n",
            "(445,)\n",
            "[0 1 2 3]\n",
            "(array([0, 1, 2, 3], dtype=int32), array([ 11, 188,  87, 159]))\n"
          ]
        }
      ]
    },
    {
      "cell_type": "code",
      "source": [
        "# Data Augmentation using Oversampling\n",
        "# Define the oversampling ratio for each class\n",
        "oversample_ratio = {0: 120, 1: 188, 2: 150, 3: 159}\n",
        "# Initialize the oversampler\n",
        "oversampler = RandomOverSampler(sampling_strategy=oversample_ratio)\n",
        "# Reshape your data to a 2D matrix of shape (n_samples, n_features)\n",
        "X = data.reshape(-1, 300)\n",
        "# Apply oversampling to X and y\n",
        "X_resampled, y_resampled = oversampler.fit_resample(X, label)\n",
        "# Reshape X back to its original shape\n",
        "X_resampled = X_resampled.reshape(-1, 1, 300)"
      ],
      "metadata": {
        "id": "PPCtwpk9-Q7y"
      },
      "execution_count": 9,
      "outputs": []
    },
    {
      "cell_type": "code",
      "source": [
        "print(X_resampled.shape)\n",
        "print(X_resampled)"
      ],
      "metadata": {
        "id": "gqZF9Law-Ukx"
      },
      "execution_count": null,
      "outputs": []
    },
    {
      "cell_type": "code",
      "source": [
        "print(y_resampled.shape)\n",
        "print(y_resampled)"
      ],
      "metadata": {
        "id": "VJ_W9iAJ-XKM"
      },
      "execution_count": null,
      "outputs": []
    },
    {
      "cell_type": "code",
      "source": [
        "# Using original data\n",
        "# train_data, test_data, train_labels, test_labels = train_test_split(data, label, test_size=0.2)\n",
        "# Using oversampling data\n",
        "train_data, test_data, train_labels, test_labels = train_test_split(X_resampled, y_resampled, test_size=0.3)\n",
        "print('Train data shape:', train_data.shape)\n",
        "print('Train labels shape:', train_labels.shape)\n",
        "print('Test data shape:', test_data.shape)\n",
        "print('Test labels shape:', test_labels.shape)"
      ],
      "metadata": {
        "colab": {
          "base_uri": "https://localhost:8080/"
        },
        "id": "yoLr0tIn-crU",
        "outputId": "21ff3de7-64af-4cbb-d8d7-ca874f8cac7f"
      },
      "execution_count": 10,
      "outputs": [
        {
          "output_type": "stream",
          "name": "stdout",
          "text": [
            "Train data shape: (431, 1, 300)\n",
            "Train labels shape: (431,)\n",
            "Test data shape: (186, 1, 300)\n",
            "Test labels shape: (186,)\n"
          ]
        }
      ]
    },
    {
      "cell_type": "code",
      "source": [
        "# Convert the data and labels to PyTorch tensors\n",
        "train_data_tensor = torch.from_numpy(train_data).float()\n",
        "train_labels_tensor = torch.from_numpy(train_labels).long()\n",
        "test_data_tensor = torch.from_numpy(test_data).float()\n",
        "test_labels_tensor = torch.from_numpy(test_labels).long()"
      ],
      "metadata": {
        "id": "u9kNA2pM-eEn"
      },
      "execution_count": 11,
      "outputs": []
    },
    {
      "cell_type": "code",
      "source": [
        "print(train_data_tensor.shape)\n",
        "print(test_data_tensor.shape)\n",
        "print(train_labels_tensor.shape)\n",
        "print(test_labels_tensor.shape)"
      ],
      "metadata": {
        "colab": {
          "base_uri": "https://localhost:8080/"
        },
        "id": "qmXkvTTK-hsh",
        "outputId": "c7574872-cebf-482a-9b02-5115d390269c"
      },
      "execution_count": 12,
      "outputs": [
        {
          "output_type": "stream",
          "name": "stdout",
          "text": [
            "torch.Size([431, 1, 300])\n",
            "torch.Size([186, 1, 300])\n",
            "torch.Size([431])\n",
            "torch.Size([186])\n"
          ]
        }
      ]
    },
    {
      "cell_type": "code",
      "source": [
        "# Create a TensorDataset for each set of data and labels\n",
        "train_dataset = TensorDataset(train_data_tensor, train_labels_tensor)\n",
        "test_dataset = TensorDataset(test_data_tensor, test_labels_tensor)"
      ],
      "metadata": {
        "id": "LCxuHmf4BL8i"
      },
      "execution_count": 13,
      "outputs": []
    },
    {
      "cell_type": "code",
      "source": [
        "# Create a DataLoader for each dataset to batch and shuffle the data\n",
        "batch_size = 32\n",
        "train_loader = DataLoader(train_dataset, batch_size=batch_size, shuffle=True)\n",
        "test_loader = DataLoader(test_dataset, batch_size=batch_size, shuffle=False)"
      ],
      "metadata": {
        "id": "7YkIqRtRBO1u"
      },
      "execution_count": 14,
      "outputs": []
    },
    {
      "cell_type": "code",
      "source": [
        "# Define the LSTM model architecture\n",
        "class LSTM(nn.Module):\n",
        "    def __init__(self, input_size, hidden_size, num_layers, output_size):\n",
        "        super(LSTM, self).__init__()   \n",
        "        self.hidden_size = hidden_size\n",
        "        self.num_layers = num_layers\n",
        "        self.lstm = nn.LSTM(input_size, hidden_size, num_layers, batch_first=True, bidirectional=False)\n",
        "        self.fc = nn.Linear(hidden_size, output_size)\n",
        "        self.softmax = nn.LogSoftmax(dim=0)\n",
        "        \n",
        "    def forward(self, x):\n",
        "        # Initialize hidden state with zeros\n",
        "        h0 = torch.zeros(self.num_layers, x.size(0), self.hidden_size).to(x.device)\n",
        "        # Initialize cell state with zeros\n",
        "        c0 = torch.zeros(self.num_layers, x.size(0), self.hidden_size).to(x.device)\n",
        "        # Forward propagate LSTM\n",
        "        out, _ = self.lstm(x, (h0, c0))  # out: tensor of shape (batch_size, seq_length, hidden_size)\n",
        "        # Decode the hidden state of the last time step\n",
        "        out = self.fc(out[:, -1, :])\n",
        "        return out"
      ],
      "metadata": {
        "id": "WfbiZzL7BQyU"
      },
      "execution_count": 15,
      "outputs": []
    },
    {
      "cell_type": "code",
      "source": [
        "# Trainging Settings\n",
        "input_size = 300  # Size of input vector\n",
        "hidden_size = 64  # Number of features in the hidden state\n",
        "num_layers = 2  # Number of LSTM layers\n",
        "output_size = 4  # Number of output classes\n",
        "learning_rate = 0.001\n",
        "\n",
        "# Instantiate the model\n",
        "model = LSTM(input_size, hidden_size, num_layers, output_size)\n",
        "\n",
        "# Move model to GPU if available\n",
        "device = torch.device('cuda' if torch.cuda.is_available() else 'cpu')\n",
        "model.to(device)\n",
        "\n",
        "# Define loss function and optimizer\n",
        "# Define Loss Function weights\n",
        "# class_weights = torch.FloatTensor(weights).to(device)\n",
        "# criterion = nn.CrossEntropyLoss(weight=class_weights) # Using weight\n",
        "criterion = nn.CrossEntropyLoss()\n",
        "optimizer = optim.Adam(model.parameters(), lr=learning_rate)\n",
        "\n",
        "# Epochs and records\n",
        "num_epochs = 10\n",
        "train_losses = []\n",
        "val_losses = []\n",
        "train_accuracies = []\n",
        "val_accuracies = []\n",
        "\n",
        "# Early Stopping Settings\n",
        "# Define the number of epochs to wait before stopping if the test accuracy does not improve\n",
        "patience = 3\n",
        "# Initialize the counter for the number of epochs without improvement\n",
        "counter = 0\n",
        "# Initialize the best test accuracy to zero\n",
        "best_val_accuracy = 0.0"
      ],
      "metadata": {
        "id": "3flSb-6hsvIQ"
      },
      "execution_count": 16,
      "outputs": []
    },
    {
      "cell_type": "code",
      "source": [
        "# Training loop\n",
        "for epoch in range(num_epochs):\n",
        "    # Set model to training mode\n",
        "    train_loss = 0.0\n",
        "    train_correct = 0\n",
        "    model.train()  \n",
        "    # Iterate over batches of train data\n",
        "    for batch_idx, (data, target) in enumerate(train_loader):\n",
        "        # Move inputs and labels to GPU if available\n",
        "        data = data.to(device)\n",
        "        target = target.squeeze().long().to(device)\n",
        "        # Zero the gradients\n",
        "        optimizer.zero_grad()\n",
        "        # Forward pass\n",
        "        output = model(data)\n",
        "        loss = criterion(output, target) # Check this line\n",
        "        # loss = criterion(output, target.squeeze().to(torch.long)) # Check this line\n",
        "        # Backward pass\n",
        "        loss.backward()\n",
        "        # Update weights\n",
        "        optimizer.step()\n",
        "        # Calculate metrics\n",
        "        train_loss += loss.item() * data.size(0)\n",
        "        # train_loss += loss.item() # Check this line\n",
        "        _, predicted = torch.max(output, 1)\n",
        "        # _, predicted = torch.max(output.data, 1) # Check this line\n",
        "        train_correct += torch.sum(predicted == target.data)\n",
        "        # train_correct += (predicted == target.squeeze().long()).sum().item() # Check this line\n",
        "\n",
        "    train_loss /= len(train_loader)\n",
        "    train_accuracy = 100.0 * train_correct / len(train_dataset)\n",
        "    train_losses.append(train_loss)\n",
        "    train_accuracies.append(train_accuracy)\n",
        "    \n",
        "    # Set model to evaluation mode\n",
        "    model.eval()\n",
        "    val_loss = 0.0\n",
        "    val_correct = 0\n",
        "    # Iterate over batches of validation data\n",
        "    with torch.no_grad():\n",
        "        for i, (inputs, labels) in enumerate(test_loader):\n",
        "            # Move inputs and labels to GPU if available\n",
        "            inputs = inputs.to(device)\n",
        "            labels = labels.squeeze().long().to(device) \n",
        "            # Forward pass\n",
        "            output = model(inputs)\n",
        "            # loss = criterion(outputs, labels)\n",
        "            loss = criterion(output, labels.squeeze().to(torch.long))\n",
        "            # Calculate metrics\n",
        "            val_loss += loss.item() * data.size(0)\n",
        "            # val_loss += loss.item() # Check this line\n",
        "            _, predicted = torch.max(output, 1)\n",
        "            # _, predicted = torch.max(output.data, 1) # Check this line\n",
        "            val_correct += torch.sum(predicted == labels.data)\n",
        "            # val_correct += (predicted == target.squeeze().long()).sum().item() # Check this line\n",
        "        val_loss /= len(test_loader)\n",
        "        val_accuracy = 100.0 * val_correct / len(test_dataset)\n",
        "        val_losses.append(val_loss)\n",
        "        val_accuracies.append(val_accuracy)\n",
        " \n",
        "    # Print metrics\n",
        "    print('Epoch [{}/{}], Train Loss: {:.4f}, Train Acc: {:.4f}, Val Loss: {:.4f}, Val Acc: {:.4f}'\n",
        "          .format(epoch+1, epoch, train_loss, train_accuracy, val_loss, val_accuracy))\n",
        "    \n",
        "    if val_accuracy > best_val_accuracy:\n",
        "        best_val_accuracy = val_accuracy\n",
        "        counter = 0\n",
        "    else:\n",
        "        counter += 1\n",
        "        if counter >= patience:\n",
        "            print(\"Early stopping at epoch\", epoch)\n",
        "            break"
      ],
      "metadata": {
        "colab": {
          "base_uri": "https://localhost:8080/"
        },
        "id": "Kv_DOhIDBmEl",
        "outputId": "b9cd1ab4-f1ae-491f-abbe-6a09ad31939b"
      },
      "execution_count": 19,
      "outputs": [
        {
          "output_type": "stream",
          "name": "stdout",
          "text": [
            "Epoch [1/0], Train Loss: 41.2548, Train Acc: 40.3712, Val Loss: 19.0573, Val Acc: 57.5269\n",
            "Epoch [2/1], Train Loss: 36.0494, Train Acc: 72.6218, Val Loss: 16.1495, Val Acc: 69.3548\n",
            "Epoch [3/2], Train Loss: 28.3708, Train Acc: 77.9582, Val Loss: 12.9798, Val Acc: 72.5806\n",
            "Epoch [4/3], Train Loss: 20.6305, Train Acc: 84.2227, Val Loss: 10.5478, Val Acc: 74.1936\n",
            "Epoch [5/4], Train Loss: 14.2675, Train Acc: 88.6311, Val Loss: 9.2207, Val Acc: 74.7312\n",
            "Epoch [6/5], Train Loss: 9.6637, Train Acc: 92.8074, Val Loss: 8.1086, Val Acc: 77.9570\n",
            "Epoch [7/6], Train Loss: 6.7919, Train Acc: 93.2715, Val Loss: 8.0545, Val Acc: 79.0323\n",
            "Epoch [8/7], Train Loss: 4.4660, Train Acc: 97.9118, Val Loss: 7.2360, Val Acc: 82.2581\n",
            "Epoch [9/8], Train Loss: 2.8723, Train Acc: 99.0719, Val Loss: 7.7441, Val Acc: 79.5699\n",
            "Epoch [10/9], Train Loss: 1.9217, Train Acc: 99.5360, Val Loss: 7.7605, Val Acc: 80.6452\n"
          ]
        }
      ]
    },
    {
      "cell_type": "code",
      "source": [
        "# Plot the train and test accuracy and loss\n",
        "fig, (ax1, ax2) = plt.subplots(1, 2, figsize=(10, 5))\n",
        "\n",
        "ax1.plot(train_accuracies, label='Train')\n",
        "ax1.plot(val_accuracies, label='Test')\n",
        "ax1.set_title('Accuracy')\n",
        "ax1.set_xlabel('Epoch')\n",
        "ax1.set_ylabel('Accuracy')\n",
        "ax1.legend()\n",
        "\n",
        "ax2.plot(train_losses, label='Train')\n",
        "ax2.plot(val_losses, label='Test')\n",
        "ax2.set_title('Loss')\n",
        "ax2.set_xlabel('Epoch')\n",
        "ax2.set_ylabel('Loss')\n",
        "ax2.legend()\n",
        "\n",
        "plt.tight_layout()\n",
        "# plt.savefig('LSTM_vec30_sum_230417.PNG', dpi=300)\n",
        "plt.show()"
      ],
      "metadata": {
        "colab": {
          "base_uri": "https://localhost:8080/",
          "height": 507
        },
        "id": "XhJwvB_xF3BN",
        "outputId": "6ba3d062-637d-4283-c04c-680995cd1efe"
      },
      "execution_count": 20,
      "outputs": [
        {
          "output_type": "display_data",
          "data": {
            "text/plain": [
              "<Figure size 1000x500 with 2 Axes>"
            ],
            "image/png": "[encoded data removed]"
          },
          "metadata": {}
        }
      ]
    },
    {
      "cell_type": "code",
      "source": [
        "#Save Model Parameter\n",
        "torch.save(model, 'lstm_vec30sum.pt')"
      ],
      "metadata": {
        "id": "wzWTF958N6Yg"
      },
      "execution_count": null,
      "outputs": []
    }
  ]
}