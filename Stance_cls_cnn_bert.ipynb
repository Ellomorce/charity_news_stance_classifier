{
 "cells": [
  {
   "cell_type": "code",
   "execution_count": 1,
   "metadata": {},
   "outputs": [
    {
     "name": "stderr",
     "output_type": "stream",
     "text": [
      "c:\\Users\\ellom\\miniconda3\\envs\\pytorch-gpu-nlp\\lib\\site-packages\\torchvision\\io\\image.py:13: UserWarning: Failed to load image Python extension: [WinError 127] 找不到指定的程序。\n",
      "  warn(f\"Failed to load image Python extension: {e}\")\n"
     ]
    }
   ],
   "source": [
    "import numpy as np\n",
    "import torch\n",
    "import torch.nn as nn\n",
    "import torch.optim as optim\n",
    "import torch.nn.functional as F\n",
    "from sklearn.model_selection import StratifiedKFold, train_test_split\n",
    "from imblearn.over_sampling import SMOTE\n",
    "from torch.utils.data import TensorDataset, DataLoader\n",
    "import matplotlib.pyplot as plt\n",
    "from torchmetrics.classification import MulticlassF1Score, MulticlassAccuracy, MulticlassPrecision, MulticlassRecall\n",
    "from itertools import zip_longest\n",
    "import thesis_models"
   ]
  },
  {
   "cell_type": "code",
   "execution_count": 2,
   "metadata": {},
   "outputs": [],
   "source": [
    "#Define File Path\n",
    "bert_path = \"./vec_data/twc_news_vec.npz\"\n",
    "le_stance_labels = \"./vec_data/le_stance_labels.npz\""
   ]
  },
  {
   "cell_type": "code",
   "execution_count": 3,
   "metadata": {},
   "outputs": [],
   "source": [
    "def load_npz_file(filepath):\n",
    "    # Load the numpy array from the .npz file\n",
    "    with np.load(filepath, allow_pickle=True) as data:\n",
    "        for key in data.keys():\n",
    "            arr = data[key]\n",
    "            break\n",
    "    return arr"
   ]
  },
  {
   "cell_type": "code",
   "execution_count": 4,
   "metadata": {},
   "outputs": [],
   "source": [
    "bert_vec = load_npz_file(bert_path)\n",
    "le_label = load_npz_file(le_stance_labels)"
   ]
  },
  {
   "cell_type": "code",
   "execution_count": 5,
   "metadata": {},
   "outputs": [],
   "source": [
    "#指派實際要使用的Data與Label\n",
    "data = bert_vec\n",
    "label = le_label"
   ]
  },
  {
   "cell_type": "code",
   "execution_count": 6,
   "metadata": {},
   "outputs": [
    {
     "name": "stdout",
     "output_type": "stream",
     "text": [
      "(445, 768)\n",
      "(445,)\n",
      "[0 1 2 3]\n",
      "(array([0, 1, 2, 3]), array([ 11, 201,  74, 159], dtype=int64))\n"
     ]
    }
   ],
   "source": [
    "print(data.shape)\n",
    "print(label.shape)\n",
    "print(np.unique(label))\n",
    "print(np.unique(label, return_counts=True))"
   ]
  },
  {
   "cell_type": "code",
   "execution_count": 7,
   "metadata": {},
   "outputs": [],
   "source": [
    "# Data Augmentation using Oversampling\n",
    "# Define the oversampling ratio for each class\n",
    "# oversample_ratio = {0: 100, 1: 201, 2: 120, 3: 159}\n",
    "oversample_ratio = {0: 150, 1: 201, 2: 175, 3: 183}\n",
    "# Initialize the oversampler\n",
    "oversampler = SMOTE(sampling_strategy=oversample_ratio)\n",
    "# Reshape your data to a 2D matrix of shape (n_samples, n_features)\n",
    "X = data.reshape(-1, 768)\n",
    "# Apply oversampling to X and y\n",
    "X_resampled, y_resampled = oversampler.fit_resample(X, label)\n",
    "# Reshape X back to its original shape\n",
    "X_resampled = X_resampled.reshape(-1, 1, 768)"
   ]
  },
  {
   "cell_type": "code",
   "execution_count": 8,
   "metadata": {},
   "outputs": [
    {
     "name": "stdout",
     "output_type": "stream",
     "text": [
      "(709, 1, 768)\n",
      "(709,)\n"
     ]
    }
   ],
   "source": [
    "print(X_resampled.shape)\n",
    "print(y_resampled.shape)"
   ]
  },
  {
   "cell_type": "code",
   "execution_count": 9,
   "metadata": {},
   "outputs": [],
   "source": [
    "X_data, test_data, X_labels, test_labels = train_test_split(X_resampled, y_resampled, stratify=y_resampled, test_size=0.1)"
   ]
  },
  {
   "cell_type": "code",
   "execution_count": 10,
   "metadata": {},
   "outputs": [
    {
     "name": "stdout",
     "output_type": "stream",
     "text": [
      "Train data shape: (638, 1, 768)\n",
      "Train labels shape: (638,)\n",
      "Test data shape: (71, 1, 768)\n",
      "Test labels shape: (71,)\n"
     ]
    }
   ],
   "source": [
    "print('Train data shape:', X_data.shape)\n",
    "print('Train labels shape:', X_labels.shape)\n",
    "print('Test data shape:', test_data.shape)\n",
    "print('Test labels shape:', test_labels.shape)"
   ]
  },
  {
   "cell_type": "code",
   "execution_count": 11,
   "metadata": {},
   "outputs": [],
   "source": [
    "X_tensor = torch.from_numpy(X_data).float()\n",
    "y_tensor = torch.from_numpy(X_labels).long()\n",
    "test_data_tensor = torch.from_numpy(test_data).float()\n",
    "test_labels_tensor = torch.from_numpy(test_labels).long()\n",
    "test_dataset = TensorDataset(test_data_tensor, test_labels_tensor)\n",
    "test_loader = DataLoader(test_dataset, batch_size=16, shuffle=False)"
   ]
  },
  {
   "cell_type": "code",
   "execution_count": 12,
   "metadata": {},
   "outputs": [],
   "source": [
    "# Trainging Settings\n",
    "device = torch.device(\"cuda\" if torch.cuda.is_available() else \"cpu\")\n",
    "\n",
    "# Define the loss function and optimizer\n",
    "criterion = nn.CrossEntropyLoss()\n",
    "\n",
    "# Epochs and records\n",
    "num_epochs = 30\n",
    "train_losses_list = []\n",
    "val_losses_list = []\n",
    "train_accuracies_list = []\n",
    "val_accuracies_list = []\n",
    "\n",
    "# # torchmetrcis settings\n",
    "model_accuracy = MulticlassAccuracy(num_classes=4, average='macro').to(device)\n",
    "model_precision = MulticlassPrecision(num_classes=4, average='macro').to(device)\n",
    "model_recall = MulticlassRecall(num_classes=4, average='macro').to(device)\n",
    "model_f1 = MulticlassF1Score(num_classes=4, average='macro').to(device)\n",
    "\n",
    "# Define the number of folds for k-fold cross-validation\n",
    "num_folds = 5\n",
    "# Initialize the k-fold cross-validator\n",
    "skf = StratifiedKFold(n_splits=num_folds, shuffle=True)"
   ]
  },
  {
   "cell_type": "code",
   "execution_count": 13,
   "metadata": {},
   "outputs": [
    {
     "name": "stdout",
     "output_type": "stream",
     "text": [
      "Fold 1\n",
      "Epoch: 0 \tTrain Loss: 1.575414 \tTrain Accuracy: 26.47% \tVal Loss: 1.359918 \tVal Accuracy: 28.91%\n",
      "Epoch: 1 \tTrain Loss: 1.335536 \tTrain Accuracy: 34.31% \tVal Loss: 1.319470 \tVal Accuracy: 26.56%\n",
      "Epoch: 2 \tTrain Loss: 1.296937 \tTrain Accuracy: 36.08% \tVal Loss: 1.272604 \tVal Accuracy: 41.41%\n",
      "Epoch: 3 \tTrain Loss: 1.234391 \tTrain Accuracy: 42.55% \tVal Loss: 1.303506 \tVal Accuracy: 39.06%\n",
      "Epoch: 4 \tTrain Loss: 1.246026 \tTrain Accuracy: 40.98% \tVal Loss: 1.168669 \tVal Accuracy: 50.78%\n",
      "Epoch: 5 \tTrain Loss: 1.165323 \tTrain Accuracy: 44.12% \tVal Loss: 1.153376 \tVal Accuracy: 40.62%\n",
      "Epoch: 6 \tTrain Loss: 1.083522 \tTrain Accuracy: 50.98% \tVal Loss: 1.169842 \tVal Accuracy: 45.31%\n",
      "Epoch: 7 \tTrain Loss: 1.094946 \tTrain Accuracy: 49.02% \tVal Loss: 1.116626 \tVal Accuracy: 49.22%\n",
      "Early stopping at epoch 7\n",
      "Fold 2\n",
      "Epoch: 0 \tTrain Loss: 1.522978 \tTrain Accuracy: 28.43% \tVal Loss: 1.422523 \tVal Accuracy: 30.47%\n",
      "Epoch: 1 \tTrain Loss: 1.387197 \tTrain Accuracy: 27.25% \tVal Loss: 1.374307 \tVal Accuracy: 26.56%\n",
      "Epoch: 2 \tTrain Loss: 1.343933 \tTrain Accuracy: 34.12% \tVal Loss: 1.384137 \tVal Accuracy: 27.34%\n",
      "Epoch: 3 \tTrain Loss: 1.320482 \tTrain Accuracy: 32.75% \tVal Loss: 1.353814 \tVal Accuracy: 34.38%\n",
      "Epoch: 4 \tTrain Loss: 1.292257 \tTrain Accuracy: 36.86% \tVal Loss: 1.357861 \tVal Accuracy: 33.59%\n",
      "Epoch: 5 \tTrain Loss: 1.264215 \tTrain Accuracy: 41.37% \tVal Loss: 1.319363 \tVal Accuracy: 35.16%\n",
      "Epoch: 6 \tTrain Loss: 1.234500 \tTrain Accuracy: 44.71% \tVal Loss: 1.273106 \tVal Accuracy: 39.84%\n",
      "Epoch: 7 \tTrain Loss: 1.179154 \tTrain Accuracy: 49.41% \tVal Loss: 1.255577 \tVal Accuracy: 31.25%\n",
      "Epoch: 8 \tTrain Loss: 1.119267 \tTrain Accuracy: 51.18% \tVal Loss: 1.190967 \tVal Accuracy: 49.22%\n",
      "Epoch: 9 \tTrain Loss: 1.076636 \tTrain Accuracy: 52.55% \tVal Loss: 1.171765 \tVal Accuracy: 52.34%\n",
      "Epoch: 10 \tTrain Loss: 1.019511 \tTrain Accuracy: 56.27% \tVal Loss: 1.154892 \tVal Accuracy: 51.56%\n",
      "Epoch: 11 \tTrain Loss: 0.980989 \tTrain Accuracy: 57.65% \tVal Loss: 1.112218 \tVal Accuracy: 46.09%\n",
      "Epoch: 12 \tTrain Loss: 0.988114 \tTrain Accuracy: 54.90% \tVal Loss: 1.053414 \tVal Accuracy: 50.00%\n",
      "Early stopping at epoch 12\n",
      "Fold 3\n",
      "Epoch: 0 \tTrain Loss: 1.506762 \tTrain Accuracy: 25.29% \tVal Loss: 1.424318 \tVal Accuracy: 23.44%\n",
      "Epoch: 1 \tTrain Loss: 1.392458 \tTrain Accuracy: 29.80% \tVal Loss: 1.376477 \tVal Accuracy: 39.06%\n",
      "Epoch: 2 \tTrain Loss: 1.387805 \tTrain Accuracy: 29.80% \tVal Loss: 1.390521 \tVal Accuracy: 28.12%\n",
      "Epoch: 3 \tTrain Loss: 1.328660 \tTrain Accuracy: 38.24% \tVal Loss: 1.371829 \tVal Accuracy: 29.69%\n",
      "Epoch: 4 \tTrain Loss: 1.295554 \tTrain Accuracy: 37.25% \tVal Loss: 1.360263 \tVal Accuracy: 31.25%\n",
      "Early stopping at epoch 4\n",
      "Fold 4\n",
      "Epoch: 0 \tTrain Loss: 1.528705 \tTrain Accuracy: 24.27% \tVal Loss: 1.346654 \tVal Accuracy: 33.86%\n",
      "Epoch: 1 \tTrain Loss: 1.339078 \tTrain Accuracy: 32.68% \tVal Loss: 1.285103 \tVal Accuracy: 35.43%\n",
      "Epoch: 2 \tTrain Loss: 1.263604 \tTrain Accuracy: 40.51% \tVal Loss: 1.263833 \tVal Accuracy: 45.67%\n",
      "Epoch: 3 \tTrain Loss: 1.245399 \tTrain Accuracy: 38.36% \tVal Loss: 1.189122 \tVal Accuracy: 44.09%\n",
      "Epoch: 4 \tTrain Loss: 1.151929 \tTrain Accuracy: 47.36% \tVal Loss: 1.217629 \tVal Accuracy: 42.52%\n",
      "Epoch: 5 \tTrain Loss: 1.123686 \tTrain Accuracy: 47.75% \tVal Loss: 1.107764 \tVal Accuracy: 49.61%\n",
      "Epoch: 6 \tTrain Loss: 1.060332 \tTrain Accuracy: 52.64% \tVal Loss: 1.042967 \tVal Accuracy: 55.12%\n",
      "Epoch: 7 \tTrain Loss: 1.010529 \tTrain Accuracy: 54.40% \tVal Loss: 0.975460 \tVal Accuracy: 62.20%\n",
      "Epoch: 8 \tTrain Loss: 0.950183 \tTrain Accuracy: 56.95% \tVal Loss: 0.964560 \tVal Accuracy: 61.42%\n",
      "Epoch: 9 \tTrain Loss: 0.979845 \tTrain Accuracy: 52.64% \tVal Loss: 1.018459 \tVal Accuracy: 49.61%\n",
      "Epoch: 10 \tTrain Loss: 0.912725 \tTrain Accuracy: 60.08% \tVal Loss: 0.903929 \tVal Accuracy: 61.42%\n",
      "Early stopping at epoch 10\n",
      "Fold 5\n",
      "Epoch: 0 \tTrain Loss: 1.527292 \tTrain Accuracy: 25.64% \tVal Loss: 1.409791 \tVal Accuracy: 24.41%\n",
      "Epoch: 1 \tTrain Loss: 1.356913 \tTrain Accuracy: 33.27% \tVal Loss: 1.361129 \tVal Accuracy: 31.50%\n",
      "Epoch: 2 \tTrain Loss: 1.328941 \tTrain Accuracy: 34.64% \tVal Loss: 1.302763 \tVal Accuracy: 44.09%\n",
      "Epoch: 3 \tTrain Loss: 1.264588 \tTrain Accuracy: 38.36% \tVal Loss: 1.314696 \tVal Accuracy: 48.03%\n",
      "Epoch: 4 \tTrain Loss: 1.236480 \tTrain Accuracy: 44.23% \tVal Loss: 1.206871 \tVal Accuracy: 50.39%\n",
      "Epoch: 5 \tTrain Loss: 1.161374 \tTrain Accuracy: 50.68% \tVal Loss: 1.200704 \tVal Accuracy: 48.82%\n",
      "Epoch: 6 \tTrain Loss: 1.191960 \tTrain Accuracy: 44.42% \tVal Loss: 1.171748 \tVal Accuracy: 47.24%\n",
      "Epoch: 7 \tTrain Loss: 1.084948 \tTrain Accuracy: 50.49% \tVal Loss: 1.087427 \tVal Accuracy: 50.39%\n",
      "Early stopping at epoch 7\n"
     ]
    }
   ],
   "source": [
    "for fold, (train_idx, val_idx) in enumerate(skf.split(X_tensor, y_tensor)):\n",
    "    print(f'Fold {fold + 1}')\n",
    "    X_train_fold = X_tensor[train_idx]\n",
    "    y_train_fold = y_tensor[train_idx]\n",
    "    X_val_fold = X_tensor[val_idx]\n",
    "    y_val_fold = y_tensor[val_idx]\n",
    "\n",
    "    # Create PyTorch DataLoader for training and validation\n",
    "    train_data = TensorDataset(X_train_fold, y_train_fold)\n",
    "    val_data = TensorDataset(X_val_fold, y_val_fold)\n",
    "    train_loader = DataLoader(train_data, batch_size=16, shuffle=True)\n",
    "    val_loader = DataLoader(val_data, batch_size=16, shuffle=False)\n",
    "\n",
    "    # Initialize the reocrd lists for this fold\n",
    "    train_losses = []\n",
    "    val_losses = []\n",
    "    train_accuracies = []\n",
    "    val_accuracies = []\n",
    "\n",
    "    # Early Stopping Settings\n",
    "    patience = 3\n",
    "    counter = 0\n",
    "    best_val_accuracy = 0.0\n",
    "\n",
    "    # Instantiate the model\n",
    "    model = thesis_models.CNN_bert()\n",
    "    model.to(device)\n",
    "    optimizer = optim.AdamW(model.parameters(), lr=0.0001, weight_decay=1e-2)\n",
    "\n",
    "    for epoch in range(num_epochs):\n",
    "      model.train()\n",
    "      train_loss = 0.0\n",
    "      train_correct = 0\n",
    "      for batch_idx, (data, target) in enumerate(train_loader):\n",
    "        optimizer.zero_grad()\n",
    "        data = data.to(device)\n",
    "        target = target.to(device)\n",
    "        output = model(data)\n",
    "        loss = criterion(output, target)\n",
    "        loss.backward()\n",
    "        optimizer.step()\n",
    "        train_loss += loss.item()\n",
    "        _, predicted = torch.max(output.data, 1)\n",
    "        train_correct += (predicted == target.squeeze().long()).sum().item()\n",
    "      train_loss /= len(train_loader)\n",
    "      train_accuracy = 100.0 * train_correct / len(train_data)\n",
    "      train_losses.append(train_loss)\n",
    "      train_accuracies.append(train_accuracy)\n",
    "\n",
    "      # Evaluate the model on the validation set\n",
    "      model.eval()\n",
    "      val_loss = 0.0\n",
    "      val_correct = 0\n",
    "      with torch.no_grad():\n",
    "        for batch_idx, (data, target) in enumerate(val_loader):\n",
    "          data = data.to(device)\n",
    "          target = target.to(device)\n",
    "          output = model(data)\n",
    "          loss = criterion(output, target)\n",
    "          val_loss += loss.item()\n",
    "          _, predicted = torch.max(output.data, 1)\n",
    "          val_correct += (predicted == target.squeeze().long()).sum().item()\n",
    "      val_loss /= len(val_loader)\n",
    "      val_accuracy = 100.0 * val_correct / len(val_data)\n",
    "      val_losses.append(val_loss)\n",
    "      val_accuracies.append(val_accuracy)\n",
    "\n",
    "      print('Epoch: {} \\tTrain Loss: {:.6f} \\tTrain Accuracy: {:.2f}% \\tVal Loss: {:.6f} \\tVal Accuracy: {:.2f}%'.format(\n",
    "          epoch, train_loss, train_accuracy, val_loss, val_accuracy))\n",
    "      \n",
    "      if val_accuracy > best_val_accuracy:\n",
    "        best_val_accuracy = val_accuracy\n",
    "        counter = 0\n",
    "      else:\n",
    "        counter += 1\n",
    "        if counter >= patience:\n",
    "          print(\"Early stopping at epoch\", epoch)\n",
    "          break\n",
    "        \n",
    "    # Append the lists for this fold to the corresponding list for all folds\n",
    "    train_losses_list.append(train_losses)\n",
    "    val_losses_list.append(val_losses)\n",
    "    train_accuracies_list.append(train_accuracies)\n",
    "    val_accuracies_list.append(val_accuracies)"
   ]
  },
  {
   "cell_type": "code",
   "execution_count": 19,
   "metadata": {},
   "outputs": [],
   "source": [
    "avg_train_losses = [sum(filter(lambda x: x is not None, items))/len(list(filter(lambda x: x is not None, items))) for items in zip_longest(*train_losses_list)]\n",
    "avg_val_losses = [sum(filter(lambda x: x is not None, items))/len(list(filter(lambda x: x is not None, items))) for items in zip_longest(*val_losses_list)]\n",
    "avg_train_accuracies = [sum(filter(lambda x: x is not None, items))/len(list(filter(lambda x: x is not None, items))) for items in zip_longest(*train_accuracies_list)]\n",
    "avg_val_accuracies = [sum(filter(lambda x: x is not None, items))/len(list(filter(lambda x: x is not None, items))) for items in zip_longest(*val_accuracies_list)]"
   ]
  },
  {
   "cell_type": "code",
   "execution_count": 20,
   "metadata": {},
   "outputs": [
    {
     "data": {
      "image/png": "[encoded data removed]",
      "text/plain": [
       "<Figure size 1000x500 with 2 Axes>"
      ]
     },
     "metadata": {},
     "output_type": "display_data"
    }
   ],
   "source": [
    "# Plot the train and test accuracy and loss\n",
    "fig, (ax1, ax2) = plt.subplots(1, 2, figsize=(10, 5))\n",
    "\n",
    "ax1.plot(avg_train_accuracies, label='Train')\n",
    "ax1.plot(avg_val_accuracies, label='Test')\n",
    "ax1.set_title('Accuracy')\n",
    "ax1.set_xlabel('Epoch')\n",
    "ax1.set_ylabel('Accuracy')\n",
    "ax1.legend()\n",
    "\n",
    "ax2.plot(avg_train_losses, label='Train')\n",
    "ax2.plot(avg_val_losses, label='Test')\n",
    "ax2.set_title('Loss')\n",
    "ax2.set_xlabel('Epoch')\n",
    "ax2.set_ylabel('Loss')\n",
    "ax2.legend()\n",
    "\n",
    "plt.tight_layout()\n",
    "# plt.savefig('./Traininglog_pic/cexp_vec20_avg_cnn1_230505.PNG', dpi=300)\n",
    "plt.show()"
   ]
  },
  {
   "cell_type": "code",
   "execution_count": 21,
   "metadata": {},
   "outputs": [
    {
     "name": "stdout",
     "output_type": "stream",
     "text": [
      "Test Accuracy: 0.5972\n",
      "Test Precision: 0.4316\n",
      "Test Recall: 0.5972\n",
      "Test F1-score: 0.4948\n"
     ]
    }
   ],
   "source": [
    "# Testing model\n",
    "model.eval()\n",
    "test_correct = 0\n",
    "model_accuracy.reset()\n",
    "model_precision.reset()\n",
    "model_recall.reset()\n",
    "model_f1.reset()\n",
    "\n",
    "with torch.no_grad():\n",
    "  for batch_idx, (data, target) in enumerate(test_loader):\n",
    "    data = data.to(device)\n",
    "    target = target.to(device)\n",
    "    output = model(data)\n",
    "    _, predicted = torch.max(output.data, 1)\n",
    "    model_accuracy(predicted, target.squeeze().long())\n",
    "    model_precision(predicted, target.squeeze().long())\n",
    "    model_recall(predicted, target.squeeze().long())\n",
    "    model_f1(predicted, target.squeeze().long())\n",
    "print(f\"Test Accuracy: {model_accuracy.compute():.4f}\")\n",
    "print(f\"Test Precision: {model_precision.compute():.4f}\")\n",
    "print(f\"Test Recall: {model_recall.compute():.4f}\")\n",
    "print(f\"Test F1-score: {model_f1.compute():.4f}\")"
   ]
  },
  {
   "cell_type": "code",
   "execution_count": 17,
   "metadata": {},
   "outputs": [],
   "source": [
    "# # Save Model Parameter\n",
    "# torch.save(model.state_dict(), './models/cexp60_CNN1_vec25sum_91p_weight.pt')"
   ]
  },
  {
   "cell_type": "code",
   "execution_count": 18,
   "metadata": {},
   "outputs": [],
   "source": [
    "# del model"
   ]
  }
 ],
 "metadata": {
  "kernelspec": {
   "display_name": "pytorch-gpu-nlp",
   "language": "python",
   "name": "python3"
  },
  "language_info": {
   "codemirror_mode": {
    "name": "ipython",
    "version": 3
   },
   "file_extension": ".py",
   "mimetype": "text/x-python",
   "name": "python",
   "nbconvert_exporter": "python",
   "pygments_lexer": "ipython3",
   "version": "3.8.15"
  },
  "orig_nbformat": 4
 },
 "nbformat": 4,
 "nbformat_minor": 2
}
