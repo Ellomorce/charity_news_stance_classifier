{
 "cells": [
  {
   "cell_type": "code",
   "execution_count": 61,
   "metadata": {},
   "outputs": [],
   "source": [
    "import numpy as np\n",
    "import matplotlib.pyplot as plt\n",
    "%matplotlib inline\n",
    "import seaborn as sns\n",
    "from sklearn.model_selection import train_test_split, GridSearchCV, cross_val_score, StratifiedKFold\n",
    "from sklearn.metrics import accuracy_score, f1_score, recall_score, precision_score, confusion_matrix, classification_report\n",
    "from sklearn.svm import SVC \n",
    "from imblearn.over_sampling import SMOTE"
   ]
  },
  {
   "cell_type": "code",
   "execution_count": 62,
   "metadata": {},
   "outputs": [],
   "source": [
    "#Define File Path\n",
    "vec20avg_path = \"./vec_data/vec20_avg.npz\"\n",
    "# vec25avg_path = \"./vec_data/vec25_avg.npz\"\n",
    "# vec30avg_path = \"./vec_data/vec30_avg.npz\"\n",
    "# vec35avg_path = \"./vec_data/vec35_avg.npz\"\n",
    "# vec20sum_path = \"./vec_data/vec20_sum.npz\"\n",
    "# vec25sum_path = \"./vec_data/vec25_sum.npz\"\n",
    "# vec30sum_path = \"./vec_data/vec30_sum.npz\"\n",
    "# vec35sum_path = \"./vec_data/vec35_sum.npz\"\n",
    "# bert_path = \"./vec_data/twc_news_vec.npz\"\n",
    "le_stance_labels = \"./vec_data/le_stance_labels.npz\""
   ]
  },
  {
   "cell_type": "code",
   "execution_count": 63,
   "metadata": {},
   "outputs": [],
   "source": [
    "def load_npz_file(filepath):\n",
    "    # Load the numpy array from the .npz file\n",
    "    with np.load(filepath, allow_pickle=True) as data:\n",
    "        for key in data.keys():\n",
    "            arr = data[key]\n",
    "            break\n",
    "    return arr"
   ]
  },
  {
   "cell_type": "code",
   "execution_count": 64,
   "metadata": {},
   "outputs": [],
   "source": [
    "# vec20avg = load_npz_file(vec20avg_path)\n",
    "# vec25avg = load_npz_file(vec25avg_path)\n",
    "# vec30avg = load_npz_file(vec30avg_path)\n",
    "# vec35avg = load_npz_file(vec35avg_path)\n",
    "vec20sum = load_npz_file(vec20sum_path)\n",
    "# vec25sum = load_npz_file(vec25sum_path)\n",
    "# vec30sum = load_npz_file(vec30sum_path)\n",
    "# vec35sum = load_npz_file(vec35sum_path)\n",
    "# bert_vec = load_npz_file(bert_path)\n",
    "le_label = load_npz_file(le_stance_labels)"
   ]
  },
  {
   "cell_type": "code",
   "execution_count": 65,
   "metadata": {},
   "outputs": [],
   "source": [
    "#指派實際要使用的Data與Label\n",
    "# data = vec30sum\n",
    "# data = vec30avg\n",
    "data = vec20sum\n",
    "# data = vec20avg\n",
    "# data = vec25sum\n",
    "# data = vec25avg\n",
    "# data = vec35sum\n",
    "# data = vec35avg\n",
    "# data = bert_vec\n",
    "label = le_label"
   ]
  },
  {
   "cell_type": "code",
   "execution_count": 66,
   "metadata": {},
   "outputs": [
    {
     "name": "stdout",
     "output_type": "stream",
     "text": [
      "(445, 1, 300)\n",
      "(445,)\n",
      "[0 1 2 3]\n",
      "(array([0, 1, 2, 3]), array([ 11, 201,  74, 159], dtype=int64))\n"
     ]
    }
   ],
   "source": [
    "print(data.shape)\n",
    "print(label.shape)\n",
    "print(np.unique(label))\n",
    "print(np.unique(label, return_counts=True))"
   ]
  },
  {
   "cell_type": "code",
   "execution_count": 67,
   "metadata": {},
   "outputs": [],
   "source": [
    "# Data Augmentation using Oversampling\n",
    "# Define the oversampling ratio for each class\n",
    "# oversample_ratio = {0: 100, 1: 201, 2: 120, 3: 159}\n",
    "oversample_ratio = {0: 150, 1: 201, 2: 175, 3: 183}\n",
    "# Initialize the oversampler\n",
    "oversampler = SMOTE(sampling_strategy=oversample_ratio)\n",
    "# Reshape your data to a 2D matrix of shape (n_samples, n_features)\n",
    "X = data.reshape(-1, 300)\n",
    "# Apply oversampling to X and y\n",
    "X_resampled, y_resampled = oversampler.fit_resample(X, label)"
   ]
  },
  {
   "cell_type": "code",
   "execution_count": 68,
   "metadata": {},
   "outputs": [
    {
     "name": "stdout",
     "output_type": "stream",
     "text": [
      "(709, 300)\n",
      "(709,)\n"
     ]
    }
   ],
   "source": [
    "print(X_resampled.shape)\n",
    "print(y_resampled.shape)"
   ]
  },
  {
   "cell_type": "code",
   "execution_count": 69,
   "metadata": {},
   "outputs": [],
   "source": [
    "X_data, test_data, X_labels, test_labels = train_test_split(X_resampled, y_resampled, stratify=y_resampled, test_size=0.1)"
   ]
  },
  {
   "cell_type": "code",
   "execution_count": 70,
   "metadata": {},
   "outputs": [
    {
     "name": "stdout",
     "output_type": "stream",
     "text": [
      "Train data shape: (638, 300)\n",
      "Train labels shape: (638,)\n",
      "Test data shape: (71, 300)\n",
      "Test labels shape: (71,)\n"
     ]
    }
   ],
   "source": [
    "print('Train data shape:', X_data.shape)\n",
    "print('Train labels shape:', X_labels.shape)\n",
    "print('Test data shape:', test_data.shape)\n",
    "print('Test labels shape:', test_labels.shape)"
   ]
  },
  {
   "cell_type": "code",
   "execution_count": 71,
   "metadata": {},
   "outputs": [],
   "source": [
    "# Define the number of folds for k-fold cross-validation\n",
    "num_folds = 5\n",
    "# Initialize the k-fold cross-validator\n",
    "skf = StratifiedKFold(n_splits=num_folds, shuffle=True)\n",
    "\n",
    "# SVC parameters\n",
    "kernels = list(['linear', 'rbf', 'poly', 'sigmoid'])\n",
    "c_range = np.logspace(-2, 2, 5)\n",
    "gammas = list([0.01, 0.05, 0.06, 0.07, 0.08, 0.09, 0.1, 0.5, 1.0])\n",
    "\n",
    "# Metrics reocrds\n",
    "model_ac_list = []\n",
    "model_pc_list = []\n",
    "model_rc_list = []\n",
    "model_f1_list = []"
   ]
  },
  {
   "cell_type": "code",
   "execution_count": 72,
   "metadata": {},
   "outputs": [
    {
     "name": "stdout",
     "output_type": "stream",
     "text": [
      "Fold 1\n",
      "{'C': 0.01, 'gamma': 0.01, 'kernel': 'poly'}\n",
      "Fold 2\n",
      "{'C': 0.01, 'gamma': 0.05, 'kernel': 'poly'}\n",
      "Fold 3\n",
      "{'C': 10.0, 'gamma': 0.01, 'kernel': 'rbf'}\n",
      "Fold 4\n",
      "{'C': 10.0, 'gamma': 0.01, 'kernel': 'rbf'}\n",
      "Fold 5\n",
      "{'C': 10.0, 'gamma': 0.01, 'kernel': 'rbf'}\n"
     ]
    }
   ],
   "source": [
    "for fold, (train_idx, val_idx) in enumerate(skf.split(X_data, X_labels)):\n",
    "    print(f'Fold {fold + 1}')\n",
    "    X_train_fold = X_data[train_idx]\n",
    "    y_train_fold = X_labels[train_idx]\n",
    "    X_val_fold = X_data[val_idx]\n",
    "    y_val_fold = X_labels[val_idx]\n",
    "\n",
    "    grid_clf = SVC()\n",
    "    param_grid = dict(kernel=kernels, C=c_range, gamma=gammas)\n",
    "    grid = GridSearchCV(grid_clf, param_grid, cv=10, n_jobs=-1)\n",
    "    grid.fit(X_train_fold, y_train_fold)\n",
    "    best = grid.best_params_\n",
    "    print(best)\n",
    "\n",
    "    clf = SVC(C=best['C'], gamma=best['gamma'], kernel=best['kernel']) \n",
    "    clf.fit(X_train_fold, y_train_fold)\n",
    "    y_pred = clf.predict(test_data)\n",
    "\n",
    "    ac = accuracy_score(test_labels, y_pred)\n",
    "    pc = precision_score(y_pred, test_labels, average='macro')\n",
    "    rc = recall_score(y_pred, test_labels, average='macro')\n",
    "    f1 = f1_score(y_pred, test_labels, average='macro')\n",
    "    model_ac_list.append(ac)\n",
    "    model_pc_list.append(pc)\n",
    "    model_rc_list.append(rc)\n",
    "    model_f1_list.append(f1)"
   ]
  },
  {
   "cell_type": "code",
   "execution_count": 73,
   "metadata": {},
   "outputs": [],
   "source": [
    "Avg_ac = sum(model_ac_list)/len(model_ac_list)\n",
    "Avg_pc = sum(model_pc_list)/len(model_pc_list)\n",
    "Avg_rc = sum(model_rc_list)/len(model_rc_list)\n",
    "Avg_f1 = sum(model_f1_list)/len(model_f1_list)"
   ]
  },
  {
   "cell_type": "code",
   "execution_count": 74,
   "metadata": {},
   "outputs": [
    {
     "name": "stdout",
     "output_type": "stream",
     "text": [
      "Avg Model Accuracy: 93.80%\n",
      "Avg Model Precision: 94.11%\n",
      "Avg Model Recall: 94.59%\n",
      "Avg Model F1-score: 94.16%\n"
     ]
    }
   ],
   "source": [
    "print('Avg Model Accuracy: {:.2%}'.format(Avg_ac))\n",
    "print('Avg Model Precision: {:.2%}'.format(Avg_pc))\n",
    "print('Avg Model Recall: {:.2%}'.format(Avg_rc))\n",
    "print('Avg Model F1-score: {:.2%}'.format(Avg_f1))"
   ]
  },
  {
   "cell_type": "code",
   "execution_count": 75,
   "metadata": {},
   "outputs": [
    {
     "data": {
      "text/plain": [
       "<AxesSubplot: >"
      ]
     },
     "execution_count": 75,
     "metadata": {},
     "output_type": "execute_result"
    },
    {
     "data": {
      "image/png": "[encoded data removed]",
      "text/plain": [
       "<Figure size 640x480 with 2 Axes>"
      ]
     },
     "metadata": {},
     "output_type": "display_data"
    }
   ],
   "source": [
    "cf_matrix = confusion_matrix(y_pred, test_labels)\n",
    "sns.heatmap((cf_matrix / np.sum(cf_matrix)*100), annot = True, fmt=\".2f\", cmap=\"Blues\")"
   ]
  }
 ],
 "metadata": {
  "kernelspec": {
   "display_name": "pytorch-gpu-nlp",
   "language": "python",
   "name": "python3"
  },
  "language_info": {
   "codemirror_mode": {
    "name": "ipython",
    "version": 3
   },
   "file_extension": ".py",
   "mimetype": "text/x-python",
   "name": "python",
   "nbconvert_exporter": "python",
   "pygments_lexer": "ipython3",
   "version": "3.8.15"
  },
  "orig_nbformat": 4
 },
 "nbformat": 4,
 "nbformat_minor": 2
}
