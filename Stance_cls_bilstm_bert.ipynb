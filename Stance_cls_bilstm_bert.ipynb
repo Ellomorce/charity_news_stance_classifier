{
 "cells": [
  {
   "cell_type": "code",
   "execution_count": 20,
   "metadata": {},
   "outputs": [],
   "source": [
    "import numpy as np\n",
    "import torch\n",
    "import torch.nn as nn\n",
    "import torch.optim as optim\n",
    "import torch.nn.functional as F\n",
    "from sklearn.model_selection import StratifiedKFold, train_test_split\n",
    "from imblearn.over_sampling import SMOTE\n",
    "from torch.utils.data import TensorDataset, DataLoader\n",
    "import matplotlib.pyplot as plt\n",
    "from torchmetrics.classification import MulticlassF1Score, MulticlassAccuracy, MulticlassPrecision, MulticlassRecall\n",
    "from itertools import zip_longest\n",
    "import thesis_models"
   ]
  },
  {
   "cell_type": "code",
   "execution_count": 21,
   "metadata": {},
   "outputs": [],
   "source": [
    "#Define File Path\n",
    "bert_path = \"./vec_data/twc_news_vec.npz\"\n",
    "le_stance_labels = \"./vec_data/le_stance_labels.npz\""
   ]
  },
  {
   "cell_type": "code",
   "execution_count": 22,
   "metadata": {},
   "outputs": [],
   "source": [
    "def load_npz_file(filepath):\n",
    "    # Load the numpy array from the .npz file\n",
    "    with np.load(filepath, allow_pickle=True) as data:\n",
    "        for key in data.keys():\n",
    "            arr = data[key]\n",
    "            break\n",
    "    return arr"
   ]
  },
  {
   "cell_type": "code",
   "execution_count": 23,
   "metadata": {},
   "outputs": [],
   "source": [
    "bert_vec = load_npz_file(bert_path)\n",
    "le_label = load_npz_file(le_stance_labels)"
   ]
  },
  {
   "cell_type": "code",
   "execution_count": 24,
   "metadata": {},
   "outputs": [],
   "source": [
    "#指派實際要使用的Data與Label\n",
    "data = bert_vec\n",
    "label = le_label"
   ]
  },
  {
   "cell_type": "code",
   "execution_count": 25,
   "metadata": {},
   "outputs": [
    {
     "name": "stdout",
     "output_type": "stream",
     "text": [
      "(445, 768)\n",
      "(445,)\n",
      "[0 1 2 3]\n",
      "(array([0, 1, 2, 3]), array([ 11, 201,  74, 159], dtype=int64))\n"
     ]
    }
   ],
   "source": [
    "print(data.shape)\n",
    "print(label.shape)\n",
    "print(np.unique(label))\n",
    "print(np.unique(label, return_counts=True))"
   ]
  },
  {
   "cell_type": "code",
   "execution_count": 26,
   "metadata": {},
   "outputs": [],
   "source": [
    "# Data Augmentation using Oversampling\n",
    "# Define the oversampling ratio for each class\n",
    "# oversample_ratio = {0: 100, 1: 201, 2: 120, 3: 159}\n",
    "oversample_ratio = {0: 150, 1: 201, 2: 175, 3: 183}\n",
    "# Initialize the oversampler\n",
    "oversampler = SMOTE(sampling_strategy=oversample_ratio)\n",
    "# Reshape your data to a 2D matrix of shape (n_samples, n_features)\n",
    "X = data.reshape(-1, 768)\n",
    "# Apply oversampling to X and y\n",
    "X_resampled, y_resampled = oversampler.fit_resample(X, label)\n",
    "# Reshape X back to its original shape\n",
    "X_resampled = X_resampled.reshape(-1, 1, 768)"
   ]
  },
  {
   "cell_type": "code",
   "execution_count": 27,
   "metadata": {},
   "outputs": [
    {
     "name": "stdout",
     "output_type": "stream",
     "text": [
      "(709, 1, 768)\n",
      "(709,)\n"
     ]
    }
   ],
   "source": [
    "print(X_resampled.shape)\n",
    "print(y_resampled.shape)"
   ]
  },
  {
   "cell_type": "code",
   "execution_count": 28,
   "metadata": {},
   "outputs": [],
   "source": [
    "X_data, test_data, X_labels, test_labels = train_test_split(X_resampled, y_resampled, stratify=y_resampled, test_size=0.1)"
   ]
  },
  {
   "cell_type": "code",
   "execution_count": 29,
   "metadata": {},
   "outputs": [
    {
     "name": "stdout",
     "output_type": "stream",
     "text": [
      "Train data shape: (638, 1, 768)\n",
      "Train labels shape: (638,)\n",
      "Test data shape: (71, 1, 768)\n",
      "Test labels shape: (71,)\n"
     ]
    }
   ],
   "source": [
    "print('Train data shape:', X_data.shape)\n",
    "print('Train labels shape:', X_labels.shape)\n",
    "print('Test data shape:', test_data.shape)\n",
    "print('Test labels shape:', test_labels.shape)"
   ]
  },
  {
   "cell_type": "code",
   "execution_count": 30,
   "metadata": {},
   "outputs": [],
   "source": [
    "X_tensor = torch.from_numpy(X_data).float()\n",
    "y_tensor = torch.from_numpy(X_labels).long()\n",
    "test_data_tensor = torch.from_numpy(test_data).float()\n",
    "test_labels_tensor = torch.from_numpy(test_labels).long()\n",
    "test_dataset = TensorDataset(test_data_tensor, test_labels_tensor)\n",
    "test_loader = DataLoader(test_dataset, batch_size=16, shuffle=False)"
   ]
  },
  {
   "cell_type": "code",
   "execution_count": 31,
   "metadata": {},
   "outputs": [],
   "source": [
    "# Trainging Settings\n",
    "input_size = 768  # Size of input vector\n",
    "hidden_size = 256  # Number of features in the hidden state\n",
    "num_layers = 2  # Number of LSTM layers\n",
    "output_size = 4  # Number of output classes\n",
    "learning_rate = 0.0008\n",
    "device = torch.device(\"cuda\" if torch.cuda.is_available() else \"cpu\")\n",
    "\n",
    "# Define the loss function and optimizer\n",
    "criterion = nn.CrossEntropyLoss()\n",
    "\n",
    "# Epochs and records\n",
    "num_epochs = 30\n",
    "train_losses_list = []\n",
    "val_losses_list = []\n",
    "train_accuracies_list = []\n",
    "val_accuracies_list = []\n",
    "\n",
    "# # torchmetrcis settings\n",
    "model_accuracy = MulticlassAccuracy(num_classes=4, average='macro').to(device)\n",
    "model_precision = MulticlassPrecision(num_classes=4, average='macro').to(device)\n",
    "model_recall = MulticlassRecall(num_classes=4, average='macro').to(device)\n",
    "model_f1 = MulticlassF1Score(num_classes=4, average='macro').to(device)\n",
    "\n",
    "# Define the number of folds for k-fold cross-validation\n",
    "num_folds = 5\n",
    "# Initialize the k-fold cross-validator\n",
    "skf = StratifiedKFold(n_splits=num_folds, shuffle=True)"
   ]
  },
  {
   "cell_type": "code",
   "execution_count": 32,
   "metadata": {},
   "outputs": [
    {
     "name": "stdout",
     "output_type": "stream",
     "text": [
      "Fold 1\n",
      "Epoch: 0 \tTrain Loss: 1.393716 \tTrain Accuracy: 22.35% \tVal Loss: 1.378500 \tVal Accuracy: 23.44%\n",
      "Epoch: 1 \tTrain Loss: 1.376341 \tTrain Accuracy: 27.45% \tVal Loss: 1.353130 \tVal Accuracy: 36.72%\n",
      "Epoch: 2 \tTrain Loss: 1.281865 \tTrain Accuracy: 35.49% \tVal Loss: 1.145930 \tVal Accuracy: 40.62%\n",
      "Epoch: 3 \tTrain Loss: 1.177461 \tTrain Accuracy: 40.78% \tVal Loss: 1.100325 \tVal Accuracy: 43.75%\n",
      "Epoch: 4 \tTrain Loss: 1.141998 \tTrain Accuracy: 39.22% \tVal Loss: 1.085629 \tVal Accuracy: 41.41%\n",
      "Epoch: 5 \tTrain Loss: 1.073361 \tTrain Accuracy: 46.08% \tVal Loss: 0.999893 \tVal Accuracy: 43.75%\n",
      "Epoch: 6 \tTrain Loss: 0.998673 \tTrain Accuracy: 48.04% \tVal Loss: 1.000999 \tVal Accuracy: 42.97%\n",
      "Early stopping at epoch 6\n",
      "Fold 2\n",
      "Epoch: 0 \tTrain Loss: 1.387118 \tTrain Accuracy: 27.65% \tVal Loss: 1.372234 \tVal Accuracy: 33.59%\n",
      "Epoch: 1 \tTrain Loss: 1.363146 \tTrain Accuracy: 29.80% \tVal Loss: 1.334786 \tVal Accuracy: 32.03%\n",
      "Epoch: 2 \tTrain Loss: 1.241289 \tTrain Accuracy: 40.00% \tVal Loss: 1.110443 \tVal Accuracy: 47.66%\n",
      "Epoch: 3 \tTrain Loss: 1.106353 \tTrain Accuracy: 45.49% \tVal Loss: 1.016708 \tVal Accuracy: 50.78%\n",
      "Epoch: 4 \tTrain Loss: 1.034769 \tTrain Accuracy: 46.08% \tVal Loss: 1.146876 \tVal Accuracy: 39.06%\n",
      "Epoch: 5 \tTrain Loss: 0.994688 \tTrain Accuracy: 47.84% \tVal Loss: 1.070345 \tVal Accuracy: 46.09%\n",
      "Epoch: 6 \tTrain Loss: 0.995905 \tTrain Accuracy: 49.22% \tVal Loss: 0.961805 \tVal Accuracy: 53.12%\n",
      "Epoch: 7 \tTrain Loss: 0.951795 \tTrain Accuracy: 53.33% \tVal Loss: 1.094222 \tVal Accuracy: 44.53%\n",
      "Epoch: 8 \tTrain Loss: 0.899890 \tTrain Accuracy: 53.33% \tVal Loss: 0.939420 \tVal Accuracy: 56.25%\n",
      "Epoch: 9 \tTrain Loss: 0.859100 \tTrain Accuracy: 58.04% \tVal Loss: 0.970619 \tVal Accuracy: 52.34%\n",
      "Epoch: 10 \tTrain Loss: 0.871380 \tTrain Accuracy: 57.65% \tVal Loss: 0.946290 \tVal Accuracy: 53.12%\n",
      "Epoch: 11 \tTrain Loss: 0.827747 \tTrain Accuracy: 59.61% \tVal Loss: 0.883023 \tVal Accuracy: 58.59%\n",
      "Epoch: 12 \tTrain Loss: 0.826735 \tTrain Accuracy: 59.22% \tVal Loss: 0.939100 \tVal Accuracy: 56.25%\n",
      "Epoch: 13 \tTrain Loss: 0.924983 \tTrain Accuracy: 56.86% \tVal Loss: 1.165447 \tVal Accuracy: 42.97%\n",
      "Epoch: 14 \tTrain Loss: 0.809199 \tTrain Accuracy: 61.96% \tVal Loss: 0.890528 \tVal Accuracy: 57.81%\n",
      "Early stopping at epoch 14\n",
      "Fold 3\n",
      "Epoch: 0 \tTrain Loss: 1.388279 \tTrain Accuracy: 27.45% \tVal Loss: 1.388427 \tVal Accuracy: 22.66%\n",
      "Epoch: 1 \tTrain Loss: 1.365255 \tTrain Accuracy: 31.76% \tVal Loss: 1.363292 \tVal Accuracy: 29.69%\n",
      "Epoch: 2 \tTrain Loss: 1.256617 \tTrain Accuracy: 36.86% \tVal Loss: 1.244568 \tVal Accuracy: 39.84%\n",
      "Epoch: 3 \tTrain Loss: 1.176936 \tTrain Accuracy: 39.22% \tVal Loss: 1.223561 \tVal Accuracy: 37.50%\n",
      "Epoch: 4 \tTrain Loss: 1.028794 \tTrain Accuracy: 45.29% \tVal Loss: 1.019107 \tVal Accuracy: 42.19%\n",
      "Epoch: 5 \tTrain Loss: 0.994019 \tTrain Accuracy: 49.80% \tVal Loss: 1.176687 \tVal Accuracy: 41.41%\n",
      "Epoch: 6 \tTrain Loss: 0.956486 \tTrain Accuracy: 53.14% \tVal Loss: 1.046230 \tVal Accuracy: 43.75%\n",
      "Epoch: 7 \tTrain Loss: 0.926122 \tTrain Accuracy: 53.53% \tVal Loss: 1.216937 \tVal Accuracy: 41.41%\n",
      "Epoch: 8 \tTrain Loss: 0.886902 \tTrain Accuracy: 52.35% \tVal Loss: 0.899991 \tVal Accuracy: 55.47%\n",
      "Epoch: 9 \tTrain Loss: 0.962520 \tTrain Accuracy: 50.00% \tVal Loss: 1.061947 \tVal Accuracy: 45.31%\n",
      "Epoch: 10 \tTrain Loss: 0.850008 \tTrain Accuracy: 56.08% \tVal Loss: 0.891762 \tVal Accuracy: 55.47%\n",
      "Epoch: 11 \tTrain Loss: 0.785091 \tTrain Accuracy: 62.35% \tVal Loss: 0.811745 \tVal Accuracy: 59.38%\n",
      "Epoch: 12 \tTrain Loss: 0.776807 \tTrain Accuracy: 62.16% \tVal Loss: 0.877098 \tVal Accuracy: 54.69%\n",
      "Epoch: 13 \tTrain Loss: 0.816779 \tTrain Accuracy: 60.00% \tVal Loss: 1.255657 \tVal Accuracy: 39.84%\n",
      "Epoch: 14 \tTrain Loss: 0.867950 \tTrain Accuracy: 61.57% \tVal Loss: 0.812022 \tVal Accuracy: 61.72%\n",
      "Epoch: 15 \tTrain Loss: 0.723120 \tTrain Accuracy: 64.71% \tVal Loss: 0.951183 \tVal Accuracy: 57.81%\n",
      "Epoch: 16 \tTrain Loss: 0.788572 \tTrain Accuracy: 61.18% \tVal Loss: 0.781968 \tVal Accuracy: 59.38%\n",
      "Epoch: 17 \tTrain Loss: 0.676543 \tTrain Accuracy: 68.43% \tVal Loss: 0.959505 \tVal Accuracy: 64.06%\n",
      "Epoch: 18 \tTrain Loss: 0.629210 \tTrain Accuracy: 71.18% \tVal Loss: 0.784285 \tVal Accuracy: 66.41%\n",
      "Epoch: 19 \tTrain Loss: 0.669022 \tTrain Accuracy: 69.80% \tVal Loss: 0.828870 \tVal Accuracy: 65.62%\n",
      "Epoch: 20 \tTrain Loss: 0.669690 \tTrain Accuracy: 65.88% \tVal Loss: 0.902360 \tVal Accuracy: 56.25%\n",
      "Epoch: 21 \tTrain Loss: 0.741686 \tTrain Accuracy: 61.96% \tVal Loss: 0.759759 \tVal Accuracy: 66.41%\n",
      "Early stopping at epoch 21\n",
      "Fold 4\n",
      "Epoch: 0 \tTrain Loss: 1.390693 \tTrain Accuracy: 23.09% \tVal Loss: 1.373030 \tVal Accuracy: 28.35%\n",
      "Epoch: 1 \tTrain Loss: 1.374343 \tTrain Accuracy: 29.94% \tVal Loss: 1.363231 \tVal Accuracy: 25.98%\n",
      "Epoch: 2 \tTrain Loss: 1.340062 \tTrain Accuracy: 32.88% \tVal Loss: 1.258938 \tVal Accuracy: 47.24%\n",
      "Epoch: 3 \tTrain Loss: 1.221219 \tTrain Accuracy: 40.31% \tVal Loss: 1.229150 \tVal Accuracy: 36.22%\n",
      "Epoch: 4 \tTrain Loss: 1.122043 \tTrain Accuracy: 42.27% \tVal Loss: 0.969648 \tVal Accuracy: 52.76%\n",
      "Epoch: 5 \tTrain Loss: 1.038521 \tTrain Accuracy: 47.95% \tVal Loss: 0.920204 \tVal Accuracy: 57.48%\n",
      "Epoch: 6 \tTrain Loss: 0.960275 \tTrain Accuracy: 53.23% \tVal Loss: 0.892176 \tVal Accuracy: 59.84%\n",
      "Epoch: 7 \tTrain Loss: 0.911100 \tTrain Accuracy: 54.01% \tVal Loss: 0.872641 \tVal Accuracy: 50.39%\n",
      "Epoch: 8 \tTrain Loss: 0.877848 \tTrain Accuracy: 60.08% \tVal Loss: 0.873632 \tVal Accuracy: 58.27%\n",
      "Epoch: 9 \tTrain Loss: 0.927201 \tTrain Accuracy: 54.21% \tVal Loss: 0.812270 \tVal Accuracy: 58.27%\n",
      "Early stopping at epoch 9\n",
      "Fold 5\n",
      "Epoch: 0 \tTrain Loss: 1.387973 \tTrain Accuracy: 25.44% \tVal Loss: 1.372832 \tVal Accuracy: 31.50%\n",
      "Epoch: 1 \tTrain Loss: 1.347859 \tTrain Accuracy: 33.86% \tVal Loss: 1.318602 \tVal Accuracy: 34.65%\n",
      "Epoch: 2 \tTrain Loss: 1.252730 \tTrain Accuracy: 37.18% \tVal Loss: 1.149373 \tVal Accuracy: 38.58%\n",
      "Epoch: 3 \tTrain Loss: 1.087526 \tTrain Accuracy: 46.97% \tVal Loss: 1.160580 \tVal Accuracy: 42.52%\n",
      "Epoch: 4 \tTrain Loss: 1.093570 \tTrain Accuracy: 38.55% \tVal Loss: 1.020140 \tVal Accuracy: 48.03%\n",
      "Epoch: 5 \tTrain Loss: 0.980166 \tTrain Accuracy: 51.47% \tVal Loss: 0.967363 \tVal Accuracy: 51.18%\n",
      "Epoch: 6 \tTrain Loss: 0.950115 \tTrain Accuracy: 51.08% \tVal Loss: 0.951359 \tVal Accuracy: 54.33%\n",
      "Epoch: 7 \tTrain Loss: 0.901928 \tTrain Accuracy: 55.58% \tVal Loss: 1.090243 \tVal Accuracy: 45.67%\n",
      "Epoch: 8 \tTrain Loss: 1.011392 \tTrain Accuracy: 52.25% \tVal Loss: 0.936681 \tVal Accuracy: 49.61%\n",
      "Epoch: 9 \tTrain Loss: 0.883173 \tTrain Accuracy: 56.75% \tVal Loss: 0.939004 \tVal Accuracy: 56.69%\n",
      "Epoch: 10 \tTrain Loss: 0.884722 \tTrain Accuracy: 56.95% \tVal Loss: 0.994991 \tVal Accuracy: 48.82%\n",
      "Epoch: 11 \tTrain Loss: 0.831329 \tTrain Accuracy: 59.30% \tVal Loss: 0.923676 \tVal Accuracy: 60.63%\n",
      "Epoch: 12 \tTrain Loss: 0.809140 \tTrain Accuracy: 60.86% \tVal Loss: 0.865023 \tVal Accuracy: 62.99%\n",
      "Epoch: 13 \tTrain Loss: 0.782842 \tTrain Accuracy: 63.60% \tVal Loss: 0.913973 \tVal Accuracy: 52.76%\n",
      "Epoch: 14 \tTrain Loss: 0.717159 \tTrain Accuracy: 66.14% \tVal Loss: 0.895160 \tVal Accuracy: 56.69%\n",
      "Epoch: 15 \tTrain Loss: 0.697715 \tTrain Accuracy: 68.30% \tVal Loss: 0.898364 \tVal Accuracy: 62.20%\n",
      "Early stopping at epoch 15\n"
     ]
    }
   ],
   "source": [
    "for fold, (train_idx, val_idx) in enumerate(skf.split(X_tensor, y_tensor)):\n",
    "    print(f'Fold {fold + 1}')\n",
    "    X_train_fold = X_tensor[train_idx]\n",
    "    y_train_fold = y_tensor[train_idx]\n",
    "    X_val_fold = X_tensor[val_idx]\n",
    "    y_val_fold = y_tensor[val_idx]\n",
    "\n",
    "    # Create PyTorch DataLoader for training and validation\n",
    "    train_data = TensorDataset(X_train_fold, y_train_fold)\n",
    "    val_data = TensorDataset(X_val_fold, y_val_fold)\n",
    "    train_loader = DataLoader(train_data, batch_size=16, shuffle=True)\n",
    "    val_loader = DataLoader(val_data, batch_size=16, shuffle=False)\n",
    "\n",
    "    # Initialize the reocrd lists for this fold\n",
    "    train_losses = []\n",
    "    val_losses = []\n",
    "    train_accuracies = []\n",
    "    val_accuracies = []\n",
    "\n",
    "    # Early Stopping Settings\n",
    "    patience = 3\n",
    "    counter = 0\n",
    "    best_val_accuracy = 0.0\n",
    "\n",
    "    # Instantiate the model\n",
    "    model = thesis_models.LSTM_2(input_size, hidden_size, num_layers, output_size, True)\n",
    "    model.to(device)\n",
    "    optimizer = optim.AdamW(model.parameters(), lr=learning_rate)\n",
    "\n",
    "    for epoch in range(num_epochs):\n",
    "      model.train()\n",
    "      train_loss = 0.0\n",
    "      train_correct = 0\n",
    "      for batch_idx, (data, target) in enumerate(train_loader):\n",
    "        optimizer.zero_grad()\n",
    "        data = data.to(device)\n",
    "        target = target.to(device)\n",
    "        output = model(data)\n",
    "        loss = criterion(output, target)\n",
    "        loss.backward()\n",
    "        optimizer.step()\n",
    "        train_loss += loss.item()\n",
    "        _, predicted = torch.max(output.data, 1)\n",
    "        train_correct += (predicted == target.squeeze().long()).sum().item()\n",
    "      train_loss /= len(train_loader)\n",
    "      train_accuracy = 100.0 * train_correct / len(train_data)\n",
    "      train_losses.append(train_loss)\n",
    "      train_accuracies.append(train_accuracy)\n",
    "\n",
    "      # Evaluate the model on the validation set\n",
    "      model.eval()\n",
    "      val_loss = 0.0\n",
    "      val_correct = 0\n",
    "      with torch.no_grad():\n",
    "        for batch_idx, (data, target) in enumerate(val_loader):\n",
    "          data = data.to(device)\n",
    "          target = target.to(device)\n",
    "          output = model(data)\n",
    "          loss = criterion(output, target)\n",
    "          val_loss += loss.item()\n",
    "          _, predicted = torch.max(output.data, 1)\n",
    "          val_correct += (predicted == target.squeeze().long()).sum().item()\n",
    "      val_loss /= len(val_loader)\n",
    "      val_accuracy = 100.0 * val_correct / len(val_data)\n",
    "      val_losses.append(val_loss)\n",
    "      val_accuracies.append(val_accuracy)\n",
    "\n",
    "      print('Epoch: {} \\tTrain Loss: {:.6f} \\tTrain Accuracy: {:.2f}% \\tVal Loss: {:.6f} \\tVal Accuracy: {:.2f}%'.format(\n",
    "          epoch, train_loss, train_accuracy, val_loss, val_accuracy))\n",
    "      \n",
    "      if val_accuracy > best_val_accuracy:\n",
    "        best_val_accuracy = val_accuracy\n",
    "        counter = 0\n",
    "      else:\n",
    "        counter += 1\n",
    "        if counter >= patience:\n",
    "          print(\"Early stopping at epoch\", epoch)\n",
    "          break\n",
    "        \n",
    "    # Append the lists for this fold to the corresponding list for all folds\n",
    "    train_losses_list.append(train_losses)\n",
    "    val_losses_list.append(val_losses)\n",
    "    train_accuracies_list.append(train_accuracies)\n",
    "    val_accuracies_list.append(val_accuracies)"
   ]
  },
  {
   "cell_type": "code",
   "execution_count": 33,
   "metadata": {},
   "outputs": [],
   "source": [
    "avg_train_losses = [sum(filter(lambda x: x is not None, items))/len(list(filter(lambda x: x is not None, items))) for items in zip_longest(*train_losses_list)]\n",
    "avg_val_losses = [sum(filter(lambda x: x is not None, items))/len(list(filter(lambda x: x is not None, items))) for items in zip_longest(*val_losses_list)]\n",
    "avg_train_accuracies = [sum(filter(lambda x: x is not None, items))/len(list(filter(lambda x: x is not None, items))) for items in zip_longest(*train_accuracies_list)]\n",
    "avg_val_accuracies = [sum(filter(lambda x: x is not None, items))/len(list(filter(lambda x: x is not None, items))) for items in zip_longest(*val_accuracies_list)]"
   ]
  },
  {
   "cell_type": "code",
   "execution_count": 34,
   "metadata": {},
   "outputs": [
    {
     "data": {
      "image/png": "[encoded data removed]",
      "text/plain": [
       "<Figure size 1000x500 with 2 Axes>"
      ]
     },
     "metadata": {},
     "output_type": "display_data"
    }
   ],
   "source": [
    "# Plot the train and test accuracy and loss\n",
    "fig, (ax1, ax2) = plt.subplots(1, 2, figsize=(10, 5))\n",
    "\n",
    "ax1.plot(avg_train_accuracies, label='Train')\n",
    "ax1.plot(avg_val_accuracies, label='Test')\n",
    "ax1.set_title('Accuracy')\n",
    "ax1.set_xlabel('Epoch')\n",
    "ax1.set_ylabel('Accuracy')\n",
    "ax1.legend()\n",
    "\n",
    "ax2.plot(avg_train_losses, label='Train')\n",
    "ax2.plot(avg_val_losses, label='Test')\n",
    "ax2.set_title('Loss')\n",
    "ax2.set_xlabel('Epoch')\n",
    "ax2.set_ylabel('Loss')\n",
    "ax2.legend()\n",
    "\n",
    "plt.tight_layout()\n",
    "# plt.savefig('./Traininglog_pic/lexp_vec20_sum_LSTM2_230505.PNG', dpi=300)\n",
    "plt.show()"
   ]
  },
  {
   "cell_type": "code",
   "execution_count": 35,
   "metadata": {},
   "outputs": [
    {
     "name": "stdout",
     "output_type": "stream",
     "text": [
      "Test Accuracy: 0.6569\n",
      "Test Precision: 0.6883\n",
      "Test Recall: 0.6569\n",
      "Test F1-score: 0.6682\n"
     ]
    }
   ],
   "source": [
    "# 測試模型\n",
    "model.eval()\n",
    "test_correct = 0\n",
    "model_accuracy.reset()\n",
    "model_precision.reset()\n",
    "model_recall.reset()\n",
    "model_f1.reset()\n",
    "\n",
    "with torch.no_grad():\n",
    "  for batch_idx, (data, target) in enumerate(test_loader):\n",
    "    data = data.to(device)\n",
    "    target = target.to(device)\n",
    "    output = model(data)\n",
    "    _, predicted = torch.max(output.data, 1)\n",
    "    model_accuracy(predicted, target.squeeze().long())\n",
    "    model_precision(predicted, target.squeeze().long())\n",
    "    model_recall(predicted, target.squeeze().long())\n",
    "    model_f1(predicted, target.squeeze().long())\n",
    "print(f\"Test Accuracy: {model_accuracy.compute():.4f}\")\n",
    "print(f\"Test Precision: {model_precision.compute():.4f}\")\n",
    "print(f\"Test Recall: {model_recall.compute():.4f}\")\n",
    "print(f\"Test F1-score: {model_f1.compute():.4f}\")"
   ]
  },
  {
   "cell_type": "code",
   "execution_count": 36,
   "metadata": {},
   "outputs": [],
   "source": [
    "# #Save Model Parameter\n",
    "# torch.save(model.state_dict(), './models/lexp_LSTM2_vec20sum_90p_weight.pt')"
   ]
  },
  {
   "cell_type": "code",
   "execution_count": 37,
   "metadata": {},
   "outputs": [],
   "source": [
    "# del model"
   ]
  }
 ],
 "metadata": {
  "kernelspec": {
   "display_name": "pytorch-gpu-nlp",
   "language": "python",
   "name": "python3"
  },
  "language_info": {
   "codemirror_mode": {
    "name": "ipython",
    "version": 3
   },
   "file_extension": ".py",
   "mimetype": "text/x-python",
   "name": "python",
   "nbconvert_exporter": "python",
   "pygments_lexer": "ipython3",
   "version": "3.8.15"
  },
  "orig_nbformat": 4
 },
 "nbformat": 4,
 "nbformat_minor": 2
}
