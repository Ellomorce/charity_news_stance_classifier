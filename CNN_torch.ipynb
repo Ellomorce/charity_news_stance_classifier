{
  "cells": [
    {
      "cell_type": "code",
      "execution_count": null,
      "metadata": {
        "id": "HSJDsz0uO32v"
      },
      "outputs": [],
      "source": [
        "import numpy as np\n",
        "import pandas as pd\n",
        "import torch\n",
        "import torch.nn as nn\n",
        "import torch.optim as optim\n",
        "import torch.nn.functional as F\n",
        "from sklearn.model_selection import train_test_split\n",
        "from sklearn.metrics import accuracy_score\n",
        "from imblearn.over_sampling import RandomOverSampler\n",
        "from torch.utils.data import TensorDataset, DataLoader\n",
        "import matplotlib.pyplot as plt\n",
        "import os\n",
        "os.environ['CUDA_LAUNCH_BLOCKING'] = \"1\"\n",
        "from tqdm import tqdm"
      ]
    },
    {
      "cell_type": "code",
      "execution_count": null,
      "metadata": {
        "colab": {
          "base_uri": "https://localhost:8080/"
        },
        "id": "3SqFT8ytO_ob",
        "outputId": "c81c5e25-773d-44ca-b2b4-21e27a0e75ae"
      },
      "outputs": [
        {
          "name": "stdout",
          "output_type": "stream",
          "text": [
            "2.0.0+cu118\n"
          ]
        }
      ],
      "source": [
        "print(torch.__version__)"
      ]
    },
    {
      "cell_type": "code",
      "execution_count": null,
      "metadata": {
        "colab": {
          "base_uri": "https://localhost:8080/"
        },
        "id": "dBcJRmv4PBKE",
        "outputId": "577998ad-5808-4990-e2eb-562f0927131b"
      },
      "outputs": [
        {
          "name": "stdout",
          "output_type": "stream",
          "text": [
            "Mounted at /content/drive\n"
          ]
        }
      ],
      "source": [
        "from google.colab import drive\n",
        "drive.mount('/content/drive')"
      ]
    },
    {
      "cell_type": "code",
      "execution_count": null,
      "metadata": {
        "id": "UvjEoMUkPCxH"
      },
      "outputs": [],
      "source": [
        "#Define File Path\n",
        "# vec20avg_path = \"/content/drive/MyDrive/Co-working /Thesis/vec_data/vec20_avg.npz\"\n",
        "# vec25avg_path = \"/content/drive/MyDrive/Co-working /Thesis/vec_data/vec25_avg.npz\"\n",
        "vec30avg_path = \"/content/drive/MyDrive/Co-working/Thesis/vec_data/vec30_avg.npz\"\n",
        "# vec35avg_path = \"/content/drive/MyDrive/Co-working /Thesis/vec_data/vec35_avg.npz\"\n",
        "# vec20sum_path = \"/content/drive/MyDrive/Co-working /Thesis/vec_data/vec20_sum.npz\"\n",
        "# vec20sum_path = \"/content/drive/MyDrive/Co-working /Thesis/vec_data/vec20_sum.npz\"\n",
        "# vec25sum_path = \"/content/drive/MyDrive/Co-working /Thesis/vec_data/vec25_sum.npz\"\n",
        "vec30sum_path = \"/content/drive/MyDrive/Co-working/Thesis/vec_data/vec30_sum.npz\"\n",
        "# vec35sum_path = \"/content/drive/MyDrive/Co-working /Thesis/vec_data/vec35_sum.npz\"\n",
        "freq_stance_labels = \"/content/drive/MyDrive/Co-working/Thesis/vec_data/freq_stance_labels.npz\"\n",
        "oh_stance_labels = \"/content/drive/MyDrive/Co-working/Thesis/vec_data/oh_stance_labels.npz\"\n",
        "le_stance_labels = \"/content/drive/MyDrive/Co-working/Thesis/vec_data/le_stance_labels.npz\""
      ]
    },
    {
      "cell_type": "code",
      "execution_count": null,
      "metadata": {
        "id": "YwyIM8IrPEpL"
      },
      "outputs": [],
      "source": [
        "def load_npz_file(filepath):\n",
        "    # Load the numpy array from the .npz file\n",
        "    with np.load(filepath, allow_pickle=True) as data:\n",
        "        for key in data.keys():\n",
        "            arr = data[key]\n",
        "            break\n",
        "    return arr"
      ]
    },
    {
      "cell_type": "code",
      "execution_count": null,
      "metadata": {
        "id": "fCiAOnl0PGcB"
      },
      "outputs": [],
      "source": [
        "# vec20avg = load_npz_file(vec20avg_path)\n",
        "# vec25avg = load_npz_file(vec25avg_path)\n",
        "vec30avg = load_npz_file(vec30avg_path)\n",
        "# vec35avg = load_npz_file(vec35avg_path)\n",
        "# vec20sum = load_npz_file(vec20sum_path)\n",
        "# vec20sum = load_npz_file(vec20sum_path)\n",
        "# vec25sum = load_npz_file(vec25sum_path)\n",
        "vec30sum = load_npz_file(vec30sum_path)\n",
        "# vec35sum = load_npz_file(vec35sum_path)\n",
        "freq_label = load_npz_file(freq_stance_labels)\n",
        "oh_label = load_npz_file(oh_stance_labels)\n",
        "le_label = load_npz_file(le_stance_labels)"
      ]
    },
    {
      "cell_type": "code",
      "execution_count": null,
      "metadata": {
        "id": "-7g4vY4HRXPx"
      },
      "outputs": [],
      "source": [
        "#指派實際要使用的Data與Label\n",
        "# data = vec30avg\n",
        "data = vec30sum\n",
        "# label = np.argmax(oh_label, axis=1)\n",
        "# label = oh_label\n",
        "# label = freq_label\n",
        "label = le_label"
      ]
    },
    {
      "cell_type": "code",
      "execution_count": null,
      "metadata": {
        "colab": {
          "base_uri": "https://localhost:8080/"
        },
        "id": "mv5tswk6fKtU",
        "outputId": "e0add87b-38fb-478c-ce7e-0db5ca80f5c1"
      },
      "outputs": [
        {
          "name": "stdout",
          "output_type": "stream",
          "text": [
            "(445, 1, 300)\n",
            "(445,)\n",
            "[0 1 2 3]\n",
            "(array([0, 1, 2, 3], dtype=int32), array([ 11, 188,  87, 159]))\n"
          ]
        }
      ],
      "source": [
        "print(data.shape)\n",
        "print(label.shape)\n",
        "print(np.unique(label))\n",
        "print(np.unique(label, return_counts=True))"
      ]
    },
    {
      "cell_type": "code",
      "execution_count": null,
      "metadata": {
        "id": "Td8S10rGu0PM"
      },
      "outputs": [],
      "source": [
        "# Data Augmentation using Oversampling\n",
        "# Define the oversampling ratio for each class\n",
        "oversample_ratio = {0: 120, 1: 188, 2: 150, 3: 159}\n",
        "# Initialize the oversampler\n",
        "oversampler = RandomOverSampler(sampling_strategy=oversample_ratio)\n",
        "# Reshape your data to a 2D matrix of shape (n_samples, n_features)\n",
        "X = data.reshape(-1, 300)\n",
        "# Apply oversampling to X and y\n",
        "X_resampled, y_resampled = oversampler.fit_resample(X, label)\n",
        "# Reshape X back to its original shape\n",
        "X_resampled = X_resampled.reshape(-1, 1, 300)"
      ]
    },
    {
      "cell_type": "code",
      "execution_count": null,
      "metadata": {
        "id": "neH3Z4lL1NWM"
      },
      "outputs": [],
      "source": [
        "# print(X_resampled.shape)\n",
        "# print(X_resampled)"
      ]
    },
    {
      "cell_type": "code",
      "execution_count": null,
      "metadata": {
        "id": "7j2cnLK91bDg"
      },
      "outputs": [],
      "source": [
        "# print(y_resampled.shape)\n",
        "# print(y_resampled)"
      ]
    },
    {
      "cell_type": "code",
      "execution_count": null,
      "metadata": {
        "id": "1LtuE3xUfIsw"
      },
      "outputs": [],
      "source": [
        "# Create Label weights used in the Pytorch Loss Function\n",
        "# Max(np.unique(label)/Label counts for every idx\n",
        "# weights = [17.09, 1.0, 2.16, 1.18]\n",
        "# Because My Dataset is extremely imbalanced, so we need to use weight on Loss Function.\n",
        "# https://discuss.pytorch.org/t/dealing-with-imbalanced-datasets-in-pytorch/22596\n",
        "# https://discuss.pytorch.org/t/what-is-the-weight-values-mean-in-torch-nn-crossentropyloss/11455/10\n",
        "# https://pytorch.org/docs/stable/generated/torch.nn.CrossEntropyLoss.html"
      ]
    },
    {
      "cell_type": "code",
      "execution_count": null,
      "metadata": {
        "colab": {
          "base_uri": "https://localhost:8080/"
        },
        "id": "a55-MfqoWNMz",
        "outputId": "212a6854-003d-448d-f0da-1b1940a82223"
      },
      "outputs": [
        {
          "name": "stdout",
          "output_type": "stream",
          "text": [
            "Train data shape: (431, 1, 300)\n",
            "Train labels shape: (431,)\n",
            "Test data shape: (186, 1, 300)\n",
            "Test labels shape: (186,)\n"
          ]
        }
      ],
      "source": [
        "# Using original data\n",
        "# train_data, test_data, train_labels, test_labels = train_test_split(data, label, test_size=0.2)\n",
        "# Using oversampling data\n",
        "train_data, test_data, train_labels, test_labels = train_test_split(X_resampled, y_resampled, test_size=0.3)\n",
        "print('Train data shape:', train_data.shape)\n",
        "print('Train labels shape:', train_labels.shape)\n",
        "print('Test data shape:', test_data.shape)\n",
        "print('Test labels shape:', test_labels.shape)"
      ]
    },
    {
      "cell_type": "markdown",
      "metadata": {
        "id": "SEpUdj0QLrKF"
      },
      "source": [
        "### Note\n",
        "注意:資料集不平衡!!\n",
        "+ Hostile: 11\n",
        "+ Proactive: 87\n",
        "+ Neutral: 159\n",
        "+ Unrelated: 188"
      ]
    },
    {
      "cell_type": "code",
      "execution_count": null,
      "metadata": {
        "id": "2svkowiBXjci"
      },
      "outputs": [],
      "source": [
        "# Convert the data and labels to PyTorch tensors\n",
        "train_data_tensor = torch.from_numpy(train_data).float()\n",
        "train_labels_tensor = torch.from_numpy(train_labels).long()\n",
        "test_data_tensor = torch.from_numpy(test_data).float()\n",
        "test_labels_tensor = torch.from_numpy(test_labels).long()"
      ]
    },
    {
      "cell_type": "code",
      "execution_count": null,
      "metadata": {
        "colab": {
          "base_uri": "https://localhost:8080/"
        },
        "id": "0hvXAZFHqTPt",
        "outputId": "b36199e2-4fe1-4f40-bf15-a32be317f619"
      },
      "outputs": [
        {
          "name": "stdout",
          "output_type": "stream",
          "text": [
            "torch.Size([431, 1, 300])\n",
            "torch.Size([186, 1, 300])\n",
            "torch.Size([431])\n",
            "torch.Size([186])\n"
          ]
        }
      ],
      "source": [
        "print(train_data_tensor.shape)\n",
        "print(test_data_tensor.shape)\n",
        "print(train_labels_tensor.shape)\n",
        "print(test_labels_tensor.shape)"
      ]
    },
    {
      "cell_type": "code",
      "execution_count": null,
      "metadata": {
        "id": "CX77TLMrXm1n"
      },
      "outputs": [],
      "source": [
        "# Create a TensorDataset for each set of data and labels\n",
        "train_dataset = TensorDataset(train_data_tensor, train_labels_tensor)\n",
        "test_dataset = TensorDataset(test_data_tensor, test_labels_tensor)"
      ]
    },
    {
      "cell_type": "code",
      "execution_count": null,
      "metadata": {
        "id": "DdXI7GVvXpQE"
      },
      "outputs": [],
      "source": [
        "# Create a DataLoader for each dataset to batch and shuffle the data\n",
        "batch_size = 32\n",
        "train_loader = DataLoader(train_dataset, batch_size=batch_size, shuffle=True)\n",
        "test_loader = DataLoader(test_dataset, batch_size=batch_size, shuffle=False)"
      ]
    },
    {
      "cell_type": "code",
      "execution_count": null,
      "metadata": {
        "id": "u2OqRj8SXxei"
      },
      "outputs": [],
      "source": [
        "# Define the CNN model architecture\n",
        "class CNN(nn.Module):\n",
        "    def __init__(self):\n",
        "        super(CNN, self).__init__()\n",
        "        self.conv1 = nn.Conv1d(in_channels=1, out_channels=128, kernel_size=5)\n",
        "        self.pool1 = nn.MaxPool1d(kernel_size=2)\n",
        "        self.conv2 = nn.Conv1d(in_channels=128, out_channels=64, kernel_size=3)\n",
        "        self.pool2 = nn.MaxPool1d(kernel_size=2)\n",
        "        self.fc1 = nn.Linear(64 * 73, 256)\n",
        "        self.fc2 = nn.Linear(256, 4)\n",
        "\n",
        "    def forward(self, x):\n",
        "        x = self.conv1(x)\n",
        "        x = F.relu(x)\n",
        "        x = self.pool1(x)\n",
        "        x = self.conv2(x)\n",
        "        x = F.relu(x)\n",
        "        x = self.pool2(x)\n",
        "        print(x.shape)\n",
        "        x = x.view(-1, 64 * 73)\n",
        "        x = self.fc1(x)\n",
        "        x = F.relu(x)\n",
        "        x = self.fc2(x)\n",
        "        return x"
      ]
    },
    {
      "cell_type": "code",
      "execution_count": null,
      "metadata": {
        "id": "g63AzXK9X7tW"
      },
      "outputs": [],
      "source": [
        "# Trainging Settings\n",
        "num_classes = 4\n",
        "model = CNN()\n",
        "device = torch.device(\"cuda\" if torch.cuda.is_available() else \"cpu\")\n",
        "model.to(device)\n",
        "\n",
        "# Define the loss function and optimizer\n",
        "# Define Loss Function weights\n",
        "# class_weights = torch.FloatTensor(weights).to(device)\n",
        "criterion = nn.CrossEntropyLoss()\n",
        "# criterion = nn.CrossEntropyLoss(weight=class_weights) # Using weight\n",
        "optimizer = optim.Adam(model.parameters(), lr=0.001)\n",
        "\n",
        "# Early Stopping Settings\n",
        "# Define the number of epochs to wait before stopping if the test accuracy does not improve\n",
        "patience = 3\n",
        "# Initialize the counter for the number of epochs without improvement\n",
        "counter = 0\n",
        "# Initialize the best test accuracy to zero\n",
        "best_val_accuracy = 0.0\n",
        "\n",
        "# Epochs and records\n",
        "num_epochs = 20\n",
        "train_losses = []\n",
        "val_losses = []\n",
        "train_accuracies = []\n",
        "val_accuracies = []"
      ]
    },
    {
      "cell_type": "code",
      "execution_count": null,
      "metadata": {
        "colab": {
          "base_uri": "https://localhost:8080/"
        },
        "id": "OQ8lY-UF9vO9",
        "outputId": "430159b6-f147-44cc-e280-8eebb204135b"
      },
      "outputs": [
        {
          "name": "stdout",
          "output_type": "stream",
          "text": [
            "torch.Size([32, 64, 73])\n",
            "torch.Size([32, 64, 73])\n",
            "torch.Size([32, 64, 73])\n",
            "torch.Size([32, 64, 73])\n",
            "torch.Size([32, 64, 73])\n",
            "torch.Size([32, 64, 73])\n",
            "torch.Size([32, 64, 73])\n",
            "torch.Size([32, 64, 73])\n",
            "torch.Size([32, 64, 73])\n",
            "torch.Size([32, 64, 73])\n",
            "torch.Size([32, 64, 73])\n",
            "torch.Size([32, 64, 73])\n",
            "torch.Size([32, 64, 73])\n",
            "torch.Size([15, 64, 73])\n",
            "torch.Size([32, 64, 73])\n",
            "torch.Size([32, 64, 73])\n",
            "torch.Size([32, 64, 73])\n",
            "torch.Size([32, 64, 73])\n",
            "torch.Size([32, 64, 73])\n",
            "torch.Size([26, 64, 73])\n",
            "Epoch: 0 \tTrain Loss: 1.427645 \tTrain Accuracy: 44.08% \tVal Loss: 1.231158 \tVal Accuracy: 58.06%\n",
            "torch.Size([32, 64, 73])\n",
            "torch.Size([32, 64, 73])\n",
            "torch.Size([32, 64, 73])\n",
            "torch.Size([32, 64, 73])\n",
            "torch.Size([32, 64, 73])\n",
            "torch.Size([32, 64, 73])\n",
            "torch.Size([32, 64, 73])\n",
            "torch.Size([32, 64, 73])\n",
            "torch.Size([32, 64, 73])\n",
            "torch.Size([32, 64, 73])\n",
            "torch.Size([32, 64, 73])\n",
            "torch.Size([32, 64, 73])\n",
            "torch.Size([32, 64, 73])\n",
            "torch.Size([15, 64, 73])\n",
            "torch.Size([32, 64, 73])\n",
            "torch.Size([32, 64, 73])\n",
            "torch.Size([32, 64, 73])\n",
            "torch.Size([32, 64, 73])\n",
            "torch.Size([32, 64, 73])\n",
            "torch.Size([26, 64, 73])\n",
            "Epoch: 1 \tTrain Loss: 0.941969 \tTrain Accuracy: 62.18% \tVal Loss: 0.758595 \tVal Accuracy: 69.89%\n",
            "torch.Size([32, 64, 73])\n",
            "torch.Size([32, 64, 73])\n",
            "torch.Size([32, 64, 73])\n",
            "torch.Size([32, 64, 73])\n",
            "torch.Size([32, 64, 73])\n",
            "torch.Size([32, 64, 73])\n",
            "torch.Size([32, 64, 73])\n",
            "torch.Size([32, 64, 73])\n",
            "torch.Size([32, 64, 73])\n",
            "torch.Size([32, 64, 73])\n",
            "torch.Size([32, 64, 73])\n",
            "torch.Size([32, 64, 73])\n",
            "torch.Size([32, 64, 73])\n",
            "torch.Size([15, 64, 73])\n",
            "torch.Size([32, 64, 73])\n",
            "torch.Size([32, 64, 73])\n",
            "torch.Size([32, 64, 73])\n",
            "torch.Size([32, 64, 73])\n",
            "torch.Size([32, 64, 73])\n",
            "torch.Size([26, 64, 73])\n",
            "Epoch: 2 \tTrain Loss: 0.574646 \tTrain Accuracy: 76.10% \tVal Loss: 0.602796 \tVal Accuracy: 74.19%\n",
            "torch.Size([32, 64, 73])\n",
            "torch.Size([32, 64, 73])\n",
            "torch.Size([32, 64, 73])\n",
            "torch.Size([32, 64, 73])\n",
            "torch.Size([32, 64, 73])\n",
            "torch.Size([32, 64, 73])\n",
            "torch.Size([32, 64, 73])\n",
            "torch.Size([32, 64, 73])\n",
            "torch.Size([32, 64, 73])\n",
            "torch.Size([32, 64, 73])\n",
            "torch.Size([32, 64, 73])\n",
            "torch.Size([32, 64, 73])\n",
            "torch.Size([32, 64, 73])\n",
            "torch.Size([15, 64, 73])\n",
            "torch.Size([32, 64, 73])\n",
            "torch.Size([32, 64, 73])\n",
            "torch.Size([32, 64, 73])\n",
            "torch.Size([32, 64, 73])\n",
            "torch.Size([32, 64, 73])\n",
            "torch.Size([26, 64, 73])\n",
            "Epoch: 3 \tTrain Loss: 0.434788 \tTrain Accuracy: 83.06% \tVal Loss: 0.549367 \tVal Accuracy: 78.49%\n",
            "torch.Size([32, 64, 73])\n",
            "torch.Size([32, 64, 73])\n",
            "torch.Size([32, 64, 73])\n",
            "torch.Size([32, 64, 73])\n",
            "torch.Size([32, 64, 73])\n",
            "torch.Size([32, 64, 73])\n",
            "torch.Size([32, 64, 73])\n",
            "torch.Size([32, 64, 73])\n",
            "torch.Size([32, 64, 73])\n",
            "torch.Size([32, 64, 73])\n",
            "torch.Size([32, 64, 73])\n",
            "torch.Size([32, 64, 73])\n",
            "torch.Size([32, 64, 73])\n",
            "torch.Size([15, 64, 73])\n",
            "torch.Size([32, 64, 73])\n",
            "torch.Size([32, 64, 73])\n",
            "torch.Size([32, 64, 73])\n",
            "torch.Size([32, 64, 73])\n",
            "torch.Size([32, 64, 73])\n",
            "torch.Size([26, 64, 73])\n",
            "Epoch: 4 \tTrain Loss: 0.413355 \tTrain Accuracy: 83.76% \tVal Loss: 0.510608 \tVal Accuracy: 80.11%\n",
            "torch.Size([32, 64, 73])\n",
            "torch.Size([32, 64, 73])\n",
            "torch.Size([32, 64, 73])\n",
            "torch.Size([32, 64, 73])\n",
            "torch.Size([32, 64, 73])\n",
            "torch.Size([32, 64, 73])\n",
            "torch.Size([32, 64, 73])\n",
            "torch.Size([32, 64, 73])\n",
            "torch.Size([32, 64, 73])\n",
            "torch.Size([32, 64, 73])\n",
            "torch.Size([32, 64, 73])\n",
            "torch.Size([32, 64, 73])\n",
            "torch.Size([32, 64, 73])\n",
            "torch.Size([15, 64, 73])\n",
            "torch.Size([32, 64, 73])\n",
            "torch.Size([32, 64, 73])\n",
            "torch.Size([32, 64, 73])\n",
            "torch.Size([32, 64, 73])\n",
            "torch.Size([32, 64, 73])\n",
            "torch.Size([26, 64, 73])\n",
            "Epoch: 5 \tTrain Loss: 0.282814 \tTrain Accuracy: 90.72% \tVal Loss: 0.432898 \tVal Accuracy: 81.18%\n",
            "torch.Size([32, 64, 73])\n",
            "torch.Size([32, 64, 73])\n",
            "torch.Size([32, 64, 73])\n",
            "torch.Size([32, 64, 73])\n",
            "torch.Size([32, 64, 73])\n",
            "torch.Size([32, 64, 73])\n",
            "torch.Size([32, 64, 73])\n",
            "torch.Size([32, 64, 73])\n",
            "torch.Size([32, 64, 73])\n",
            "torch.Size([32, 64, 73])\n",
            "torch.Size([32, 64, 73])\n",
            "torch.Size([32, 64, 73])\n",
            "torch.Size([32, 64, 73])\n",
            "torch.Size([15, 64, 73])\n",
            "torch.Size([32, 64, 73])\n",
            "torch.Size([32, 64, 73])\n",
            "torch.Size([32, 64, 73])\n",
            "torch.Size([32, 64, 73])\n",
            "torch.Size([32, 64, 73])\n",
            "torch.Size([26, 64, 73])\n",
            "Epoch: 6 \tTrain Loss: 0.189047 \tTrain Accuracy: 94.66% \tVal Loss: 0.486873 \tVal Accuracy: 80.65%\n",
            "torch.Size([32, 64, 73])\n",
            "torch.Size([32, 64, 73])\n",
            "torch.Size([32, 64, 73])\n",
            "torch.Size([32, 64, 73])\n",
            "torch.Size([32, 64, 73])\n",
            "torch.Size([32, 64, 73])\n",
            "torch.Size([32, 64, 73])\n",
            "torch.Size([32, 64, 73])\n",
            "torch.Size([32, 64, 73])\n",
            "torch.Size([32, 64, 73])\n",
            "torch.Size([32, 64, 73])\n",
            "torch.Size([32, 64, 73])\n",
            "torch.Size([32, 64, 73])\n",
            "torch.Size([15, 64, 73])\n",
            "torch.Size([32, 64, 73])\n",
            "torch.Size([32, 64, 73])\n",
            "torch.Size([32, 64, 73])\n",
            "torch.Size([32, 64, 73])\n",
            "torch.Size([32, 64, 73])\n",
            "torch.Size([26, 64, 73])\n",
            "Epoch: 7 \tTrain Loss: 0.141908 \tTrain Accuracy: 95.36% \tVal Loss: 0.497865 \tVal Accuracy: 79.57%\n",
            "torch.Size([32, 64, 73])\n",
            "torch.Size([32, 64, 73])\n",
            "torch.Size([32, 64, 73])\n",
            "torch.Size([32, 64, 73])\n",
            "torch.Size([32, 64, 73])\n",
            "torch.Size([32, 64, 73])\n",
            "torch.Size([32, 64, 73])\n",
            "torch.Size([32, 64, 73])\n",
            "torch.Size([32, 64, 73])\n",
            "torch.Size([32, 64, 73])\n",
            "torch.Size([32, 64, 73])\n",
            "torch.Size([32, 64, 73])\n",
            "torch.Size([32, 64, 73])\n",
            "torch.Size([15, 64, 73])\n",
            "torch.Size([32, 64, 73])\n",
            "torch.Size([32, 64, 73])\n",
            "torch.Size([32, 64, 73])\n",
            "torch.Size([32, 64, 73])\n",
            "torch.Size([32, 64, 73])\n",
            "torch.Size([26, 64, 73])\n",
            "Epoch: 8 \tTrain Loss: 0.135429 \tTrain Accuracy: 96.29% \tVal Loss: 0.529854 \tVal Accuracy: 82.80%\n",
            "torch.Size([32, 64, 73])\n",
            "torch.Size([32, 64, 73])\n",
            "torch.Size([32, 64, 73])\n",
            "torch.Size([32, 64, 73])\n",
            "torch.Size([32, 64, 73])\n",
            "torch.Size([32, 64, 73])\n",
            "torch.Size([32, 64, 73])\n",
            "torch.Size([32, 64, 73])\n",
            "torch.Size([32, 64, 73])\n",
            "torch.Size([32, 64, 73])\n",
            "torch.Size([32, 64, 73])\n",
            "torch.Size([32, 64, 73])\n",
            "torch.Size([32, 64, 73])\n",
            "torch.Size([15, 64, 73])\n",
            "torch.Size([32, 64, 73])\n",
            "torch.Size([32, 64, 73])\n",
            "torch.Size([32, 64, 73])\n",
            "torch.Size([32, 64, 73])\n",
            "torch.Size([32, 64, 73])\n",
            "torch.Size([26, 64, 73])\n",
            "Epoch: 9 \tTrain Loss: 0.132450 \tTrain Accuracy: 95.59% \tVal Loss: 0.562864 \tVal Accuracy: 78.49%\n",
            "torch.Size([32, 64, 73])\n",
            "torch.Size([32, 64, 73])\n",
            "torch.Size([32, 64, 73])\n",
            "torch.Size([32, 64, 73])\n",
            "torch.Size([32, 64, 73])\n",
            "torch.Size([32, 64, 73])\n",
            "torch.Size([32, 64, 73])\n",
            "torch.Size([32, 64, 73])\n",
            "torch.Size([32, 64, 73])\n",
            "torch.Size([32, 64, 73])\n",
            "torch.Size([32, 64, 73])\n",
            "torch.Size([32, 64, 73])\n",
            "torch.Size([32, 64, 73])\n",
            "torch.Size([15, 64, 73])\n",
            "torch.Size([32, 64, 73])\n",
            "torch.Size([32, 64, 73])\n",
            "torch.Size([32, 64, 73])\n",
            "torch.Size([32, 64, 73])\n",
            "torch.Size([32, 64, 73])\n",
            "torch.Size([26, 64, 73])\n",
            "Epoch: 10 \tTrain Loss: 0.073080 \tTrain Accuracy: 98.38% \tVal Loss: 0.548785 \tVal Accuracy: 81.18%\n",
            "torch.Size([32, 64, 73])\n",
            "torch.Size([32, 64, 73])\n",
            "torch.Size([32, 64, 73])\n",
            "torch.Size([32, 64, 73])\n",
            "torch.Size([32, 64, 73])\n",
            "torch.Size([32, 64, 73])\n",
            "torch.Size([32, 64, 73])\n",
            "torch.Size([32, 64, 73])\n",
            "torch.Size([32, 64, 73])\n",
            "torch.Size([32, 64, 73])\n",
            "torch.Size([32, 64, 73])\n",
            "torch.Size([32, 64, 73])\n",
            "torch.Size([32, 64, 73])\n",
            "torch.Size([15, 64, 73])\n",
            "torch.Size([32, 64, 73])\n",
            "torch.Size([32, 64, 73])\n",
            "torch.Size([32, 64, 73])\n",
            "torch.Size([32, 64, 73])\n",
            "torch.Size([32, 64, 73])\n",
            "torch.Size([26, 64, 73])\n",
            "Epoch: 11 \tTrain Loss: 0.032103 \tTrain Accuracy: 99.30% \tVal Loss: 0.502441 \tVal Accuracy: 81.18%\n",
            "Early stopping at epoch 11\n"
          ]
        }
      ],
      "source": [
        "# Training loop\n",
        "for epoch in range(num_epochs):\n",
        "    train_loss = 0.0\n",
        "    train_correct = 0\n",
        "    model.train()\n",
        "    for batch_idx, (data, target) in enumerate(train_loader):\n",
        "        optimizer.zero_grad()\n",
        "        data = data.to(device)\n",
        "        target = target.to(device)\n",
        "        output = model(data)\n",
        "        loss = criterion(output, target.squeeze().to(torch.long))\n",
        "        loss.backward()\n",
        "        optimizer.step()\n",
        "        train_loss += loss.item()\n",
        "        _, predicted = torch.max(output.data, 1)\n",
        "        train_correct += (predicted == target.squeeze().long()).sum().item()\n",
        "    train_loss /= len(train_loader)\n",
        "    train_accuracy = 100.0 * train_correct / len(train_dataset)\n",
        "    train_losses.append(train_loss)\n",
        "    train_accuracies.append(train_accuracy)\n",
        "\n",
        "    # Evaluate the model on the validation set\n",
        "    model.eval()\n",
        "    val_loss = 0.0\n",
        "    val_correct = 0\n",
        "    with torch.no_grad():\n",
        "        for data, target in test_loader:\n",
        "            data = data.to(device)\n",
        "            target = target.to(device)\n",
        "            output = model(data)\n",
        "            loss = criterion(output, target.squeeze().to(torch.long))\n",
        "            val_loss += loss.item()\n",
        "            _, predicted = torch.max(output.data, 1)\n",
        "            val_correct += (predicted == target.squeeze().long()).sum().item()\n",
        "        val_loss /= len(test_loader)\n",
        "        val_accuracy = 100.0 * val_correct / len(test_dataset)\n",
        "        val_losses.append(val_loss)\n",
        "        val_accuracies.append(val_accuracy)\n",
        "\n",
        "    print('Epoch: {} \\tTrain Loss: {:.6f} \\tTrain Accuracy: {:.2f}% \\tVal Loss: {:.6f} \\tVal Accuracy: {:.2f}%'.format(\n",
        "          epoch, train_loss, train_accuracy, val_loss, val_accuracy))\n",
        "    \n",
        "    if val_accuracy > best_val_accuracy:\n",
        "        best_val_accuracy = val_accuracy\n",
        "        counter = 0\n",
        "    else:\n",
        "        counter += 1\n",
        "        if counter >= patience:\n",
        "            print(\"Early stopping at epoch\", epoch)\n",
        "            break"
      ]
    },
    {
      "cell_type": "code",
      "execution_count": null,
      "metadata": {
        "colab": {
          "base_uri": "https://localhost:8080/",
          "height": 507
        },
        "id": "plfnajk4-U9i",
        "outputId": "b68455f3-b839-4d21-d527-ed01f87f5ecf"
      },
      "outputs": [
        {
          "data": {
            "image/png": "[encoded data removed]",
            "text/plain": [
              "<Figure size 1000x500 with 2 Axes>"
            ]
          },
          "metadata": {},
          "output_type": "display_data"
        }
      ],
      "source": [
        "# Plot the train and test accuracy and loss\n",
        "fig, (ax1, ax2) = plt.subplots(1, 2, figsize=(10, 5))\n",
        "\n",
        "ax1.plot(train_accuracies, label='Train')\n",
        "ax1.plot(val_accuracies, label='Test')\n",
        "ax1.set_title('Accuracy')\n",
        "ax1.set_xlabel('Epoch')\n",
        "ax1.set_ylabel('Accuracy')\n",
        "ax1.legend()\n",
        "\n",
        "ax2.plot(train_losses, label='Train')\n",
        "ax2.plot(val_losses, label='Test')\n",
        "ax2.set_title('Loss')\n",
        "ax2.set_xlabel('Epoch')\n",
        "ax2.set_ylabel('Loss')\n",
        "ax2.legend()\n",
        "\n",
        "plt.tight_layout()\n",
        "plt.savefig('vec30_sum_230417.PNG', dpi=300)\n",
        "plt.show()"
      ]
    },
    {
      "cell_type": "code",
      "execution_count": null,
      "metadata": {
        "id": "lvsByYy2fTvi"
      },
      "outputs": [],
      "source": [
        "print(train_accuracies)\n",
        "print(val_accuracies)"
      ]
    },
    {
      "cell_type": "code",
      "execution_count": null,
      "metadata": {
        "id": "BPLE0Mx0Giy8"
      },
      "outputs": [],
      "source": [
        "#儲存結果好的Resample到NPZ\n",
        "save_x = {'X_resampled': np.array(X_resampled)}\n",
        "np.savez_compressed('X_resampled.npz', **save_x)\n",
        "save_y = {'y_resampled': np.array(y_resampled)}\n",
        "np.savez_compressed('y_resampled.npz', **save_y)"
      ]
    },
    {
      "cell_type": "code",
      "execution_count": null,
      "metadata": {
        "id": "GJWstk7YHV78"
      },
      "outputs": [],
      "source": [
        "#儲存結果好的Split Data到NPZ\n",
        "train_x = {'train_data': np.array(train_data)}\n",
        "np.savez_compressed('train_data.npz', **train_x)\n",
        "train_y = {'train_labels': np.array(train_labels)}\n",
        "np.savez_compressed('train_labels.npz', **train_y)\n",
        "test_x = {'test_data': np.array(test_data)}\n",
        "np.savez_compressed('test_data.npz', **test_x)\n",
        "test_y = {'test_labels': np.array(test_labels)}\n",
        "np.savez_compressed('test_labels.npz', **test_y)"
      ]
    },
    {
      "cell_type": "code",
      "execution_count": null,
      "metadata": {
        "id": "UZHKkwqTLhcE"
      },
      "outputs": [],
      "source": [
        "#Save Model Parameter\n",
        "torch.save(model, 'cnn_vec30sum.pt')"
      ]
    }
  ],
  "metadata": {
    "colab": {
      "provenance": []
    },
    "gpuClass": "standard",
    "kernelspec": {
      "display_name": "Python 3",
      "name": "python3"
    },
    "language_info": {
      "name": "python"
    }
  },
  "nbformat": 4,
  "nbformat_minor": 0
}
