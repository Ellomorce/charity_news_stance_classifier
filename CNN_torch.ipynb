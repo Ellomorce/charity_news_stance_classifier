{
  "nbformat": 4,
  "nbformat_minor": 0,
  "metadata": {
    "colab": {
      "provenance": []
    },
    "kernelspec": {
      "name": "python3",
      "display_name": "Python 3"
    },
    "language_info": {
      "name": "python"
    },
    "gpuClass": "standard"
  },
  "cells": [
    {
      "cell_type": "code",
      "source": [
        "import numpy as np\n",
        "import pandas as pd\n",
        "from sklearn.model_selection import train_test_split\n",
        "import torch\n",
        "import torch.nn as nn\n",
        "import torch.optim as optim\n",
        "import torch.nn.functional as F\n",
        "from sklearn.metrics import accuracy_score\n",
        "from torch.utils.data import TensorDataset, DataLoader\n",
        "import matplotlib.pyplot as plt\n",
        "import os\n",
        "os.environ['CUDA_LAUNCH_BLOCKING'] = \"1\""
      ],
      "metadata": {
        "id": "HSJDsz0uO32v"
      },
      "execution_count": 1,
      "outputs": []
    },
    {
      "cell_type": "code",
      "source": [
        "print(torch.__version__)"
      ],
      "metadata": {
        "id": "3SqFT8ytO_ob",
        "colab": {
          "base_uri": "https://localhost:8080/"
        },
        "outputId": "5093c249-9861-49aa-e483-6486b27e66fa"
      },
      "execution_count": 2,
      "outputs": [
        {
          "output_type": "stream",
          "name": "stdout",
          "text": [
            "2.0.0+cu118\n"
          ]
        }
      ]
    },
    {
      "cell_type": "code",
      "source": [
        "from google.colab import drive\n",
        "drive.mount('/content/drive')"
      ],
      "metadata": {
        "id": "dBcJRmv4PBKE",
        "colab": {
          "base_uri": "https://localhost:8080/"
        },
        "outputId": "78aaa282-08a0-49d1-df35-90fb799c7c0b"
      },
      "execution_count": 3,
      "outputs": [
        {
          "output_type": "stream",
          "name": "stdout",
          "text": [
            "Mounted at /content/drive\n"
          ]
        }
      ]
    },
    {
      "cell_type": "code",
      "source": [
        "#Define File Path\n",
        "vec20avg_path = \"/content/drive/MyDrive/Co-working /Thesis/vec_data/vec20_avg.npz\"\n",
        "vec25avg_path = \"/content/drive/MyDrive/Co-working /Thesis/vec_data/vec25_avg.npz\"\n",
        "vec30avg_path = \"/content/drive/MyDrive/Co-working /Thesis/vec_data/vec30_avg.npz\"\n",
        "vec35avg_path = \"/content/drive/MyDrive/Co-working /Thesis/vec_data/vec35_avg.npz\"\n",
        "vec20sum_path = \"/content/drive/MyDrive/Co-working /Thesis/vec_data/vec20_sum.npz\"\n",
        "vec20sum_path = \"/content/drive/MyDrive/Co-working /Thesis/vec_data/vec20_sum.npz\"\n",
        "vec25sum_path = \"/content/drive/MyDrive/Co-working /Thesis/vec_data/vec25_sum.npz\"\n",
        "vec30sum_path = \"/content/drive/MyDrive/Co-working /Thesis/vec_data/vec30_sum.npz\"\n",
        "vec35sum_path = \"/content/drive/MyDrive/Co-working /Thesis/vec_data/vec35_sum.npz\"\n",
        "freq_stance_labels = \"/content/drive/MyDrive/Co-working /Thesis/vec_data/freq_stance_labels.npz\"\n",
        "oh_stance_labels = \"/content/drive/MyDrive/Co-working /Thesis/vec_data/oh_stance_labels.npz\"\n",
        "le_stance_labels = \"/content/drive/MyDrive/Co-working /Thesis/vec_data/le_stance_labels.npz\""
      ],
      "metadata": {
        "id": "UvjEoMUkPCxH"
      },
      "execution_count": 77,
      "outputs": []
    },
    {
      "cell_type": "code",
      "source": [
        "def load_npz_file(filepath):\n",
        "    # Load the numpy array from the .npz file\n",
        "    with np.load(filepath, allow_pickle=True) as data:\n",
        "        for key in data.keys():\n",
        "            arr = data[key]\n",
        "            break\n",
        "    return arr"
      ],
      "metadata": {
        "id": "YwyIM8IrPEpL"
      },
      "execution_count": 78,
      "outputs": []
    },
    {
      "cell_type": "code",
      "source": [
        "# vec20avg = load_npz_file(vec20avg_path)\n",
        "# vec25avg = load_npz_file(vec25avg_path)\n",
        "vec30avg = load_npz_file(vec30avg_path)\n",
        "# vec35avg = load_npz_file(vec35avg_path)\n",
        "# vec20sum = load_npz_file(vec20sum_path)\n",
        "# vec20sum = load_npz_file(vec20sum_path)\n",
        "# vec25sum = load_npz_file(vec25sum_path)\n",
        "# vec30sum = load_npz_file(vec30sum_path)\n",
        "# vec35sum = load_npz_file(vec35sum_path)\n",
        "freq_label = load_npz_file(freq_stance_labels)\n",
        "oh_label = load_npz_file(oh_stance_labels)\n",
        "le_label = load_npz_file(le_stance_labels)"
      ],
      "metadata": {
        "id": "fCiAOnl0PGcB"
      },
      "execution_count": 79,
      "outputs": []
    },
    {
      "cell_type": "code",
      "source": [
        "#指派實際要使用的Data與Label\n",
        "data = vec30avg\n",
        "# label = np.argmax(oh_label, axis=1)\n",
        "# label = oh_label\n",
        "# label = freq_label\n",
        "label = le_label\n",
        "print(data.shape)\n",
        "print(label.shape)"
      ],
      "metadata": {
        "colab": {
          "base_uri": "https://localhost:8080/"
        },
        "id": "-7g4vY4HRXPx",
        "outputId": "b9429dcd-9e74-42d2-c79d-1960fc007de0"
      },
      "execution_count": 80,
      "outputs": [
        {
          "output_type": "stream",
          "name": "stdout",
          "text": [
            "(445, 1, 300)\n",
            "(445,)\n"
          ]
        }
      ]
    },
    {
      "cell_type": "code",
      "source": [
        "train_data, test_data, train_labels, test_labels = train_test_split(data, label, test_size=0.2)\n",
        "print('Train data shape:', train_data.shape)\n",
        "print('Train labels shape:', train_labels.shape)\n",
        "print('Test data shape:', test_data.shape)\n",
        "print('Test labels shape:', test_labels.shape)"
      ],
      "metadata": {
        "colab": {
          "base_uri": "https://localhost:8080/"
        },
        "id": "a55-MfqoWNMz",
        "outputId": "9dcd7855-a99c-4acc-8ab8-b83fb59a1e41"
      },
      "execution_count": 81,
      "outputs": [
        {
          "output_type": "stream",
          "name": "stdout",
          "text": [
            "Train data shape: (356, 1, 300)\n",
            "Train labels shape: (356,)\n",
            "Test data shape: (89, 1, 300)\n",
            "Test labels shape: (89,)\n"
          ]
        }
      ]
    },
    {
      "cell_type": "markdown",
      "source": [
        "### Note\n",
        "注意:資料集不平衡!!\n",
        "+ Hostile: 11\n",
        "+ Proactive: 87\n",
        "+ Neutral: 159\n",
        "+ Unrelated: 188"
      ],
      "metadata": {
        "id": "SEpUdj0QLrKF"
      }
    },
    {
      "cell_type": "code",
      "source": [
        "# Convert the data and labels to PyTorch tensors\n",
        "train_data_tensor = torch.from_numpy(train_data).float()\n",
        "train_labels_tensor = torch.from_numpy(train_labels).long()\n",
        "test_data_tensor = torch.from_numpy(test_data).float()\n",
        "test_labels_tensor = torch.from_numpy(test_labels).long()"
      ],
      "metadata": {
        "id": "2svkowiBXjci"
      },
      "execution_count": 83,
      "outputs": []
    },
    {
      "cell_type": "code",
      "source": [
        "print(train_data_tensor.shape)\n",
        "print(test_data_tensor.shape)\n",
        "print(train_labels_tensor.shape)\n",
        "print(test_labels_tensor.shape)"
      ],
      "metadata": {
        "colab": {
          "base_uri": "https://localhost:8080/"
        },
        "id": "0hvXAZFHqTPt",
        "outputId": "d4e7cf9e-d9a9-48ff-c347-87d064eae0dc"
      },
      "execution_count": 84,
      "outputs": [
        {
          "output_type": "stream",
          "name": "stdout",
          "text": [
            "torch.Size([356, 1, 300])\n",
            "torch.Size([89, 1, 300])\n",
            "torch.Size([356])\n",
            "torch.Size([89])\n"
          ]
        }
      ]
    },
    {
      "cell_type": "code",
      "source": [
        "# Create a TensorDataset for each set of data and labels\n",
        "train_dataset = TensorDataset(train_data_tensor, train_labels_tensor)\n",
        "test_dataset = TensorDataset(test_data_tensor, test_labels_tensor)"
      ],
      "metadata": {
        "id": "CX77TLMrXm1n"
      },
      "execution_count": 85,
      "outputs": []
    },
    {
      "cell_type": "code",
      "source": [
        "# Create a DataLoader for each dataset to batch and shuffle the data\n",
        "batch_size = 32\n",
        "train_loader = DataLoader(train_dataset, batch_size=batch_size, shuffle=True)\n",
        "test_loader = DataLoader(test_dataset, batch_size=batch_size, shuffle=False)"
      ],
      "metadata": {
        "id": "DdXI7GVvXpQE"
      },
      "execution_count": 86,
      "outputs": []
    },
    {
      "cell_type": "code",
      "source": [
        "# Define the CNN model architecture\n",
        "class CNN(nn.Module):\n",
        "    def __init__(self):\n",
        "        super(CNN, self).__init__()\n",
        "        self.conv1 = nn.Conv1d(in_channels=1, out_channels=128, kernel_size=5)\n",
        "        self.pool1 = nn.MaxPool1d(kernel_size=2)\n",
        "        self.conv2 = nn.Conv1d(in_channels=128, out_channels=64, kernel_size=3)\n",
        "        self.pool2 = nn.MaxPool1d(kernel_size=2)\n",
        "        self.fc1 = nn.Linear(64 * 73, 256)\n",
        "        self.fc2 = nn.Linear(256, 4)\n",
        "\n",
        "    def forward(self, x):\n",
        "        x = self.conv1(x)\n",
        "        x = nn.functional.relu(x)\n",
        "        x = self.pool1(x)\n",
        "        x = self.conv2(x)\n",
        "        x = nn.functional.relu(x)\n",
        "        x = self.pool2(x)\n",
        "        print(x.shape)\n",
        "        x = x.view(-1, 64 * 73)\n",
        "        x = self.fc1(x)\n",
        "        x = nn.functional.relu(x)\n",
        "        x = self.fc2(x)\n",
        "        return x"
      ],
      "metadata": {
        "id": "u2OqRj8SXxei"
      },
      "execution_count": 87,
      "outputs": []
    },
    {
      "cell_type": "code",
      "source": [
        "# Trainging Settings\n",
        "num_classes = 4\n",
        "model = CNN()\n",
        "device = torch.device(\"cuda\" if torch.cuda.is_available() else \"cpu\")\n",
        "model.to(device)\n",
        "\n",
        "# Define the loss function and optimizer\n",
        "criterion = nn.CrossEntropyLoss()\n",
        "# Because My Dataset is extremely imbalanced, so we need to use weight on Loss Function.\n",
        "# https://discuss.pytorch.org/t/dealing-with-imbalanced-datasets-in-pytorch/22596\n",
        "# https://discuss.pytorch.org/t/what-is-the-weight-values-mean-in-torch-nn-crossentropyloss/11455/10\n",
        "# https://pytorch.org/docs/stable/generated/torch.nn.CrossEntropyLoss.html\n",
        "optimizer = optim.Adam(model.parameters(), lr=0.001)\n",
        "\n",
        "# Early Stopping Settings\n",
        "# Define the number of epochs to wait before stopping if the test accuracy does not improve\n",
        "patience = 3\n",
        "# Initialize the counter for the number of epochs without improvement\n",
        "counter = 0\n",
        "# Initialize the best test accuracy to zero\n",
        "best_val_accuracy = 0.0\n",
        "\n",
        "# Epochs and records\n",
        "num_epochs = 2\n",
        "train_losses = []\n",
        "val_losses = []\n",
        "train_accuracies = []\n",
        "val_accuracies = []"
      ],
      "metadata": {
        "id": "g63AzXK9X7tW"
      },
      "execution_count": 88,
      "outputs": []
    },
    {
      "cell_type": "code",
      "source": [
        "# Training loop\n",
        "for epoch in range(num_epochs):\n",
        "    train_loss = 0.0\n",
        "    train_correct = 0\n",
        "    model.train()\n",
        "    for batch_idx, (data, target) in enumerate(train_loader):\n",
        "        optimizer.zero_grad()\n",
        "        data = data.to(device)\n",
        "        target = target.to(device)\n",
        "        output = model(data)\n",
        "        loss = criterion(output, target.squeeze().to(torch.long))\n",
        "        loss.backward()\n",
        "        optimizer.step()\n",
        "        train_loss += loss.item()\n",
        "        _, predicted = torch.max(output.data, 1)\n",
        "        train_correct += (predicted == target.squeeze().long()).sum().item()\n",
        "    train_loss /= len(train_loader)\n",
        "    train_accuracy = 100.0 * train_correct / len(train_dataset)\n",
        "    train_losses.append(train_loss)\n",
        "    train_accuracies.append(train_accuracy)\n",
        "\n",
        "    # Evaluate the model on the validation set\n",
        "    model.eval()\n",
        "    val_loss = 0.0\n",
        "    val_correct = 0\n",
        "    with torch.no_grad():\n",
        "        for data, target in test_loader:\n",
        "            data = data.to(device)\n",
        "            target = target.to(device)\n",
        "            output = model(data)\n",
        "            loss = criterion(output, target.squeeze().to(torch.long))\n",
        "            val_loss += loss.item()\n",
        "            _, predicted = torch.max(output.data, 1)\n",
        "            val_correct += (predicted == target.squeeze().long()).sum().item()\n",
        "        val_loss /= len(test_loader)\n",
        "        val_accuracy = 100.0 * val_correct / len(test_dataset)\n",
        "        val_losses.append(val_loss)\n",
        "        val_accuracies.append(val_accuracy)\n",
        "        if val_accuracy > best_val_accuracy:\n",
        "            best_val_accuracy = val_accuracy\n",
        "            counter = 0\n",
        "        else:\n",
        "            counter += 1\n",
        "            if counter >= patience:\n",
        "                print(\"Early stopping at epoch\", epoch)\n",
        "                break\n",
        "\n",
        "    print('Epoch: {} \\tTrain Loss: {:.6f} \\tTrain Accuracy: {:.2f}% \\tVal Loss: {:.6f} \\tVal Accuracy: {:.2f}%'.format(\n",
        "          epoch, train_loss, train_accuracy, val_loss, val_accuracy))\n",
        "\n",
        "    if counter >= patience:\n",
        "        break"
      ],
      "metadata": {
        "colab": {
          "base_uri": "https://localhost:8080/"
        },
        "id": "OQ8lY-UF9vO9",
        "outputId": "226d9066-6dd3-4519-cd6c-deabc674a9d9"
      },
      "execution_count": 89,
      "outputs": [
        {
          "output_type": "stream",
          "name": "stdout",
          "text": [
            "torch.Size([32, 64, 73])\n",
            "torch.Size([32, 64, 73])\n",
            "torch.Size([32, 64, 73])\n",
            "torch.Size([32, 64, 73])\n",
            "torch.Size([32, 64, 73])\n",
            "torch.Size([32, 64, 73])\n",
            "torch.Size([32, 64, 73])\n",
            "torch.Size([32, 64, 73])\n",
            "torch.Size([32, 64, 73])\n",
            "torch.Size([32, 64, 73])\n",
            "torch.Size([32, 64, 73])\n",
            "torch.Size([4, 64, 73])\n",
            "torch.Size([32, 64, 73])\n",
            "torch.Size([32, 64, 73])\n",
            "torch.Size([25, 64, 73])\n",
            "Epoch: 0 \tTrain Loss: 1.221810 \tTrain Accuracy: 39.04% \tVal Loss: 1.164232 \tVal Accuracy: 35.96%\n",
            "torch.Size([32, 64, 73])\n",
            "torch.Size([32, 64, 73])\n",
            "torch.Size([32, 64, 73])\n",
            "torch.Size([32, 64, 73])\n",
            "torch.Size([32, 64, 73])\n",
            "torch.Size([32, 64, 73])\n",
            "torch.Size([32, 64, 73])\n",
            "torch.Size([32, 64, 73])\n",
            "torch.Size([32, 64, 73])\n",
            "torch.Size([32, 64, 73])\n",
            "torch.Size([32, 64, 73])\n",
            "torch.Size([4, 64, 73])\n",
            "torch.Size([32, 64, 73])\n",
            "torch.Size([32, 64, 73])\n",
            "torch.Size([25, 64, 73])\n",
            "Epoch: 1 \tTrain Loss: 1.157399 \tTrain Accuracy: 39.61% \tVal Loss: 1.099244 \tVal Accuracy: 43.82%\n"
          ]
        }
      ]
    },
    {
      "cell_type": "code",
      "source": [
        "# Plot the train and test accuracy and loss\n",
        "fig, (ax1, ax2) = plt.subplots(1, 2, figsize=(10, 5))\n",
        "\n",
        "ax1.plot(train_accuracies, label='Train')\n",
        "ax1.plot(val_accuracies, label='Test')\n",
        "ax1.set_title('Accuracy')\n",
        "ax1.set_xlabel('Epoch')\n",
        "ax1.set_ylabel('Accuracy')\n",
        "ax1.legend()\n",
        "\n",
        "ax2.plot(train_losses, label='Train')\n",
        "ax2.plot(val_losses, label='Test')\n",
        "ax2.set_title('Loss')\n",
        "ax2.set_xlabel('Epoch')\n",
        "ax2.set_ylabel('Loss')\n",
        "ax2.legend()\n",
        "\n",
        "plt.tight_layout()\n",
        "plt.show()"
      ],
      "metadata": {
        "id": "plfnajk4-U9i",
        "colab": {
          "base_uri": "https://localhost:8080/",
          "height": 507
        },
        "outputId": "40e0ff05-3bd2-48a4-8255-733ac027d8ca"
      },
      "execution_count": 90,
      "outputs": [
        {
          "output_type": "display_data",
          "data": {
            "text/plain": [
              "<Figure size 1000x500 with 2 Axes>"
            ],
            "image/png": "[encoded data removed]"
          },
          "metadata": {}
        }
      ]
    }
  ]
}