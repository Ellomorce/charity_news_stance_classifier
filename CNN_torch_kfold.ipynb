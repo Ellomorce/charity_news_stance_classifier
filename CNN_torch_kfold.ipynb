{
 "cells": [
  {
   "cell_type": "code",
   "execution_count": 25,
   "metadata": {},
   "outputs": [],
   "source": [
    "import numpy as np\n",
    "import torch\n",
    "import torch.nn as nn\n",
    "import torch.optim as optim\n",
    "import torch.nn.functional as F\n",
    "from sklearn.model_selection import StratifiedKFold\n",
    "from imblearn.over_sampling import RandomOverSampler\n",
    "from torch.utils.data import TensorDataset, DataLoader\n",
    "import matplotlib.pyplot as plt\n",
    "from torchmetrics.classification import MulticlassF1Score, MulticlassAccuracy, MulticlassPrecision, MulticlassRecall\n",
    "import thesis_models\n",
    "from itertools import zip_longest"
   ]
  },
  {
   "cell_type": "code",
   "execution_count": 26,
   "metadata": {},
   "outputs": [],
   "source": [
    "# print(torch.__version__)"
   ]
  },
  {
   "cell_type": "code",
   "execution_count": 27,
   "metadata": {},
   "outputs": [],
   "source": [
    "#Define File Path\n",
    "vec20avg_path = \"./vec_data/vec20_avg.npz\"\n",
    "vec25avg_path = \"./vec_data/vec25_avg.npz\"\n",
    "vec30avg_path = \"./vec_data/vec30_avg.npz\"\n",
    "vec35avg_path = \"./vec_data/vec35_avg.npz\"\n",
    "vec20sum_path = \"./vec_data/vec20_sum.npz\"\n",
    "vec20sum_path = \"./vec_data/vec20_sum.npz\"\n",
    "vec25sum_path = \"./vec_data/vec25_sum.npz\"\n",
    "vec30sum_path = \"./vec_data/vec30_sum.npz\"\n",
    "vec35sum_path = \"./vec_data/vec35_sum.npz\"\n",
    "# freq_stance_labels = \"./vec_data/freq_stance_labels.npz\"\n",
    "# oh_stance_labels = \"./vec_data/oh_stance_labels.npz\"\n",
    "le_stance_labels = \"./vec_data/le_stance_labels.npz\""
   ]
  },
  {
   "cell_type": "code",
   "execution_count": 28,
   "metadata": {},
   "outputs": [],
   "source": [
    "def load_npz_file(filepath):\n",
    "    # Load the numpy array from the .npz file\n",
    "    with np.load(filepath, allow_pickle=True) as data:\n",
    "        for key in data.keys():\n",
    "            arr = data[key]\n",
    "            break\n",
    "    return arr"
   ]
  },
  {
   "cell_type": "code",
   "execution_count": 29,
   "metadata": {},
   "outputs": [],
   "source": [
    "vec20avg = load_npz_file(vec20avg_path)\n",
    "vec25avg = load_npz_file(vec25avg_path)\n",
    "vec30avg = load_npz_file(vec30avg_path)\n",
    "vec35avg = load_npz_file(vec35avg_path)\n",
    "vec20sum = load_npz_file(vec20sum_path)\n",
    "vec20sum = load_npz_file(vec20sum_path)\n",
    "vec25sum = load_npz_file(vec25sum_path)\n",
    "vec30sum = load_npz_file(vec30sum_path)\n",
    "vec35sum = load_npz_file(vec35sum_path)\n",
    "# freq_label = load_npz_file(freq_stance_labels)\n",
    "# oh_label = load_npz_file(oh_stance_labels)\n",
    "le_label = load_npz_file(le_stance_labels)"
   ]
  },
  {
   "cell_type": "code",
   "execution_count": 30,
   "metadata": {},
   "outputs": [],
   "source": [
    "#指派實際要使用的Data與Label\n",
    "# data = vec30sum\n",
    "# data = vec30avg\n",
    "data = vec20sum\n",
    "# data = vec20avg\n",
    "# data = vec25sum\n",
    "# data = vec25avg\n",
    "# data = vec35sum\n",
    "# data = vec35avg\n",
    "# label = np.argmax(oh_label, axis=1)\n",
    "# label = oh_label\n",
    "# label = freq_label\n",
    "label = le_label"
   ]
  },
  {
   "cell_type": "code",
   "execution_count": 31,
   "metadata": {},
   "outputs": [
    {
     "name": "stdout",
     "output_type": "stream",
     "text": [
      "(445, 1, 300)\n",
      "(445,)\n",
      "[0 1 2 3]\n",
      "(array([0, 1, 2, 3]), array([ 11, 201,  74, 159], dtype=int64))\n"
     ]
    }
   ],
   "source": [
    "print(data.shape)\n",
    "print(label.shape)\n",
    "print(np.unique(label))\n",
    "print(np.unique(label, return_counts=True))"
   ]
  },
  {
   "cell_type": "code",
   "execution_count": 32,
   "metadata": {},
   "outputs": [],
   "source": [
    "# Data Augmentation using Oversampling\n",
    "# Define the oversampling ratio for each class\n",
    "# ratio0 = {0: 11, 1: 201, 2: 74, 3: 159}\n",
    "# ratio1 = {0: 24, 1: 201, 2: 78, 3: 168}\n",
    "# ratio2 = {0: 53, 1: 201, 2: 89, 3: 191}\n",
    "# ratio3 = {0: 86, 1: 201, 2: 115, 3: 172}\n",
    "# ratio4 = {0: 144, 1: 201, 2: 179, 3: 194}\n",
    "oversample_ratio = {0: 150, 1: 201, 2: 175, 3: 183}\n",
    "# Initialize the oversampler\n",
    "oversampler = RandomOverSampler(sampling_strategy=oversample_ratio)\n",
    "# Reshape your data to a 2D matrix of shape (n_samples, n_features)\n",
    "X = data.reshape(-1, 300)\n",
    "# Apply oversampling to X and y\n",
    "X_resampled, y_resampled = oversampler.fit_resample(X, label)\n",
    "# Reshape X back to its original shape\n",
    "X_resampled = X_resampled.reshape(-1, 1, 300)"
   ]
  },
  {
   "cell_type": "code",
   "execution_count": 33,
   "metadata": {},
   "outputs": [],
   "source": [
    "# ratio = list(oversample_ratio.values())\n",
    "# ratio_scale = [round(ratio[0]/sum(ratio),2), round(ratio[1]/sum(ratio),2), round(ratio[2]/sum(ratio),2), round(ratio[3]/sum(ratio),2)]\n",
    "# print(ratio_scale)"
   ]
  },
  {
   "cell_type": "code",
   "execution_count": 34,
   "metadata": {},
   "outputs": [],
   "source": [
    "# print(X_resampled.shape)\n",
    "# print(X_resampled)"
   ]
  },
  {
   "cell_type": "code",
   "execution_count": 35,
   "metadata": {},
   "outputs": [],
   "source": [
    "# print(y_resampled.shape)\n",
    "# print(y_resampled)"
   ]
  },
  {
   "cell_type": "code",
   "execution_count": 36,
   "metadata": {},
   "outputs": [],
   "source": [
    "# Convert NumPy arrays to PyTorch tensors-using oversampling\n",
    "X_tensor = torch.from_numpy(X_resampled).float()\n",
    "y_tensor = torch.from_numpy(y_resampled).long()"
   ]
  },
  {
   "cell_type": "code",
   "execution_count": 37,
   "metadata": {},
   "outputs": [],
   "source": [
    "# Trainging Settings\n",
    "device = torch.device(\"cuda\" if torch.cuda.is_available() else \"cpu\")\n",
    "\n",
    "# Define the loss function and optimizer\n",
    "criterion = nn.CrossEntropyLoss()\n",
    "\n",
    "# Epochs and records\n",
    "num_epochs = 20\n",
    "train_losses_list = []\n",
    "val_losses_list = []\n",
    "train_accuracies_list = []\n",
    "val_accuracies_list = []\n",
    "\n",
    "# # torchmetrcis settings\n",
    "model_accuracy = MulticlassAccuracy(num_classes=4, average='macro').to(device)\n",
    "model_precision = MulticlassPrecision(num_classes=4, average='macro').to(device)\n",
    "model_recall = MulticlassRecall(num_classes=4, average='macro').to(device)\n",
    "model_f1 = MulticlassF1Score(num_classes=4, average='macro').to(device)\n",
    "model_ac_list = []\n",
    "model_pc_list = []\n",
    "model_rc_list = []\n",
    "model_f1_list = []\n",
    "\n",
    "# Define the number of folds for k-fold cross-validation\n",
    "num_folds = 5\n",
    "# Initialize the k-fold cross-validator\n",
    "skf = StratifiedKFold(n_splits=num_folds, shuffle=True)"
   ]
  },
  {
   "cell_type": "code",
   "execution_count": 38,
   "metadata": {},
   "outputs": [
    {
     "name": "stdout",
     "output_type": "stream",
     "text": [
      "Fold 1\n",
      "Epoch: 0 \tTrain Loss: 0.850692 \tTrain Accuracy: 65.96% \tVal Loss: 0.577152 \tVal Accuracy: 82.39%\n",
      "Epoch: 1 \tTrain Loss: 0.381032 \tTrain Accuracy: 90.48% \tVal Loss: 0.416633 \tVal Accuracy: 84.51%\n",
      "Epoch: 2 \tTrain Loss: 0.257206 \tTrain Accuracy: 93.12% \tVal Loss: 0.362701 \tVal Accuracy: 86.62%\n",
      "Epoch: 3 \tTrain Loss: 0.189494 \tTrain Accuracy: 95.59% \tVal Loss: 0.304490 \tVal Accuracy: 88.73%\n",
      "Epoch: 4 \tTrain Loss: 0.128442 \tTrain Accuracy: 98.59% \tVal Loss: 0.279692 \tVal Accuracy: 90.14%\n",
      "Epoch: 5 \tTrain Loss: 0.096138 \tTrain Accuracy: 98.77% \tVal Loss: 0.283047 \tVal Accuracy: 88.73%\n",
      "Epoch: 6 \tTrain Loss: 0.077325 \tTrain Accuracy: 99.12% \tVal Loss: 0.263076 \tVal Accuracy: 90.85%\n",
      "Epoch: 7 \tTrain Loss: 0.058181 \tTrain Accuracy: 99.82% \tVal Loss: 0.239537 \tVal Accuracy: 90.85%\n",
      "Epoch: 8 \tTrain Loss: 0.043824 \tTrain Accuracy: 100.00% \tVal Loss: 0.239394 \tVal Accuracy: 90.85%\n",
      "Epoch: 9 \tTrain Loss: 0.033965 \tTrain Accuracy: 100.00% \tVal Loss: 0.229412 \tVal Accuracy: 91.55%\n",
      "Epoch: 10 \tTrain Loss: 0.027715 \tTrain Accuracy: 100.00% \tVal Loss: 0.229783 \tVal Accuracy: 90.85%\n",
      "Epoch: 11 \tTrain Loss: 0.022918 \tTrain Accuracy: 100.00% \tVal Loss: 0.228353 \tVal Accuracy: 90.85%\n",
      "Epoch: 12 \tTrain Loss: 0.018478 \tTrain Accuracy: 100.00% \tVal Loss: 0.237136 \tVal Accuracy: 90.14%\n",
      "Early stopping at epoch 12\n",
      "Fold 2\n",
      "Epoch: 0 \tTrain Loss: 0.927627 \tTrain Accuracy: 59.61% \tVal Loss: 0.589656 \tVal Accuracy: 83.80%\n",
      "Epoch: 1 \tTrain Loss: 0.424299 \tTrain Accuracy: 87.65% \tVal Loss: 0.377855 \tVal Accuracy: 93.66%\n",
      "Epoch: 2 \tTrain Loss: 0.286275 \tTrain Accuracy: 92.95% \tVal Loss: 0.303126 \tVal Accuracy: 92.96%\n",
      "Epoch: 3 \tTrain Loss: 0.233823 \tTrain Accuracy: 93.12% \tVal Loss: 0.266419 \tVal Accuracy: 92.96%\n",
      "Epoch: 4 \tTrain Loss: 0.150803 \tTrain Accuracy: 97.18% \tVal Loss: 0.235130 \tVal Accuracy: 93.66%\n",
      "Early stopping at epoch 4\n",
      "Fold 3\n",
      "Epoch: 0 \tTrain Loss: 0.876932 \tTrain Accuracy: 64.55% \tVal Loss: 0.569037 \tVal Accuracy: 83.80%\n",
      "Epoch: 1 \tTrain Loss: 0.441773 \tTrain Accuracy: 84.30% \tVal Loss: 0.405986 \tVal Accuracy: 87.32%\n",
      "Epoch: 2 \tTrain Loss: 0.280998 \tTrain Accuracy: 92.95% \tVal Loss: 0.327370 \tVal Accuracy: 90.14%\n",
      "Epoch: 3 \tTrain Loss: 0.220114 \tTrain Accuracy: 95.06% \tVal Loss: 0.272253 \tVal Accuracy: 94.37%\n",
      "Epoch: 4 \tTrain Loss: 0.172671 \tTrain Accuracy: 95.77% \tVal Loss: 0.262814 \tVal Accuracy: 91.55%\n",
      "Epoch: 5 \tTrain Loss: 0.129397 \tTrain Accuracy: 97.88% \tVal Loss: 0.263941 \tVal Accuracy: 93.66%\n",
      "Epoch: 6 \tTrain Loss: 0.100009 \tTrain Accuracy: 98.41% \tVal Loss: 0.221391 \tVal Accuracy: 94.37%\n",
      "Early stopping at epoch 6\n",
      "Fold 4\n",
      "Epoch: 0 \tTrain Loss: 0.878757 \tTrain Accuracy: 67.55% \tVal Loss: 0.639333 \tVal Accuracy: 81.69%\n",
      "Epoch: 1 \tTrain Loss: 0.412339 \tTrain Accuracy: 89.42% \tVal Loss: 0.412094 \tVal Accuracy: 86.62%\n",
      "Epoch: 2 \tTrain Loss: 0.257592 \tTrain Accuracy: 94.89% \tVal Loss: 0.345573 \tVal Accuracy: 90.85%\n",
      "Epoch: 3 \tTrain Loss: 0.188552 \tTrain Accuracy: 96.47% \tVal Loss: 0.346092 \tVal Accuracy: 88.73%\n",
      "Epoch: 4 \tTrain Loss: 0.138517 \tTrain Accuracy: 97.88% \tVal Loss: 0.245557 \tVal Accuracy: 93.66%\n",
      "Epoch: 5 \tTrain Loss: 0.105029 \tTrain Accuracy: 98.24% \tVal Loss: 0.249999 \tVal Accuracy: 92.25%\n",
      "Epoch: 6 \tTrain Loss: 0.072178 \tTrain Accuracy: 99.29% \tVal Loss: 0.223694 \tVal Accuracy: 94.37%\n",
      "Epoch: 7 \tTrain Loss: 0.054023 \tTrain Accuracy: 99.82% \tVal Loss: 0.238432 \tVal Accuracy: 92.25%\n",
      "Epoch: 8 \tTrain Loss: 0.042137 \tTrain Accuracy: 100.00% \tVal Loss: 0.222567 \tVal Accuracy: 94.37%\n",
      "Epoch: 9 \tTrain Loss: 0.031268 \tTrain Accuracy: 100.00% \tVal Loss: 0.240943 \tVal Accuracy: 92.96%\n",
      "Early stopping at epoch 9\n",
      "Fold 5\n",
      "Epoch: 0 \tTrain Loss: 0.859961 \tTrain Accuracy: 67.08% \tVal Loss: 0.584812 \tVal Accuracy: 78.72%\n",
      "Epoch: 1 \tTrain Loss: 0.382394 \tTrain Accuracy: 90.14% \tVal Loss: 0.456818 \tVal Accuracy: 82.27%\n",
      "Epoch: 2 \tTrain Loss: 0.273838 \tTrain Accuracy: 94.19% \tVal Loss: 0.365752 \tVal Accuracy: 84.40%\n",
      "Epoch: 3 \tTrain Loss: 0.202710 \tTrain Accuracy: 96.30% \tVal Loss: 0.383510 \tVal Accuracy: 87.23%\n",
      "Epoch: 4 \tTrain Loss: 0.144643 \tTrain Accuracy: 96.83% \tVal Loss: 0.275755 \tVal Accuracy: 87.23%\n",
      "Epoch: 5 \tTrain Loss: 0.107946 \tTrain Accuracy: 98.59% \tVal Loss: 0.275294 \tVal Accuracy: 87.94%\n",
      "Epoch: 6 \tTrain Loss: 0.076242 \tTrain Accuracy: 99.47% \tVal Loss: 0.298421 \tVal Accuracy: 87.23%\n",
      "Epoch: 7 \tTrain Loss: 0.055682 \tTrain Accuracy: 99.82% \tVal Loss: 0.244140 \tVal Accuracy: 90.78%\n",
      "Epoch: 8 \tTrain Loss: 0.044390 \tTrain Accuracy: 100.00% \tVal Loss: 0.226671 \tVal Accuracy: 92.20%\n",
      "Epoch: 9 \tTrain Loss: 0.034571 \tTrain Accuracy: 100.00% \tVal Loss: 0.252072 \tVal Accuracy: 90.07%\n",
      "Epoch: 10 \tTrain Loss: 0.028642 \tTrain Accuracy: 100.00% \tVal Loss: 0.263866 \tVal Accuracy: 89.36%\n",
      "Epoch: 11 \tTrain Loss: 0.022990 \tTrain Accuracy: 100.00% \tVal Loss: 0.233269 \tVal Accuracy: 91.49%\n",
      "Early stopping at epoch 11\n"
     ]
    }
   ],
   "source": [
    "# Iterate over the folds and prepare data and labels for training and validation\n",
    "for fold, (train_idx, val_idx) in enumerate(skf.split(X_tensor, y_tensor)):\n",
    "    print(f'Fold {fold + 1}')\n",
    "    X_train_fold = X_tensor[train_idx]\n",
    "    y_train_fold = y_tensor[train_idx]\n",
    "    X_val_fold = X_tensor[val_idx]\n",
    "    y_val_fold = y_tensor[val_idx]\n",
    "\n",
    "    # Create PyTorch DataLoader for training and validation\n",
    "    train_data = TensorDataset(X_train_fold, y_train_fold)\n",
    "    val_data = TensorDataset(X_val_fold, y_val_fold)\n",
    "    train_loader = DataLoader(train_data, batch_size=16, shuffle=True)\n",
    "    test_loader = DataLoader(val_data, batch_size=16, shuffle=False)\n",
    "\n",
    "    # Initialize the reocrd lists for this fold\n",
    "    train_losses = []\n",
    "    val_losses = []\n",
    "    train_accuracies = []\n",
    "    val_accuracies = []\n",
    "\n",
    "    #Early Stopping Settings\n",
    "    patience = 3\n",
    "    counter = 0\n",
    "    best_val_accuracy = 0.0\n",
    "\n",
    "    model = thesis_models.CNN_1()\n",
    "    model.to(device)\n",
    "    optimizer = optim.AdamW(model.parameters(), lr=0.0001, weight_decay=1e-2)\n",
    "\n",
    "    for epoch in range(num_epochs):\n",
    "        model.train()\n",
    "        train_loss = 0.0\n",
    "        train_correct = 0\n",
    "        for batch_idx, (data, target) in enumerate(train_loader):\n",
    "            torch.cuda.empty_cache()\n",
    "            optimizer.zero_grad()\n",
    "            data = data.to(device)\n",
    "            target = target.to(device)\n",
    "            output = model(data)\n",
    "            loss = criterion(output, target.squeeze().to(torch.long))\n",
    "            loss.backward()\n",
    "            optimizer.step()\n",
    "            train_loss += loss.item()\n",
    "            _, predicted = torch.max(output.data, 1)\n",
    "            train_correct += (predicted == target.squeeze().long()).sum().item()\n",
    "        train_loss /= len(train_loader)\n",
    "        train_accuracy = 100.0 * train_correct / len(train_data)\n",
    "        train_losses.append(train_loss)\n",
    "        train_accuracies.append(train_accuracy)\n",
    "\n",
    "        # Evaluate the model on the validation set\n",
    "        model.eval()\n",
    "        val_loss = 0.0\n",
    "        val_correct = 0\n",
    "        with torch.no_grad():\n",
    "            for data, target in test_loader:\n",
    "                data = data.to(device)\n",
    "                target = target.to(device)\n",
    "                output = model(data)\n",
    "                loss = criterion(output, target.squeeze().to(torch.long))\n",
    "                val_loss += loss.item()\n",
    "                _, predicted = torch.max(output.data, 1)\n",
    "                val_correct += (predicted == target.squeeze().long()).sum().item()\n",
    "                model_accuracy.update(predicted, target.squeeze().long())\n",
    "                model_precision.update(predicted, target.squeeze().long())\n",
    "                model_recall.update(predicted, target.squeeze().long())\n",
    "                model_f1.update(predicted, target.squeeze().long())\n",
    "        val_loss /= len(test_loader)\n",
    "        val_accuracy = 100.0 * val_correct / len(val_data)\n",
    "        val_losses.append(val_loss)\n",
    "        val_accuracies.append(val_accuracy)\n",
    "\n",
    "        print('Epoch: {} \\tTrain Loss: {:.6f} \\tTrain Accuracy: {:.2f}% \\tVal Loss: {:.6f} \\tVal Accuracy: {:.2f}%'.format(\n",
    "            epoch, train_loss, train_accuracy, val_loss, val_accuracy))\n",
    "        \n",
    "        if val_accuracy > best_val_accuracy:\n",
    "          best_val_accuracy = val_accuracy\n",
    "          counter = 0\n",
    "        else:\n",
    "          counter += 1\n",
    "          if counter >= patience:\n",
    "            print(\"Early stopping at epoch\", epoch)\n",
    "            break\n",
    "        \n",
    "    # Append the lists for this fold to the corresponding list for all folds\n",
    "    train_losses_list.append(train_losses)\n",
    "    val_losses_list.append(val_losses)\n",
    "    train_accuracies_list.append(train_accuracies)\n",
    "    val_accuracies_list.append(val_accuracies)\n",
    "    ac = model_accuracy.compute()\n",
    "    pc = model_precision.compute()\n",
    "    rc = model_recall.compute()\n",
    "    f1 = model_f1.compute()\n",
    "    model_ac_list.append(ac.item())\n",
    "    model_pc_list.append(pc.item())\n",
    "    model_rc_list.append(rc.item())\n",
    "    model_f1_list.append(f1.item())"
   ]
  },
  {
   "cell_type": "code",
   "execution_count": 39,
   "metadata": {},
   "outputs": [],
   "source": [
    "# print(len(train_losses_list))\n",
    "# print(len(train_losses_list[0]))"
   ]
  },
  {
   "cell_type": "code",
   "execution_count": 40,
   "metadata": {},
   "outputs": [],
   "source": [
    "# print(model_f1_list)"
   ]
  },
  {
   "cell_type": "code",
   "execution_count": 41,
   "metadata": {},
   "outputs": [],
   "source": [
    "avg_train_losses = [sum(filter(lambda x: x is not None, items))/len(list(filter(lambda x: x is not None, items))) for items in zip_longest(*train_losses_list)]\n",
    "avg_val_losses = [sum(filter(lambda x: x is not None, items))/len(list(filter(lambda x: x is not None, items))) for items in zip_longest(*val_losses_list)]\n",
    "avg_train_accuracies = [sum(filter(lambda x: x is not None, items))/len(list(filter(lambda x: x is not None, items))) for items in zip_longest(*train_accuracies_list)]\n",
    "avg_val_accuracies = [sum(filter(lambda x: x is not None, items))/len(list(filter(lambda x: x is not None, items))) for items in zip_longest(*val_accuracies_list)]"
   ]
  },
  {
   "cell_type": "code",
   "execution_count": 42,
   "metadata": {},
   "outputs": [
    {
     "data": {
      "image/png": "[encoded data removed]",
      "text/plain": [
       "<Figure size 1000x500 with 2 Axes>"
      ]
     },
     "metadata": {},
     "output_type": "display_data"
    }
   ],
   "source": [
    "# Plot the train and test accuracy and loss\n",
    "fig, (ax1, ax2) = plt.subplots(1, 2, figsize=(10, 5))\n",
    "\n",
    "ax1.plot(avg_train_accuracies, label='Train')\n",
    "ax1.plot(avg_val_accuracies, label='Test')\n",
    "ax1.set_title('Accuracy')\n",
    "ax1.set_xlabel('Epoch')\n",
    "ax1.set_ylabel('Accuracy')\n",
    "ax1.legend()\n",
    "\n",
    "ax2.plot(avg_train_losses, label='Train')\n",
    "ax2.plot(avg_val_losses, label='Test')\n",
    "ax2.set_title('Loss')\n",
    "ax2.set_xlabel('Epoch')\n",
    "ax2.set_ylabel('Loss')\n",
    "ax2.legend()\n",
    "\n",
    "plt.tight_layout()\n",
    "# plt.savefig('./Traininglog_pic/cexp_vec20_avg_cnn1_230505.PNG', dpi=300)\n",
    "plt.show()"
   ]
  },
  {
   "cell_type": "code",
   "execution_count": 43,
   "metadata": {},
   "outputs": [
    {
     "name": "stdout",
     "output_type": "stream",
     "text": [
      "100.0%\n",
      "90.14%\n",
      "0.02\n",
      "0.24\n"
     ]
    }
   ],
   "source": [
    "print(round(avg_train_accuracies[-1], 2),'%',sep='')\n",
    "print(round(avg_val_accuracies[-1], 2),'%',sep='')\n",
    "print(round(avg_train_losses[-1], 2))\n",
    "print(round(avg_val_losses[-1], 2))"
   ]
  },
  {
   "cell_type": "code",
   "execution_count": 44,
   "metadata": {},
   "outputs": [
    {
     "name": "stdout",
     "output_type": "stream",
     "text": [
      "Avg Model Accuracy: 90.37%\n",
      "Avg Model Precision: 90.24%\n",
      "Avg Model Recall: 90.37%\n",
      "Avg Model F1-score: 90.28%\n"
     ]
    }
   ],
   "source": [
    "Avg_ac = sum(model_ac_list)/len(model_ac_list)\n",
    "Avg_pc = sum(model_pc_list)/len(model_pc_list)\n",
    "Avg_rc = sum(model_rc_list)/len(model_rc_list)\n",
    "Avg_f1 = sum(model_f1_list)/len(model_f1_list)\n",
    "\n",
    "print('Avg Model Accuracy: {:.2%}'.format(Avg_ac))\n",
    "print('Avg Model Precision: {:.2%}'.format(Avg_pc))\n",
    "print('Avg Model Recall: {:.2%}'.format(Avg_rc))\n",
    "print('Avg Model F1-score: {:.2%}'.format(Avg_f1))"
   ]
  },
  {
   "cell_type": "code",
   "execution_count": 45,
   "metadata": {},
   "outputs": [
    {
     "name": "stdout",
     "output_type": "stream",
     "text": [
      "Bingo!\n"
     ]
    }
   ],
   "source": [
    "if Avg_f1 <= 0.90:\n",
    "    del model\n",
    "    print(\"Hazure\")\n",
    "else:\n",
    "    print(\"Bingo!\")"
   ]
  },
  {
   "cell_type": "code",
   "execution_count": 48,
   "metadata": {},
   "outputs": [],
   "source": [
    "# del model"
   ]
  },
  {
   "cell_type": "code",
   "execution_count": 47,
   "metadata": {},
   "outputs": [],
   "source": [
    "# # Save Model Parameter\n",
    "# torch.save(model, './models/CNN1_vec30sum_90p.pt')\n",
    "# torch.save(model.state_dict(), './models/cexp60_CNN1_vec25sum_91p_weight.pt')\n",
    "# # Save NPZ\n",
    "# X_data = {'X_resampled': np.array(X_resampled)}\n",
    "# np.savez_compressed('./resampled_vec/cexp60_X_resampled.npz', **X_data)\n",
    "# y_data = {'y_resampled': np.array(y_resampled)}\n",
    "# np.savez_compressed('./resampled_vec/cexp60_y_resampled.npz', **y_data)"
   ]
  }
 ],
 "metadata": {
  "kernelspec": {
   "display_name": "pytorch-gpu-nlp",
   "language": "python",
   "name": "python3"
  },
  "language_info": {
   "codemirror_mode": {
    "name": "ipython",
    "version": 3
   },
   "file_extension": ".py",
   "mimetype": "text/x-python",
   "name": "python",
   "nbconvert_exporter": "python",
   "pygments_lexer": "ipython3",
   "version": "3.8.15"
  },
  "orig_nbformat": 4
 },
 "nbformat": 4,
 "nbformat_minor": 2
}
