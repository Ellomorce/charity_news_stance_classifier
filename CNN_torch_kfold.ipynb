{
 "cells": [
  {
   "cell_type": "code",
   "execution_count": 2,
   "metadata": {},
   "outputs": [],
   "source": [
    "import numpy as np\n",
    "import torch\n",
    "import torch.nn as nn\n",
    "import torch.optim as optim\n",
    "import torch.nn.functional as F\n",
    "from sklearn.model_selection import StratifiedKFold\n",
    "from imblearn.over_sampling import RandomOverSampler\n",
    "from torch.utils.data import TensorDataset, DataLoader\n",
    "import matplotlib.pyplot as plt\n",
    "from torchmetrics.classification import MulticlassF1Score, MulticlassAccuracy, MulticlassPrecision, MulticlassRecall\n",
    "import thesis_models"
   ]
  },
  {
   "cell_type": "code",
   "execution_count": 3,
   "metadata": {},
   "outputs": [
    {
     "name": "stdout",
     "output_type": "stream",
     "text": [
      "1.8.2\n"
     ]
    }
   ],
   "source": [
    "print(torch.__version__)"
   ]
  },
  {
   "cell_type": "code",
   "execution_count": 4,
   "metadata": {},
   "outputs": [],
   "source": [
    "#Define File Path\n",
    "# vec20avg_path = \"./vec_data/vec20_avg.npz\"\n",
    "# vec25avg_path = \"./vec_data/vec25_avg.npz\"\n",
    "vec30avg_path = \"./vec_data/vec30_avg.npz\"\n",
    "# vec35avg_path = \"./vec_data/vec35_avg.npz\"\n",
    "# vec20sum_path = \"./vec_data/vec20_sum.npz\"\n",
    "# vec20sum_path = \"./vec_data/vec20_sum.npz\"\n",
    "# vec25sum_path = \"./vec_data/vec25_sum.npz\"\n",
    "vec30sum_path = \"./vec_data/vec30_sum.npz\"\n",
    "# vec35sum_path = \"./vec_data/vec35_sum.npz\"\n",
    "# freq_stance_labels = \"./vec_data/freq_stance_labels.npz\"\n",
    "# oh_stance_labels = \"./vec_data/oh_stance_labels.npz\"\n",
    "le_stance_labels = \"./vec_data/le_stance_labels.npz\""
   ]
  },
  {
   "cell_type": "code",
   "execution_count": 5,
   "metadata": {},
   "outputs": [],
   "source": [
    "def load_npz_file(filepath):\n",
    "    # Load the numpy array from the .npz file\n",
    "    with np.load(filepath, allow_pickle=True) as data:\n",
    "        for key in data.keys():\n",
    "            arr = data[key]\n",
    "            break\n",
    "    return arr"
   ]
  },
  {
   "cell_type": "code",
   "execution_count": 6,
   "metadata": {},
   "outputs": [],
   "source": [
    "# vec20avg = load_npz_file(vec20avg_path)\n",
    "# vec25avg = load_npz_file(vec25avg_path)\n",
    "vec30avg = load_npz_file(vec30avg_path)\n",
    "# vec35avg = load_npz_file(vec35avg_path)\n",
    "# vec20sum = load_npz_file(vec20sum_path)\n",
    "# vec20sum = load_npz_file(vec20sum_path)\n",
    "# vec25sum = load_npz_file(vec25sum_path)\n",
    "vec30sum = load_npz_file(vec30sum_path)\n",
    "# vec35sum = load_npz_file(vec35sum_path)\n",
    "# freq_label = load_npz_file(freq_stance_labels)\n",
    "# oh_label = load_npz_file(oh_stance_labels)\n",
    "le_label = load_npz_file(le_stance_labels)"
   ]
  },
  {
   "cell_type": "code",
   "execution_count": 7,
   "metadata": {},
   "outputs": [],
   "source": [
    "#指派實際要使用的Data與Label\n",
    "# data = vec30avg\n",
    "data = vec30sum\n",
    "# label = np.argmax(oh_label, axis=1)\n",
    "# label = oh_label\n",
    "# label = freq_label\n",
    "label = le_label"
   ]
  },
  {
   "cell_type": "code",
   "execution_count": 8,
   "metadata": {},
   "outputs": [
    {
     "name": "stdout",
     "output_type": "stream",
     "text": [
      "(445, 1, 300)\n",
      "(445,)\n",
      "[0 1 2 3]\n",
      "(array([0, 1, 2, 3]), array([ 11, 201,  74, 159], dtype=int64))\n"
     ]
    }
   ],
   "source": [
    "print(data.shape)\n",
    "print(label.shape)\n",
    "print(np.unique(label))\n",
    "print(np.unique(label, return_counts=True))"
   ]
  },
  {
   "cell_type": "code",
   "execution_count": 9,
   "metadata": {},
   "outputs": [],
   "source": [
    "# Data Augmentation using Oversampling\n",
    "# Define the oversampling ratio for each class\n",
    "oversample_ratio = {0: 150, 1: 201, 2: 175, 3: 183}\n",
    "# Initialize the oversampler\n",
    "oversampler = RandomOverSampler(sampling_strategy=oversample_ratio)\n",
    "# Reshape your data to a 2D matrix of shape (n_samples, n_features)\n",
    "X = data.reshape(-1, 300)\n",
    "# Apply oversampling to X and y\n",
    "X_resampled, y_resampled = oversampler.fit_resample(X, label)\n",
    "# Reshape X back to its original shape\n",
    "X_resampled = X_resampled.reshape(-1, 1, 300)"
   ]
  },
  {
   "cell_type": "code",
   "execution_count": 10,
   "metadata": {},
   "outputs": [
    {
     "name": "stdout",
     "output_type": "stream",
     "text": [
      "(709, 1, 300)\n",
      "[[[-1.05289996 -1.29180002 10.12859917 ... -0.30050007  1.0638001\n",
      "    0.92839986]]\n",
      "\n",
      " [[-0.92129999 -1.5751     10.76149985 ... -0.16209998  0.18860002\n",
      "    1.30480001]]\n",
      "\n",
      " [[-1.47109997 -0.9589     12.55939994 ...  0.43750004  1.26569999\n",
      "   -0.89280003]]\n",
      "\n",
      " ...\n",
      "\n",
      " [[-0.45549998 -1.69740009 11.96829796 ... -0.01449996  1.33109999\n",
      "    0.02020016]]\n",
      "\n",
      " [[-0.9294     -1.01890004 12.18189994 ...  1.76090002  1.03250001\n",
      "   -0.65400002]]\n",
      "\n",
      " [[-0.15729999 -2.06610001 11.803      ... -0.87010003  1.76929999\n",
      "    0.71139999]]]\n"
     ]
    }
   ],
   "source": [
    "print(X_resampled.shape)\n",
    "print(X_resampled)"
   ]
  },
  {
   "cell_type": "code",
   "execution_count": 11,
   "metadata": {},
   "outputs": [
    {
     "name": "stdout",
     "output_type": "stream",
     "text": [
      "(709,)\n",
      "[1 1 1 1 1 1 1 1 1 1 1 1 1 1 2 1 1 1 1 1 1 1 1 1 1 1 1 1 2 1 1 1 1 1 0 0 1\n",
      " 1 1 1 1 1 1 1 1 1 1 1 1 2 2 2 1 1 1 1 1 1 1 1 1 1 1 1 0 0 0 1 1 1 1 1 1 1\n",
      " 1 1 1 1 1 1 1 1 1 2 2 1 2 1 2 1 2 1 2 2 1 2 2 2 1 1 2 1 1 1 1 1 2 1 1 2 2\n",
      " 1 1 1 1 1 2 2 2 2 2 2 1 1 1 1 1 2 2 2 2 2 2 2 2 1 1 1 1 1 2 2 1 2 1 1 1 1\n",
      " 1 1 1 1 1 1 1 2 2 1 2 1 1 1 1 1 1 1 1 1 1 1 1 2 2 1 1 1 1 1 1 1 1 1 1 2 2\n",
      " 1 1 2 1 1 1 2 2 2 2 1 1 2 1 1 2 2 2 1 2 1 1 2 1 1 1 1 1 1 1 1 1 1 1 1 1 0\n",
      " 0 0 0 0 0 1 2 2 1 1 2 1 1 1 1 1 1 1 1 1 1 2 2 2 2 2 2 2 2 2 2 1 1 2 1 1 1\n",
      " 2 1 2 2 2 2 1 1 1 1 2 1 1 1 1 1 1 1 1 1 1 1 1 1 1 1 1 3 3 3 3 3 3 3 3 3 3\n",
      " 3 3 3 3 3 3 3 3 3 3 3 3 3 3 3 3 3 3 3 3 3 3 3 3 3 3 3 3 3 3 3 3 3 3 3 3 3\n",
      " 3 3 3 3 3 3 3 3 3 3 3 3 3 3 3 3 3 3 3 3 3 3 3 3 3 3 3 3 3 3 3 3 3 3 3 3 3\n",
      " 3 3 3 3 3 3 3 3 3 3 3 3 3 3 3 3 3 3 3 3 3 3 3 3 3 3 3 3 3 3 3 3 3 3 3 3 3\n",
      " 3 3 3 3 3 3 3 3 3 3 3 3 3 3 3 3 3 3 3 3 3 3 3 3 3 3 3 3 3 3 3 3 3 3 3 3 3\n",
      " 3 0 0 0 0 0 0 0 0 0 0 0 0 0 0 0 0 0 0 0 0 0 0 0 0 0 0 0 0 0 0 0 0 0 0 0 0\n",
      " 0 0 0 0 0 0 0 0 0 0 0 0 0 0 0 0 0 0 0 0 0 0 0 0 0 0 0 0 0 0 0 0 0 0 0 0 0\n",
      " 0 0 0 0 0 0 0 0 0 0 0 0 0 0 0 0 0 0 0 0 0 0 0 0 0 0 0 0 0 0 0 0 0 0 0 0 0\n",
      " 0 0 0 0 0 0 0 0 0 0 0 0 0 0 0 0 0 0 0 0 0 0 0 0 0 0 0 0 0 2 2 2 2 2 2 2 2\n",
      " 2 2 2 2 2 2 2 2 2 2 2 2 2 2 2 2 2 2 2 2 2 2 2 2 2 2 2 2 2 2 2 2 2 2 2 2 2\n",
      " 2 2 2 2 2 2 2 2 2 2 2 2 2 2 2 2 2 2 2 2 2 2 2 2 2 2 2 2 2 2 2 2 2 2 2 2 2\n",
      " 2 2 2 2 2 2 2 2 2 2 2 2 2 2 2 2 2 2 2 3 3 3 3 3 3 3 3 3 3 3 3 3 3 3 3 3 3\n",
      " 3 3 3 3 3 3]\n"
     ]
    }
   ],
   "source": [
    "print(y_resampled.shape)\n",
    "print(y_resampled)"
   ]
  },
  {
   "cell_type": "code",
   "execution_count": 12,
   "metadata": {},
   "outputs": [],
   "source": [
    "# Convert NumPy arrays to PyTorch tensors-using oversampling\n",
    "X_tensor = torch.from_numpy(X_resampled).float()\n",
    "y_tensor = torch.from_numpy(y_resampled).long()"
   ]
  },
  {
   "cell_type": "code",
   "execution_count": 13,
   "metadata": {},
   "outputs": [],
   "source": [
    "# Trainging Settings\n",
    "device = torch.device(\"cuda\" if torch.cuda.is_available() else \"cpu\")\n",
    "\n",
    "# Define the loss function and optimizer\n",
    "criterion = nn.CrossEntropyLoss()\n",
    "\n",
    "# Early Stopping Settings\n",
    "patience = 3\n",
    "counter = 0\n",
    "best_val_accuracy = 0.0\n",
    "\n",
    "# Epochs and records\n",
    "num_epochs = 10\n",
    "train_losses_list = []\n",
    "val_losses_list = []\n",
    "train_accuracies_list = []\n",
    "val_accuracies_list = []\n",
    "\n",
    "# # torchmetrcis settings\n",
    "model_accuracy = MulticlassAccuracy(num_classes=4).to(device)\n",
    "model_precision = MulticlassPrecision(num_classes=4).to(device)\n",
    "model_recall = MulticlassRecall(num_classes=4).to(device)\n",
    "model_f1 = MulticlassF1Score(num_classes=4).to(device)\n",
    "model_ac_list = []\n",
    "model_pc_list = []\n",
    "model_rc_list = []\n",
    "model_f1_list = []\n",
    "\n",
    "# Define the number of folds for k-fold cross-validation\n",
    "num_folds = 5\n",
    "# Initialize the k-fold cross-validator\n",
    "skf = StratifiedKFold(n_splits=num_folds, shuffle=True)"
   ]
  },
  {
   "cell_type": "code",
   "execution_count": 14,
   "metadata": {},
   "outputs": [
    {
     "name": "stdout",
     "output_type": "stream",
     "text": [
      "Fold 1\n",
      "Epoch: 0 \tTrain Loss: 1.635547 \tTrain Accuracy: 36.68% \tVal Loss: 1.084680 \tVal Accuracy: 43.66%\n",
      "Epoch: 1 \tTrain Loss: 0.834847 \tTrain Accuracy: 64.90% \tVal Loss: 0.730569 \tVal Accuracy: 73.24%\n",
      "Epoch: 2 \tTrain Loss: 0.562659 \tTrain Accuracy: 81.48% \tVal Loss: 0.623238 \tVal Accuracy: 73.24%\n",
      "Epoch: 3 \tTrain Loss: 0.428404 \tTrain Accuracy: 84.66% \tVal Loss: 0.465382 \tVal Accuracy: 80.99%\n",
      "Epoch: 4 \tTrain Loss: 0.279658 \tTrain Accuracy: 91.89% \tVal Loss: 0.354337 \tVal Accuracy: 86.62%\n",
      "Epoch: 5 \tTrain Loss: 0.206042 \tTrain Accuracy: 93.83% \tVal Loss: 0.326030 \tVal Accuracy: 88.03%\n",
      "Epoch: 6 \tTrain Loss: 0.172050 \tTrain Accuracy: 94.18% \tVal Loss: 0.293627 \tVal Accuracy: 88.73%\n",
      "Epoch: 7 \tTrain Loss: 0.114935 \tTrain Accuracy: 97.18% \tVal Loss: 0.308722 \tVal Accuracy: 85.92%\n",
      "Epoch: 8 \tTrain Loss: 0.061984 \tTrain Accuracy: 99.29% \tVal Loss: 0.309462 \tVal Accuracy: 87.32%\n",
      "Epoch: 9 \tTrain Loss: 0.049918 \tTrain Accuracy: 99.65% \tVal Loss: 0.266571 \tVal Accuracy: 89.44%\n",
      "Fold 2\n",
      "Epoch: 0 \tTrain Loss: 1.358808 \tTrain Accuracy: 52.20% \tVal Loss: 0.800923 \tVal Accuracy: 66.90%\n",
      "Epoch: 1 \tTrain Loss: 0.548327 \tTrain Accuracy: 82.54% \tVal Loss: 0.576585 \tVal Accuracy: 72.54%\n",
      "Epoch: 2 \tTrain Loss: 0.322224 \tTrain Accuracy: 90.12% \tVal Loss: 0.431575 \tVal Accuracy: 83.10%\n",
      "Epoch: 3 \tTrain Loss: 0.330866 \tTrain Accuracy: 86.24% \tVal Loss: 0.315725 \tVal Accuracy: 87.32%\n",
      "Epoch: 4 \tTrain Loss: 0.158564 \tTrain Accuracy: 95.59% \tVal Loss: 0.289362 \tVal Accuracy: 87.32%\n",
      "Epoch: 5 \tTrain Loss: 0.101341 \tTrain Accuracy: 97.53% \tVal Loss: 0.275371 \tVal Accuracy: 85.21%\n",
      "Epoch: 6 \tTrain Loss: 0.067692 \tTrain Accuracy: 98.94% \tVal Loss: 0.247639 \tVal Accuracy: 91.55%\n",
      "Epoch: 7 \tTrain Loss: 0.052956 \tTrain Accuracy: 99.47% \tVal Loss: 0.278603 \tVal Accuracy: 88.03%\n",
      "Epoch: 8 \tTrain Loss: 0.032083 \tTrain Accuracy: 100.00% \tVal Loss: 0.251970 \tVal Accuracy: 90.14%\n",
      "Epoch: 9 \tTrain Loss: 0.016946 \tTrain Accuracy: 100.00% \tVal Loss: 0.259610 \tVal Accuracy: 90.14%\n",
      "Early stopping at epoch 9\n",
      "Fold 3\n",
      "Epoch: 0 \tTrain Loss: 1.934058 \tTrain Accuracy: 29.63% \tVal Loss: 1.224426 \tVal Accuracy: 56.34%\n",
      "Epoch: 1 \tTrain Loss: 0.991421 \tTrain Accuracy: 72.49% \tVal Loss: 0.818166 \tVal Accuracy: 80.99%\n",
      "Epoch: 2 \tTrain Loss: 0.647823 \tTrain Accuracy: 78.48% \tVal Loss: 0.662922 \tVal Accuracy: 70.42%\n",
      "Epoch: 3 \tTrain Loss: 0.487324 \tTrain Accuracy: 81.66% \tVal Loss: 0.429510 \tVal Accuracy: 88.73%\n",
      "Epoch: 4 \tTrain Loss: 0.340622 \tTrain Accuracy: 88.89% \tVal Loss: 0.359258 \tVal Accuracy: 89.44%\n",
      "Epoch: 5 \tTrain Loss: 0.242469 \tTrain Accuracy: 93.65% \tVal Loss: 0.324362 \tVal Accuracy: 90.85%\n",
      "Epoch: 6 \tTrain Loss: 0.221124 \tTrain Accuracy: 92.42% \tVal Loss: 0.254489 \tVal Accuracy: 92.96%\n",
      "Epoch: 7 \tTrain Loss: 0.156096 \tTrain Accuracy: 95.59% \tVal Loss: 0.424347 \tVal Accuracy: 81.69%\n",
      "Epoch: 8 \tTrain Loss: 0.201551 \tTrain Accuracy: 92.59% \tVal Loss: 0.245845 \tVal Accuracy: 91.55%\n",
      "Epoch: 9 \tTrain Loss: 0.146114 \tTrain Accuracy: 94.53% \tVal Loss: 0.246901 \tVal Accuracy: 92.96%\n",
      "Early stopping at epoch 9\n",
      "Fold 4\n",
      "Epoch: 0 \tTrain Loss: 1.324149 \tTrain Accuracy: 50.44% \tVal Loss: 0.823325 \tVal Accuracy: 59.15%\n",
      "Epoch: 1 \tTrain Loss: 0.564976 \tTrain Accuracy: 74.78% \tVal Loss: 0.446333 \tVal Accuracy: 84.51%\n",
      "Epoch: 2 \tTrain Loss: 0.330696 \tTrain Accuracy: 87.65% \tVal Loss: 0.432056 \tVal Accuracy: 80.99%\n",
      "Epoch: 3 \tTrain Loss: 0.280601 \tTrain Accuracy: 89.95% \tVal Loss: 0.250215 \tVal Accuracy: 89.44%\n",
      "Epoch: 4 \tTrain Loss: 0.173037 \tTrain Accuracy: 94.71% \tVal Loss: 0.220604 \tVal Accuracy: 90.14%\n",
      "Epoch: 5 \tTrain Loss: 0.112862 \tTrain Accuracy: 97.00% \tVal Loss: 0.231244 \tVal Accuracy: 88.03%\n",
      "Epoch: 6 \tTrain Loss: 0.086070 \tTrain Accuracy: 98.24% \tVal Loss: 0.247970 \tVal Accuracy: 90.14%\n",
      "Epoch: 7 \tTrain Loss: 0.047043 \tTrain Accuracy: 99.65% \tVal Loss: 0.156869 \tVal Accuracy: 92.96%\n",
      "Epoch: 8 \tTrain Loss: 0.030446 \tTrain Accuracy: 99.82% \tVal Loss: 0.178940 \tVal Accuracy: 91.55%\n",
      "Epoch: 9 \tTrain Loss: 0.020686 \tTrain Accuracy: 100.00% \tVal Loss: 0.168103 \tVal Accuracy: 92.25%\n",
      "Fold 5\n",
      "Epoch: 0 \tTrain Loss: 1.206423 \tTrain Accuracy: 52.29% \tVal Loss: 0.726264 \tVal Accuracy: 67.38%\n",
      "Epoch: 1 \tTrain Loss: 0.534456 \tTrain Accuracy: 80.28% \tVal Loss: 0.448876 \tVal Accuracy: 85.82%\n",
      "Epoch: 2 \tTrain Loss: 0.342617 \tTrain Accuracy: 86.80% \tVal Loss: 0.397394 \tVal Accuracy: 85.82%\n",
      "Epoch: 3 \tTrain Loss: 0.227089 \tTrain Accuracy: 92.25% \tVal Loss: 0.276557 \tVal Accuracy: 92.20%\n",
      "Epoch: 4 \tTrain Loss: 0.174919 \tTrain Accuracy: 94.37% \tVal Loss: 0.219479 \tVal Accuracy: 92.91%\n",
      "Epoch: 5 \tTrain Loss: 0.111806 \tTrain Accuracy: 97.18% \tVal Loss: 0.170921 \tVal Accuracy: 93.62%\n",
      "Epoch: 6 \tTrain Loss: 0.100027 \tTrain Accuracy: 97.89% \tVal Loss: 0.157755 \tVal Accuracy: 95.04%\n",
      "Epoch: 7 \tTrain Loss: 0.064417 \tTrain Accuracy: 98.94% \tVal Loss: 0.122347 \tVal Accuracy: 95.04%\n",
      "Epoch: 8 \tTrain Loss: 0.034387 \tTrain Accuracy: 99.82% \tVal Loss: 0.106676 \tVal Accuracy: 95.74%\n",
      "Epoch: 9 \tTrain Loss: 0.019905 \tTrain Accuracy: 100.00% \tVal Loss: 0.107368 \tVal Accuracy: 95.04%\n"
     ]
    }
   ],
   "source": [
    "# Iterate over the folds and prepare data and labels for training and validation\n",
    "for fold, (train_idx, val_idx) in enumerate(skf.split(X_tensor, y_tensor)):\n",
    "    print(f'Fold {fold + 1}')\n",
    "    X_train_fold = X_tensor[train_idx]\n",
    "    y_train_fold = y_tensor[train_idx]\n",
    "    X_val_fold = X_tensor[val_idx]\n",
    "    y_val_fold = y_tensor[val_idx]\n",
    "\n",
    "    # Create PyTorch DataLoader for training and validation\n",
    "    train_data = TensorDataset(X_train_fold, y_train_fold)\n",
    "    val_data = TensorDataset(X_val_fold, y_val_fold)\n",
    "    train_loader = DataLoader(train_data, batch_size=32, shuffle=True)\n",
    "    test_loader = DataLoader(val_data, batch_size=32, shuffle=False)\n",
    "\n",
    "    # Initialize the reocrd lists for this fold\n",
    "    train_losses = []\n",
    "    val_losses = []\n",
    "    train_accuracies = []\n",
    "    val_accuracies = []\n",
    "\n",
    "    # Early Stopping Settings\n",
    "    patience = 3\n",
    "    counter = 0\n",
    "    best_val_accuracy = 0.0\n",
    "\n",
    "    model = thesis_models.CNN_1()\n",
    "    model.to(device)\n",
    "    optimizer = optim.Adam(model.parameters(), lr=0.001)\n",
    "\n",
    "    for epoch in range(num_epochs):\n",
    "        model.train()\n",
    "        train_loss = 0.0\n",
    "        train_correct = 0\n",
    "        for batch_idx, (data, target) in enumerate(train_loader):\n",
    "            optimizer.zero_grad()\n",
    "            data = data.to(device)\n",
    "            target = target.to(device)\n",
    "            output = model(data)\n",
    "            loss = criterion(output, target.squeeze().to(torch.long))\n",
    "            loss.backward()\n",
    "            optimizer.step()\n",
    "            train_loss += loss.item()\n",
    "            _, predicted = torch.max(output.data, 1)\n",
    "            train_correct += (predicted == target.squeeze().long()).sum().item()\n",
    "        train_loss /= len(train_loader)\n",
    "        train_accuracy = 100.0 * train_correct / len(train_data)\n",
    "        train_losses.append(train_loss)\n",
    "        train_accuracies.append(train_accuracy)\n",
    "\n",
    "        # Evaluate the model on the validation set\n",
    "        model.eval()\n",
    "        val_loss = 0.0\n",
    "        val_correct = 0\n",
    "        with torch.no_grad():\n",
    "            for data, target in test_loader:\n",
    "                data = data.to(device)\n",
    "                target = target.to(device)\n",
    "                output = model(data)\n",
    "                loss = criterion(output, target.squeeze().to(torch.long))\n",
    "                val_loss += loss.item()\n",
    "                _, predicted = torch.max(output.data, 1)\n",
    "                val_correct += (predicted == target.squeeze().long()).sum().item()\n",
    "                model_accuracy.update(predicted, target.squeeze().long())\n",
    "                model_precision.update(predicted, target.squeeze().long())\n",
    "                model_recall.update(predicted, target.squeeze().long())\n",
    "                model_f1.update(predicted, target.squeeze().long())\n",
    "        val_loss /= len(test_loader)\n",
    "        val_accuracy = 100.0 * val_correct / len(val_data)\n",
    "        val_losses.append(val_loss)\n",
    "        val_accuracies.append(val_accuracy)\n",
    "\n",
    "        print('Epoch: {} \\tTrain Loss: {:.6f} \\tTrain Accuracy: {:.2f}% \\tVal Loss: {:.6f} \\tVal Accuracy: {:.2f}%'.format(\n",
    "            epoch, train_loss, train_accuracy, val_loss, val_accuracy))\n",
    "        \n",
    "        if val_accuracy > best_val_accuracy:\n",
    "          best_val_accuracy = val_accuracy\n",
    "          counter = 0\n",
    "        else:\n",
    "          counter += 1\n",
    "          if counter >= patience:\n",
    "            print(\"Early stopping at epoch\", epoch)\n",
    "            break\n",
    "        \n",
    "    # Append the lists for this fold to the corresponding list for all folds\n",
    "    train_losses_list.append(train_losses)\n",
    "    val_losses_list.append(val_losses)\n",
    "    train_accuracies_list.append(train_accuracies)\n",
    "    val_accuracies_list.append(val_accuracies)\n",
    "    ac = model_accuracy.compute()\n",
    "    pc = model_precision.compute()\n",
    "    rc = model_recall.compute()\n",
    "    f1 = model_f1.compute()\n",
    "    model_ac_list.append(ac.item())\n",
    "    model_pc_list.append(pc.item())\n",
    "    model_rc_list.append(rc.item())\n",
    "    model_f1_list.append(f1.item())"
   ]
  },
  {
   "cell_type": "code",
   "execution_count": 15,
   "metadata": {},
   "outputs": [
    {
     "name": "stdout",
     "output_type": "stream",
     "text": [
      "5\n",
      "10\n"
     ]
    }
   ],
   "source": [
    "print(len(train_losses_list))\n",
    "print(len(train_losses_list[0]))"
   ]
  },
  {
   "cell_type": "code",
   "execution_count": 16,
   "metadata": {},
   "outputs": [
    {
     "name": "stdout",
     "output_type": "stream",
     "text": [
      "[0.8060113191604614, 0.8266035318374634, 0.8323721885681152, 0.8411586880683899, 0.8537666201591492]\n"
     ]
    }
   ],
   "source": [
    "print(model_f1_list)"
   ]
  },
  {
   "cell_type": "code",
   "execution_count": 17,
   "metadata": {},
   "outputs": [],
   "source": [
    "avg_train_losses = [sum(x)/len(x) for x in zip(*train_losses_list)]\n",
    "avg_val_losses = [sum(x)/len(x) for x in zip(*val_losses_list)]\n",
    "avg_train_accuracies = [sum(x)/len(x) for x in zip(*train_accuracies_list)]\n",
    "avg_val_accuracies = [sum(x)/len(x) for x in zip(*val_accuracies_list)]"
   ]
  },
  {
   "cell_type": "code",
   "execution_count": 18,
   "metadata": {},
   "outputs": [
    {
     "data": {
      "image/png": "[encoded data removed]",
      "text/plain": [
       "<Figure size 1000x500 with 2 Axes>"
      ]
     },
     "metadata": {},
     "output_type": "display_data"
    }
   ],
   "source": [
    "# Plot the train and test accuracy and loss\n",
    "fig, (ax1, ax2) = plt.subplots(1, 2, figsize=(10, 5))\n",
    "\n",
    "ax1.plot(avg_train_accuracies, label='Train')\n",
    "ax1.plot(avg_val_accuracies, label='Test')\n",
    "ax1.set_title('Accuracy')\n",
    "ax1.set_xlabel('Epoch')\n",
    "ax1.set_ylabel('Accuracy')\n",
    "ax1.legend()\n",
    "\n",
    "ax2.plot(avg_train_losses, label='Train')\n",
    "ax2.plot(avg_val_losses, label='Test')\n",
    "ax2.set_title('Loss')\n",
    "ax2.set_xlabel('Epoch')\n",
    "ax2.set_ylabel('Loss')\n",
    "ax2.legend()\n",
    "\n",
    "plt.tight_layout()\n",
    "# plt.savefig('vec30_sum_cnn1_230419.PNG', dpi=300)\n",
    "plt.show()"
   ]
  },
  {
   "cell_type": "code",
   "execution_count": 19,
   "metadata": {},
   "outputs": [
    {
     "name": "stdout",
     "output_type": "stream",
     "text": [
      "98.84\n",
      "91.96\n",
      "0.05\n",
      "0.21\n"
     ]
    }
   ],
   "source": [
    "print(round(avg_train_accuracies[-1], 2))\n",
    "print(round(avg_val_accuracies[-1], 2))\n",
    "print(round(avg_train_losses[-1], 2))\n",
    "print(round(avg_val_losses[-1], 2))"
   ]
  },
  {
   "cell_type": "code",
   "execution_count": 20,
   "metadata": {},
   "outputs": [
    {
     "name": "stdout",
     "output_type": "stream",
     "text": [
      "Avg Model Accuracy: 83.57%\n",
      "Avg Model Precision: 83.41%\n",
      "Avg Model Recall: 83.57%\n",
      "Avg Model F1-score: 83.20%\n"
     ]
    }
   ],
   "source": [
    "Avg_ac = sum(model_ac_list)/len(model_ac_list)\n",
    "Avg_pc = sum(model_pc_list)/len(model_pc_list)\n",
    "Avg_rc = sum(model_rc_list)/len(model_rc_list)\n",
    "Avg_f1 = sum(model_f1_list)/len(model_f1_list)\n",
    "\n",
    "print('Avg Model Accuracy: {:.2%}'.format(Avg_ac))\n",
    "print('Avg Model Precision: {:.2%}'.format(Avg_pc))\n",
    "print('Avg Model Recall: {:.2%}'.format(Avg_rc))\n",
    "print('Avg Model F1-score: {:.2%}'.format(Avg_f1))"
   ]
  },
  {
   "cell_type": "code",
   "execution_count": null,
   "metadata": {},
   "outputs": [],
   "source": [
    "# #Save Model Parameter\n",
    "# torch.save(model, 'cnn_vec30sum.pt')"
   ]
  }
 ],
 "metadata": {
  "kernelspec": {
   "display_name": "pytorch-gpu-nlp",
   "language": "python",
   "name": "python3"
  },
  "language_info": {
   "codemirror_mode": {
    "name": "ipython",
    "version": 3
   },
   "file_extension": ".py",
   "mimetype": "text/x-python",
   "name": "python",
   "nbconvert_exporter": "python",
   "pygments_lexer": "ipython3",
   "version": "3.8.15"
  },
  "orig_nbformat": 4
 },
 "nbformat": 4,
 "nbformat_minor": 2
}
