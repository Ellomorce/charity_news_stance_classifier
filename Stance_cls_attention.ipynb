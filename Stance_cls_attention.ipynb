{
 "cells": [
  {
   "cell_type": "code",
   "execution_count": 338,
   "metadata": {},
   "outputs": [],
   "source": [
    "import numpy as np\n",
    "import torch\n",
    "import torch.nn as nn\n",
    "import torch.optim as optim\n",
    "import torch.nn.functional as F\n",
    "from sklearn.model_selection import StratifiedKFold, train_test_split\n",
    "from imblearn.over_sampling import SMOTE\n",
    "from torch.utils.data import TensorDataset, DataLoader\n",
    "import matplotlib.pyplot as plt\n",
    "from torchmetrics.classification import MulticlassF1Score, MulticlassAccuracy, MulticlassPrecision, MulticlassRecall\n",
    "from itertools import zip_longest\n",
    "import thesis_models"
   ]
  },
  {
   "cell_type": "code",
   "execution_count": 339,
   "metadata": {},
   "outputs": [],
   "source": [
    "#Define File Path\n",
    "# vec20avg_path = \"./vec_data/vec20_avg.npz\"\n",
    "# vec25avg_path = \"./vec_data/vec25_avg.npz\"\n",
    "# vec30avg_path = \"./vec_data/vec30_avg.npz\"\n",
    "# vec35avg_path = \"./vec_data/vec35_avg.npz\"\n",
    "vec20sum_path = \"./vec_data/vec20_sum.npz\"\n",
    "# vec25sum_path = \"./vec_data/vec25_sum.npz\"\n",
    "# vec30sum_path = \"./vec_data/vec30_sum.npz\"\n",
    "# vec35sum_path = \"./vec_data/vec35_sum.npz\"\n",
    "# bert_path = \"./vec_data/twc_news_vec.npz\"\n",
    "le_stance_labels = \"./vec_data/le_stance_labels.npz\""
   ]
  },
  {
   "cell_type": "code",
   "execution_count": 340,
   "metadata": {},
   "outputs": [],
   "source": [
    "def load_npz_file(filepath):\n",
    "    # Load the numpy array from the .npz file\n",
    "    with np.load(filepath, allow_pickle=True) as data:\n",
    "        for key in data.keys():\n",
    "            arr = data[key]\n",
    "            break\n",
    "    return arr"
   ]
  },
  {
   "cell_type": "code",
   "execution_count": 341,
   "metadata": {},
   "outputs": [],
   "source": [
    "# vec20avg = load_npz_file(vec20avg_path)\n",
    "# vec25avg = load_npz_file(vec25avg_path)\n",
    "# vec30avg = load_npz_file(vec30avg_path)\n",
    "# vec35avg = load_npz_file(vec35avg_path)\n",
    "vec20sum = load_npz_file(vec20sum_path)\n",
    "# vec25sum = load_npz_file(vec25sum_path)\n",
    "# vec30sum = load_npz_file(vec30sum_path)\n",
    "# vec35sum = load_npz_file(vec35sum_path)\n",
    "# bert_vec = load_npz_file(bert_path)\n",
    "le_label = load_npz_file(le_stance_labels)"
   ]
  },
  {
   "cell_type": "code",
   "execution_count": 342,
   "metadata": {},
   "outputs": [],
   "source": [
    "#指派實際要使用的Data與Label\n",
    "# data = vec30sum\n",
    "# data = vec30avg\n",
    "data = vec20sum\n",
    "# data = vec20avg\n",
    "# data = vec25sum\n",
    "# data = vec25avg\n",
    "# data = vec35sum\n",
    "# data = vec35avg\n",
    "# data = bert_vec\n",
    "label = le_label"
   ]
  },
  {
   "cell_type": "code",
   "execution_count": 343,
   "metadata": {},
   "outputs": [
    {
     "name": "stdout",
     "output_type": "stream",
     "text": [
      "(445, 1, 300)\n",
      "(445,)\n",
      "[0 1 2 3]\n",
      "(array([0, 1, 2, 3]), array([ 11, 201,  74, 159], dtype=int64))\n"
     ]
    }
   ],
   "source": [
    "print(data.shape)\n",
    "print(label.shape)\n",
    "print(np.unique(label))\n",
    "print(np.unique(label, return_counts=True))"
   ]
  },
  {
   "cell_type": "code",
   "execution_count": 344,
   "metadata": {},
   "outputs": [],
   "source": [
    "# Data Augmentation using Oversampling\n",
    "# Define the oversampling ratio for each class\n",
    "# oversample_ratio = {0: 100, 1: 201, 2: 120, 3: 159}\n",
    "oversample_ratio = {0: 150, 1: 201, 2: 175, 3: 183}\n",
    "# Initialize the oversampler\n",
    "oversampler = SMOTE(sampling_strategy=oversample_ratio)\n",
    "# Reshape your data to a 2D matrix of shape (n_samples, n_features)\n",
    "X = data.reshape(-1, 300)\n",
    "# Apply oversampling to X and y\n",
    "X_resampled, y_resampled = oversampler.fit_resample(X, label)\n",
    "# Reshape X back to its original shape\n",
    "X_resampled = X_resampled.reshape(-1, 1, 300)"
   ]
  },
  {
   "cell_type": "code",
   "execution_count": 345,
   "metadata": {},
   "outputs": [
    {
     "name": "stdout",
     "output_type": "stream",
     "text": [
      "(709, 1, 300)\n",
      "(709,)\n"
     ]
    }
   ],
   "source": [
    "print(X_resampled.shape)\n",
    "print(y_resampled.shape)"
   ]
  },
  {
   "cell_type": "code",
   "execution_count": 346,
   "metadata": {},
   "outputs": [],
   "source": [
    "X_data, test_data, X_labels, test_labels = train_test_split(X_resampled, y_resampled, stratify=y_resampled, test_size=0.1)"
   ]
  },
  {
   "cell_type": "code",
   "execution_count": 347,
   "metadata": {},
   "outputs": [
    {
     "name": "stdout",
     "output_type": "stream",
     "text": [
      "Train data shape: (638, 1, 300)\n",
      "Train labels shape: (638,)\n",
      "Test data shape: (71, 1, 300)\n",
      "Test labels shape: (71,)\n"
     ]
    }
   ],
   "source": [
    "print('Train data shape:', X_data.shape)\n",
    "print('Train labels shape:', X_labels.shape)\n",
    "print('Test data shape:', test_data.shape)\n",
    "print('Test labels shape:', test_labels.shape)"
   ]
  },
  {
   "cell_type": "code",
   "execution_count": 348,
   "metadata": {},
   "outputs": [],
   "source": [
    "X_tensor = torch.from_numpy(X_data).float()\n",
    "y_tensor = torch.from_numpy(X_labels).long()\n",
    "test_data_tensor = torch.from_numpy(test_data).float()\n",
    "test_labels_tensor = torch.from_numpy(test_labels).long()\n",
    "test_dataset = TensorDataset(test_data_tensor, test_labels_tensor)\n",
    "test_loader = DataLoader(test_dataset, batch_size=16, shuffle=False)"
   ]
  },
  {
   "cell_type": "code",
   "execution_count": 349,
   "metadata": {},
   "outputs": [],
   "source": [
    "# Trainging Settings\n",
    "input_size = 300  # Size of input vector\n",
    "hidden_size = 256  # Number of features in the hidden state\n",
    "num_layers = 2  # Number of LSTM layers\n",
    "output_size = 4  # Number of output classes\n",
    "learning_rate = 0.0008\n",
    "device = torch.device(\"cuda\" if torch.cuda.is_available() else \"cpu\")\n",
    "\n",
    "# Define the loss function and optimizer\n",
    "criterion = nn.CrossEntropyLoss()\n",
    "\n",
    "# Epochs and records\n",
    "num_epochs = 30\n",
    "train_losses_list = []\n",
    "val_losses_list = []\n",
    "train_accuracies_list = []\n",
    "val_accuracies_list = []\n",
    "\n",
    "# # torchmetrcis settings\n",
    "model_accuracy = MulticlassAccuracy(num_classes=4, average='macro').to(device)\n",
    "model_precision = MulticlassPrecision(num_classes=4, average='macro').to(device)\n",
    "model_recall = MulticlassRecall(num_classes=4, average='macro').to(device)\n",
    "model_f1 = MulticlassF1Score(num_classes=4, average='macro').to(device)\n",
    "\n",
    "# Define the number of folds for k-fold cross-validation\n",
    "num_folds = 5\n",
    "# Initialize the k-fold cross-validator\n",
    "skf = StratifiedKFold(n_splits=num_folds, shuffle=True)"
   ]
  },
  {
   "cell_type": "code",
   "execution_count": 350,
   "metadata": {},
   "outputs": [
    {
     "name": "stdout",
     "output_type": "stream",
     "text": [
      "Fold 1\n",
      "Epoch: 0 \tTrain Loss: 1.054326 \tTrain Accuracy: 56.67% \tVal Loss: 0.582183 \tVal Accuracy: 83.59%\n",
      "Epoch: 1 \tTrain Loss: 0.394370 \tTrain Accuracy: 87.06% \tVal Loss: 0.324985 \tVal Accuracy: 89.84%\n",
      "Epoch: 2 \tTrain Loss: 0.195493 \tTrain Accuracy: 94.51% \tVal Loss: 0.250359 \tVal Accuracy: 92.97%\n",
      "Epoch: 3 \tTrain Loss: 0.099653 \tTrain Accuracy: 97.84% \tVal Loss: 0.206380 \tVal Accuracy: 96.09%\n",
      "Epoch: 4 \tTrain Loss: 0.044710 \tTrain Accuracy: 99.41% \tVal Loss: 0.256212 \tVal Accuracy: 89.84%\n",
      "Epoch: 5 \tTrain Loss: 0.032049 \tTrain Accuracy: 99.61% \tVal Loss: 0.233402 \tVal Accuracy: 92.19%\n",
      "Epoch: 6 \tTrain Loss: 0.019435 \tTrain Accuracy: 99.61% \tVal Loss: 0.191061 \tVal Accuracy: 94.53%\n",
      "Early stopping at epoch 6\n",
      "Fold 2\n",
      "Epoch: 0 \tTrain Loss: 1.058584 \tTrain Accuracy: 54.12% \tVal Loss: 0.657103 \tVal Accuracy: 78.91%\n",
      "Epoch: 1 \tTrain Loss: 0.407502 \tTrain Accuracy: 86.08% \tVal Loss: 0.360620 \tVal Accuracy: 84.38%\n",
      "Epoch: 2 \tTrain Loss: 0.214561 \tTrain Accuracy: 91.37% \tVal Loss: 0.222915 \tVal Accuracy: 92.19%\n",
      "Epoch: 3 \tTrain Loss: 0.102448 \tTrain Accuracy: 96.86% \tVal Loss: 0.266635 \tVal Accuracy: 90.62%\n",
      "Epoch: 4 \tTrain Loss: 0.053715 \tTrain Accuracy: 99.02% \tVal Loss: 0.163315 \tVal Accuracy: 94.53%\n",
      "Epoch: 5 \tTrain Loss: 0.029223 \tTrain Accuracy: 99.41% \tVal Loss: 0.202275 \tVal Accuracy: 92.19%\n",
      "Epoch: 6 \tTrain Loss: 0.035213 \tTrain Accuracy: 98.63% \tVal Loss: 0.249190 \tVal Accuracy: 92.97%\n",
      "Epoch: 7 \tTrain Loss: 0.012423 \tTrain Accuracy: 100.00% \tVal Loss: 0.242300 \tVal Accuracy: 93.75%\n",
      "Early stopping at epoch 7\n",
      "Fold 3\n",
      "Epoch: 0 \tTrain Loss: 1.046771 \tTrain Accuracy: 60.59% \tVal Loss: 0.545944 \tVal Accuracy: 85.16%\n",
      "Epoch: 1 \tTrain Loss: 0.378566 \tTrain Accuracy: 87.45% \tVal Loss: 0.366380 \tVal Accuracy: 86.72%\n",
      "Epoch: 2 \tTrain Loss: 0.178402 \tTrain Accuracy: 93.92% \tVal Loss: 0.371242 \tVal Accuracy: 90.62%\n",
      "Epoch: 3 \tTrain Loss: 0.094282 \tTrain Accuracy: 96.86% \tVal Loss: 0.256738 \tVal Accuracy: 92.97%\n",
      "Epoch: 4 \tTrain Loss: 0.060184 \tTrain Accuracy: 98.43% \tVal Loss: 0.235277 \tVal Accuracy: 93.75%\n",
      "Epoch: 5 \tTrain Loss: 0.020159 \tTrain Accuracy: 100.00% \tVal Loss: 0.253883 \tVal Accuracy: 95.31%\n",
      "Epoch: 6 \tTrain Loss: 0.018316 \tTrain Accuracy: 99.61% \tVal Loss: 0.285261 \tVal Accuracy: 91.41%\n",
      "Epoch: 7 \tTrain Loss: 0.010584 \tTrain Accuracy: 99.80% \tVal Loss: 0.313656 \tVal Accuracy: 92.19%\n",
      "Epoch: 8 \tTrain Loss: 0.005690 \tTrain Accuracy: 100.00% \tVal Loss: 0.261021 \tVal Accuracy: 92.97%\n",
      "Early stopping at epoch 8\n",
      "Fold 4\n",
      "Epoch: 0 \tTrain Loss: 1.013022 \tTrain Accuracy: 60.86% \tVal Loss: 0.694554 \tVal Accuracy: 70.08%\n",
      "Epoch: 1 \tTrain Loss: 0.378538 \tTrain Accuracy: 85.91% \tVal Loss: 0.474982 \tVal Accuracy: 82.68%\n",
      "Epoch: 2 \tTrain Loss: 0.200707 \tTrain Accuracy: 92.95% \tVal Loss: 0.319311 \tVal Accuracy: 88.19%\n",
      "Epoch: 3 \tTrain Loss: 0.106772 \tTrain Accuracy: 96.87% \tVal Loss: 0.346585 \tVal Accuracy: 85.04%\n",
      "Epoch: 4 \tTrain Loss: 0.060055 \tTrain Accuracy: 98.24% \tVal Loss: 0.286810 \tVal Accuracy: 88.98%\n",
      "Epoch: 5 \tTrain Loss: 0.033354 \tTrain Accuracy: 99.22% \tVal Loss: 0.260965 \tVal Accuracy: 89.76%\n",
      "Epoch: 6 \tTrain Loss: 0.011776 \tTrain Accuracy: 100.00% \tVal Loss: 0.339677 \tVal Accuracy: 87.40%\n",
      "Epoch: 7 \tTrain Loss: 0.007745 \tTrain Accuracy: 99.80% \tVal Loss: 0.330836 \tVal Accuracy: 89.76%\n",
      "Epoch: 8 \tTrain Loss: 0.004219 \tTrain Accuracy: 100.00% \tVal Loss: 0.334576 \tVal Accuracy: 89.76%\n",
      "Early stopping at epoch 8\n",
      "Fold 5\n",
      "Epoch: 0 \tTrain Loss: 1.058004 \tTrain Accuracy: 58.12% \tVal Loss: 0.646214 \tVal Accuracy: 74.80%\n",
      "Epoch: 1 \tTrain Loss: 0.441214 \tTrain Accuracy: 83.17% \tVal Loss: 0.325971 \tVal Accuracy: 88.19%\n",
      "Epoch: 2 \tTrain Loss: 0.214709 \tTrain Accuracy: 92.56% \tVal Loss: 0.264312 \tVal Accuracy: 92.13%\n",
      "Epoch: 3 \tTrain Loss: 0.103246 \tTrain Accuracy: 97.46% \tVal Loss: 0.258314 \tVal Accuracy: 92.91%\n",
      "Epoch: 4 \tTrain Loss: 0.047949 \tTrain Accuracy: 98.63% \tVal Loss: 0.277162 \tVal Accuracy: 89.76%\n",
      "Epoch: 5 \tTrain Loss: 0.031180 \tTrain Accuracy: 99.22% \tVal Loss: 0.295169 \tVal Accuracy: 91.34%\n",
      "Epoch: 6 \tTrain Loss: 0.016356 \tTrain Accuracy: 99.80% \tVal Loss: 0.302879 \tVal Accuracy: 92.91%\n",
      "Early stopping at epoch 6\n"
     ]
    }
   ],
   "source": [
    "for fold, (train_idx, val_idx) in enumerate(skf.split(X_tensor, y_tensor)):\n",
    "    print(f'Fold {fold + 1}')\n",
    "    X_train_fold = X_tensor[train_idx]\n",
    "    y_train_fold = y_tensor[train_idx]\n",
    "    X_val_fold = X_tensor[val_idx]\n",
    "    y_val_fold = y_tensor[val_idx]\n",
    "\n",
    "    # Create PyTorch DataLoader for training and validation\n",
    "    train_data = TensorDataset(X_train_fold, y_train_fold)\n",
    "    val_data = TensorDataset(X_val_fold, y_val_fold)\n",
    "    train_loader = DataLoader(train_data, batch_size=16, shuffle=True)\n",
    "    val_loader = DataLoader(val_data, batch_size=16, shuffle=False)\n",
    "\n",
    "    # Initialize the reocrd lists for this fold\n",
    "    train_losses = []\n",
    "    val_losses = []\n",
    "    train_accuracies = []\n",
    "    val_accuracies = []\n",
    "\n",
    "    # Early Stopping Settings\n",
    "    patience = 3\n",
    "    counter = 0\n",
    "    best_val_accuracy = 0.0\n",
    "\n",
    "    # Instantiate the model\n",
    "    model = thesis_models.LSTM_3(input_size, hidden_size, num_layers, output_size, False)\n",
    "    model.to(device)\n",
    "    optimizer = optim.AdamW(model.parameters(), lr=learning_rate)\n",
    "\n",
    "    for epoch in range(num_epochs):\n",
    "      model.train()\n",
    "      train_loss = 0.0\n",
    "      train_correct = 0\n",
    "      for batch_idx, (data, target) in enumerate(train_loader):\n",
    "        optimizer.zero_grad()\n",
    "        data = data.to(device)\n",
    "        target = target.to(device)\n",
    "        output = model(data)\n",
    "        loss = criterion(output, target)\n",
    "        loss.backward()\n",
    "        optimizer.step()\n",
    "        train_loss += loss.item()\n",
    "        _, predicted = torch.max(output.data, 1)\n",
    "        train_correct += (predicted == target.squeeze().long()).sum().item()\n",
    "      train_loss /= len(train_loader)\n",
    "      train_accuracy = 100.0 * train_correct / len(train_data)\n",
    "      train_losses.append(train_loss)\n",
    "      train_accuracies.append(train_accuracy)\n",
    "\n",
    "      # Evaluate the model on the validation set\n",
    "      model.eval()\n",
    "      val_loss = 0.0\n",
    "      val_correct = 0\n",
    "      with torch.no_grad():\n",
    "        for batch_idx, (data, target) in enumerate(val_loader):\n",
    "          data = data.to(device)\n",
    "          target = target.to(device)\n",
    "          output = model(data)\n",
    "          loss = criterion(output, target)\n",
    "          val_loss += loss.item()\n",
    "          _, predicted = torch.max(output.data, 1)\n",
    "          val_correct += (predicted == target.squeeze().long()).sum().item()\n",
    "      val_loss /= len(val_loader)\n",
    "      val_accuracy = 100.0 * val_correct / len(val_data)\n",
    "      val_losses.append(val_loss)\n",
    "      val_accuracies.append(val_accuracy)\n",
    "\n",
    "      print('Epoch: {} \\tTrain Loss: {:.6f} \\tTrain Accuracy: {:.2f}% \\tVal Loss: {:.6f} \\tVal Accuracy: {:.2f}%'.format(\n",
    "          epoch, train_loss, train_accuracy, val_loss, val_accuracy))\n",
    "      \n",
    "      if val_accuracy > best_val_accuracy:\n",
    "        best_val_accuracy = val_accuracy\n",
    "        counter = 0\n",
    "      else:\n",
    "        counter += 1\n",
    "        if counter >= patience:\n",
    "          print(\"Early stopping at epoch\", epoch)\n",
    "          break\n",
    "        \n",
    "    # Append the lists for this fold to the corresponding list for all folds\n",
    "    train_losses_list.append(train_losses)\n",
    "    val_losses_list.append(val_losses)\n",
    "    train_accuracies_list.append(train_accuracies)\n",
    "    val_accuracies_list.append(val_accuracies)"
   ]
  },
  {
   "cell_type": "code",
   "execution_count": 351,
   "metadata": {},
   "outputs": [],
   "source": [
    "avg_train_losses = [sum(filter(lambda x: x is not None, items))/len(list(filter(lambda x: x is not None, items))) for items in zip_longest(*train_losses_list)]\n",
    "avg_val_losses = [sum(filter(lambda x: x is not None, items))/len(list(filter(lambda x: x is not None, items))) for items in zip_longest(*val_losses_list)]\n",
    "avg_train_accuracies = [sum(filter(lambda x: x is not None, items))/len(list(filter(lambda x: x is not None, items))) for items in zip_longest(*train_accuracies_list)]\n",
    "avg_val_accuracies = [sum(filter(lambda x: x is not None, items))/len(list(filter(lambda x: x is not None, items))) for items in zip_longest(*val_accuracies_list)]"
   ]
  },
  {
   "cell_type": "code",
   "execution_count": 352,
   "metadata": {},
   "outputs": [
    {
     "data": {
      "image/png": "[encoded data removed]",
      "text/plain": [
       "<Figure size 1000x500 with 2 Axes>"
      ]
     },
     "metadata": {},
     "output_type": "display_data"
    }
   ],
   "source": [
    "# Plot the train and test accuracy and loss\n",
    "fig, (ax1, ax2) = plt.subplots(1, 2, figsize=(10, 5))\n",
    "\n",
    "ax1.plot(avg_train_accuracies, label='Train')\n",
    "ax1.plot(avg_val_accuracies, label='Test')\n",
    "ax1.set_title('Accuracy')\n",
    "ax1.set_xlabel('Epoch')\n",
    "ax1.set_ylabel('Accuracy')\n",
    "ax1.legend()\n",
    "\n",
    "ax2.plot(avg_train_losses, label='Train')\n",
    "ax2.plot(avg_val_losses, label='Test')\n",
    "ax2.set_title('Loss')\n",
    "ax2.set_xlabel('Epoch')\n",
    "ax2.set_ylabel('Loss')\n",
    "ax2.legend()\n",
    "\n",
    "plt.tight_layout()\n",
    "# plt.savefig('./Traininglog_pic/lexp_vec20_sum_LSTM3_230505.PNG', dpi=300)\n",
    "plt.show()"
   ]
  },
  {
   "cell_type": "code",
   "execution_count": 353,
   "metadata": {},
   "outputs": [
    {
     "name": "stdout",
     "output_type": "stream",
     "text": [
      "Test Accuracy: 0.9181\n",
      "Test Precision: 0.9287\n",
      "Test Recall: 0.9181\n",
      "Test F1-score: 0.9204\n"
     ]
    }
   ],
   "source": [
    "# 測試模型\n",
    "model.eval()\n",
    "test_correct = 0\n",
    "model_accuracy.reset()\n",
    "model_precision.reset()\n",
    "model_recall.reset()\n",
    "model_f1.reset()\n",
    "\n",
    "with torch.no_grad():\n",
    "  for batch_idx, (data, target) in enumerate(test_loader):\n",
    "    data = data.to(device)\n",
    "    target = target.to(device)\n",
    "    output = model(data)\n",
    "    _, predicted = torch.max(output.data, 1)\n",
    "    model_accuracy(predicted, target.squeeze().long())\n",
    "    model_precision(predicted, target.squeeze().long())\n",
    "    model_recall(predicted, target.squeeze().long())\n",
    "    model_f1(predicted, target.squeeze().long())\n",
    "print(f\"Test Accuracy: {model_accuracy.compute():.4f}\")\n",
    "print(f\"Test Precision: {model_precision.compute():.4f}\")\n",
    "print(f\"Test Recall: {model_recall.compute():.4f}\")\n",
    "print(f\"Test F1-score: {model_f1.compute():.4f}\")"
   ]
  },
  {
   "cell_type": "code",
   "execution_count": 355,
   "metadata": {},
   "outputs": [],
   "source": [
    "# #Save Model Parameter\n",
    "# torch.save(model.state_dict(), './models/lexp_LSTM3_vec20sum_91p_weight.pt')"
   ]
  },
  {
   "cell_type": "code",
   "execution_count": 354,
   "metadata": {},
   "outputs": [],
   "source": [
    "# del model"
   ]
  }
 ],
 "metadata": {
  "kernelspec": {
   "display_name": "pytorch-gpu-nlp",
   "language": "python",
   "name": "python3"
  },
  "language_info": {
   "codemirror_mode": {
    "name": "ipython",
    "version": 3
   },
   "file_extension": ".py",
   "mimetype": "text/x-python",
   "name": "python",
   "nbconvert_exporter": "python",
   "pygments_lexer": "ipython3",
   "version": "3.8.15"
  },
  "orig_nbformat": 4
 },
 "nbformat": 4,
 "nbformat_minor": 2
}
