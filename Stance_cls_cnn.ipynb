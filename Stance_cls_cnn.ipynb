{
 "cells": [
  {
   "cell_type": "code",
   "execution_count": 18,
   "metadata": {},
   "outputs": [],
   "source": [
    "import numpy as np\n",
    "import torch\n",
    "import torch.nn as nn\n",
    "import torch.optim as optim\n",
    "import torch.nn.functional as F\n",
    "from sklearn.model_selection import StratifiedKFold, train_test_split\n",
    "from imblearn.over_sampling import SMOTE\n",
    "from torch.utils.data import TensorDataset, DataLoader\n",
    "import matplotlib.pyplot as plt\n",
    "from torchmetrics.classification import MulticlassF1Score, MulticlassAccuracy, MulticlassPrecision, MulticlassRecall\n",
    "from itertools import zip_longest\n",
    "import thesis_models"
   ]
  },
  {
   "cell_type": "code",
   "execution_count": 19,
   "metadata": {},
   "outputs": [],
   "source": [
    "#Define File Path\n",
    "# vec20avg_path = \"./vec_data/vec20_avg.npz\"\n",
    "# vec25avg_path = \"./vec_data/vec25_avg.npz\"\n",
    "# vec30avg_path = \"./vec_data/vec30_avg.npz\"\n",
    "# vec35avg_path = \"./vec_data/vec35_avg.npz\"\n",
    "vec20sum_path = \"./vec_data/vec20_sum.npz\"\n",
    "# vec25sum_path = \"./vec_data/vec25_sum.npz\"\n",
    "# vec30sum_path = \"./vec_data/vec30_sum.npz\"\n",
    "# vec35sum_path = \"./vec_data/vec35_sum.npz\"\n",
    "bert_path = \"./vec_data/twc_news_vec.npz\"\n",
    "le_stance_labels = \"./vec_data/le_stance_labels.npz\""
   ]
  },
  {
   "cell_type": "code",
   "execution_count": 20,
   "metadata": {},
   "outputs": [],
   "source": [
    "def load_npz_file(filepath):\n",
    "    # Load the numpy array from the .npz file\n",
    "    with np.load(filepath, allow_pickle=True) as data:\n",
    "        for key in data.keys():\n",
    "            arr = data[key]\n",
    "            break\n",
    "    return arr"
   ]
  },
  {
   "cell_type": "code",
   "execution_count": 21,
   "metadata": {},
   "outputs": [],
   "source": [
    "# vec20avg = load_npz_file(vec20avg_path)\n",
    "# vec25avg = load_npz_file(vec25avg_path)\n",
    "# vec30avg = load_npz_file(vec30avg_path)\n",
    "# vec35avg = load_npz_file(vec35avg_path)\n",
    "vec20sum = load_npz_file(vec20sum_path)\n",
    "# vec25sum = load_npz_file(vec25sum_path)\n",
    "# vec30sum = load_npz_file(vec30sum_path)\n",
    "# vec35sum = load_npz_file(vec35sum_path)\n",
    "# bert_vec = load_npz_file(bert_path)\n",
    "le_label = load_npz_file(le_stance_labels)"
   ]
  },
  {
   "cell_type": "code",
   "execution_count": 22,
   "metadata": {},
   "outputs": [],
   "source": [
    "#指派實際要使用的Data與Label\n",
    "# data = vec30sum\n",
    "# data = vec30avg\n",
    "data = vec20sum\n",
    "# data = vec20avg\n",
    "# data = vec25sum\n",
    "# data = vec25avg\n",
    "# data = vec35sum\n",
    "# data = vec35avg\n",
    "# data = bert_vec\n",
    "label = le_label"
   ]
  },
  {
   "cell_type": "code",
   "execution_count": 23,
   "metadata": {},
   "outputs": [
    {
     "name": "stdout",
     "output_type": "stream",
     "text": [
      "(445, 1, 300)\n",
      "(445,)\n",
      "[0 1 2 3]\n",
      "(array([0, 1, 2, 3]), array([ 11, 201,  74, 159], dtype=int64))\n"
     ]
    }
   ],
   "source": [
    "print(data.shape)\n",
    "print(label.shape)\n",
    "print(np.unique(label))\n",
    "print(np.unique(label, return_counts=True))"
   ]
  },
  {
   "cell_type": "code",
   "execution_count": 24,
   "metadata": {},
   "outputs": [],
   "source": [
    "# Data Augmentation using Oversampling\n",
    "# Define the oversampling ratio for each class\n",
    "# oversample_ratio = {0: 100, 1: 201, 2: 120, 3: 159}\n",
    "oversample_ratio = {0: 150, 1: 201, 2: 175, 3: 183}\n",
    "# Initialize the oversampler\n",
    "oversampler = SMOTE(sampling_strategy=oversample_ratio)\n",
    "# Reshape your data to a 2D matrix of shape (n_samples, n_features)\n",
    "X = data.reshape(-1, 300)\n",
    "# Apply oversampling to X and y\n",
    "X_resampled, y_resampled = oversampler.fit_resample(X, label)\n",
    "# Reshape X back to its original shape\n",
    "X_resampled = X_resampled.reshape(-1, 1, 300)"
   ]
  },
  {
   "cell_type": "code",
   "execution_count": 25,
   "metadata": {},
   "outputs": [
    {
     "name": "stdout",
     "output_type": "stream",
     "text": [
      "(709, 1, 300)\n",
      "(709,)\n"
     ]
    }
   ],
   "source": [
    "print(X_resampled.shape)\n",
    "print(y_resampled.shape)"
   ]
  },
  {
   "cell_type": "code",
   "execution_count": 26,
   "metadata": {},
   "outputs": [],
   "source": [
    "X_data, test_data, X_labels, test_labels = train_test_split(X_resampled, y_resampled, stratify=y_resampled, test_size=0.1)"
   ]
  },
  {
   "cell_type": "code",
   "execution_count": 27,
   "metadata": {},
   "outputs": [
    {
     "name": "stdout",
     "output_type": "stream",
     "text": [
      "Train data shape: (638, 1, 300)\n",
      "Train labels shape: (638,)\n",
      "Test data shape: (71, 1, 300)\n",
      "Test labels shape: (71,)\n"
     ]
    }
   ],
   "source": [
    "print('Train data shape:', X_data.shape)\n",
    "print('Train labels shape:', X_labels.shape)\n",
    "print('Test data shape:', test_data.shape)\n",
    "print('Test labels shape:', test_labels.shape)"
   ]
  },
  {
   "cell_type": "code",
   "execution_count": 28,
   "metadata": {},
   "outputs": [],
   "source": [
    "X_tensor = torch.from_numpy(X_data).float()\n",
    "y_tensor = torch.from_numpy(X_labels).long()\n",
    "test_data_tensor = torch.from_numpy(test_data).float()\n",
    "test_labels_tensor = torch.from_numpy(test_labels).long()\n",
    "test_dataset = TensorDataset(test_data_tensor, test_labels_tensor)\n",
    "test_loader = DataLoader(test_dataset, batch_size=16, shuffle=False)"
   ]
  },
  {
   "cell_type": "code",
   "execution_count": 29,
   "metadata": {},
   "outputs": [],
   "source": [
    "# Trainging Settings\n",
    "device = torch.device(\"cuda\" if torch.cuda.is_available() else \"cpu\")\n",
    "\n",
    "# Define the loss function and optimizer\n",
    "criterion = nn.CrossEntropyLoss()\n",
    "\n",
    "# Epochs and records\n",
    "num_epochs = 30\n",
    "train_losses_list = []\n",
    "val_losses_list = []\n",
    "train_accuracies_list = []\n",
    "val_accuracies_list = []\n",
    "\n",
    "# # torchmetrcis settings\n",
    "model_accuracy = MulticlassAccuracy(num_classes=4, average='macro').to(device)\n",
    "model_precision = MulticlassPrecision(num_classes=4, average='macro').to(device)\n",
    "model_recall = MulticlassRecall(num_classes=4, average='macro').to(device)\n",
    "model_f1 = MulticlassF1Score(num_classes=4, average='macro').to(device)\n",
    "\n",
    "# Define the number of folds for k-fold cross-validation\n",
    "num_folds = 5\n",
    "# Initialize the k-fold cross-validator\n",
    "skf = StratifiedKFold(n_splits=num_folds, shuffle=True)"
   ]
  },
  {
   "cell_type": "code",
   "execution_count": 30,
   "metadata": {},
   "outputs": [
    {
     "name": "stdout",
     "output_type": "stream",
     "text": [
      "Fold 1\n",
      "Epoch: 0 \tTrain Loss: 0.885292 \tTrain Accuracy: 64.71% \tVal Loss: 0.554466 \tVal Accuracy: 77.34%\n",
      "Epoch: 1 \tTrain Loss: 0.406369 \tTrain Accuracy: 88.82% \tVal Loss: 0.355969 \tVal Accuracy: 85.94%\n",
      "Epoch: 2 \tTrain Loss: 0.274458 \tTrain Accuracy: 92.94% \tVal Loss: 0.301892 \tVal Accuracy: 86.72%\n",
      "Epoch: 3 \tTrain Loss: 0.200169 \tTrain Accuracy: 95.10% \tVal Loss: 0.298879 \tVal Accuracy: 85.16%\n",
      "Epoch: 4 \tTrain Loss: 0.148784 \tTrain Accuracy: 97.06% \tVal Loss: 0.295043 \tVal Accuracy: 85.16%\n",
      "Epoch: 5 \tTrain Loss: 0.110202 \tTrain Accuracy: 98.63% \tVal Loss: 0.252710 \tVal Accuracy: 86.72%\n",
      "Early stopping at epoch 5\n",
      "Fold 2\n",
      "Epoch: 0 \tTrain Loss: 0.865395 \tTrain Accuracy: 66.67% \tVal Loss: 0.631907 \tVal Accuracy: 79.69%\n",
      "Epoch: 1 \tTrain Loss: 0.389900 \tTrain Accuracy: 89.22% \tVal Loss: 0.472200 \tVal Accuracy: 85.94%\n",
      "Epoch: 2 \tTrain Loss: 0.248423 \tTrain Accuracy: 94.12% \tVal Loss: 0.432157 \tVal Accuracy: 87.50%\n",
      "Epoch: 3 \tTrain Loss: 0.185912 \tTrain Accuracy: 96.67% \tVal Loss: 0.353240 \tVal Accuracy: 89.84%\n",
      "Epoch: 4 \tTrain Loss: 0.127054 \tTrain Accuracy: 98.63% \tVal Loss: 0.344395 \tVal Accuracy: 90.62%\n",
      "Epoch: 5 \tTrain Loss: 0.096832 \tTrain Accuracy: 98.82% \tVal Loss: 0.363507 \tVal Accuracy: 87.50%\n",
      "Epoch: 6 \tTrain Loss: 0.076911 \tTrain Accuracy: 99.61% \tVal Loss: 0.313040 \tVal Accuracy: 90.62%\n",
      "Epoch: 7 \tTrain Loss: 0.052413 \tTrain Accuracy: 100.00% \tVal Loss: 0.303350 \tVal Accuracy: 90.62%\n",
      "Early stopping at epoch 7\n",
      "Fold 3\n",
      "Epoch: 0 \tTrain Loss: 0.792008 \tTrain Accuracy: 69.61% \tVal Loss: 0.560095 \tVal Accuracy: 76.56%\n",
      "Epoch: 1 \tTrain Loss: 0.394580 \tTrain Accuracy: 87.25% \tVal Loss: 0.320798 \tVal Accuracy: 92.19%\n",
      "Epoch: 2 \tTrain Loss: 0.279891 \tTrain Accuracy: 92.16% \tVal Loss: 0.302824 \tVal Accuracy: 92.19%\n",
      "Epoch: 3 \tTrain Loss: 0.220461 \tTrain Accuracy: 94.12% \tVal Loss: 0.229187 \tVal Accuracy: 94.53%\n",
      "Epoch: 4 \tTrain Loss: 0.142617 \tTrain Accuracy: 98.43% \tVal Loss: 0.213666 \tVal Accuracy: 93.75%\n",
      "Epoch: 5 \tTrain Loss: 0.104719 \tTrain Accuracy: 99.02% \tVal Loss: 0.186473 \tVal Accuracy: 95.31%\n",
      "Epoch: 6 \tTrain Loss: 0.082006 \tTrain Accuracy: 99.61% \tVal Loss: 0.184745 \tVal Accuracy: 94.53%\n",
      "Epoch: 7 \tTrain Loss: 0.059610 \tTrain Accuracy: 100.00% \tVal Loss: 0.175270 \tVal Accuracy: 94.53%\n",
      "Epoch: 8 \tTrain Loss: 0.048155 \tTrain Accuracy: 100.00% \tVal Loss: 0.174043 \tVal Accuracy: 94.53%\n",
      "Early stopping at epoch 8\n",
      "Fold 4\n",
      "Epoch: 0 \tTrain Loss: 0.782953 \tTrain Accuracy: 69.28% \tVal Loss: 0.559272 \tVal Accuracy: 79.53%\n",
      "Epoch: 1 \tTrain Loss: 0.376540 \tTrain Accuracy: 89.24% \tVal Loss: 0.401147 \tVal Accuracy: 85.83%\n",
      "Epoch: 2 \tTrain Loss: 0.266371 \tTrain Accuracy: 91.78% \tVal Loss: 0.364686 \tVal Accuracy: 85.04%\n",
      "Epoch: 3 \tTrain Loss: 0.174534 \tTrain Accuracy: 95.50% \tVal Loss: 0.321246 \tVal Accuracy: 87.40%\n",
      "Epoch: 4 \tTrain Loss: 0.133463 \tTrain Accuracy: 97.06% \tVal Loss: 0.283827 \tVal Accuracy: 90.55%\n",
      "Epoch: 5 \tTrain Loss: 0.102502 \tTrain Accuracy: 97.85% \tVal Loss: 0.259717 \tVal Accuracy: 88.19%\n",
      "Epoch: 6 \tTrain Loss: 0.071782 \tTrain Accuracy: 100.00% \tVal Loss: 0.272375 \tVal Accuracy: 89.76%\n",
      "Epoch: 7 \tTrain Loss: 0.060918 \tTrain Accuracy: 99.41% \tVal Loss: 0.242313 \tVal Accuracy: 90.55%\n",
      "Early stopping at epoch 7\n",
      "Fold 5\n",
      "Epoch: 0 \tTrain Loss: 0.880110 \tTrain Accuracy: 63.60% \tVal Loss: 0.551731 \tVal Accuracy: 85.04%\n",
      "Epoch: 1 \tTrain Loss: 0.390968 \tTrain Accuracy: 89.82% \tVal Loss: 0.403330 \tVal Accuracy: 85.83%\n",
      "Epoch: 2 \tTrain Loss: 0.270663 \tTrain Accuracy: 93.35% \tVal Loss: 0.333847 \tVal Accuracy: 90.55%\n",
      "Epoch: 3 \tTrain Loss: 0.191197 \tTrain Accuracy: 95.89% \tVal Loss: 0.291258 \tVal Accuracy: 90.55%\n",
      "Epoch: 4 \tTrain Loss: 0.134721 \tTrain Accuracy: 98.24% \tVal Loss: 0.285953 \tVal Accuracy: 91.34%\n",
      "Epoch: 5 \tTrain Loss: 0.108137 \tTrain Accuracy: 98.83% \tVal Loss: 0.272630 \tVal Accuracy: 88.98%\n",
      "Epoch: 6 \tTrain Loss: 0.080795 \tTrain Accuracy: 99.41% \tVal Loss: 0.260900 \tVal Accuracy: 92.13%\n",
      "Epoch: 7 \tTrain Loss: 0.061673 \tTrain Accuracy: 100.00% \tVal Loss: 0.263259 \tVal Accuracy: 89.76%\n",
      "Epoch: 8 \tTrain Loss: 0.045918 \tTrain Accuracy: 100.00% \tVal Loss: 0.250009 \tVal Accuracy: 88.98%\n",
      "Epoch: 9 \tTrain Loss: 0.037014 \tTrain Accuracy: 100.00% \tVal Loss: 0.253633 \tVal Accuracy: 88.98%\n",
      "Early stopping at epoch 9\n"
     ]
    }
   ],
   "source": [
    "for fold, (train_idx, val_idx) in enumerate(skf.split(X_tensor, y_tensor)):\n",
    "    print(f'Fold {fold + 1}')\n",
    "    X_train_fold = X_tensor[train_idx]\n",
    "    y_train_fold = y_tensor[train_idx]\n",
    "    X_val_fold = X_tensor[val_idx]\n",
    "    y_val_fold = y_tensor[val_idx]\n",
    "\n",
    "    # Create PyTorch DataLoader for training and validation\n",
    "    train_data = TensorDataset(X_train_fold, y_train_fold)\n",
    "    val_data = TensorDataset(X_val_fold, y_val_fold)\n",
    "    train_loader = DataLoader(train_data, batch_size=16, shuffle=True)\n",
    "    val_loader = DataLoader(val_data, batch_size=16, shuffle=False)\n",
    "\n",
    "    # Initialize the reocrd lists for this fold\n",
    "    train_losses = []\n",
    "    val_losses = []\n",
    "    train_accuracies = []\n",
    "    val_accuracies = []\n",
    "\n",
    "    # Early Stopping Settings\n",
    "    patience = 3\n",
    "    counter = 0\n",
    "    best_val_accuracy = 0.0\n",
    "\n",
    "    # Instantiate the model\n",
    "    model = thesis_models.CNN_1()\n",
    "    model.to(device)\n",
    "    optimizer = optim.AdamW(model.parameters(), lr=0.0001, weight_decay=1e-2)\n",
    "\n",
    "    for epoch in range(num_epochs):\n",
    "      model.train()\n",
    "      train_loss = 0.0\n",
    "      train_correct = 0\n",
    "      for batch_idx, (data, target) in enumerate(train_loader):\n",
    "        optimizer.zero_grad()\n",
    "        data = data.to(device)\n",
    "        target = target.to(device)\n",
    "        output = model(data)\n",
    "        loss = criterion(output, target)\n",
    "        loss.backward()\n",
    "        optimizer.step()\n",
    "        train_loss += loss.item()\n",
    "        _, predicted = torch.max(output.data, 1)\n",
    "        train_correct += (predicted == target.squeeze().long()).sum().item()\n",
    "      train_loss /= len(train_loader)\n",
    "      train_accuracy = 100.0 * train_correct / len(train_data)\n",
    "      train_losses.append(train_loss)\n",
    "      train_accuracies.append(train_accuracy)\n",
    "\n",
    "      # Evaluate the model on the validation set\n",
    "      model.eval()\n",
    "      val_loss = 0.0\n",
    "      val_correct = 0\n",
    "      with torch.no_grad():\n",
    "        for batch_idx, (data, target) in enumerate(val_loader):\n",
    "          data = data.to(device)\n",
    "          target = target.to(device)\n",
    "          output = model(data)\n",
    "          loss = criterion(output, target)\n",
    "          val_loss += loss.item()\n",
    "          _, predicted = torch.max(output.data, 1)\n",
    "          val_correct += (predicted == target.squeeze().long()).sum().item()\n",
    "      val_loss /= len(val_loader)\n",
    "      val_accuracy = 100.0 * val_correct / len(val_data)\n",
    "      val_losses.append(val_loss)\n",
    "      val_accuracies.append(val_accuracy)\n",
    "\n",
    "      print('Epoch: {} \\tTrain Loss: {:.6f} \\tTrain Accuracy: {:.2f}% \\tVal Loss: {:.6f} \\tVal Accuracy: {:.2f}%'.format(\n",
    "          epoch, train_loss, train_accuracy, val_loss, val_accuracy))\n",
    "      \n",
    "      if val_accuracy > best_val_accuracy:\n",
    "        best_val_accuracy = val_accuracy\n",
    "        counter = 0\n",
    "      else:\n",
    "        counter += 1\n",
    "        if counter >= patience:\n",
    "          print(\"Early stopping at epoch\", epoch)\n",
    "          break\n",
    "        \n",
    "    # Append the lists for this fold to the corresponding list for all folds\n",
    "    train_losses_list.append(train_losses)\n",
    "    val_losses_list.append(val_losses)\n",
    "    train_accuracies_list.append(train_accuracies)\n",
    "    val_accuracies_list.append(val_accuracies)"
   ]
  },
  {
   "cell_type": "code",
   "execution_count": 31,
   "metadata": {},
   "outputs": [],
   "source": [
    "avg_train_losses = [sum(filter(lambda x: x is not None, items))/len(list(filter(lambda x: x is not None, items))) for items in zip_longest(*train_losses_list)]\n",
    "avg_val_losses = [sum(filter(lambda x: x is not None, items))/len(list(filter(lambda x: x is not None, items))) for items in zip_longest(*val_losses_list)]\n",
    "avg_train_accuracies = [sum(filter(lambda x: x is not None, items))/len(list(filter(lambda x: x is not None, items))) for items in zip_longest(*train_accuracies_list)]\n",
    "avg_val_accuracies = [sum(filter(lambda x: x is not None, items))/len(list(filter(lambda x: x is not None, items))) for items in zip_longest(*val_accuracies_list)]"
   ]
  },
  {
   "cell_type": "code",
   "execution_count": 32,
   "metadata": {},
   "outputs": [
    {
     "data": {
      "image/png": "[encoded data removed]",
      "text/plain": [
       "<Figure size 1000x500 with 2 Axes>"
      ]
     },
     "metadata": {},
     "output_type": "display_data"
    }
   ],
   "source": [
    "# Plot the train and test accuracy and loss\n",
    "fig, (ax1, ax2) = plt.subplots(1, 2, figsize=(10, 5))\n",
    "\n",
    "ax1.plot(avg_train_accuracies, label='Train')\n",
    "ax1.plot(avg_val_accuracies, label='Test')\n",
    "ax1.set_title('Accuracy')\n",
    "ax1.set_xlabel('Epoch')\n",
    "ax1.set_ylabel('Accuracy')\n",
    "ax1.legend()\n",
    "\n",
    "ax2.plot(avg_train_losses, label='Train')\n",
    "ax2.plot(avg_val_losses, label='Test')\n",
    "ax2.set_title('Loss')\n",
    "ax2.set_xlabel('Epoch')\n",
    "ax2.set_ylabel('Loss')\n",
    "ax2.legend()\n",
    "\n",
    "plt.tight_layout()\n",
    "# plt.savefig('./Traininglog_pic/cexp_vec20_avg_cnn1_230505.PNG', dpi=300)\n",
    "plt.show()"
   ]
  },
  {
   "cell_type": "code",
   "execution_count": 33,
   "metadata": {},
   "outputs": [
    {
     "name": "stdout",
     "output_type": "stream",
     "text": [
      "Test Accuracy: 0.9194\n",
      "Test Precision: 0.9188\n",
      "Test Recall: 0.9194\n",
      "Test F1-score: 0.9168\n"
     ]
    }
   ],
   "source": [
    "# Testing model\n",
    "model.eval()\n",
    "test_correct = 0\n",
    "model_accuracy.reset()\n",
    "model_precision.reset()\n",
    "model_recall.reset()\n",
    "model_f1.reset()\n",
    "\n",
    "with torch.no_grad():\n",
    "  for batch_idx, (data, target) in enumerate(test_loader):\n",
    "    data = data.to(device)\n",
    "    target = target.to(device)\n",
    "    output = model(data)\n",
    "    _, predicted = torch.max(output.data, 1)\n",
    "    model_accuracy(predicted, target.squeeze().long())\n",
    "    model_precision(predicted, target.squeeze().long())\n",
    "    model_recall(predicted, target.squeeze().long())\n",
    "    model_f1(predicted, target.squeeze().long())\n",
    "print(f\"Test Accuracy: {model_accuracy.compute():.4f}\")\n",
    "print(f\"Test Precision: {model_precision.compute():.4f}\")\n",
    "print(f\"Test Recall: {model_recall.compute():.4f}\")\n",
    "print(f\"Test F1-score: {model_f1.compute():.4f}\")"
   ]
  },
  {
   "cell_type": "code",
   "execution_count": null,
   "metadata": {},
   "outputs": [],
   "source": [
    "# # Save Model Parameter\n",
    "# torch.save(model.state_dict(), './models/cexp60_CNN1_vec25sum_91p_weight.pt')"
   ]
  },
  {
   "cell_type": "code",
   "execution_count": null,
   "metadata": {},
   "outputs": [],
   "source": [
    "# del model"
   ]
  }
 ],
 "metadata": {
  "kernelspec": {
   "display_name": "pytorch-gpu-nlp",
   "language": "python",
   "name": "python3"
  },
  "language_info": {
   "codemirror_mode": {
    "name": "ipython",
    "version": 3
   },
   "file_extension": ".py",
   "mimetype": "text/x-python",
   "name": "python",
   "nbconvert_exporter": "python",
   "pygments_lexer": "ipython3",
   "version": "3.8.15"
  },
  "orig_nbformat": 4
 },
 "nbformat": 4,
 "nbformat_minor": 2
}
