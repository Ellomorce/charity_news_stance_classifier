{
 "cells": [
  {
   "cell_type": "code",
   "execution_count": 1,
   "metadata": {},
   "outputs": [],
   "source": [
    "import numpy as np\n",
    "import pandas as pd\n",
    "from sklearn.feature_extraction.text import CountVectorizer, TfidfTransformer, TfidfVectorizer\n",
    "from sklearn.decomposition import LatentDirichletAllocation\n",
    "import spacy\n",
    "import pytextrank  # We're not going to execute this at home.\n",
    "import pprint\n",
    "from collections import Counter\n",
    "from statistics import mean, median"
   ]
  },
  {
   "cell_type": "code",
   "execution_count": 2,
   "metadata": {},
   "outputs": [],
   "source": [
    "#TF-IDF Function\n",
    "def Tfidf(seg_list:list, top_k:int):\n",
    "    vectorizer = CountVectorizer() # 建立 CountVectorizer 物件\n",
    "    word_count = vectorizer.fit_transform(seg_list) # 將 text 轉成詞頻矩陣\n",
    "    tfidf_transformer = TfidfTransformer() # 建立 TfidfTransformer 物件\n",
    "    tfidf_matrix = tfidf_transformer.fit_transform(word_count) # 將詞頻矩陣轉換成 TF-IDF 矩陣\n",
    "    words = vectorizer.get_feature_names() # 取得詞彙表\n",
    "    tfidf_values = tfidf_matrix.toarray()[0] # 取得每個詞彙的 TF-IDF 值\n",
    "    sorted_index = np.argsort(tfidf_values)[::-1] # 取得排序後的索引位置\n",
    "    tfidf_keywords = [words[i] for i in sorted_index[:top_k]] # 取得排名前 K位 的關鍵字\n",
    "    return tfidf_keywords\n",
    "\n",
    "#TextRank Function\n",
    "def Txtrank(seg_list:list, top_k:int):\n",
    "    nlp = spacy.load('zh_core_web_sm')\n",
    "    nlp.add_pipe(\"textrank\")\n",
    "    doc = nlp(seg_list)\n",
    "    textrank_keywords = []\n",
    "    for p in doc._.phrases:\n",
    "        if len(textrank_keywords) >= top_k:\n",
    "            break\n",
    "        textrank_keywords.append(p.text)\n",
    "    return(textrank_keywords)\n",
    "\n",
    "#LDA Function\n",
    "\n",
    "def Lda(seg_list:list, Num_topics:int, Num_keywords:int, Max_iter:int):\n",
    "    vectorizer = CountVectorizer() # 建立CountVectorizer物件\n",
    "    X = vectorizer.fit_transform(seg_list) # 使用CountVectorizer物件將文本轉換成詞頻矩陣\n",
    "    lda = LatentDirichletAllocation(n_components=Num_topics, max_iter=Max_iter)\n",
    "    lda.fit_transform(X)\n",
    "    for topic_idx, topic in enumerate(lda.components_): # 取出每個主題的關鍵字\n",
    "        top_keyword_idxs = topic.argsort()[:-Num_keywords-1:-1]\n",
    "        top_keywords = [vectorizer.get_feature_names()[idx] for idx in top_keyword_idxs]\n",
    "    return top_keywords\n",
    "\n",
    "def topic_list(segs:list, idxs:list): #idxs是主題內每篇文章的index所組成的list\n",
    "    topic = []\n",
    "    for n in idxs:\n",
    "        topic.append(segs[n-1]) #List Index是從0開始，所以DF Index要-1\n",
    "    return topic\n",
    "    \n",
    "def count_seg(topic_segs:list):\n",
    "    k = Counter(topic_segs).keys()\n",
    "    v = Counter(topic_segs).values()\n",
    "    res = dict(zip(k, v))\n",
    "    sort_res = dict(sorted(res.items(), key=lambda x: x[1], reverse=True))\n",
    "    return(sort_res)\n",
    "\n",
    "#用LDA批次抓詞的func，輸入要拿來抓詞的母體，還有K設定抓多少個詞\n",
    "def lda_keys(seg_list, kv):\n",
    "    lda_list = []\n",
    "    for sg in seg_list:\n",
    "        kw = Lda(sg, 1, kv, 50)\n",
    "        lda_list.append(kw)\n",
    "    return lda_list\n",
    "\n",
    "#計算每個語料的分詞有多少個\n",
    "def count_elements(seg_list):\n",
    "    element_count = []\n",
    "    for em in seg_list:\n",
    "        count = len(em)\n",
    "        element_count.append(count)\n",
    "    return element_count"
   ]
  },
  {
   "cell_type": "code",
   "execution_count": 3,
   "metadata": {},
   "outputs": [],
   "source": [
    "data_seg = pd.read_csv('./Original_data/taiwan_charity_news_seglist.csv', encoding='UTF-8', index_col='Index')"
   ]
  },
  {
   "cell_type": "code",
   "execution_count": 4,
   "metadata": {},
   "outputs": [
    {
     "data": {
      "text/html": [
       "<div>\n",
       "<style scoped>\n",
       "    .dataframe tbody tr th:only-of-type {\n",
       "        vertical-align: middle;\n",
       "    }\n",
       "\n",
       "    .dataframe tbody tr th {\n",
       "        vertical-align: top;\n",
       "    }\n",
       "\n",
       "    .dataframe thead th {\n",
       "        text-align: right;\n",
       "    }\n",
       "</style>\n",
       "<table border=\"1\" class=\"dataframe\">\n",
       "  <thead>\n",
       "    <tr style=\"text-align: right;\">\n",
       "      <th></th>\n",
       "      <th>Date</th>\n",
       "      <th>Title</th>\n",
       "      <th>Media</th>\n",
       "      <th>Content</th>\n",
       "      <th>Related</th>\n",
       "      <th>Topic_test</th>\n",
       "      <th>News_tags</th>\n",
       "      <th>Stance_label</th>\n",
       "      <th>Seg_list</th>\n",
       "      <th>Title_seg</th>\n",
       "    </tr>\n",
       "    <tr>\n",
       "      <th>Index</th>\n",
       "      <th></th>\n",
       "      <th></th>\n",
       "      <th></th>\n",
       "      <th></th>\n",
       "      <th></th>\n",
       "      <th></th>\n",
       "      <th></th>\n",
       "      <th></th>\n",
       "      <th></th>\n",
       "      <th></th>\n",
       "    </tr>\n",
       "  </thead>\n",
       "  <tbody>\n",
       "    <tr>\n",
       "      <th>443</th>\n",
       "      <td>2020/10/5</td>\n",
       "      <td>赤字問題如何解？庇護工場的經營與難處。</td>\n",
       "      <td>Peoponews</td>\n",
       "      <td>庇護工場的廚房內傳出陣陣餅乾香氣，每位唐氏症患者都專注地工作著。這一間間的庇護工場，是政府核...</td>\n",
       "      <td>0</td>\n",
       "      <td>0</td>\n",
       "      <td>0</td>\n",
       "      <td>unrelated</td>\n",
       "      <td>庇護工場 廚房 內 傳出 陣陣 餅乾 香氣 每 位 唐氏症 患者 專注 工作 一 間間 庇護...</td>\n",
       "      <td>赤字 問題 解 庇護工場 經營 難處</td>\n",
       "    </tr>\n",
       "    <tr>\n",
       "      <th>444</th>\n",
       "      <td>2021/6/3</td>\n",
       "      <td>疫情慘烈，唐氏症基金會5月募款短少35%、庇護工場損失逾百萬。</td>\n",
       "      <td>Chinatimes</td>\n",
       "      <td>中央流行疫情指揮中心頒布三級警戒，各縣市餐廳禁止內用，全面衝擊各個產業。據唐氏症基金會統計，...</td>\n",
       "      <td>0</td>\n",
       "      <td>0</td>\n",
       "      <td>0</td>\n",
       "      <td>unrelated</td>\n",
       "      <td>中央 流行 疫情 指揮 中心 頒布 三 級 警戒 各 縣市 餐廳 禁止 內用 衝擊 各 個 ...</td>\n",
       "      <td>疫情 慘烈 唐氏症 基金會 5月 募款 短少 35% 庇護工場 損失 逾 百萬</td>\n",
       "    </tr>\n",
       "    <tr>\n",
       "      <th>445</th>\n",
       "      <td>2022/10/4</td>\n",
       "      <td>公益大使柯佳嬿籲公益捐款，身心障礙服務善款缺口達4千萬。</td>\n",
       "      <td>Money_UDN</td>\n",
       "      <td>台灣首個身心障礙者家長自組團體「心路基金會」於今年成立達 35 週年，600人團隊每年服務6...</td>\n",
       "      <td>0</td>\n",
       "      <td>0</td>\n",
       "      <td>0</td>\n",
       "      <td>unrelated</td>\n",
       "      <td>台灣 首 個 身心 障礙 者 家長 自組 團體 心路 基金會 今年 成立 達  35 週年 ...</td>\n",
       "      <td>公益 大使 柯佳嬿 籲 公益 捐款 身心 障礙 服務 善款 缺口 達 4千萬</td>\n",
       "    </tr>\n",
       "  </tbody>\n",
       "</table>\n",
       "</div>"
      ],
      "text/plain": [
       "            Date                            Title       Media  \\\n",
       "Index                                                           \n",
       "443    2020/10/5              赤字問題如何解？庇護工場的經營與難處。   Peoponews   \n",
       "444     2021/6/3  疫情慘烈，唐氏症基金會5月募款短少35%、庇護工場損失逾百萬。  Chinatimes   \n",
       "445    2022/10/4     公益大使柯佳嬿籲公益捐款，身心障礙服務善款缺口達4千萬。   Money_UDN   \n",
       "\n",
       "                                                 Content  Related Topic_test  \\\n",
       "Index                                                                          \n",
       "443    庇護工場的廚房內傳出陣陣餅乾香氣，每位唐氏症患者都專注地工作著。這一間間的庇護工場，是政府核...        0          0   \n",
       "444    中央流行疫情指揮中心頒布三級警戒，各縣市餐廳禁止內用，全面衝擊各個產業。據唐氏症基金會統計，...        0          0   \n",
       "445    台灣首個身心障礙者家長自組團體「心路基金會」於今年成立達 35 週年，600人團隊每年服務6...        0          0   \n",
       "\n",
       "      News_tags Stance_label  \\\n",
       "Index                          \n",
       "443           0    unrelated   \n",
       "444           0    unrelated   \n",
       "445           0    unrelated   \n",
       "\n",
       "                                                Seg_list  \\\n",
       "Index                                                      \n",
       "443    庇護工場 廚房 內 傳出 陣陣 餅乾 香氣 每 位 唐氏症 患者 專注 工作 一 間間 庇護...   \n",
       "444    中央 流行 疫情 指揮 中心 頒布 三 級 警戒 各 縣市 餐廳 禁止 內用 衝擊 各 個 ...   \n",
       "445    台灣 首 個 身心 障礙 者 家長 自組 團體 心路 基金會 今年 成立 達  35 週年 ...   \n",
       "\n",
       "                                     Title_seg  \n",
       "Index                                           \n",
       "443                         赤字 問題 解 庇護工場 經營 難處  \n",
       "444    疫情 慘烈 唐氏症 基金會 5月 募款 短少 35% 庇護工場 損失 逾 百萬  \n",
       "445     公益 大使 柯佳嬿 籲 公益 捐款 身心 障礙 服務 善款 缺口 達 4千萬  "
      ]
     },
     "execution_count": 4,
     "metadata": {},
     "output_type": "execute_result"
    }
   ],
   "source": [
    "data_seg.tail(3)"
   ]
  },
  {
   "cell_type": "code",
   "execution_count": 5,
   "metadata": {},
   "outputs": [
    {
     "data": {
      "text/plain": [
       "'台灣 首 個 身心 障礙 者 家長 自組 團體 心路 基金會 今年 成立 達  35 週年 600 人 團隊 每 年 服務 6千 位 心智 障礙 者 35 年 來 累積 協助 高達 3.7萬 個 家庭 讓 照顧 者 安心 重回 工作 崗位 去年 2021年 為 例 心路 服務 幫助 5300 個 身心 障礙 者 家庭 讓 照顧 者 重返 職場 等於 社會 貢獻 2.47億 經濟 效益 心路 輔導 就業 工作 產值 佔 1.27億 疫情 不景氣 期間 心路 面臨 捐款 缺口 達 4千萬 元 各 項 計畫 進行 停歇 今日 特別 邀請 金鐘 影后 柯佳嬿 擔任 心路 公益 大使 呼籲 各界 熱心 捐款 支持 35 週年 心路 提出 好 核心 信念 心路 基金會 執行長 賴炳良 表示 好 理念 疫情 逆境 中 全 台灣 共享  35 年 來 心路 完成 許多 創舉 身心 障礙 者 權利 公約 說 聯合國 2008年 生效 後 心路 2011年 推出 社區 生活 支持 服務 台灣 2014年 立法 早 三 年 讓 身心 障礙 者 學習 自立 社區 接軌 生活 有 品質 有 尊嚴 疫情 期間 機構 參訪 暫停 心路 輔導 心智 障礙 者 自立 工作 場域 庇護工場 產線 線上化 讓 各 地 機構 團體 支持 者 們 線上 參訪 學習 心路 經驗 同時 過去  年 支持 障礙 者 累積 發明 近 百 套 教材 輔具 精選 33 件 分享 心路網站 上 歡迎 家長 從業 人員 參考 運用 有 一 項 輔具 平時 心路 成人 機構 用於 讓 障礙 者 投票 決定 事務 公益 大使 柯佳嬿 活動 上 示範 使用 投票 輔具 賴炳良 執行長 心路 服務 對象 票選 晚餐 象徵 鼓勵 身心 障礙 者 表達 意見 決定 生活  5 歲 個案 星橙 為 例 腦麻 影響 學習 照顧 者 花上 好幾 倍 時間 陪伴 心路 基金會 專業 輔導 後 讓 星橙 學習 抓取 食物 放入 嘴巴 看似 平凡 動作 星橙 一家人 教育 里程碑 心路 協助 讓 星橙媽 有 心力 攻讀 特殊 教育 碩士 完成 碩士 人生 目標 未來 期待 投入 社會 工作 服務 更多 特教 孩童 讓 障礙 者 家庭 社會 三 方 形成 循環 心路 接受 超過 20 年 服務 唐寶寶子娟 現身 分享 子娟 參與 合唱團 話劇課 美術課 長期 擔任 青年 志工 到 學校 宣導 學生 分享 經驗 讓 媽媽 肯定 41 歲 子娟 心路 二十 年 學習 轉變 開始 見 人 怕 現在 合唱團 帶領 跳舞 傳送 訊息 善用 產品 搜尋 需求 解答 認知 口條 清楚 表達 心路 協助 志工 服務 自立 支持 人際 關係 有 進步 子娟媽 說 訝異 跟上 社會 潮流 忘 唐寶寶 疫情 期間 心路 基金會 結合 影片 線上 課程 推動 居家 療育 宅 早療 持續 關心 需要 家庭 學童 2021年 起 服務 超過 300 人 疫情 停課 心路 少 政府 補助 學費 收入 服務 中斷 捐款 意願 額度 受到 疫情 大 環境 影響 目前 年度 善款 缺口 逾 4千萬 元 心路 基金會 表示 心路 提供 0 6 歲 早期 療育 15 歲 以上 職業 重建 日間 照顧 夜間 住宿 社區 支持 服務 安老 服務 完整 專業 支持 35 年 來 停止 今年 心路 基金會 麵包樹 跨 界 合作 推出 紀念品 捐款 滿額 獲得 星座皂 蛋捲 禮盒 希望 持續 爭取 善款 支持 好 理念 服務'"
      ]
     },
     "execution_count": 5,
     "metadata": {},
     "output_type": "execute_result"
    }
   ],
   "source": [
    "data_seg['Seg_list'][445]"
   ]
  },
  {
   "cell_type": "code",
   "execution_count": 117,
   "metadata": {},
   "outputs": [],
   "source": [
    "hostile = data_seg.loc[data_seg['Stance_label']=='hostile']"
   ]
  },
  {
   "cell_type": "code",
   "execution_count": 9,
   "metadata": {},
   "outputs": [],
   "source": [
    "enemy = []\n",
    "for seg in hostile['Seg_list']:\n",
    "    sg = seg.split(' ')\n",
    "    enemy.append(sg)"
   ]
  },
  {
   "cell_type": "code",
   "execution_count": 6,
   "metadata": {},
   "outputs": [],
   "source": [
    "# 把斷詞好的文章重新從Dataframe裡面拿出來，由於存進去的時候被強制轉換成整串str，所以這邊重新轉換回List，並存到另一個List裡面。\n",
    "segs = []\n",
    "\n",
    "for seg in data_seg['Seg_list']:\n",
    "    sg = seg.split(' ')\n",
    "    segs.append(sg)"
   ]
  },
  {
   "cell_type": "code",
   "execution_count": 7,
   "metadata": {},
   "outputs": [
    {
     "name": "stdout",
     "output_type": "stream",
     "text": [
      "yes\n",
      "['景氣', '低迷', '各行各業', '面臨', '緊縮', '際', '服務', '視障者', '三十多', '年', '愛盲', '基金會', '募款', '遭逢', '重挫', '今年', '四月', '起', '每', '月', '募款', '往年', '降', '一', '二成', '捐款', '縮水', '全', '台', '有', '近', '五萬', '名', '中途', '失明', '者', '急需', '重建', '生活', '愛盲', '今日', '發起', '視障', '生活', '重建', '服務', '計劃', '中途', '失明', '者', '家庭', '提供', '全人', '全', '程', '全', '隊', '五', '大', '服務', '邀請', '代言人', '李國毅', '呼籲', '希望', '愛心', '企業', '磚引', '玉', '關懷', '視障', '朋友', '衛福部', '統計', '全', '台', '五萬五千多', '名', '視障者', '中', '中途', '失明', '者', '佔', '八成七', '五萬', '人', '反映出', '五萬', '個', '家庭', '中途', '失明', '者', '承受', '視障', '帶來', '生活', '劇變', '愛盲', '基金會', '執行長', '劉怡君', '表示', '中途', '失明', '一', '個', '人', '事', '一家人', '事', '許多', '中途', '失明', '者', '視力', '喪失', '初期', '需要', '親友', '大量', '陪伴', '愛盲', '完整', '專業', '團隊', '服務', '協助', '家屬', '理解', '視障者', '視力', '退化', '心理', '生活', '行走', '狀態', '建立', '溝通', '橋樑', '讓', '視障者', '家屬', '低', '學習', '壓力', '情況', '下', '樂於', '參與', '重建', '學習', '愛盲', '今年', '邀請到', '李國毅', '擔任', '代言人', '入鏡', '練習題', '公益', '廣告', '廣告', '內容', '描述', '一', '位', '適應', '中途', '失明', '視障', '爸爸', '陪伴', '女兒', '成長', '勇往直前', '學習', '練習', '重建', '日常', '段', '過程', '讓', '去年', '為', '人父', '李國毅', '感同身受', '爸爸', '以後', '像', '賦予', '神奇', '力量', '雙手', '安撫', '女兒', '哭泣', '聲音', '讓', '家人', '感到', '安心', '女兒', '家人', '願意', '練習', '以身作則', '讓', '女兒', '個', '爸爸', '為傲', '李國毅', '表示', '第一', '次', '視障', '團體', '合作', '第一', '次', '視障', '朋友', '相處', '來自', '台北', '學校', '視障', '大女孩', '茹', '互動', '過程', '中', '觀察到', '經過', '重建', '學習', '視障者', '獨立', '覺得', '家人', '你我', '扮演', '照顧', '者', '角色', '愛盲', '引導', '方式', '協助', '視障者', '學習', '練習', '支持', '找回', '獨立', '生活', '能力', '剝奪', '做到', '事', '廣告', '播', '記者會', '上', '邀請到', '二', '位', '遭逢', '中途', '失明', '視障', '爸爸', '到場', '分享', '心路歷程', '現年', '七十五', '歲', '左', '伯伯', '不明', '原因', '造成', '視神經', '萎縮', '兩', '年', '多', '前', '某', '一', '天', '失明', '左', '伯伯', '表示', '當年', '一', '肩', '扛', '三', '代', '家庭', '照顧', '重擔', '忽略', '健康', '晚年', '病', '失明', '有', '老伴', '四', '名', '子女', '陪伴', '支持', '鼓起', '勇氣', '愛盲', '努力', '學習', '定向', '行動', '操作', '手機', '一', '年', '多', '來', '練習', '現在', '出門', '就醫', '每', '天', '住', '美國', '女兒', '越洋', '視訊', '聊天', '愛盲', '目前', '視障', '服務量', '佔', '全', '台', '半數', '以上', '有', '三十七', '位', '全職', '視障', '重建', '專業', '服務', '人員', '四', '個', '直轄市', '有', '服務', '資源', '中心', '視障', '生活', '重建', '服務', '計劃', '包含', '五', '大', '專業', '服務', '定向', '行動', '訓練', '獨立', '生活', '自理', '能力', '訓練', '盲用', '學習', '課程', '低視', '服務', '親友', '模擬', '視覺', '體驗', '服務', '每', '一', '項', '服務', '含括', '個別化', '主題式', '多元', '課程', '活動', '連結', '醫療', '其他', '社福', '資源', '第一', '時間', '承接', '視力', '喪失', '初期', '視障者', '接軌', '接觸', '視障', '服務', '讓', '未來', '重建', '路', '順暢', '官網', '捐款', '備註', '練習題', '劃撥', '捐款', '戶名', '財團', '法人', '愛盲', '基金會', '帳號', '請', '註明', '練習題']\n"
     ]
    }
   ],
   "source": [
    "#確認斷詞文章，要注意List的index是從0開始，但是DF的index是從1開始，所以這邊List index都請-1\n",
    "x = segs[244]\n",
    "if isinstance(x, list):\n",
    "    print(\"yes\")\n",
    "else:\n",
    "    print(\"no\")\n",
    "print(x)"
   ]
  },
  {
   "cell_type": "code",
   "execution_count": 51,
   "metadata": {},
   "outputs": [],
   "source": [
    "#計算Content中每個語料的分詞有多少個\n",
    "element_count = count_elements(segs)"
   ]
  },
  {
   "cell_type": "code",
   "execution_count": 79,
   "metadata": {},
   "outputs": [
    {
     "name": "stdout",
     "output_type": "stream",
     "text": [
      "All the seg_lists are [234, 258, 251, 170, 146, 502, 419, 433, 197, 161, 223, 197, 88, 210, 263, 238, 265, 402, 273, 125, 130, 154, 65, 173, 345, 124, 176, 114, 196, 80, 113, 218, 329, 247, 524, 135, 170, 140, 188, 236, 624, 227, 396, 141, 128, 751, 832, 271, 236, 125, 158, 141, 277, 125, 209, 136, 233, 201, 188, 99, 193, 384, 191, 689, 408, 185, 253, 212, 202, 241, 217, 233, 104, 502, 309, 249, 177, 610, 230, 187, 155, 152, 151, 308, 176, 283, 214, 120, 177, 442, 460, 592, 162, 488, 162, 270, 301, 270, 109, 148, 618, 194, 284, 348, 209, 419, 189, 125, 257, 400, 198, 295, 521, 242, 475, 280, 365, 170, 153, 181, 199, 340, 258, 227, 262, 299, 136, 214, 215, 180, 136, 217, 229, 229, 172, 131, 206, 264, 182, 206, 170, 188, 468, 158, 256, 298, 204, 302, 803, 225, 135, 588, 190, 216, 224, 71, 353, 223, 124, 304, 229, 88, 210, 418, 230, 230, 494, 323, 220, 692, 450, 246, 836, 172, 307, 215, 360, 329, 158, 534, 1367, 294, 124, 453, 537, 185, 209, 163, 286, 487, 203, 345, 62, 222, 210, 348, 219, 388, 285, 165, 185, 498, 311, 210, 125, 162, 252, 37, 251, 532, 421, 257, 801, 421, 260, 289, 378, 202, 79, 423, 61, 296, 322, 436, 100, 100, 261, 344, 206, 367, 701, 232, 102, 330, 232, 308, 109, 186, 347, 295, 295, 376, 616, 654, 444, 394, 445, 157, 271, 459, 139, 680, 139, 170, 329, 275, 434, 324, 351, 284, 239, 150, 368, 324, 183, 372, 435, 373, 628, 416, 317, 280, 317, 190, 824, 271, 181, 373, 22, 271, 244, 153, 254, 233, 278, 262, 2267, 1302, 332, 409, 36, 177, 227, 449, 430, 644, 573, 240, 732, 132, 208, 261, 419, 778, 225, 200, 336, 197, 232, 203, 538, 205, 440, 420, 324, 767, 187, 314, 180, 137, 481, 239, 239, 232, 187, 159, 259, 147, 212, 441, 250, 448, 353, 370, 226, 170, 269, 158, 191, 191, 267, 220, 213, 216, 255, 177, 236, 219, 134, 340, 145, 221, 230, 182, 289, 199, 223, 347, 885, 277, 185, 281, 225, 301, 205, 205, 250, 281, 425, 203, 274, 394, 763, 305, 124, 271, 351, 257, 302, 383, 292, 381, 381, 181, 250, 335, 352, 291, 267, 266, 173, 209, 184, 179, 150, 697, 338, 464, 198, 138, 151, 304, 480, 280, 291, 174, 174, 354, 507, 179, 171, 121, 182, 145, 405, 151, 410, 503, 169, 116, 158, 459, 265, 154, 248, 214, 349, 170, 273, 276, 1225, 368, 254, 290, 246, 470, 159, 244, 316, 246, 191, 398, 274, 255, 507]\n",
      "We have 445 seg_lists\n",
      "Max length of Seg_list is 2267\n",
      "Min length of Seg_list is 22\n",
      "Mean length of Seg_list is 294.3191011235955\n",
      "Median length of Seg_list is 246\n",
      "Quantile of Seg_list are [184. 246. 348.]\n"
     ]
    }
   ],
   "source": [
    "print(\"All the seg_lists are\", element_count) \n",
    "print(\"We have\", len(element_count), \"seg_lists\")\n",
    "print(\"Max length of Seg_list is\", max(element_count))\n",
    "print(\"Min length of Seg_list is\", min(element_count))\n",
    "print(\"Mean length of Seg_list is\", mean(element_count))\n",
    "print(\"Median length of Seg_list is\", median(element_count))\n",
    "print(\"Quantile of Seg_list are\", np.quantile(element_count, q = np.arange(0.25, 1, 0.25)))"
   ]
  },
  {
   "cell_type": "code",
   "execution_count": 110,
   "metadata": {},
   "outputs": [],
   "source": [
    "def check_emsize(element_count, standard):\n",
    "    smaller_count = 0\n",
    "    bigger_count = 0\n",
    "    for element in element_count:\n",
    "        if element < standard:\n",
    "            smaller_count += 1\n",
    "        elif element > standard:\n",
    "            bigger_count += 1\n",
    "    return smaller_count, bigger_count"
   ]
  },
  {
   "cell_type": "code",
   "execution_count": 114,
   "metadata": {},
   "outputs": [
    {
     "data": {
      "text/plain": [
       "(1, 444)"
      ]
     },
     "execution_count": 114,
     "metadata": {},
     "output_type": "execute_result"
    }
   ],
   "source": [
    "check_emsize(element_count, 30)"
   ]
  },
  {
   "cell_type": "code",
   "execution_count": 31,
   "metadata": {},
   "outputs": [],
   "source": [
    "# Topic1_idx = [96,97,98,101,107]\n",
    "# Topic2_idx = [128,129,130,131,132,133,134,135]\n",
    "# Topic3_idx = [244,245,246,247,248,249,250,251,252,253,256, 270]\n",
    "# Topic4_idx = [260,262,263,264,265]"
   ]
  },
  {
   "cell_type": "code",
   "execution_count": 32,
   "metadata": {},
   "outputs": [],
   "source": [
    "# Topic_1 = topic_list(segs, Topic1_idx)\n",
    "# Topic_2 = topic_list(segs, Topic2_idx)\n",
    "# Topic_3 = topic_list(segs, Topic3_idx)\n",
    "# Topic_4 = topic_list(segs, Topic4_idx)"
   ]
  },
  {
   "cell_type": "code",
   "execution_count": null,
   "metadata": {},
   "outputs": [],
   "source": [
    "#幫助計算四個Topic中每則內容的詞頻\n",
    "# count_seg(Topic_4[4])"
   ]
  },
  {
   "cell_type": "code",
   "execution_count": null,
   "metadata": {},
   "outputs": [],
   "source": [
    "# tfidf_list = []\n",
    "# for sg in segs:\n",
    "#     x= Tfidf(sg, k_value)\n",
    "#     tfidf_list.append(x)"
   ]
  },
  {
   "cell_type": "code",
   "execution_count": null,
   "metadata": {},
   "outputs": [],
   "source": [
    "# print(tfidf_list[0])"
   ]
  },
  {
   "cell_type": "code",
   "execution_count": null,
   "metadata": {},
   "outputs": [],
   "source": [
    "# txtrank_list =[]\n",
    "# for sg in data_seg['Seg_list']:\n",
    "#     y= Txtrank(sg, k_value)\n",
    "#     txtrank_list.append(y)"
   ]
  },
  {
   "cell_type": "code",
   "execution_count": null,
   "metadata": {},
   "outputs": [],
   "source": [
    "# print(txtrank_list[97])"
   ]
  },
  {
   "cell_type": "code",
   "execution_count": 97,
   "metadata": {},
   "outputs": [],
   "source": [
    "lda_list = []\n",
    "for sg in enemy:\n",
    "    z= Lda(sg, 1, 30, 50)\n",
    "    lda_list.append(z)"
   ]
  },
  {
   "cell_type": "code",
   "execution_count": null,
   "metadata": {},
   "outputs": [],
   "source": [
    "print(lda_list[0])"
   ]
  },
  {
   "cell_type": "code",
   "execution_count": 10,
   "metadata": {},
   "outputs": [],
   "source": [
    "LDA_Key_K6 = lda_keys(segs, 6)"
   ]
  },
  {
   "cell_type": "code",
   "execution_count": 13,
   "metadata": {},
   "outputs": [
    {
     "name": "stdout",
     "output_type": "stream",
     "text": [
      "['患者', '白化症', '黑色素', '視力', '資源', '視覺']\n"
     ]
    }
   ],
   "source": [
    "print(LDA_Key_K6[2])"
   ]
  },
  {
   "cell_type": "code",
   "execution_count": 14,
   "metadata": {},
   "outputs": [],
   "source": [
    "LDA_Key_K7 = lda_keys(segs, 7)"
   ]
  },
  {
   "cell_type": "code",
   "execution_count": 16,
   "metadata": {},
   "outputs": [],
   "source": [
    "LDA_Key_K8 = lda_keys(segs, 8)"
   ]
  },
  {
   "cell_type": "code",
   "execution_count": 17,
   "metadata": {},
   "outputs": [],
   "source": [
    "LDA_Key_K9 = lda_keys(segs, 9)"
   ]
  },
  {
   "cell_type": "code",
   "execution_count": 18,
   "metadata": {},
   "outputs": [],
   "source": [
    "LDA_Key_K10 = lda_keys(segs, 10)"
   ]
  },
  {
   "cell_type": "code",
   "execution_count": 19,
   "metadata": {},
   "outputs": [],
   "source": [
    "LDA_Key_K11 = lda_keys(segs, 11)"
   ]
  },
  {
   "cell_type": "code",
   "execution_count": 20,
   "metadata": {},
   "outputs": [],
   "source": [
    "LDA_Key_K12 = lda_keys(segs, 12)"
   ]
  },
  {
   "cell_type": "code",
   "execution_count": 8,
   "metadata": {},
   "outputs": [],
   "source": [
    "LDA_Key_K18 = lda_keys(segs, 18)"
   ]
  },
  {
   "cell_type": "code",
   "execution_count": null,
   "metadata": {},
   "outputs": [],
   "source": [
    "LDA_Key_K20 = lda_keys(segs, 20)"
   ]
  },
  {
   "cell_type": "code",
   "execution_count": null,
   "metadata": {},
   "outputs": [],
   "source": [
    "LDA_Key_K25 = lda_keys(segs, 25)"
   ]
  },
  {
   "cell_type": "code",
   "execution_count": null,
   "metadata": {},
   "outputs": [],
   "source": [
    "LDA_Key_K30 = lda_keys(segs, 30)"
   ]
  },
  {
   "cell_type": "code",
   "execution_count": null,
   "metadata": {},
   "outputs": [],
   "source": [
    "LDA_Key_K35 = lda_keys(segs, 35)"
   ]
  },
  {
   "cell_type": "code",
   "execution_count": 21,
   "metadata": {},
   "outputs": [],
   "source": [
    "data_seg['Seg_counts'] = element_count\n",
    "data_seg['Keyword_K6'] = LDA_Key_K6\n",
    "data_seg['Keyword_K7'] = LDA_Key_K7\n",
    "data_seg['Keyword_K8'] = LDA_Key_K8\n",
    "data_seg['Keyword_K9'] = LDA_Key_K9\n",
    "data_seg['Keyword_K10'] = LDA_Key_K10\n",
    "data_seg['Keyword_K11'] = LDA_Key_K11\n",
    "data_seg['Keyword_K12'] = LDA_Key_K12\n",
    "data_seg['Keyword_K18'] = LDA_Key_K18\n",
    "data_seg['Keyword_K20'] = LDA_Key_K20\n",
    "data_seg['Keyword_K25'] = LDA_Key_K25\n",
    "data_seg['Keyword_K30'] = LDA_Key_K30\n",
    "data_seg['Keyword_K35'] = LDA_Key_K35"
   ]
  },
  {
   "cell_type": "code",
   "execution_count": 22,
   "metadata": {},
   "outputs": [
    {
     "data": {
      "text/html": [
       "<div>\n",
       "<style scoped>\n",
       "    .dataframe tbody tr th:only-of-type {\n",
       "        vertical-align: middle;\n",
       "    }\n",
       "\n",
       "    .dataframe tbody tr th {\n",
       "        vertical-align: top;\n",
       "    }\n",
       "\n",
       "    .dataframe thead th {\n",
       "        text-align: right;\n",
       "    }\n",
       "</style>\n",
       "<table border=\"1\" class=\"dataframe\">\n",
       "  <thead>\n",
       "    <tr style=\"text-align: right;\">\n",
       "      <th></th>\n",
       "      <th>Date</th>\n",
       "      <th>Title</th>\n",
       "      <th>Media</th>\n",
       "      <th>Content</th>\n",
       "      <th>Related</th>\n",
       "      <th>Topic_test</th>\n",
       "      <th>Stance_label</th>\n",
       "      <th>Seg_list</th>\n",
       "      <th>News_tags</th>\n",
       "      <th>Keyword_K6</th>\n",
       "      <th>Keyword_K7</th>\n",
       "      <th>Keyword_K8</th>\n",
       "      <th>Keyword_K9</th>\n",
       "      <th>Keyword_K10</th>\n",
       "      <th>Keyword_K11</th>\n",
       "      <th>Keyword_K12</th>\n",
       "    </tr>\n",
       "    <tr>\n",
       "      <th>Index</th>\n",
       "      <th></th>\n",
       "      <th></th>\n",
       "      <th></th>\n",
       "      <th></th>\n",
       "      <th></th>\n",
       "      <th></th>\n",
       "      <th></th>\n",
       "      <th></th>\n",
       "      <th></th>\n",
       "      <th></th>\n",
       "      <th></th>\n",
       "      <th></th>\n",
       "      <th></th>\n",
       "      <th></th>\n",
       "      <th></th>\n",
       "      <th></th>\n",
       "    </tr>\n",
       "  </thead>\n",
       "  <tbody>\n",
       "    <tr>\n",
       "      <th>1</th>\n",
       "      <td>2017/1/9</td>\n",
       "      <td>視障弟月薪僅800？勞工局：是見習生獎金，不是薪資。</td>\n",
       "      <td>ETtoday_News</td>\n",
       "      <td>一名雙眼失明的闕小弟因為父親入獄、肢體障礙的母親也遠在高雄，只剩他和弟弟2人在北部生活，只好...</td>\n",
       "      <td>1</td>\n",
       "      <td>0</td>\n",
       "      <td>neutral</td>\n",
       "      <td>一 名 雙眼 失明 闕 小弟 父親 入獄 肢體 障礙 母親 遠 高雄 剩 弟弟 2 人 北部...</td>\n",
       "      <td>0</td>\n",
       "      <td>[庇護工場, 勞工局, 小弟, 薪資, 愛盲, 當時]</td>\n",
       "      <td>[庇護工場, 勞工局, 小弟, 薪資, 愛盲, 當時, 生活]</td>\n",
       "      <td>[庇護工場, 勞工局, 小弟, 薪資, 愛盲, 當時, 生活, 擔任]</td>\n",
       "      <td>[庇護工場, 勞工局, 小弟, 薪資, 愛盲, 當時, 生活, 擔任, 協助]</td>\n",
       "      <td>[庇護工場, 勞工局, 小弟, 薪資, 愛盲, 當時, 生活, 擔任, 協助, 目前]</td>\n",
       "      <td>[庇護工場, 勞工局, 小弟, 薪資, 愛盲, 當時, 生活, 擔任, 協助, 目前, 就業]</td>\n",
       "      <td>[庇護工場, 勞工局, 小弟, 薪資, 愛盲, 當時, 生活, 擔任, 協助, 目前, 就業...</td>\n",
       "    </tr>\n",
       "    <tr>\n",
       "      <th>2</th>\n",
       "      <td>2017/1/13</td>\n",
       "      <td>開發金，邀九企業挺公益。</td>\n",
       "      <td>UDN_Database</td>\n",
       "      <td>開發金控多年來透過旗下中華開發工銀文教基金會及凱基社會慈善基金會，辦理各項公益活動。「年度公...</td>\n",
       "      <td>1</td>\n",
       "      <td>0</td>\n",
       "      <td>neutral</td>\n",
       "      <td>開發 金控 多 年 來 旗下 中華 開發 工銀 文教 基金會 凱基 社會 基金會 辦理 各 ...</td>\n",
       "      <td>0</td>\n",
       "      <td>[公益, 社會, 開發, 基金會, 企業, 金控]</td>\n",
       "      <td>[公益, 社會, 開發, 基金會, 企業, 金控, 參與]</td>\n",
       "      <td>[公益, 社會, 開發, 基金會, 企業, 金控, 工銀, 參與]</td>\n",
       "      <td>[公益, 社會, 開發, 基金會, 企業, 金控, 參與, 工銀, 文教]</td>\n",
       "      <td>[公益, 社會, 開發, 基金會, 企業, 金控, 參與, 工銀, 文教, 鼓勵]</td>\n",
       "      <td>[公益, 社會, 開發, 基金會, 企業, 金控, 參與, 工銀, 文教, 鼓勵, 具體]</td>\n",
       "      <td>[公益, 社會, 開發, 基金會, 企業, 金控, 參與, 工銀, 文教, 鼓勵, 具體, 員工]</td>\n",
       "    </tr>\n",
       "    <tr>\n",
       "      <th>3</th>\n",
       "      <td>2017/3/3</td>\n",
       "      <td>月亮的孩子加強視力，把握黃金期。</td>\n",
       "      <td>UDN_Database</td>\n",
       "      <td>白化症患者體內缺乏黑色素，頭髮和皮膚雪白，因眼睛畏光、在夜間活動相對較舒適，印地安人稱他們為...</td>\n",
       "      <td>1</td>\n",
       "      <td>0</td>\n",
       "      <td>neutral</td>\n",
       "      <td>白化症 患者 體 內 缺乏 黑色素 頭髮 皮膚 雪白 眼睛 畏 光 夜間 活動 相對 舒適 ...</td>\n",
       "      <td>0</td>\n",
       "      <td>[患者, 白化症, 黑色素, 視力, 資源, 視覺]</td>\n",
       "      <td>[患者, 白化症, 黑色素, 視力, 資源, 視覺, 小弟]</td>\n",
       "      <td>[患者, 白化症, 黑色素, 視力, 資源, 視覺, 小弟, 林育葳]</td>\n",
       "      <td>[患者, 白化症, 黑色素, 視力, 資源, 視覺, 小弟, 林育葳, 孩子]</td>\n",
       "      <td>[患者, 白化症, 黑色素, 視力, 資源, 視覺, 小弟, 林育葳, 孩子, 發育]</td>\n",
       "      <td>[患者, 白化症, 黑色素, 視力, 資源, 視覺, 小弟, 林育葳, 孩子, 發育, 其他]</td>\n",
       "      <td>[患者, 白化症, 黑色素, 視力, 資源, 視覺, 小弟, 林育葳, 孩子, 發育, 其他...</td>\n",
       "    </tr>\n",
       "  </tbody>\n",
       "</table>\n",
       "</div>"
      ],
      "text/plain": [
       "            Date                       Title         Media  \\\n",
       "Index                                                        \n",
       "1       2017/1/9  視障弟月薪僅800？勞工局：是見習生獎金，不是薪資。  ETtoday_News   \n",
       "2      2017/1/13                開發金，邀九企業挺公益。  UDN_Database   \n",
       "3       2017/3/3            月亮的孩子加強視力，把握黃金期。  UDN_Database   \n",
       "\n",
       "                                                 Content  Related Topic_test  \\\n",
       "Index                                                                          \n",
       "1      一名雙眼失明的闕小弟因為父親入獄、肢體障礙的母親也遠在高雄，只剩他和弟弟2人在北部生活，只好...        1          0   \n",
       "2      開發金控多年來透過旗下中華開發工銀文教基金會及凱基社會慈善基金會，辦理各項公益活動。「年度公...        1          0   \n",
       "3      白化症患者體內缺乏黑色素，頭髮和皮膚雪白，因眼睛畏光、在夜間活動相對較舒適，印地安人稱他們為...        1          0   \n",
       "\n",
       "      Stance_label                                           Seg_list  \\\n",
       "Index                                                                   \n",
       "1          neutral  一 名 雙眼 失明 闕 小弟 父親 入獄 肢體 障礙 母親 遠 高雄 剩 弟弟 2 人 北部...   \n",
       "2          neutral  開發 金控 多 年 來 旗下 中華 開發 工銀 文教 基金會 凱基 社會 基金會 辦理 各 ...   \n",
       "3          neutral  白化症 患者 體 內 缺乏 黑色素 頭髮 皮膚 雪白 眼睛 畏 光 夜間 活動 相對 舒適 ...   \n",
       "\n",
       "      News_tags                   Keyword_K6                       Keyword_K7  \\\n",
       "Index                                                                           \n",
       "1             0  [庇護工場, 勞工局, 小弟, 薪資, 愛盲, 當時]  [庇護工場, 勞工局, 小弟, 薪資, 愛盲, 當時, 生活]   \n",
       "2             0    [公益, 社會, 開發, 基金會, 企業, 金控]    [公益, 社會, 開發, 基金會, 企業, 金控, 參與]   \n",
       "3             0   [患者, 白化症, 黑色素, 視力, 資源, 視覺]   [患者, 白化症, 黑色素, 視力, 資源, 視覺, 小弟]   \n",
       "\n",
       "                                Keyword_K8  \\\n",
       "Index                                        \n",
       "1      [庇護工場, 勞工局, 小弟, 薪資, 愛盲, 當時, 生活, 擔任]   \n",
       "2        [公益, 社會, 開發, 基金會, 企業, 金控, 工銀, 參與]   \n",
       "3      [患者, 白化症, 黑色素, 視力, 資源, 視覺, 小弟, 林育葳]   \n",
       "\n",
       "                                    Keyword_K9  \\\n",
       "Index                                            \n",
       "1      [庇護工場, 勞工局, 小弟, 薪資, 愛盲, 當時, 生活, 擔任, 協助]   \n",
       "2        [公益, 社會, 開發, 基金會, 企業, 金控, 參與, 工銀, 文教]   \n",
       "3      [患者, 白化症, 黑色素, 視力, 資源, 視覺, 小弟, 林育葳, 孩子]   \n",
       "\n",
       "                                       Keyword_K10  \\\n",
       "Index                                                \n",
       "1      [庇護工場, 勞工局, 小弟, 薪資, 愛盲, 當時, 生活, 擔任, 協助, 目前]   \n",
       "2        [公益, 社會, 開發, 基金會, 企業, 金控, 參與, 工銀, 文教, 鼓勵]   \n",
       "3      [患者, 白化症, 黑色素, 視力, 資源, 視覺, 小弟, 林育葳, 孩子, 發育]   \n",
       "\n",
       "                                           Keyword_K11  \\\n",
       "Index                                                    \n",
       "1      [庇護工場, 勞工局, 小弟, 薪資, 愛盲, 當時, 生活, 擔任, 協助, 目前, 就業]   \n",
       "2        [公益, 社會, 開發, 基金會, 企業, 金控, 參與, 工銀, 文教, 鼓勵, 具體]   \n",
       "3      [患者, 白化症, 黑色素, 視力, 資源, 視覺, 小弟, 林育葳, 孩子, 發育, 其他]   \n",
       "\n",
       "                                             Keyword_K12  \n",
       "Index                                                     \n",
       "1      [庇護工場, 勞工局, 小弟, 薪資, 愛盲, 當時, 生活, 擔任, 協助, 目前, 就業...  \n",
       "2      [公益, 社會, 開發, 基金會, 企業, 金控, 參與, 工銀, 文教, 鼓勵, 具體, 員工]  \n",
       "3      [患者, 白化症, 黑色素, 視力, 資源, 視覺, 小弟, 林育葳, 孩子, 發育, 其他...  "
      ]
     },
     "execution_count": 22,
     "metadata": {},
     "output_type": "execute_result"
    }
   ],
   "source": [
    "data_seg.head(3)"
   ]
  }
 ],
 "metadata": {
  "kernelspec": {
   "display_name": "base",
   "language": "python",
   "name": "python3"
  },
  "language_info": {
   "codemirror_mode": {
    "name": "ipython",
    "version": 3
   },
   "file_extension": ".py",
   "mimetype": "text/x-python",
   "name": "python",
   "nbconvert_exporter": "python",
   "pygments_lexer": "ipython3",
   "version": "3.9.5"
  },
  "orig_nbformat": 4
 },
 "nbformat": 4,
 "nbformat_minor": 2
}
