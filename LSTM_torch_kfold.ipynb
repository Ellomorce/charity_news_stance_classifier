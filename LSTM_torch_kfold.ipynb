{
 "cells": [
  {
   "cell_type": "code",
   "execution_count": 2,
   "metadata": {},
   "outputs": [],
   "source": [
    "import numpy as np\n",
    "import torch\n",
    "import torch.nn as nn\n",
    "import torch.optim as optim\n",
    "import torch.nn.functional as F\n",
    "from sklearn.model_selection import StratifiedKFold\n",
    "from imblearn.over_sampling import RandomOverSampler\n",
    "from torch.utils.data import TensorDataset, DataLoader\n",
    "import matplotlib.pyplot as plt\n",
    "# import os\n",
    "# os.environ['CUDA_LAUNCH_BLOCKING'] = \"1\"\n",
    "from torchmetrics.classification import MulticlassF1Score, MulticlassAccuracy, MulticlassPrecision, MulticlassRecall\n",
    "import thesis_models"
   ]
  },
  {
   "cell_type": "code",
   "execution_count": 3,
   "metadata": {},
   "outputs": [
    {
     "name": "stdout",
     "output_type": "stream",
     "text": [
      "1.8.2\n"
     ]
    }
   ],
   "source": [
    "print(torch.__version__)"
   ]
  },
  {
   "cell_type": "code",
   "execution_count": 4,
   "metadata": {},
   "outputs": [],
   "source": [
    "#Define File Path\n",
    "# vec20avg_path = \"./vec_data/vec20_avg.npz\"\n",
    "# vec25avg_path = \"./vec_data/vec25_avg.npz\"\n",
    "vec30avg_path = \"./vec_data/vec30_avg.npz\"\n",
    "# vec35avg_path = \"./vec_data/vec35_avg.npz\"\n",
    "# vec20sum_path = \"./vec_data/vec20_sum.npz\"\n",
    "# vec20sum_path = \"./vec_data/vec20_sum.npz\"\n",
    "# vec25sum_path = \"./vec_data/vec25_sum.npz\"\n",
    "vec30sum_path = \"./vec_data/vec30_sum.npz\"\n",
    "# vec35sum_path = \"./vec_data/vec35_sum.npz\"\n",
    "# freq_stance_labels = \"./vec_data/freq_stance_labels.npz\"\n",
    "# oh_stance_labels = \"./vec_data/oh_stance_labels.npz\"\n",
    "le_stance_labels = \"./vec_data/le_stance_labels.npz\""
   ]
  },
  {
   "cell_type": "code",
   "execution_count": 5,
   "metadata": {},
   "outputs": [],
   "source": [
    "def load_npz_file(filepath):\n",
    "    # Load the numpy array from the .npz file\n",
    "    with np.load(filepath, allow_pickle=True) as data:\n",
    "        for key in data.keys():\n",
    "            arr = data[key]\n",
    "            break\n",
    "    return arr"
   ]
  },
  {
   "cell_type": "code",
   "execution_count": 6,
   "metadata": {},
   "outputs": [],
   "source": [
    "# vec20avg = load_npz_file(vec20avg_path)\n",
    "# vec25avg = load_npz_file(vec25avg_path)\n",
    "vec30avg = load_npz_file(vec30avg_path)\n",
    "# vec35avg = load_npz_file(vec35avg_path)\n",
    "# vec20sum = load_npz_file(vec20sum_path)\n",
    "# vec20sum = load_npz_file(vec20sum_path)\n",
    "# vec25sum = load_npz_file(vec25sum_path)\n",
    "vec30sum = load_npz_file(vec30sum_path)\n",
    "# vec35sum = load_npz_file(vec35sum_path)\n",
    "# freq_label = load_npz_file(freq_stance_labels)\n",
    "# oh_label = load_npz_file(oh_stance_labels)\n",
    "le_label = load_npz_file(le_stance_labels)"
   ]
  },
  {
   "cell_type": "code",
   "execution_count": 7,
   "metadata": {},
   "outputs": [],
   "source": [
    "#指派實際要使用的Data與Label\n",
    "# data = vec30avg\n",
    "data = vec30sum\n",
    "# label = np.argmax(oh_label, axis=1)\n",
    "# label = oh_label\n",
    "# label = freq_label\n",
    "label = le_label"
   ]
  },
  {
   "cell_type": "code",
   "execution_count": 8,
   "metadata": {},
   "outputs": [
    {
     "name": "stdout",
     "output_type": "stream",
     "text": [
      "(445, 1, 300)\n",
      "(445,)\n",
      "[0 1 2 3]\n",
      "(array([0, 1, 2, 3]), array([ 11, 201,  74, 159], dtype=int64))\n"
     ]
    }
   ],
   "source": [
    "print(data.shape)\n",
    "print(label.shape)\n",
    "print(np.unique(label))\n",
    "print(np.unique(label, return_counts=True))"
   ]
  },
  {
   "cell_type": "code",
   "execution_count": 9,
   "metadata": {},
   "outputs": [],
   "source": [
    "# Data Augmentation using Oversampling\n",
    "# Define the oversampling ratio for each class\n",
    "oversample_ratio = {0: 150, 1: 201, 2: 175, 3: 183}\n",
    "# Initialize the oversampler\n",
    "oversampler = RandomOverSampler(sampling_strategy=oversample_ratio)\n",
    "# Reshape your data to a 2D matrix of shape (n_samples, n_features)\n",
    "X = data.reshape(-1, 300)\n",
    "# Apply oversampling to X and y\n",
    "X_resampled, y_resampled = oversampler.fit_resample(X, label)\n",
    "# Reshape X back to its original shape\n",
    "X_resampled = X_resampled.reshape(-1, 1, 300)"
   ]
  },
  {
   "cell_type": "code",
   "execution_count": 10,
   "metadata": {},
   "outputs": [
    {
     "name": "stdout",
     "output_type": "stream",
     "text": [
      "(709, 1, 300)\n",
      "[[[-1.05289996 -1.29180002 10.12859917 ... -0.30050007  1.0638001\n",
      "    0.92839986]]\n",
      "\n",
      " [[-0.92129999 -1.5751     10.76149985 ... -0.16209998  0.18860002\n",
      "    1.30480001]]\n",
      "\n",
      " [[-1.47109997 -0.9589     12.55939994 ...  0.43750004  1.26569999\n",
      "   -0.89280003]]\n",
      "\n",
      " ...\n",
      "\n",
      " [[-2.40010002 -1.0471     10.73909999 ... -0.24910002  2.14640003\n",
      "   -0.19339997]]\n",
      "\n",
      " [[-1.07279999 -0.73840001 10.19399997 ... -0.88230002  1.81440001\n",
      "    0.48010001]]\n",
      "\n",
      " [[-1.8784     -1.69869999  9.68190002 ... -2.60199996  2.50639998\n",
      "    1.59430003]]]\n"
     ]
    }
   ],
   "source": [
    "print(X_resampled.shape)\n",
    "print(X_resampled)"
   ]
  },
  {
   "cell_type": "code",
   "execution_count": 11,
   "metadata": {},
   "outputs": [
    {
     "name": "stdout",
     "output_type": "stream",
     "text": [
      "(709,)\n",
      "[1 1 1 1 1 1 1 1 1 1 1 1 1 1 2 1 1 1 1 1 1 1 1 1 1 1 1 1 2 1 1 1 1 1 0 0 1\n",
      " 1 1 1 1 1 1 1 1 1 1 1 1 2 2 2 1 1 1 1 1 1 1 1 1 1 1 1 0 0 0 1 1 1 1 1 1 1\n",
      " 1 1 1 1 1 1 1 1 1 2 2 1 2 1 2 1 2 1 2 2 1 2 2 2 1 1 2 1 1 1 1 1 2 1 1 2 2\n",
      " 1 1 1 1 1 2 2 2 2 2 2 1 1 1 1 1 2 2 2 2 2 2 2 2 1 1 1 1 1 2 2 1 2 1 1 1 1\n",
      " 1 1 1 1 1 1 1 2 2 1 2 1 1 1 1 1 1 1 1 1 1 1 1 2 2 1 1 1 1 1 1 1 1 1 1 2 2\n",
      " 1 1 2 1 1 1 2 2 2 2 1 1 2 1 1 2 2 2 1 2 1 1 2 1 1 1 1 1 1 1 1 1 1 1 1 1 0\n",
      " 0 0 0 0 0 1 2 2 1 1 2 1 1 1 1 1 1 1 1 1 1 2 2 2 2 2 2 2 2 2 2 1 1 2 1 1 1\n",
      " 2 1 2 2 2 2 1 1 1 1 2 1 1 1 1 1 1 1 1 1 1 1 1 1 1 1 1 3 3 3 3 3 3 3 3 3 3\n",
      " 3 3 3 3 3 3 3 3 3 3 3 3 3 3 3 3 3 3 3 3 3 3 3 3 3 3 3 3 3 3 3 3 3 3 3 3 3\n",
      " 3 3 3 3 3 3 3 3 3 3 3 3 3 3 3 3 3 3 3 3 3 3 3 3 3 3 3 3 3 3 3 3 3 3 3 3 3\n",
      " 3 3 3 3 3 3 3 3 3 3 3 3 3 3 3 3 3 3 3 3 3 3 3 3 3 3 3 3 3 3 3 3 3 3 3 3 3\n",
      " 3 3 3 3 3 3 3 3 3 3 3 3 3 3 3 3 3 3 3 3 3 3 3 3 3 3 3 3 3 3 3 3 3 3 3 3 3\n",
      " 3 0 0 0 0 0 0 0 0 0 0 0 0 0 0 0 0 0 0 0 0 0 0 0 0 0 0 0 0 0 0 0 0 0 0 0 0\n",
      " 0 0 0 0 0 0 0 0 0 0 0 0 0 0 0 0 0 0 0 0 0 0 0 0 0 0 0 0 0 0 0 0 0 0 0 0 0\n",
      " 0 0 0 0 0 0 0 0 0 0 0 0 0 0 0 0 0 0 0 0 0 0 0 0 0 0 0 0 0 0 0 0 0 0 0 0 0\n",
      " 0 0 0 0 0 0 0 0 0 0 0 0 0 0 0 0 0 0 0 0 0 0 0 0 0 0 0 0 0 2 2 2 2 2 2 2 2\n",
      " 2 2 2 2 2 2 2 2 2 2 2 2 2 2 2 2 2 2 2 2 2 2 2 2 2 2 2 2 2 2 2 2 2 2 2 2 2\n",
      " 2 2 2 2 2 2 2 2 2 2 2 2 2 2 2 2 2 2 2 2 2 2 2 2 2 2 2 2 2 2 2 2 2 2 2 2 2\n",
      " 2 2 2 2 2 2 2 2 2 2 2 2 2 2 2 2 2 2 2 3 3 3 3 3 3 3 3 3 3 3 3 3 3 3 3 3 3\n",
      " 3 3 3 3 3 3]\n"
     ]
    }
   ],
   "source": [
    "print(y_resampled.shape)\n",
    "print(y_resampled)"
   ]
  },
  {
   "cell_type": "code",
   "execution_count": 12,
   "metadata": {},
   "outputs": [],
   "source": [
    "# Convert NumPy arrays to PyTorch tensors-using oversampling\n",
    "X_tensor = torch.from_numpy(X_resampled).float()\n",
    "y_tensor = torch.from_numpy(y_resampled).long()"
   ]
  },
  {
   "cell_type": "code",
   "execution_count": 13,
   "metadata": {},
   "outputs": [],
   "source": [
    "# Trainging Settings\n",
    "input_size = 300  # Size of input vector\n",
    "hidden_size = 64  # Number of features in the hidden state\n",
    "num_layers = 2  # Number of LSTM layers\n",
    "output_size = 4  # Number of output classes\n",
    "learning_rate = 0.001\n",
    "device = torch.device(\"cuda\" if torch.cuda.is_available() else \"cpu\")\n",
    "\n",
    "# Define the loss function and optimizer\n",
    "criterion = nn.CrossEntropyLoss()\n",
    "\n",
    "# Epochs and records\n",
    "num_epochs = 10\n",
    "train_losses_list = []\n",
    "val_losses_list = []\n",
    "train_accuracies_list = []\n",
    "val_accuracies_list = []\n",
    "\n",
    "# # torchmetrcis settings\n",
    "model_accuracy = MulticlassAccuracy(num_classes=4).to(device)\n",
    "model_precision = MulticlassPrecision(num_classes=4).to(device)\n",
    "model_recall = MulticlassRecall(num_classes=4).to(device)\n",
    "model_f1 = MulticlassF1Score(num_classes=4).to(device)\n",
    "model_ac_list = []\n",
    "model_pc_list = []\n",
    "model_rc_list = []\n",
    "model_f1_list = []\n",
    "\n",
    "# Define the number of folds for k-fold cross-validation\n",
    "num_folds = 5\n",
    "# Initialize the k-fold cross-validator\n",
    "skf = StratifiedKFold(n_splits=num_folds, shuffle=True)"
   ]
  },
  {
   "cell_type": "code",
   "execution_count": 14,
   "metadata": {},
   "outputs": [
    {
     "name": "stdout",
     "output_type": "stream",
     "text": [
      "Fold 1\n",
      "Epoch: 0 \tTrain Loss: 1.330376 \tTrain Accuracy: 41.80% \tVal Loss: 1.231617 \tVal Accuracy: 71.83%\n",
      "Epoch: 1 \tTrain Loss: 1.088795 \tTrain Accuracy: 76.54% \tVal Loss: 0.931445 \tVal Accuracy: 83.10%\n",
      "Epoch: 2 \tTrain Loss: 0.786459 \tTrain Accuracy: 80.07% \tVal Loss: 0.673253 \tVal Accuracy: 80.28%\n",
      "Epoch: 3 \tTrain Loss: 0.529627 \tTrain Accuracy: 85.71% \tVal Loss: 0.449227 \tVal Accuracy: 88.73%\n",
      "Epoch: 4 \tTrain Loss: 0.351758 \tTrain Accuracy: 89.24% \tVal Loss: 0.339362 \tVal Accuracy: 88.73%\n",
      "Epoch: 5 \tTrain Loss: 0.238999 \tTrain Accuracy: 94.00% \tVal Loss: 0.273745 \tVal Accuracy: 90.85%\n",
      "Epoch: 6 \tTrain Loss: 0.164611 \tTrain Accuracy: 96.47% \tVal Loss: 0.237723 \tVal Accuracy: 92.96%\n",
      "Epoch: 7 \tTrain Loss: 0.115103 \tTrain Accuracy: 97.53% \tVal Loss: 0.221581 \tVal Accuracy: 94.37%\n",
      "Epoch: 8 \tTrain Loss: 0.077544 \tTrain Accuracy: 98.59% \tVal Loss: 0.206790 \tVal Accuracy: 92.96%\n",
      "Epoch: 9 \tTrain Loss: 0.054393 \tTrain Accuracy: 99.29% \tVal Loss: 0.206472 \tVal Accuracy: 93.66%\n",
      "Fold 2\n",
      "Epoch: 0 \tTrain Loss: 1.337856 \tTrain Accuracy: 30.51% \tVal Loss: 1.270874 \tVal Accuracy: 50.00%\n",
      "Epoch: 1 \tTrain Loss: 1.125301 \tTrain Accuracy: 74.78% \tVal Loss: 1.011411 \tVal Accuracy: 74.65%\n",
      "Epoch: 2 \tTrain Loss: 0.799449 \tTrain Accuracy: 83.77% \tVal Loss: 0.742465 \tVal Accuracy: 77.46%\n",
      "Epoch: 3 \tTrain Loss: 0.510138 \tTrain Accuracy: 88.54% \tVal Loss: 0.537826 \tVal Accuracy: 80.28%\n",
      "Epoch: 4 \tTrain Loss: 0.310512 \tTrain Accuracy: 91.71% \tVal Loss: 0.417683 \tVal Accuracy: 86.62%\n",
      "Epoch: 5 \tTrain Loss: 0.199274 \tTrain Accuracy: 94.71% \tVal Loss: 0.365973 \tVal Accuracy: 84.51%\n",
      "Epoch: 6 \tTrain Loss: 0.135575 \tTrain Accuracy: 96.65% \tVal Loss: 0.328758 \tVal Accuracy: 88.73%\n",
      "Epoch: 7 \tTrain Loss: 0.089071 \tTrain Accuracy: 99.12% \tVal Loss: 0.325424 \tVal Accuracy: 85.92%\n",
      "Epoch: 8 \tTrain Loss: 0.054849 \tTrain Accuracy: 98.94% \tVal Loss: 0.335910 \tVal Accuracy: 87.32%\n",
      "Epoch: 9 \tTrain Loss: 0.038154 \tTrain Accuracy: 99.47% \tVal Loss: 0.312670 \tVal Accuracy: 86.62%\n",
      "Early stopping at epoch 9\n",
      "Fold 3\n",
      "Epoch: 0 \tTrain Loss: 1.335469 \tTrain Accuracy: 49.56% \tVal Loss: 1.248073 \tVal Accuracy: 59.86%\n",
      "Epoch: 1 \tTrain Loss: 1.104005 \tTrain Accuracy: 68.08% \tVal Loss: 0.948920 \tVal Accuracy: 75.35%\n",
      "Epoch: 2 \tTrain Loss: 0.783418 \tTrain Accuracy: 81.83% \tVal Loss: 0.660133 \tVal Accuracy: 80.28%\n",
      "Epoch: 3 \tTrain Loss: 0.511784 \tTrain Accuracy: 88.89% \tVal Loss: 0.474702 \tVal Accuracy: 83.10%\n",
      "Epoch: 4 \tTrain Loss: 0.342906 \tTrain Accuracy: 91.36% \tVal Loss: 0.351946 \tVal Accuracy: 85.92%\n",
      "Epoch: 5 \tTrain Loss: 0.231032 \tTrain Accuracy: 94.53% \tVal Loss: 0.291250 \tVal Accuracy: 87.32%\n",
      "Epoch: 6 \tTrain Loss: 0.170745 \tTrain Accuracy: 96.30% \tVal Loss: 0.266913 \tVal Accuracy: 87.32%\n",
      "Epoch: 7 \tTrain Loss: 0.116516 \tTrain Accuracy: 97.53% \tVal Loss: 0.226340 \tVal Accuracy: 90.85%\n",
      "Epoch: 8 \tTrain Loss: 0.082907 \tTrain Accuracy: 98.24% \tVal Loss: 0.218823 \tVal Accuracy: 89.44%\n",
      "Epoch: 9 \tTrain Loss: 0.060801 \tTrain Accuracy: 99.29% \tVal Loss: 0.225369 \tVal Accuracy: 89.44%\n",
      "Fold 4\n",
      "Epoch: 0 \tTrain Loss: 1.349643 \tTrain Accuracy: 35.63% \tVal Loss: 1.269247 \tVal Accuracy: 75.35%\n",
      "Epoch: 1 \tTrain Loss: 1.154512 \tTrain Accuracy: 67.37% \tVal Loss: 0.984555 \tVal Accuracy: 76.76%\n",
      "Epoch: 2 \tTrain Loss: 0.828887 \tTrain Accuracy: 81.13% \tVal Loss: 0.687400 \tVal Accuracy: 79.58%\n",
      "Epoch: 3 \tTrain Loss: 0.532823 \tTrain Accuracy: 86.77% \tVal Loss: 0.450691 \tVal Accuracy: 85.92%\n",
      "Epoch: 4 \tTrain Loss: 0.329355 \tTrain Accuracy: 91.18% \tVal Loss: 0.326835 \tVal Accuracy: 88.73%\n",
      "Epoch: 5 \tTrain Loss: 0.222708 \tTrain Accuracy: 94.00% \tVal Loss: 0.264423 \tVal Accuracy: 89.44%\n",
      "Epoch: 6 \tTrain Loss: 0.155721 \tTrain Accuracy: 96.12% \tVal Loss: 0.236071 \tVal Accuracy: 90.85%\n",
      "Epoch: 7 \tTrain Loss: 0.106861 \tTrain Accuracy: 97.35% \tVal Loss: 0.224067 \tVal Accuracy: 92.25%\n",
      "Epoch: 8 \tTrain Loss: 0.069498 \tTrain Accuracy: 98.94% \tVal Loss: 0.230260 \tVal Accuracy: 92.25%\n",
      "Epoch: 9 \tTrain Loss: 0.049572 \tTrain Accuracy: 99.65% \tVal Loss: 0.213007 \tVal Accuracy: 92.25%\n",
      "Fold 5\n",
      "Epoch: 0 \tTrain Loss: 1.343212 \tTrain Accuracy: 41.55% \tVal Loss: 1.251947 \tVal Accuracy: 70.21%\n",
      "Epoch: 1 \tTrain Loss: 1.112731 \tTrain Accuracy: 66.02% \tVal Loss: 0.959859 \tVal Accuracy: 65.96%\n",
      "Epoch: 2 \tTrain Loss: 0.824795 \tTrain Accuracy: 75.53% \tVal Loss: 0.740141 \tVal Accuracy: 78.72%\n",
      "Epoch: 3 \tTrain Loss: 0.588544 \tTrain Accuracy: 84.86% \tVal Loss: 0.525060 \tVal Accuracy: 85.82%\n",
      "Epoch: 4 \tTrain Loss: 0.408942 \tTrain Accuracy: 91.37% \tVal Loss: 0.424718 \tVal Accuracy: 85.82%\n",
      "Epoch: 5 \tTrain Loss: 0.283702 \tTrain Accuracy: 93.31% \tVal Loss: 0.387098 \tVal Accuracy: 86.52%\n",
      "Epoch: 6 \tTrain Loss: 0.187803 \tTrain Accuracy: 95.95% \tVal Loss: 0.388514 \tVal Accuracy: 85.11%\n",
      "Epoch: 7 \tTrain Loss: 0.135763 \tTrain Accuracy: 97.54% \tVal Loss: 0.316337 \tVal Accuracy: 86.52%\n",
      "Epoch: 8 \tTrain Loss: 0.094696 \tTrain Accuracy: 97.89% \tVal Loss: 0.302759 \tVal Accuracy: 87.94%\n",
      "Epoch: 9 \tTrain Loss: 0.065977 \tTrain Accuracy: 98.77% \tVal Loss: 0.323358 \tVal Accuracy: 85.82%\n"
     ]
    }
   ],
   "source": [
    "# Iterate over the folds and prepare data and labels for training and validation\n",
    "for fold, (train_idx, val_idx) in enumerate(skf.split(X_tensor, y_tensor)):\n",
    "    print(f'Fold {fold + 1}')\n",
    "    X_train_fold = X_tensor[train_idx]\n",
    "    y_train_fold = y_tensor[train_idx]\n",
    "    X_val_fold = X_tensor[val_idx]\n",
    "    y_val_fold = y_tensor[val_idx]\n",
    "\n",
    "    # Create PyTorch DataLoader for training and validation\n",
    "    train_data = TensorDataset(X_train_fold, y_train_fold)\n",
    "    val_data = TensorDataset(X_val_fold, y_val_fold)\n",
    "    train_loader = DataLoader(train_data, batch_size=32, shuffle=True)\n",
    "    test_loader = DataLoader(val_data, batch_size=32, shuffle=False)\n",
    "\n",
    "    # Initialize the reocrd lists for this fold\n",
    "    train_losses = []\n",
    "    val_losses = []\n",
    "    train_accuracies = []\n",
    "    val_accuracies = []\n",
    "\n",
    "    # Early Stopping Settings\n",
    "    patience = 3\n",
    "    counter = 0\n",
    "    best_val_accuracy = 0.0\n",
    "\n",
    "    # Instantiate the model\n",
    "    model = thesis_models.LSTM_0(input_size, hidden_size, num_layers, output_size)\n",
    "    model.to(device)\n",
    "    optimizer = optim.Adam(model.parameters(), lr=learning_rate)\n",
    "\n",
    "    for epoch in range(num_epochs):\n",
    "      model.train()\n",
    "      train_loss = 0.0\n",
    "      train_correct = 0\n",
    "      for batch_idx, (data, target) in enumerate(train_loader):\n",
    "        optimizer.zero_grad()\n",
    "        data = data.to(device)\n",
    "        target = target.to(device)\n",
    "        output = model(data)\n",
    "        loss = criterion(output, target)\n",
    "        loss.backward()\n",
    "        optimizer.step()\n",
    "        train_loss += loss.item()\n",
    "        # train_loss += loss.item() * data.size(0)\n",
    "        _, predicted = torch.max(output.data, 1)\n",
    "        train_correct += (predicted == target.squeeze().long()).sum().item()\n",
    "        # train_correct += torch.sum(predicted == target.data)\n",
    "      train_loss /= len(train_loader)\n",
    "      train_accuracy = 100.0 * train_correct / len(train_data)\n",
    "      train_losses.append(train_loss)\n",
    "      train_accuracies.append(train_accuracy)\n",
    "\n",
    "      # Evaluate the model on the validation set\n",
    "      model.eval()\n",
    "      val_loss = 0.0\n",
    "      val_correct = 0\n",
    "      with torch.no_grad():\n",
    "        for batch_idx, (data, target) in enumerate(test_loader):\n",
    "          data = data.to(device)\n",
    "          target = target.to(device)\n",
    "          output = model(data)\n",
    "          loss = criterion(output, target)\n",
    "          val_loss += loss.item()\n",
    "          # val_loss += loss.item() * data.size(0)\n",
    "          _, predicted = torch.max(output.data, 1)\n",
    "          val_correct += (predicted == target.squeeze().long()).sum().item()\n",
    "          # val_correct += torch.sum(predicted == target.data)\n",
    "          model_accuracy.update(predicted, target.squeeze().long())\n",
    "          model_precision.update(predicted, target.squeeze().long())\n",
    "          model_recall.update(predicted, target.squeeze().long())\n",
    "          model_f1.update(predicted, target.squeeze().long())\n",
    "      val_loss /= len(test_loader)\n",
    "      val_accuracy = 100.0 * val_correct / len(val_data)\n",
    "      val_losses.append(val_loss)\n",
    "      val_accuracies.append(val_accuracy)\n",
    "\n",
    "      print('Epoch: {} \\tTrain Loss: {:.6f} \\tTrain Accuracy: {:.2f}% \\tVal Loss: {:.6f} \\tVal Accuracy: {:.2f}%'.format(\n",
    "          epoch, train_loss, train_accuracy, val_loss, val_accuracy))\n",
    "      \n",
    "      if val_accuracy > best_val_accuracy:\n",
    "        best_val_accuracy = val_accuracy\n",
    "        counter = 0\n",
    "      else:\n",
    "        counter += 1\n",
    "        if counter >= patience:\n",
    "          print(\"Early stopping at epoch\", epoch)\n",
    "          break\n",
    "        \n",
    "    # Append the lists for this fold to the corresponding list for all folds\n",
    "    train_losses_list.append(train_losses)\n",
    "    val_losses_list.append(val_losses)\n",
    "    train_accuracies_list.append(train_accuracies)\n",
    "    val_accuracies_list.append(val_accuracies)\n",
    "    ac = model_accuracy.compute()\n",
    "    pc = model_precision.compute()\n",
    "    rc = model_recall.compute()\n",
    "    f1 = model_f1.compute()\n",
    "    model_ac_list.append(ac.item())\n",
    "    model_pc_list.append(pc.item())\n",
    "    model_rc_list.append(rc.item())\n",
    "    model_f1_list.append(f1.item())"
   ]
  },
  {
   "cell_type": "code",
   "execution_count": 15,
   "metadata": {},
   "outputs": [
    {
     "name": "stdout",
     "output_type": "stream",
     "text": [
      "5\n",
      "10\n"
     ]
    }
   ],
   "source": [
    "print(len(train_losses_list))\n",
    "print(len(train_losses_list[0]))"
   ]
  },
  {
   "cell_type": "code",
   "execution_count": 16,
   "metadata": {},
   "outputs": [
    {
     "name": "stdout",
     "output_type": "stream",
     "text": [
      "[0.8852713108062744, 0.8479453325271606, 0.8448789119720459, 0.8512167930603027, 0.8456741571426392]\n"
     ]
    }
   ],
   "source": [
    "print(model_f1_list)"
   ]
  },
  {
   "cell_type": "code",
   "execution_count": 17,
   "metadata": {},
   "outputs": [],
   "source": [
    "avg_train_losses = [sum(x)/len(x) for x in zip(*train_losses_list)]\n",
    "avg_val_losses = [sum(x)/len(x) for x in zip(*val_losses_list)]\n",
    "avg_train_accuracies = [sum(x)/len(x) for x in zip(*train_accuracies_list)]\n",
    "avg_val_accuracies = [sum(x)/len(x) for x in zip(*val_accuracies_list)]"
   ]
  },
  {
   "cell_type": "code",
   "execution_count": 18,
   "metadata": {},
   "outputs": [
    {
     "data": {
      "image/png": "[encoded data removed]",
      "text/plain": [
       "<Figure size 1000x500 with 2 Axes>"
      ]
     },
     "metadata": {},
     "output_type": "display_data"
    }
   ],
   "source": [
    "# Plot the train and test accuracy and loss\n",
    "fig, (ax1, ax2) = plt.subplots(1, 2, figsize=(10, 5))\n",
    "\n",
    "ax1.plot(avg_train_accuracies, label='Train')\n",
    "ax1.plot(avg_val_accuracies, label='Test')\n",
    "ax1.set_title('Accuracy')\n",
    "ax1.set_xlabel('Epoch')\n",
    "ax1.set_ylabel('Accuracy')\n",
    "ax1.legend()\n",
    "\n",
    "ax2.plot(avg_train_losses, label='Train')\n",
    "ax2.plot(avg_val_losses, label='Test')\n",
    "ax2.set_title('Loss')\n",
    "ax2.set_xlabel('Epoch')\n",
    "ax2.set_ylabel('Loss')\n",
    "ax2.legend()\n",
    "\n",
    "plt.tight_layout()\n",
    "# plt.savefig('vec30_sum_cnn1_230419.PNG', dpi=300)\n",
    "plt.show()"
   ]
  },
  {
   "cell_type": "code",
   "execution_count": 19,
   "metadata": {},
   "outputs": [
    {
     "name": "stdout",
     "output_type": "stream",
     "text": [
      "99.29\n",
      "89.56\n",
      "0.05\n",
      "0.26\n"
     ]
    }
   ],
   "source": [
    "print(round(avg_train_accuracies[-1], 2))\n",
    "print(round(avg_val_accuracies[-1], 2))\n",
    "print(round(avg_train_losses[-1], 2))\n",
    "print(round(avg_val_losses[-1], 2))"
   ]
  },
  {
   "cell_type": "code",
   "execution_count": 20,
   "metadata": {},
   "outputs": [
    {
     "name": "stdout",
     "output_type": "stream",
     "text": [
      "Avg Model Accuracy: 85.49%\n",
      "Avg Model Precision: 85.57%\n",
      "Avg Model Recall: 85.49%\n",
      "Avg Model F1-score: 85.50%\n"
     ]
    }
   ],
   "source": [
    "Avg_ac = sum(model_ac_list)/len(model_ac_list)\n",
    "Avg_pc = sum(model_pc_list)/len(model_pc_list)\n",
    "Avg_rc = sum(model_rc_list)/len(model_rc_list)\n",
    "Avg_f1 = sum(model_f1_list)/len(model_f1_list)\n",
    "\n",
    "print('Avg Model Accuracy: {:.2%}'.format(Avg_ac))\n",
    "print('Avg Model Precision: {:.2%}'.format(Avg_pc))\n",
    "print('Avg Model Recall: {:.2%}'.format(Avg_rc))\n",
    "print('Avg Model F1-score: {:.2%}'.format(Avg_f1))"
   ]
  },
  {
   "cell_type": "code",
   "execution_count": null,
   "metadata": {},
   "outputs": [],
   "source": [
    "# #Save Model Parameter\n",
    "# torch.save(model, 'cnn_vec30sum.pt')"
   ]
  }
 ],
 "metadata": {
  "kernelspec": {
   "display_name": "pytorch-gpu-nlp",
   "language": "python",
   "name": "python3"
  },
  "language_info": {
   "codemirror_mode": {
    "name": "ipython",
    "version": 3
   },
   "file_extension": ".py",
   "mimetype": "text/x-python",
   "name": "python",
   "nbconvert_exporter": "python",
   "pygments_lexer": "ipython3",
   "version": "3.8.15"
  },
  "orig_nbformat": 4
 },
 "nbformat": 4,
 "nbformat_minor": 2
}
