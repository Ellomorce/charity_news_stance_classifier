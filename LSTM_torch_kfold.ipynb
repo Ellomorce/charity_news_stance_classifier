{
 "cells": [
  {
   "cell_type": "code",
   "execution_count": 270,
   "metadata": {},
   "outputs": [],
   "source": [
    "import numpy as np\n",
    "import torch\n",
    "import torch.nn as nn\n",
    "import torch.optim as optim\n",
    "import torch.nn.functional as F\n",
    "from sklearn.model_selection import StratifiedKFold\n",
    "from imblearn.over_sampling import RandomOverSampler\n",
    "from torch.utils.data import TensorDataset, DataLoader\n",
    "import matplotlib.pyplot as plt\n",
    "# import os\n",
    "# os.environ['CUDA_LAUNCH_BLOCKING'] = \"1\"\n",
    "from torchmetrics.classification import MulticlassF1Score, MulticlassAccuracy, MulticlassPrecision, MulticlassRecall\n",
    "import thesis_models\n",
    "from itertools import zip_longest"
   ]
  },
  {
   "cell_type": "code",
   "execution_count": 271,
   "metadata": {},
   "outputs": [
    {
     "name": "stdout",
     "output_type": "stream",
     "text": [
      "1.8.2\n"
     ]
    }
   ],
   "source": [
    "print(torch.__version__)"
   ]
  },
  {
   "cell_type": "code",
   "execution_count": 272,
   "metadata": {},
   "outputs": [],
   "source": [
    "#Define File Path\n",
    "vec20avg_path = \"./vec_data/vec20_avg.npz\"\n",
    "vec25avg_path = \"./vec_data/vec25_avg.npz\"\n",
    "vec30avg_path = \"./vec_data/vec30_avg.npz\"\n",
    "vec35avg_path = \"./vec_data/vec35_avg.npz\"\n",
    "vec20sum_path = \"./vec_data/vec20_sum.npz\"\n",
    "vec20sum_path = \"./vec_data/vec20_sum.npz\"\n",
    "vec25sum_path = \"./vec_data/vec25_sum.npz\"\n",
    "vec30sum_path = \"./vec_data/vec30_sum.npz\"\n",
    "vec35sum_path = \"./vec_data/vec35_sum.npz\"\n",
    "# freq_stance_labels = \"./vec_data/freq_stance_labels.npz\"\n",
    "# oh_stance_labels = \"./vec_data/oh_stance_labels.npz\"\n",
    "le_stance_labels = \"./vec_data/le_stance_labels.npz\""
   ]
  },
  {
   "cell_type": "code",
   "execution_count": 273,
   "metadata": {},
   "outputs": [],
   "source": [
    "def load_npz_file(filepath):\n",
    "    # Load the numpy array from the .npz file\n",
    "    with np.load(filepath, allow_pickle=True) as data:\n",
    "        for key in data.keys():\n",
    "            arr = data[key]\n",
    "            break\n",
    "    return arr"
   ]
  },
  {
   "cell_type": "code",
   "execution_count": 274,
   "metadata": {},
   "outputs": [],
   "source": [
    "vec20avg = load_npz_file(vec20avg_path)\n",
    "vec25avg = load_npz_file(vec25avg_path)\n",
    "vec30avg = load_npz_file(vec30avg_path)\n",
    "vec35avg = load_npz_file(vec35avg_path)\n",
    "vec20sum = load_npz_file(vec20sum_path)\n",
    "vec25sum = load_npz_file(vec25sum_path)\n",
    "vec30sum = load_npz_file(vec30sum_path)\n",
    "vec35sum = load_npz_file(vec35sum_path)\n",
    "# freq_label = load_npz_file(freq_stance_labels)\n",
    "# oh_label = load_npz_file(oh_stance_labels)\n",
    "le_label = load_npz_file(le_stance_labels)"
   ]
  },
  {
   "cell_type": "code",
   "execution_count": 275,
   "metadata": {},
   "outputs": [],
   "source": [
    "#指派實際要使用的Data與Label\n",
    "# data = vec30sum\n",
    "# data = vec30avg\n",
    "# data = vec35sum\n",
    "# data = vec35avg\n",
    "data = vec20sum\n",
    "# data = vec20avg\n",
    "# data = vec25sum\n",
    "# data = vec25avg\n",
    "# label = np.argmax(oh_label, axis=1)\n",
    "# label = oh_label\n",
    "# label = freq_label\n",
    "label = le_label"
   ]
  },
  {
   "cell_type": "code",
   "execution_count": 276,
   "metadata": {},
   "outputs": [
    {
     "name": "stdout",
     "output_type": "stream",
     "text": [
      "(445, 1, 300)\n",
      "(445,)\n",
      "[0 1 2 3]\n",
      "(array([0, 1, 2, 3]), array([ 11, 201,  74, 159], dtype=int64))\n"
     ]
    }
   ],
   "source": [
    "print(data.shape)\n",
    "print(label.shape)\n",
    "print(np.unique(label))\n",
    "print(np.unique(label, return_counts=True))"
   ]
  },
  {
   "cell_type": "code",
   "execution_count": 277,
   "metadata": {},
   "outputs": [],
   "source": [
    "# Data Augmentation using Oversampling\n",
    "# Define the oversampling ratio for each class\n",
    "# ratio0 = {0: 11, 1: 201, 2: 74, 3: 159}\n",
    "# ratio1 = {0: 24, 1: 201, 2: 78, 3: 168}\n",
    "# ratio2 = {0: 53, 1: 201, 2: 89, 3: 191}\n",
    "# ratio3 = {0: 86, 1: 201, 2: 115, 3: 172}\n",
    "# ratio4 = {0: 144, 1: 201, 2: 179, 3: 194}\n",
    "oversample_ratio = {0: 150, 1: 201, 2: 175, 3: 183}\n",
    "# Initialize the oversampler\n",
    "oversampler = RandomOverSampler(sampling_strategy=oversample_ratio)\n",
    "# Reshape your data to a 2D matrix of shape (n_samples, n_features)\n",
    "X = data.reshape(-1, 300)\n",
    "# Apply oversampling to X and y\n",
    "X_resampled, y_resampled = oversampler.fit_resample(X, label)\n",
    "# Reshape X back to its original shape\n",
    "X_resampled = X_resampled.reshape(-1, 1, 300)"
   ]
  },
  {
   "cell_type": "code",
   "execution_count": 278,
   "metadata": {},
   "outputs": [],
   "source": [
    "# print(X_resampled.shape)\n",
    "# print(X_resampled)"
   ]
  },
  {
   "cell_type": "code",
   "execution_count": 279,
   "metadata": {},
   "outputs": [],
   "source": [
    "# print(y_resampled.shape)\n",
    "# print(y_resampled)"
   ]
  },
  {
   "cell_type": "code",
   "execution_count": 280,
   "metadata": {},
   "outputs": [],
   "source": [
    "# Convert NumPy arrays to PyTorch tensors-using oversampling\n",
    "X_tensor = torch.from_numpy(X_resampled).float()\n",
    "y_tensor = torch.from_numpy(y_resampled).long()"
   ]
  },
  {
   "cell_type": "code",
   "execution_count": 281,
   "metadata": {},
   "outputs": [],
   "source": [
    "# Trainging Settings\n",
    "input_size = 300  # Size of input vector\n",
    "hidden_size = 256  # Number of features in the hidden state\n",
    "num_layers = 2  # Number of LSTM layers\n",
    "output_size = 4  # Number of output classes\n",
    "learning_rate = 0.0008\n",
    "device = torch.device(\"cuda\" if torch.cuda.is_available() else \"cpu\")\n",
    "\n",
    "# Define the loss function and optimizer\n",
    "criterion = nn.CrossEntropyLoss()\n",
    "\n",
    "# Epochs and records\n",
    "num_epochs = 30\n",
    "train_losses_list = []\n",
    "val_losses_list = []\n",
    "train_accuracies_list = []\n",
    "val_accuracies_list = []\n",
    "\n",
    "# # torchmetrcis settings\n",
    "model_accuracy = MulticlassAccuracy(num_classes=4, average='macro').to(device)\n",
    "model_precision = MulticlassPrecision(num_classes=4, average='macro').to(device)\n",
    "model_recall = MulticlassRecall(num_classes=4, average='macro').to(device)\n",
    "model_f1 = MulticlassF1Score(num_classes=4, average='macro').to(device)\n",
    "model_ac_list = []\n",
    "model_pc_list = []\n",
    "model_rc_list = []\n",
    "model_f1_list = []\n",
    "\n",
    "# Define the number of folds for k-fold cross-validation\n",
    "num_folds = 5\n",
    "# Initialize the k-fold cross-validator\n",
    "skf = StratifiedKFold(n_splits=num_folds, shuffle=True)"
   ]
  },
  {
   "cell_type": "code",
   "execution_count": 282,
   "metadata": {},
   "outputs": [
    {
     "name": "stdout",
     "output_type": "stream",
     "text": [
      "Fold 1\n",
      "Epoch: 0 \tTrain Loss: 1.317326 \tTrain Accuracy: 48.68% \tVal Loss: 1.170132 \tVal Accuracy: 71.83%\n",
      "Epoch: 1 \tTrain Loss: 0.989183 \tTrain Accuracy: 79.01% \tVal Loss: 0.792910 \tVal Accuracy: 79.58%\n",
      "Epoch: 2 \tTrain Loss: 0.615948 \tTrain Accuracy: 83.60% \tVal Loss: 0.512585 \tVal Accuracy: 81.69%\n",
      "Epoch: 3 \tTrain Loss: 0.361578 \tTrain Accuracy: 88.71% \tVal Loss: 0.382696 \tVal Accuracy: 85.92%\n",
      "Epoch: 4 \tTrain Loss: 0.248341 \tTrain Accuracy: 91.71% \tVal Loss: 0.255347 \tVal Accuracy: 89.44%\n",
      "Epoch: 5 \tTrain Loss: 0.168328 \tTrain Accuracy: 94.18% \tVal Loss: 0.263325 \tVal Accuracy: 90.85%\n",
      "Epoch: 6 \tTrain Loss: 0.109835 \tTrain Accuracy: 97.00% \tVal Loss: 0.237937 \tVal Accuracy: 90.85%\n",
      "Epoch: 7 \tTrain Loss: 0.069913 \tTrain Accuracy: 98.06% \tVal Loss: 0.220534 \tVal Accuracy: 94.37%\n",
      "Epoch: 8 \tTrain Loss: 0.046254 \tTrain Accuracy: 99.12% \tVal Loss: 0.146117 \tVal Accuracy: 94.37%\n",
      "Epoch: 9 \tTrain Loss: 0.024340 \tTrain Accuracy: 100.00% \tVal Loss: 0.150745 \tVal Accuracy: 95.07%\n",
      "Epoch: 10 \tTrain Loss: 0.015765 \tTrain Accuracy: 100.00% \tVal Loss: 0.175285 \tVal Accuracy: 94.37%\n",
      "Epoch: 11 \tTrain Loss: 0.011072 \tTrain Accuracy: 100.00% \tVal Loss: 0.162792 \tVal Accuracy: 95.07%\n",
      "Epoch: 12 \tTrain Loss: 0.007322 \tTrain Accuracy: 100.00% \tVal Loss: 0.176925 \tVal Accuracy: 94.37%\n",
      "Early stopping at epoch 12\n",
      "Fold 2\n",
      "Epoch: 0 \tTrain Loss: 1.335606 \tTrain Accuracy: 50.09% \tVal Loss: 1.217880 \tVal Accuracy: 69.72%\n",
      "Epoch: 1 \tTrain Loss: 1.028976 \tTrain Accuracy: 80.42% \tVal Loss: 0.806999 \tVal Accuracy: 80.28%\n",
      "Epoch: 2 \tTrain Loss: 0.606849 \tTrain Accuracy: 84.30% \tVal Loss: 0.438021 \tVal Accuracy: 82.39%\n",
      "Epoch: 3 \tTrain Loss: 0.354896 \tTrain Accuracy: 89.42% \tVal Loss: 0.269667 \tVal Accuracy: 88.73%\n",
      "Epoch: 4 \tTrain Loss: 0.229537 \tTrain Accuracy: 92.42% \tVal Loss: 0.196628 \tVal Accuracy: 90.85%\n",
      "Epoch: 5 \tTrain Loss: 0.153344 \tTrain Accuracy: 94.89% \tVal Loss: 0.176947 \tVal Accuracy: 92.25%\n",
      "Epoch: 6 \tTrain Loss: 0.104624 \tTrain Accuracy: 96.83% \tVal Loss: 0.157847 \tVal Accuracy: 95.07%\n",
      "Epoch: 7 \tTrain Loss: 0.075532 \tTrain Accuracy: 98.41% \tVal Loss: 0.223714 \tVal Accuracy: 89.44%\n",
      "Epoch: 8 \tTrain Loss: 0.051363 \tTrain Accuracy: 98.77% \tVal Loss: 0.205313 \tVal Accuracy: 90.14%\n",
      "Epoch: 9 \tTrain Loss: 0.034439 \tTrain Accuracy: 99.29% \tVal Loss: 0.168287 \tVal Accuracy: 92.96%\n",
      "Early stopping at epoch 9\n",
      "Fold 3\n",
      "Epoch: 0 \tTrain Loss: 1.323343 \tTrain Accuracy: 40.21% \tVal Loss: 1.201640 \tVal Accuracy: 68.31%\n",
      "Epoch: 1 \tTrain Loss: 0.990232 \tTrain Accuracy: 79.01% \tVal Loss: 0.851150 \tVal Accuracy: 72.54%\n",
      "Epoch: 2 \tTrain Loss: 0.589680 \tTrain Accuracy: 82.01% \tVal Loss: 0.478836 \tVal Accuracy: 86.62%\n",
      "Epoch: 3 \tTrain Loss: 0.333419 \tTrain Accuracy: 89.59% \tVal Loss: 0.364386 \tVal Accuracy: 87.32%\n",
      "Epoch: 4 \tTrain Loss: 0.225233 \tTrain Accuracy: 92.77% \tVal Loss: 0.279264 \tVal Accuracy: 88.03%\n",
      "Epoch: 5 \tTrain Loss: 0.162137 \tTrain Accuracy: 94.89% \tVal Loss: 0.293299 \tVal Accuracy: 88.73%\n",
      "Epoch: 6 \tTrain Loss: 0.118721 \tTrain Accuracy: 95.94% \tVal Loss: 0.309276 \tVal Accuracy: 84.51%\n",
      "Epoch: 7 \tTrain Loss: 0.077336 \tTrain Accuracy: 98.06% \tVal Loss: 0.258997 \tVal Accuracy: 87.32%\n",
      "Epoch: 8 \tTrain Loss: 0.052479 \tTrain Accuracy: 98.41% \tVal Loss: 0.258756 \tVal Accuracy: 92.25%\n",
      "Epoch: 9 \tTrain Loss: 0.064684 \tTrain Accuracy: 98.06% \tVal Loss: 0.345102 \tVal Accuracy: 87.32%\n",
      "Epoch: 10 \tTrain Loss: 0.046389 \tTrain Accuracy: 98.59% \tVal Loss: 0.349760 \tVal Accuracy: 90.14%\n",
      "Epoch: 11 \tTrain Loss: 0.031742 \tTrain Accuracy: 99.29% \tVal Loss: 0.237718 \tVal Accuracy: 90.85%\n",
      "Early stopping at epoch 11\n",
      "Fold 4\n",
      "Epoch: 0 \tTrain Loss: 1.322339 \tTrain Accuracy: 50.26% \tVal Loss: 1.185437 \tVal Accuracy: 86.62%\n",
      "Epoch: 1 \tTrain Loss: 0.979180 \tTrain Accuracy: 85.36% \tVal Loss: 0.795068 \tVal Accuracy: 83.10%\n",
      "Epoch: 2 \tTrain Loss: 0.577365 \tTrain Accuracy: 86.07% \tVal Loss: 0.447016 \tVal Accuracy: 86.62%\n",
      "Epoch: 3 \tTrain Loss: 0.313920 \tTrain Accuracy: 90.65% \tVal Loss: 0.346815 \tVal Accuracy: 88.73%\n",
      "Epoch: 4 \tTrain Loss: 0.212072 \tTrain Accuracy: 93.65% \tVal Loss: 0.295037 \tVal Accuracy: 90.85%\n",
      "Epoch: 5 \tTrain Loss: 0.149933 \tTrain Accuracy: 95.41% \tVal Loss: 0.253664 \tVal Accuracy: 90.14%\n",
      "Epoch: 6 \tTrain Loss: 0.105858 \tTrain Accuracy: 97.00% \tVal Loss: 0.199185 \tVal Accuracy: 90.14%\n",
      "Epoch: 7 \tTrain Loss: 0.077157 \tTrain Accuracy: 97.71% \tVal Loss: 0.179040 \tVal Accuracy: 92.25%\n",
      "Epoch: 8 \tTrain Loss: 0.044336 \tTrain Accuracy: 99.12% \tVal Loss: 0.166368 \tVal Accuracy: 95.07%\n",
      "Epoch: 9 \tTrain Loss: 0.041764 \tTrain Accuracy: 98.94% \tVal Loss: 0.151911 \tVal Accuracy: 93.66%\n",
      "Epoch: 10 \tTrain Loss: 0.020593 \tTrain Accuracy: 99.65% \tVal Loss: 0.160763 \tVal Accuracy: 92.96%\n",
      "Epoch: 11 \tTrain Loss: 0.012407 \tTrain Accuracy: 100.00% \tVal Loss: 0.165578 \tVal Accuracy: 92.96%\n",
      "Early stopping at epoch 11\n",
      "Fold 5\n",
      "Epoch: 0 \tTrain Loss: 1.334011 \tTrain Accuracy: 36.80% \tVal Loss: 1.216093 \tVal Accuracy: 75.18%\n",
      "Epoch: 1 \tTrain Loss: 1.029042 \tTrain Accuracy: 74.30% \tVal Loss: 0.846188 \tVal Accuracy: 80.14%\n",
      "Epoch: 2 \tTrain Loss: 0.626571 \tTrain Accuracy: 85.04% \tVal Loss: 0.512128 \tVal Accuracy: 82.27%\n",
      "Epoch: 3 \tTrain Loss: 0.360489 \tTrain Accuracy: 89.08% \tVal Loss: 0.298415 \tVal Accuracy: 87.94%\n",
      "Epoch: 4 \tTrain Loss: 0.240871 \tTrain Accuracy: 92.61% \tVal Loss: 0.218795 \tVal Accuracy: 88.65%\n",
      "Epoch: 5 \tTrain Loss: 0.180360 \tTrain Accuracy: 94.54% \tVal Loss: 0.204701 \tVal Accuracy: 90.07%\n",
      "Epoch: 6 \tTrain Loss: 0.124874 \tTrain Accuracy: 96.48% \tVal Loss: 0.159627 \tVal Accuracy: 92.20%\n",
      "Epoch: 7 \tTrain Loss: 0.075409 \tTrain Accuracy: 98.59% \tVal Loss: 0.141743 \tVal Accuracy: 92.91%\n",
      "Epoch: 8 \tTrain Loss: 0.052549 \tTrain Accuracy: 98.77% \tVal Loss: 0.166877 \tVal Accuracy: 90.78%\n",
      "Epoch: 9 \tTrain Loss: 0.032394 \tTrain Accuracy: 99.47% \tVal Loss: 0.166212 \tVal Accuracy: 90.78%\n",
      "Epoch: 10 \tTrain Loss: 0.018963 \tTrain Accuracy: 99.82% \tVal Loss: 0.134763 \tVal Accuracy: 93.62%\n",
      "Epoch: 11 \tTrain Loss: 0.010765 \tTrain Accuracy: 100.00% \tVal Loss: 0.144524 \tVal Accuracy: 92.91%\n",
      "Epoch: 12 \tTrain Loss: 0.007638 \tTrain Accuracy: 100.00% \tVal Loss: 0.140828 \tVal Accuracy: 92.20%\n",
      "Epoch: 13 \tTrain Loss: 0.005640 \tTrain Accuracy: 100.00% \tVal Loss: 0.148993 \tVal Accuracy: 92.91%\n",
      "Early stopping at epoch 13\n"
     ]
    }
   ],
   "source": [
    "# Iterate over the folds and prepare data and labels for training and validation\n",
    "for fold, (train_idx, val_idx) in enumerate(skf.split(X_tensor, y_tensor)):\n",
    "    print(f'Fold {fold + 1}')\n",
    "    X_train_fold = X_tensor[train_idx]\n",
    "    y_train_fold = y_tensor[train_idx]\n",
    "    X_val_fold = X_tensor[val_idx]\n",
    "    y_val_fold = y_tensor[val_idx]\n",
    "\n",
    "    # Create PyTorch DataLoader for training and validation\n",
    "    train_data = TensorDataset(X_train_fold, y_train_fold)\n",
    "    val_data = TensorDataset(X_val_fold, y_val_fold)\n",
    "    train_loader = DataLoader(train_data, batch_size=16, shuffle=True)\n",
    "    test_loader = DataLoader(val_data, batch_size=16, shuffle=False)\n",
    "\n",
    "    # Initialize the reocrd lists for this fold\n",
    "    train_losses = []\n",
    "    val_losses = []\n",
    "    train_accuracies = []\n",
    "    val_accuracies = []\n",
    "\n",
    "    # Early Stopping Settings\n",
    "    patience = 3\n",
    "    counter = 0\n",
    "    best_val_accuracy = 0.0\n",
    "\n",
    "    # Instantiate the model\n",
    "    model = thesis_models.LSTM_3(input_size, hidden_size, num_layers, output_size, False)\n",
    "    model.to(device)\n",
    "    optimizer = optim.AdamW(model.parameters(), lr=learning_rate, weight_decay=1e-2)\n",
    "\n",
    "    for epoch in range(num_epochs):\n",
    "      model.train()\n",
    "      train_loss = 0.0\n",
    "      train_correct = 0\n",
    "      for batch_idx, (data, target) in enumerate(train_loader):\n",
    "        optimizer.zero_grad()\n",
    "        data = data.to(device)\n",
    "        target = target.to(device)\n",
    "        output = model(data)\n",
    "        loss = criterion(output, target)\n",
    "        loss.backward()\n",
    "        optimizer.step()\n",
    "        train_loss += loss.item()\n",
    "        # train_loss += loss.item() * data.size(0)\n",
    "        _, predicted = torch.max(output.data, 1)\n",
    "        train_correct += (predicted == target.squeeze().long()).sum().item()\n",
    "        # train_correct += torch.sum(predicted == target.data)\n",
    "      train_loss /= len(train_loader)\n",
    "      train_accuracy = 100.0 * train_correct / len(train_data)\n",
    "      train_losses.append(train_loss)\n",
    "      train_accuracies.append(train_accuracy)\n",
    "\n",
    "      # Evaluate the model on the validation set\n",
    "      model.eval()\n",
    "      val_loss = 0.0\n",
    "      val_correct = 0\n",
    "      with torch.no_grad():\n",
    "        for batch_idx, (data, target) in enumerate(test_loader):\n",
    "          data = data.to(device)\n",
    "          target = target.to(device)\n",
    "          output = model(data)\n",
    "          loss = criterion(output, target)\n",
    "          val_loss += loss.item()\n",
    "          # val_loss += loss.item() * data.size(0)\n",
    "          _, predicted = torch.max(output.data, 1)\n",
    "          val_correct += (predicted == target.squeeze().long()).sum().item()\n",
    "          # val_correct += torch.sum(predicted == target.data)\n",
    "          model_accuracy.update(predicted, target.squeeze().long())\n",
    "          model_precision.update(predicted, target.squeeze().long())\n",
    "          model_recall.update(predicted, target.squeeze().long())\n",
    "          model_f1.update(predicted, target.squeeze().long())\n",
    "      val_loss /= len(test_loader)\n",
    "      val_accuracy = 100.0 * val_correct / len(val_data)\n",
    "      val_losses.append(val_loss)\n",
    "      val_accuracies.append(val_accuracy)\n",
    "\n",
    "      print('Epoch: {} \\tTrain Loss: {:.6f} \\tTrain Accuracy: {:.2f}% \\tVal Loss: {:.6f} \\tVal Accuracy: {:.2f}%'.format(\n",
    "          epoch, train_loss, train_accuracy, val_loss, val_accuracy))\n",
    "      \n",
    "      if val_accuracy > best_val_accuracy:\n",
    "        best_val_accuracy = val_accuracy\n",
    "        counter = 0\n",
    "      else:\n",
    "        counter += 1\n",
    "        if counter >= patience:\n",
    "          print(\"Early stopping at epoch\", epoch)\n",
    "          break\n",
    "        \n",
    "    # Append the lists for this fold to the corresponding list for all folds\n",
    "    train_losses_list.append(train_losses)\n",
    "    val_losses_list.append(val_losses)\n",
    "    train_accuracies_list.append(train_accuracies)\n",
    "    val_accuracies_list.append(val_accuracies)\n",
    "    ac = model_accuracy.compute()\n",
    "    pc = model_precision.compute()\n",
    "    rc = model_recall.compute()\n",
    "    f1 = model_f1.compute()\n",
    "    model_ac_list.append(ac.item())\n",
    "    model_pc_list.append(pc.item())\n",
    "    model_rc_list.append(rc.item())\n",
    "    model_f1_list.append(f1.item())"
   ]
  },
  {
   "cell_type": "code",
   "execution_count": 283,
   "metadata": {},
   "outputs": [
    {
     "name": "stdout",
     "output_type": "stream",
     "text": [
      "5\n",
      "13\n"
     ]
    }
   ],
   "source": [
    "print(len(train_losses_list))\n",
    "print(len(train_losses_list[0]))"
   ]
  },
  {
   "cell_type": "code",
   "execution_count": 284,
   "metadata": {},
   "outputs": [
    {
     "name": "stdout",
     "output_type": "stream",
     "text": [
      "[0.896521806716919, 0.8888630867004395, 0.8801639676094055, 0.8869010210037231, 0.8884297013282776]\n"
     ]
    }
   ],
   "source": [
    "print(model_f1_list)"
   ]
  },
  {
   "cell_type": "code",
   "execution_count": 285,
   "metadata": {},
   "outputs": [],
   "source": [
    "avg_train_losses = [sum(filter(lambda x: x is not None, items))/len(list(filter(lambda x: x is not None, items))) for items in zip_longest(*train_losses_list)]\n",
    "avg_val_losses = [sum(filter(lambda x: x is not None, items))/len(list(filter(lambda x: x is not None, items))) for items in zip_longest(*val_losses_list)]\n",
    "avg_train_accuracies = [sum(filter(lambda x: x is not None, items))/len(list(filter(lambda x: x is not None, items))) for items in zip_longest(*train_accuracies_list)]\n",
    "avg_val_accuracies = [sum(filter(lambda x: x is not None, items))/len(list(filter(lambda x: x is not None, items))) for items in zip_longest(*val_accuracies_list)]"
   ]
  },
  {
   "cell_type": "code",
   "execution_count": 286,
   "metadata": {},
   "outputs": [
    {
     "data": {
      "image/png": "[encoded data removed]",
      "text/plain": [
       "<Figure size 1000x500 with 2 Axes>"
      ]
     },
     "metadata": {},
     "output_type": "display_data"
    }
   ],
   "source": [
    "# Plot the train and test accuracy and loss\n",
    "fig, (ax1, ax2) = plt.subplots(1, 2, figsize=(10, 5))\n",
    "\n",
    "ax1.plot(avg_train_accuracies, label='Train')\n",
    "ax1.plot(avg_val_accuracies, label='Test')\n",
    "ax1.set_title('Accuracy')\n",
    "ax1.set_xlabel('Epoch')\n",
    "ax1.set_ylabel('Accuracy')\n",
    "ax1.legend()\n",
    "\n",
    "ax2.plot(avg_train_losses, label='Train')\n",
    "ax2.plot(avg_val_losses, label='Test')\n",
    "ax2.set_title('Loss')\n",
    "ax2.set_xlabel('Epoch')\n",
    "ax2.set_ylabel('Loss')\n",
    "ax2.legend()\n",
    "\n",
    "plt.tight_layout()\n",
    "# plt.savefig('./Traininglog_pic/lexp_vec20_sum_LSTM3_230505.PNG', dpi=300)\n",
    "# plt.savefig('./batchsize_test/LSTM3_vec20_sum_batchsize64_l3b08.PNG', dpi=300)\n",
    "plt.show()"
   ]
  },
  {
   "cell_type": "code",
   "execution_count": 287,
   "metadata": {},
   "outputs": [
    {
     "name": "stdout",
     "output_type": "stream",
     "text": [
      "100.0%\n",
      "92.91%\n",
      "0.01\n",
      "0.15\n"
     ]
    }
   ],
   "source": [
    "print(round(avg_train_accuracies[-1], 2),'%',sep='')\n",
    "print(round(avg_val_accuracies[-1], 2),'%',sep='')\n",
    "print(round(avg_train_losses[-1], 2))\n",
    "print(round(avg_val_losses[-1], 2))"
   ]
  },
  {
   "cell_type": "code",
   "execution_count": 288,
   "metadata": {},
   "outputs": [
    {
     "name": "stdout",
     "output_type": "stream",
     "text": [
      "Avg Model Accuracy: 88.79%\n",
      "Avg Model Precision: 88.95%\n",
      "Avg Model Recall: 88.79%\n",
      "Avg Model F1-score: 88.82%\n"
     ]
    }
   ],
   "source": [
    "Avg_ac = sum(model_ac_list)/len(model_ac_list)\n",
    "Avg_pc = sum(model_pc_list)/len(model_pc_list)\n",
    "Avg_rc = sum(model_rc_list)/len(model_rc_list)\n",
    "Avg_f1 = sum(model_f1_list)/len(model_f1_list)\n",
    "\n",
    "print('Avg Model Accuracy: {:.2%}'.format(Avg_ac))\n",
    "print('Avg Model Precision: {:.2%}'.format(Avg_pc))\n",
    "print('Avg Model Recall: {:.2%}'.format(Avg_rc))\n",
    "print('Avg Model F1-score: {:.2%}'.format(Avg_f1))"
   ]
  },
  {
   "cell_type": "code",
   "execution_count": 289,
   "metadata": {},
   "outputs": [],
   "source": [
    "if Avg_f1 <= 0.90:\n",
    "    del model\n",
    "    print(\"Hazure\")\n",
    "else:\n",
    "    print(\"Bingo!\")"
   ]
  },
  {
   "cell_type": "code",
   "execution_count": 290,
   "metadata": {},
   "outputs": [],
   "source": [
    "# del model"
   ]
  },
  {
   "cell_type": "code",
   "execution_count": 291,
   "metadata": {},
   "outputs": [],
   "source": [
    "# #Save Model Parameter\n",
    "# torch.save(model.state_dict(), './models/lexp_LSTM3_vec20sum_91p_weight.pt')\n",
    "# # Save NPZ\n",
    "# X_data = {'X_resampled': np.array(X_resampled)}\n",
    "# np.savez_compressed('./resampled_vec/lexp_X_resampled.npz', **X_data)\n",
    "# y_data = {'y_resampled': np.array(y_resampled)}\n",
    "# np.savez_compressed('./resampled_vec/lexp_y_resampled.npz', **y_data)"
   ]
  }
 ],
 "metadata": {
  "kernelspec": {
   "display_name": "pytorch-gpu-nlp",
   "language": "python",
   "name": "python3"
  },
  "language_info": {
   "codemirror_mode": {
    "name": "ipython",
    "version": 3
   },
   "file_extension": ".py",
   "mimetype": "text/x-python",
   "name": "python",
   "nbconvert_exporter": "python",
   "pygments_lexer": "ipython3",
   "version": "3.8.15"
  },
  "orig_nbformat": 4
 },
 "nbformat": 4,
 "nbformat_minor": 2
}
