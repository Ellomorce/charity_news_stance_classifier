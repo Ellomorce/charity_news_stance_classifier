{
 "cells": [
  {
   "cell_type": "code",
   "execution_count": 1,
   "metadata": {},
   "outputs": [
    {
     "name": "stderr",
     "output_type": "stream",
     "text": [
      "c:\\Users\\ellom\\miniconda3\\envs\\pytorch-gpu-nlp\\lib\\site-packages\\torchvision\\io\\image.py:13: UserWarning: Failed to load image Python extension: [WinError 127] 找不到指定的程序。\n",
      "  warn(f\"Failed to load image Python extension: {e}\")\n"
     ]
    }
   ],
   "source": [
    "import numpy as np\n",
    "import torch\n",
    "import torch.nn as nn\n",
    "import torch.optim as optim\n",
    "import torch.nn.functional as F\n",
    "from sklearn.model_selection import StratifiedKFold\n",
    "from imblearn.over_sampling import  SMOTE\n",
    "from torch.utils.data import TensorDataset, DataLoader\n",
    "import matplotlib.pyplot as plt\n",
    "# import os\n",
    "# os.environ['CUDA_LAUNCH_BLOCKING'] = \"1\"\n",
    "from torchmetrics.classification import MulticlassF1Score, MulticlassAccuracy, MulticlassPrecision, MulticlassRecall\n",
    "import thesis_models\n",
    "from itertools import zip_longest"
   ]
  },
  {
   "cell_type": "code",
   "execution_count": 2,
   "metadata": {},
   "outputs": [
    {
     "name": "stdout",
     "output_type": "stream",
     "text": [
      "1.8.2\n"
     ]
    }
   ],
   "source": [
    "print(torch.__version__)"
   ]
  },
  {
   "cell_type": "code",
   "execution_count": 3,
   "metadata": {},
   "outputs": [],
   "source": [
    "#Define File Path\n",
    "vec20avg_path = \"./vec_data/vec20_avg.npz\"\n",
    "vec25avg_path = \"./vec_data/vec25_avg.npz\"\n",
    "vec30avg_path = \"./vec_data/vec30_avg.npz\"\n",
    "vec35avg_path = \"./vec_data/vec35_avg.npz\"\n",
    "vec20sum_path = \"./vec_data/vec20_sum.npz\"\n",
    "vec20sum_path = \"./vec_data/vec20_sum.npz\"\n",
    "vec25sum_path = \"./vec_data/vec25_sum.npz\"\n",
    "vec30sum_path = \"./vec_data/vec30_sum.npz\"\n",
    "vec35sum_path = \"./vec_data/vec35_sum.npz\"\n",
    "# freq_stance_labels = \"./vec_data/freq_stance_labels.npz\"\n",
    "# oh_stance_labels = \"./vec_data/oh_stance_labels.npz\"\n",
    "le_stance_labels = \"./vec_data/le_stance_labels.npz\""
   ]
  },
  {
   "cell_type": "code",
   "execution_count": 4,
   "metadata": {},
   "outputs": [],
   "source": [
    "def load_npz_file(filepath):\n",
    "    # Load the numpy array from the .npz file\n",
    "    with np.load(filepath, allow_pickle=True) as data:\n",
    "        for key in data.keys():\n",
    "            arr = data[key]\n",
    "            break\n",
    "    return arr"
   ]
  },
  {
   "cell_type": "code",
   "execution_count": 5,
   "metadata": {},
   "outputs": [],
   "source": [
    "vec20avg = load_npz_file(vec20avg_path)\n",
    "vec25avg = load_npz_file(vec25avg_path)\n",
    "vec30avg = load_npz_file(vec30avg_path)\n",
    "vec35avg = load_npz_file(vec35avg_path)\n",
    "vec20sum = load_npz_file(vec20sum_path)\n",
    "vec25sum = load_npz_file(vec25sum_path)\n",
    "vec30sum = load_npz_file(vec30sum_path)\n",
    "vec35sum = load_npz_file(vec35sum_path)\n",
    "# freq_label = load_npz_file(freq_stance_labels)\n",
    "# oh_label = load_npz_file(oh_stance_labels)\n",
    "le_label = load_npz_file(le_stance_labels)"
   ]
  },
  {
   "cell_type": "code",
   "execution_count": 6,
   "metadata": {},
   "outputs": [],
   "source": [
    "#指派實際要使用的Data與Label\n",
    "# data = vec30sum\n",
    "# data = vec30avg\n",
    "# data = vec35sum\n",
    "# data = vec35avg\n",
    "data = vec20sum\n",
    "# data = vec20avg\n",
    "# data = vec25sum\n",
    "# data = vec25avg\n",
    "# label = np.argmax(oh_label, axis=1)\n",
    "# label = oh_label\n",
    "# label = freq_label\n",
    "label = le_label"
   ]
  },
  {
   "cell_type": "code",
   "execution_count": 7,
   "metadata": {},
   "outputs": [
    {
     "name": "stdout",
     "output_type": "stream",
     "text": [
      "(445, 1, 300)\n",
      "(445,)\n",
      "[0 1 2 3]\n",
      "(array([0, 1, 2, 3]), array([ 11, 201,  74, 159], dtype=int64))\n"
     ]
    }
   ],
   "source": [
    "print(data.shape)\n",
    "print(label.shape)\n",
    "print(np.unique(label))\n",
    "print(np.unique(label, return_counts=True))"
   ]
  },
  {
   "cell_type": "code",
   "execution_count": 8,
   "metadata": {},
   "outputs": [],
   "source": [
    "# Data Augmentation using Oversampling\n",
    "# Define the oversampling ratio for each class\n",
    "# ratio0 = {0: 11, 1: 201, 2: 74, 3: 159}\n",
    "# ratio1 = {0: 24, 1: 201, 2: 78, 3: 168}\n",
    "# ratio2 = {0: 53, 1: 201, 2: 89, 3: 191}\n",
    "# ratio3 = {0: 86, 1: 201, 2: 115, 3: 172}\n",
    "# ratio4 = {0: 144, 1: 201, 2: 179, 3: 194}\n",
    "oversample_ratio = {0: 150, 1: 201, 2: 175, 3: 183}\n",
    "# Initialize the oversampler\n",
    "oversampler = SMOTE(sampling_strategy=oversample_ratio)\n",
    "# Reshape your data to a 2D matrix of shape (n_samples, n_features)\n",
    "X = data.reshape(-1, 300)\n",
    "# Apply oversampling to X and y\n",
    "X_resampled, y_resampled = oversampler.fit_resample(X, label)\n",
    "# Reshape X back to its original shape\n",
    "X_resampled = X_resampled.reshape(-1, 1, 300)"
   ]
  },
  {
   "cell_type": "code",
   "execution_count": 9,
   "metadata": {},
   "outputs": [],
   "source": [
    "# print(X_resampled.shape)\n",
    "# print(X_resampled)"
   ]
  },
  {
   "cell_type": "code",
   "execution_count": 10,
   "metadata": {},
   "outputs": [],
   "source": [
    "# print(y_resampled.shape)\n",
    "# print(y_resampled)"
   ]
  },
  {
   "cell_type": "code",
   "execution_count": 11,
   "metadata": {},
   "outputs": [],
   "source": [
    "# Convert NumPy arrays to PyTorch tensors-using oversampling\n",
    "X_tensor = torch.from_numpy(X_resampled).float()\n",
    "y_tensor = torch.from_numpy(y_resampled).long()"
   ]
  },
  {
   "cell_type": "code",
   "execution_count": 12,
   "metadata": {},
   "outputs": [],
   "source": [
    "# Trainging Settings\n",
    "input_size = 300  # Size of input vector\n",
    "hidden_size = 256  # Number of features in the hidden state\n",
    "num_layers = 2  # Number of LSTM layers\n",
    "output_size = 4  # Number of output classes\n",
    "learning_rate = 0.0008\n",
    "device = torch.device(\"cuda\" if torch.cuda.is_available() else \"cpu\")\n",
    "\n",
    "# Define the loss function and optimizer\n",
    "criterion = nn.CrossEntropyLoss()\n",
    "\n",
    "# Epochs and records\n",
    "num_epochs = 30\n",
    "train_losses_list = []\n",
    "val_losses_list = []\n",
    "train_accuracies_list = []\n",
    "val_accuracies_list = []\n",
    "\n",
    "# # torchmetrcis settings\n",
    "model_accuracy = MulticlassAccuracy(num_classes=4, average='macro').to(device)\n",
    "model_precision = MulticlassPrecision(num_classes=4, average='macro').to(device)\n",
    "model_recall = MulticlassRecall(num_classes=4, average='macro').to(device)\n",
    "model_f1 = MulticlassF1Score(num_classes=4, average='macro').to(device)\n",
    "model_ac_list = []\n",
    "model_pc_list = []\n",
    "model_rc_list = []\n",
    "model_f1_list = []\n",
    "\n",
    "# Define the number of folds for k-fold cross-validation\n",
    "num_folds = 5\n",
    "# Initialize the k-fold cross-validator\n",
    "skf = StratifiedKFold(n_splits=num_folds, shuffle=True)"
   ]
  },
  {
   "cell_type": "code",
   "execution_count": 13,
   "metadata": {},
   "outputs": [
    {
     "name": "stdout",
     "output_type": "stream",
     "text": [
      "Fold 1\n",
      "Epoch: 0 \tTrain Loss: 0.965678 \tTrain Accuracy: 64.73% \tVal Loss: 0.507137 \tVal Accuracy: 85.21%\n",
      "Epoch: 1 \tTrain Loss: 0.373285 \tTrain Accuracy: 87.30% \tVal Loss: 0.549874 \tVal Accuracy: 76.76%\n",
      "Epoch: 2 \tTrain Loss: 0.193189 \tTrain Accuracy: 93.65% \tVal Loss: 0.264354 \tVal Accuracy: 88.73%\n",
      "Epoch: 3 \tTrain Loss: 0.105985 \tTrain Accuracy: 96.65% \tVal Loss: 0.242358 \tVal Accuracy: 92.96%\n",
      "Epoch: 4 \tTrain Loss: 0.086382 \tTrain Accuracy: 97.18% \tVal Loss: 0.247682 \tVal Accuracy: 92.96%\n",
      "Epoch: 5 \tTrain Loss: 0.039774 \tTrain Accuracy: 98.59% \tVal Loss: 0.281331 \tVal Accuracy: 90.85%\n",
      "Epoch: 6 \tTrain Loss: 0.038912 \tTrain Accuracy: 98.59% \tVal Loss: 0.253325 \tVal Accuracy: 92.96%\n",
      "Early stopping at epoch 6\n",
      "Fold 2\n",
      "Epoch: 0 \tTrain Loss: 0.974724 \tTrain Accuracy: 61.55% \tVal Loss: 0.531957 \tVal Accuracy: 78.87%\n",
      "Epoch: 1 \tTrain Loss: 0.351632 \tTrain Accuracy: 86.77% \tVal Loss: 0.435765 \tVal Accuracy: 80.28%\n",
      "Epoch: 2 \tTrain Loss: 0.230533 \tTrain Accuracy: 91.53% \tVal Loss: 0.268804 \tVal Accuracy: 89.44%\n",
      "Epoch: 3 \tTrain Loss: 0.136500 \tTrain Accuracy: 96.12% \tVal Loss: 0.237903 \tVal Accuracy: 92.96%\n",
      "Epoch: 4 \tTrain Loss: 0.076412 \tTrain Accuracy: 97.53% \tVal Loss: 0.225408 \tVal Accuracy: 93.66%\n",
      "Epoch: 5 \tTrain Loss: 0.040768 \tTrain Accuracy: 99.12% \tVal Loss: 0.218639 \tVal Accuracy: 92.96%\n",
      "Epoch: 6 \tTrain Loss: 0.016399 \tTrain Accuracy: 99.82% \tVal Loss: 0.231270 \tVal Accuracy: 93.66%\n",
      "Epoch: 7 \tTrain Loss: 0.011378 \tTrain Accuracy: 99.65% \tVal Loss: 0.207530 \tVal Accuracy: 94.37%\n",
      "Epoch: 8 \tTrain Loss: 0.005723 \tTrain Accuracy: 100.00% \tVal Loss: 0.256199 \tVal Accuracy: 92.96%\n",
      "Epoch: 9 \tTrain Loss: 0.003460 \tTrain Accuracy: 100.00% \tVal Loss: 0.247519 \tVal Accuracy: 93.66%\n",
      "Epoch: 10 \tTrain Loss: 0.002002 \tTrain Accuracy: 100.00% \tVal Loss: 0.251170 \tVal Accuracy: 93.66%\n",
      "Early stopping at epoch 10\n",
      "Fold 3\n",
      "Epoch: 0 \tTrain Loss: 0.986968 \tTrain Accuracy: 63.67% \tVal Loss: 0.504918 \tVal Accuracy: 83.80%\n",
      "Epoch: 1 \tTrain Loss: 0.382439 \tTrain Accuracy: 85.54% \tVal Loss: 0.295222 \tVal Accuracy: 88.73%\n",
      "Epoch: 2 \tTrain Loss: 0.220166 \tTrain Accuracy: 92.42% \tVal Loss: 0.225750 \tVal Accuracy: 93.66%\n",
      "Epoch: 3 \tTrain Loss: 0.119481 \tTrain Accuracy: 96.83% \tVal Loss: 0.232738 \tVal Accuracy: 91.55%\n",
      "Epoch: 4 \tTrain Loss: 0.090761 \tTrain Accuracy: 97.35% \tVal Loss: 0.290863 \tVal Accuracy: 90.85%\n",
      "Epoch: 5 \tTrain Loss: 0.047781 \tTrain Accuracy: 98.24% \tVal Loss: 0.193983 \tVal Accuracy: 92.96%\n",
      "Early stopping at epoch 5\n",
      "Fold 4\n",
      "Epoch: 0 \tTrain Loss: 0.948833 \tTrain Accuracy: 63.49% \tVal Loss: 0.468008 \tVal Accuracy: 82.39%\n",
      "Epoch: 1 \tTrain Loss: 0.307207 \tTrain Accuracy: 88.89% \tVal Loss: 0.300785 \tVal Accuracy: 86.62%\n",
      "Epoch: 2 \tTrain Loss: 0.176208 \tTrain Accuracy: 94.00% \tVal Loss: 0.365070 \tVal Accuracy: 86.62%\n",
      "Epoch: 3 \tTrain Loss: 0.090904 \tTrain Accuracy: 97.35% \tVal Loss: 0.282697 \tVal Accuracy: 89.44%\n",
      "Epoch: 4 \tTrain Loss: 0.040720 \tTrain Accuracy: 99.12% \tVal Loss: 0.297501 \tVal Accuracy: 90.85%\n",
      "Epoch: 5 \tTrain Loss: 0.025445 \tTrain Accuracy: 99.47% \tVal Loss: 0.311359 \tVal Accuracy: 91.55%\n",
      "Epoch: 6 \tTrain Loss: 0.009659 \tTrain Accuracy: 100.00% \tVal Loss: 0.344297 \tVal Accuracy: 90.85%\n",
      "Epoch: 7 \tTrain Loss: 0.006744 \tTrain Accuracy: 100.00% \tVal Loss: 0.335548 \tVal Accuracy: 90.85%\n",
      "Epoch: 8 \tTrain Loss: 0.002711 \tTrain Accuracy: 100.00% \tVal Loss: 0.356658 \tVal Accuracy: 89.44%\n",
      "Early stopping at epoch 8\n",
      "Fold 5\n",
      "Epoch: 0 \tTrain Loss: 0.968713 \tTrain Accuracy: 66.20% \tVal Loss: 0.502003 \tVal Accuracy: 82.98%\n",
      "Epoch: 1 \tTrain Loss: 0.346831 \tTrain Accuracy: 87.50% \tVal Loss: 0.268072 \tVal Accuracy: 90.07%\n",
      "Epoch: 2 \tTrain Loss: 0.165696 \tTrain Accuracy: 95.25% \tVal Loss: 0.317062 \tVal Accuracy: 89.36%\n",
      "Epoch: 3 \tTrain Loss: 0.115680 \tTrain Accuracy: 96.30% \tVal Loss: 0.328761 \tVal Accuracy: 88.65%\n",
      "Epoch: 4 \tTrain Loss: 0.080626 \tTrain Accuracy: 96.83% \tVal Loss: 0.365651 \tVal Accuracy: 89.36%\n",
      "Early stopping at epoch 4\n"
     ]
    }
   ],
   "source": [
    "# Iterate over the folds and prepare data and labels for training and validation\n",
    "for fold, (train_idx, val_idx) in enumerate(skf.split(X_tensor, y_tensor)):\n",
    "    print(f'Fold {fold + 1}')\n",
    "    X_train_fold = X_tensor[train_idx]\n",
    "    y_train_fold = y_tensor[train_idx]\n",
    "    X_val_fold = X_tensor[val_idx]\n",
    "    y_val_fold = y_tensor[val_idx]\n",
    "\n",
    "    # Create PyTorch DataLoader for training and validation\n",
    "    train_data = TensorDataset(X_train_fold, y_train_fold)\n",
    "    val_data = TensorDataset(X_val_fold, y_val_fold)\n",
    "    train_loader = DataLoader(train_data, batch_size=16, shuffle=True)\n",
    "    test_loader = DataLoader(val_data, batch_size=16, shuffle=False)\n",
    "\n",
    "    # Initialize the reocrd lists for this fold\n",
    "    train_losses = []\n",
    "    val_losses = []\n",
    "    train_accuracies = []\n",
    "    val_accuracies = []\n",
    "\n",
    "    # Early Stopping Settings\n",
    "    patience = 3\n",
    "    counter = 0\n",
    "    best_val_accuracy = 0.0\n",
    "\n",
    "    # Instantiate the model\n",
    "    model = thesis_models.LSTM_3(input_size, hidden_size, num_layers, output_size, False)\n",
    "    model.to(device)\n",
    "    optimizer = optim.AdamW(model.parameters(), lr=learning_rate, weight_decay=1e-2)\n",
    "\n",
    "    for epoch in range(num_epochs):\n",
    "      model.train()\n",
    "      train_loss = 0.0\n",
    "      train_correct = 0\n",
    "      for batch_idx, (data, target) in enumerate(train_loader):\n",
    "        optimizer.zero_grad()\n",
    "        data = data.to(device)\n",
    "        target = target.to(device)\n",
    "        output = model(data)\n",
    "        loss = criterion(output, target)\n",
    "        loss.backward()\n",
    "        optimizer.step()\n",
    "        train_loss += loss.item()\n",
    "        # train_loss += loss.item() * data.size(0)\n",
    "        _, predicted = torch.max(output.data, 1)\n",
    "        train_correct += (predicted == target.squeeze().long()).sum().item()\n",
    "        # train_correct += torch.sum(predicted == target.data)\n",
    "      train_loss /= len(train_loader)\n",
    "      train_accuracy = 100.0 * train_correct / len(train_data)\n",
    "      train_losses.append(train_loss)\n",
    "      train_accuracies.append(train_accuracy)\n",
    "\n",
    "      # Evaluate the model on the validation set\n",
    "      model.eval()\n",
    "      val_loss = 0.0\n",
    "      val_correct = 0\n",
    "      with torch.no_grad():\n",
    "        for batch_idx, (data, target) in enumerate(test_loader):\n",
    "          data = data.to(device)\n",
    "          target = target.to(device)\n",
    "          output = model(data)\n",
    "          loss = criterion(output, target)\n",
    "          val_loss += loss.item()\n",
    "          # val_loss += loss.item() * data.size(0)\n",
    "          _, predicted = torch.max(output.data, 1)\n",
    "          val_correct += (predicted == target.squeeze().long()).sum().item()\n",
    "          # val_correct += torch.sum(predicted == target.data)\n",
    "          model_accuracy.update(predicted, target.squeeze().long())\n",
    "          model_precision.update(predicted, target.squeeze().long())\n",
    "          model_recall.update(predicted, target.squeeze().long())\n",
    "          model_f1.update(predicted, target.squeeze().long())\n",
    "      val_loss /= len(test_loader)\n",
    "      val_accuracy = 100.0 * val_correct / len(val_data)\n",
    "      val_losses.append(val_loss)\n",
    "      val_accuracies.append(val_accuracy)\n",
    "\n",
    "      print('Epoch: {} \\tTrain Loss: {:.6f} \\tTrain Accuracy: {:.2f}% \\tVal Loss: {:.6f} \\tVal Accuracy: {:.2f}%'.format(\n",
    "          epoch, train_loss, train_accuracy, val_loss, val_accuracy))\n",
    "      \n",
    "      if val_accuracy > best_val_accuracy:\n",
    "        best_val_accuracy = val_accuracy\n",
    "        counter = 0\n",
    "      else:\n",
    "        counter += 1\n",
    "        if counter >= patience:\n",
    "          print(\"Early stopping at epoch\", epoch)\n",
    "          break\n",
    "        \n",
    "    # Append the lists for this fold to the corresponding list for all folds\n",
    "    train_losses_list.append(train_losses)\n",
    "    val_losses_list.append(val_losses)\n",
    "    train_accuracies_list.append(train_accuracies)\n",
    "    val_accuracies_list.append(val_accuracies)\n",
    "    ac = model_accuracy.compute()\n",
    "    pc = model_precision.compute()\n",
    "    rc = model_recall.compute()\n",
    "    f1 = model_f1.compute()\n",
    "    model_ac_list.append(ac.item())\n",
    "    model_pc_list.append(pc.item())\n",
    "    model_rc_list.append(rc.item())\n",
    "    model_f1_list.append(f1.item())"
   ]
  },
  {
   "cell_type": "code",
   "execution_count": 14,
   "metadata": {},
   "outputs": [
    {
     "name": "stdout",
     "output_type": "stream",
     "text": [
      "5\n",
      "7\n"
     ]
    }
   ],
   "source": [
    "print(len(train_losses_list))\n",
    "print(len(train_losses_list[0]))"
   ]
  },
  {
   "cell_type": "code",
   "execution_count": 15,
   "metadata": {},
   "outputs": [
    {
     "name": "stdout",
     "output_type": "stream",
     "text": [
      "[0.8922443389892578, 0.9031504392623901, 0.9045565128326416, 0.9016839265823364, 0.8996147513389587]\n"
     ]
    }
   ],
   "source": [
    "print(model_f1_list)"
   ]
  },
  {
   "cell_type": "code",
   "execution_count": 16,
   "metadata": {},
   "outputs": [],
   "source": [
    "avg_train_losses = [sum(filter(lambda x: x is not None, items))/len(list(filter(lambda x: x is not None, items))) for items in zip_longest(*train_losses_list)]\n",
    "avg_val_losses = [sum(filter(lambda x: x is not None, items))/len(list(filter(lambda x: x is not None, items))) for items in zip_longest(*val_losses_list)]\n",
    "avg_train_accuracies = [sum(filter(lambda x: x is not None, items))/len(list(filter(lambda x: x is not None, items))) for items in zip_longest(*train_accuracies_list)]\n",
    "avg_val_accuracies = [sum(filter(lambda x: x is not None, items))/len(list(filter(lambda x: x is not None, items))) for items in zip_longest(*val_accuracies_list)]"
   ]
  },
  {
   "cell_type": "code",
   "execution_count": 17,
   "metadata": {},
   "outputs": [
    {
     "data": {
      "image/png": "[encoded data removed]",
      "text/plain": [
       "<Figure size 1000x500 with 2 Axes>"
      ]
     },
     "metadata": {},
     "output_type": "display_data"
    }
   ],
   "source": [
    "# Plot the train and test accuracy and loss\n",
    "fig, (ax1, ax2) = plt.subplots(1, 2, figsize=(10, 5))\n",
    "\n",
    "ax1.plot(avg_train_accuracies, label='Train')\n",
    "ax1.plot(avg_val_accuracies, label='Test')\n",
    "ax1.set_title('Accuracy')\n",
    "ax1.set_xlabel('Epoch')\n",
    "ax1.set_ylabel('Accuracy')\n",
    "ax1.legend()\n",
    "\n",
    "ax2.plot(avg_train_losses, label='Train')\n",
    "ax2.plot(avg_val_losses, label='Test')\n",
    "ax2.set_title('Loss')\n",
    "ax2.set_xlabel('Epoch')\n",
    "ax2.set_ylabel('Loss')\n",
    "ax2.legend()\n",
    "\n",
    "plt.tight_layout()\n",
    "# plt.savefig('./Traininglog_pic/lexp_vec20_sum_LSTM3_230505.PNG', dpi=300)\n",
    "# plt.savefig('./batchsize_test/LSTM3_vec20_sum_batchsize64_l3b08.PNG', dpi=300)\n",
    "plt.show()"
   ]
  },
  {
   "cell_type": "code",
   "execution_count": 18,
   "metadata": {},
   "outputs": [
    {
     "name": "stdout",
     "output_type": "stream",
     "text": [
      "100.0%\n",
      "93.66%\n",
      "0.0\n",
      "0.25\n"
     ]
    }
   ],
   "source": [
    "print(round(avg_train_accuracies[-1], 2),'%',sep='')\n",
    "print(round(avg_val_accuracies[-1], 2),'%',sep='')\n",
    "print(round(avg_train_losses[-1], 2))\n",
    "print(round(avg_val_losses[-1], 2))"
   ]
  },
  {
   "cell_type": "code",
   "execution_count": 19,
   "metadata": {},
   "outputs": [
    {
     "name": "stdout",
     "output_type": "stream",
     "text": [
      "Avg Model Accuracy: 90.21%\n",
      "Avg Model Precision: 89.91%\n",
      "Avg Model Recall: 90.21%\n",
      "Avg Model F1-score: 90.02%\n"
     ]
    }
   ],
   "source": [
    "Avg_ac = sum(model_ac_list)/len(model_ac_list)\n",
    "Avg_pc = sum(model_pc_list)/len(model_pc_list)\n",
    "Avg_rc = sum(model_rc_list)/len(model_rc_list)\n",
    "Avg_f1 = sum(model_f1_list)/len(model_f1_list)\n",
    "\n",
    "print('Avg Model Accuracy: {:.2%}'.format(Avg_ac))\n",
    "print('Avg Model Precision: {:.2%}'.format(Avg_pc))\n",
    "print('Avg Model Recall: {:.2%}'.format(Avg_rc))\n",
    "print('Avg Model F1-score: {:.2%}'.format(Avg_f1))"
   ]
  },
  {
   "cell_type": "code",
   "execution_count": 20,
   "metadata": {},
   "outputs": [
    {
     "name": "stdout",
     "output_type": "stream",
     "text": [
      "Bingo!\n"
     ]
    }
   ],
   "source": [
    "if Avg_f1 <= 0.90:\n",
    "    del model\n",
    "    print(\"Hazure\")\n",
    "else:\n",
    "    print(\"Bingo!\")"
   ]
  },
  {
   "cell_type": "code",
   "execution_count": 21,
   "metadata": {},
   "outputs": [],
   "source": [
    "# del model"
   ]
  },
  {
   "cell_type": "code",
   "execution_count": 22,
   "metadata": {},
   "outputs": [],
   "source": [
    "# #Save Model Parameter\n",
    "# torch.save(model.state_dict(), './models/lexp_LSTM3_vec20sum_91p_weight.pt')\n",
    "# # Save NPZ\n",
    "# X_data = {'X_resampled': np.array(X_resampled)}\n",
    "# np.savez_compressed('./resampled_vec/lexp_X_resampled.npz', **X_data)\n",
    "# y_data = {'y_resampled': np.array(y_resampled)}\n",
    "# np.savez_compressed('./resampled_vec/lexp_y_resampled.npz', **y_data)"
   ]
  }
 ],
 "metadata": {
  "kernelspec": {
   "display_name": "pytorch-gpu-nlp",
   "language": "python",
   "name": "python3"
  },
  "language_info": {
   "codemirror_mode": {
    "name": "ipython",
    "version": 3
   },
   "file_extension": ".py",
   "mimetype": "text/x-python",
   "name": "python",
   "nbconvert_exporter": "python",
   "pygments_lexer": "ipython3",
   "version": "3.8.15"
  },
  "orig_nbformat": 4
 },
 "nbformat": 4,
 "nbformat_minor": 2
}
